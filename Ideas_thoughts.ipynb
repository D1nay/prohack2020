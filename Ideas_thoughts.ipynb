{
 "cells": [
  {
   "cell_type": "markdown",
   "metadata": {},
   "source": [
    "# Ideas and thoughts"
   ]
  },
  {
   "cell_type": "markdown",
   "metadata": {},
   "source": [
    "I refer to \"galactic years\" as just years using their ordinal value (i.e. 1st, 2nd, … 26th), since there is a clear constant increment in the raw data."
   ]
  },
  {
   "cell_type": "markdown",
   "metadata": {},
   "source": [
    "## Part 1 of the task\n",
    "enrich data using open source info? - later, after getting some interim results from basic algorithms  \n",
    "Match countries with galaxies using that information? - same  \n",
    "Add Human development index feature using UN methodology - after basic algos  \n",
    "Distribution of index over years for each country - visualize  \n",
    "\n",
    "### Step 0. Preprocessing choices\n",
    "#### Categorical data encoding\n",
    "We have 2 categorical features \"galactic year\" and \"galaxy\" of cardinalities 26 and 181 respectively  \n",
    "**Options for year encoding:**  \n",
    "1) Some approach from time-series analysis. Could be just ordinal encoding (1, 2, 3 ... 26)  \n",
    "\n",
    "There is a weird peak of average y in the last 4 years \n",
    "\n",
    "**Options for \"galaxy\" encoding:**  \n",
    "1) One-hot encoding — costly in terms of additional features  \n",
    "2) Mean encoding — reflects relationship between galaxy and it's average index, but prone to overfitting (careful)\n",
    "#### Dealing with missing values\n",
    "Options:  \n",
    "1) Blanket replace NaN with zeroes - simplest  \n",
    "2) Blanket replace NaN with feature mean - also simple  \n",
    "3) Copy value from closest neighbour in feature space - involve metrics  \n",
    "4) Using some EM algorithm - advanced\n",
    "5) Delete features with more than some amount of missing values  \n",
    "\n",
    "\n",
    "### Data exploration insights\n",
    "Is there any cyclicity of average y of all galaxies between galactic years? — No, at least for cycles with periods of less than 26 years. Based on a ```data.groupby(['galactic year'])['y'].mean()``` graph.  \n",
    "Also on the same graph there exists an anomalous peak around last 4 years. — something to look into"
   ]
  },
  {
   "cell_type": "markdown",
   "metadata": {},
   "source": [
    "## Part 2 of the task\n",
    "Every galaxy has a limited potential for improvement in the index described by potential:  \n",
    "$$P_i = -\\ln (y_i + 0.01) + 3,$$\n",
    "where $y_i$ is the development index of a galaxy $i$.  \n",
    "Likely index increase $\\Delta y_i$ dependent on potential for improvement $P$ and on extra energy availability $E_i$ is described by the following function:\n",
    "\n",
    "$$\\Delta y_i = \\dfrac {E_i P_i^2}{1000} = \\dfrac{E_i(-\\ln (y_i + 0.01) + 3)^2}{1000}$$\n",
    "\n",
    "The task is to maximize $\\displaystyle \\sum_{i = 0}^{889} \\Delta y_i (E_i)$ given the constraints: \n",
    "* $E = \\displaystyle \\sum_{i=0}^{889}E_i = 50000$ units available for allocation (across 890 objects --)\n",
    "* $0 \\leq E_i \\leq 100 $ for all $i$\n",
    "* all galaxies with $y_i < 0.7$ should be allocated at least 10% of the total energy available (i.e. 5000 units)"
   ]
  },
  {
   "cell_type": "markdown",
   "metadata": {},
   "source": [
    "### Type = Linear programming problem with constraints?"
   ]
  },
  {
   "cell_type": "code",
   "execution_count": 2,
   "metadata": {},
   "outputs": [],
   "source": [
    "import numpy as np\n",
    "import matplotlib\n",
    "from matplotlib import pyplot as plt"
   ]
  },
  {
   "cell_type": "code",
   "execution_count": 8,
   "metadata": {},
   "outputs": [
    {
     "data": {
      "text/plain": [
       "[<matplotlib.lines.Line2D at 0x7fb07bcfbb10>]"
      ]
     },
     "execution_count": 8,
     "metadata": {},
     "output_type": "execute_result"
    },
    {
     "data": {
      "image/png": "[encoded data removed]",
      "text/plain": [
       "<Figure size 432x288 with 1 Axes>"
      ]
     },
     "metadata": {
      "needs_background": "light"
     },
     "output_type": "display_data"
    }
   ],
   "source": [
    "xs = np.linspace(0, 1, 100)\n",
    "ys = (-np.log(xs + 0.01) + 3)\n",
    "plt.plot(xs, ys, label='a')\n",
    "plt.plot(xs, ys**2, label='b')"
   ]
  }
 ],
 "metadata": {
  "kernelspec": {
   "display_name": "Python 3",
   "language": "python",
   "name": "python3"
  },
  "language_info": {
   "codemirror_mode": {
    "name": "ipython",
    "version": 3
   },
   "file_extension": ".py",
   "mimetype": "text/x-python",
   "name": "python",
   "nbconvert_exporter": "python",
   "pygments_lexer": "ipython3",
   "version": "3.7.6"
  }
 },
 "nbformat": 4,
 "nbformat_minor": 4
}
