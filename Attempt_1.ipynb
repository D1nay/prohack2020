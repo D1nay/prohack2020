{
 "cells": [
  {
   "cell_type": "markdown",
   "metadata": {},
   "source": [
    "# Attempt 1\n",
    "\n",
    "* NaNs replaced by zeros\n",
    "* Using QuantileTransformer on target\n",
    "* Using random 80/20 train/test split\n",
    "* XGBoost on RF using parameters from GridSearch"
   ]
  },
  {
   "cell_type": "code",
   "execution_count": 25,
   "metadata": {},
   "outputs": [],
   "source": [
    "import numpy as np\n",
    "import pandas as pd\n",
    "import matplotlib\n",
    "import math\n",
    "from sklearn import model_selection, ensemble, metrics, linear_model, preprocessing\n",
    "from matplotlib import pyplot as plt\n",
    "%matplotlib inline"
   ]
  },
  {
   "cell_type": "code",
   "execution_count": 48,
   "metadata": {},
   "outputs": [],
   "source": [
    "data = pd.read_csv('dataset/undp_train.csv', na_values='nan')"
   ]
  },
  {
   "cell_type": "code",
   "execution_count": 49,
   "metadata": {},
   "outputs": [],
   "source": [
    "test = pd.read_csv('dataset/undp_test.csv', na_values='nan')"
   ]
  },
  {
   "cell_type": "code",
   "execution_count": 134,
   "metadata": {},
   "outputs": [
    {
     "data": {
      "text/html": [
       "<div>\n",
       "<style scoped>\n",
       "    .dataframe tbody tr th:only-of-type {\n",
       "        vertical-align: middle;\n",
       "    }\n",
       "\n",
       "    .dataframe tbody tr th {\n",
       "        vertical-align: top;\n",
       "    }\n",
       "\n",
       "    .dataframe thead th {\n",
       "        text-align: right;\n",
       "    }\n",
       "</style>\n",
       "<table border=\"1\" class=\"dataframe\">\n",
       "  <thead>\n",
       "    <tr style=\"text-align: right;\">\n",
       "      <th></th>\n",
       "      <th>year</th>\n",
       "      <th>country</th>\n",
       "      <th>Life expectancy Index</th>\n",
       "      <th>Life expectancy at birth</th>\n",
       "      <th>Gross national income (GNI) per capita (2011 PPP$)</th>\n",
       "      <th>Income Index</th>\n",
       "      <th>Expected years of schooling (years)</th>\n",
       "      <th>Mean years of schooling (years)</th>\n",
       "      <th>Human Development Index (HDI)</th>\n",
       "      <th>Education Index</th>\n",
       "      <th>...</th>\n",
       "      <th>Mobile phone subscriptions (per 100 people)</th>\n",
       "      <th>Internet users, total (% of population)</th>\n",
       "      <th>Current health expenditure (% of GDP)</th>\n",
       "      <th>Human Development Index (HDI), female</th>\n",
       "      <th>Human Development Index (HDI), male</th>\n",
       "      <th>Gender Development Index (GDI)</th>\n",
       "      <th>Adjusted net savings (% of GNI)</th>\n",
       "      <th>HIV prevalence, adult (% ages 15-49), total</th>\n",
       "      <th>Private capital flows (% of GDP)</th>\n",
       "      <th>Gender Inequality Index (GII)</th>\n",
       "    </tr>\n",
       "  </thead>\n",
       "  <tbody>\n",
       "    <tr>\n",
       "      <th>885</th>\n",
       "      <td>2016</td>\n",
       "      <td>Yemen</td>\n",
       "      <td>0.709</td>\n",
       "      <td>66.1</td>\n",
       "      <td>1966.0</td>\n",
       "      <td>0.450</td>\n",
       "      <td>8.7</td>\n",
       "      <td>3.0</td>\n",
       "      <td>0.477</td>\n",
       "      <td>0.341</td>\n",
       "      <td>...</td>\n",
       "      <td>60.5</td>\n",
       "      <td>24.6</td>\n",
       "      <td>5.6</td>\n",
       "      <td>0.289</td>\n",
       "      <td>0.550</td>\n",
       "      <td>0.525</td>\n",
       "      <td>NaN</td>\n",
       "      <td>NaN</td>\n",
       "      <td>NaN</td>\n",
       "      <td>0.837</td>\n",
       "    </tr>\n",
       "    <tr>\n",
       "      <th>886</th>\n",
       "      <td>2016</td>\n",
       "      <td>Vanuatu</td>\n",
       "      <td>0.770</td>\n",
       "      <td>70.0</td>\n",
       "      <td>2751.0</td>\n",
       "      <td>0.501</td>\n",
       "      <td>11.4</td>\n",
       "      <td>6.7</td>\n",
       "      <td>0.592</td>\n",
       "      <td>0.540</td>\n",
       "      <td>...</td>\n",
       "      <td>78.5</td>\n",
       "      <td>24.0</td>\n",
       "      <td>3.7</td>\n",
       "      <td>NaN</td>\n",
       "      <td>NaN</td>\n",
       "      <td>NaN</td>\n",
       "      <td>NaN</td>\n",
       "      <td>NaN</td>\n",
       "      <td>NaN</td>\n",
       "      <td>NaN</td>\n",
       "    </tr>\n",
       "    <tr>\n",
       "      <th>887</th>\n",
       "      <td>2016</td>\n",
       "      <td>Uruguay</td>\n",
       "      <td>0.885</td>\n",
       "      <td>77.5</td>\n",
       "      <td>19196.0</td>\n",
       "      <td>0.794</td>\n",
       "      <td>16.3</td>\n",
       "      <td>8.7</td>\n",
       "      <td>0.806</td>\n",
       "      <td>0.745</td>\n",
       "      <td>...</td>\n",
       "      <td>149.4</td>\n",
       "      <td>66.4</td>\n",
       "      <td>9.1</td>\n",
       "      <td>0.805</td>\n",
       "      <td>0.793</td>\n",
       "      <td>1.016</td>\n",
       "      <td>10.4</td>\n",
       "      <td>0.6</td>\n",
       "      <td>6.0</td>\n",
       "      <td>0.286</td>\n",
       "    </tr>\n",
       "    <tr>\n",
       "      <th>888</th>\n",
       "      <td>2016</td>\n",
       "      <td>Viet Nam</td>\n",
       "      <td>0.849</td>\n",
       "      <td>75.2</td>\n",
       "      <td>5638.0</td>\n",
       "      <td>0.609</td>\n",
       "      <td>12.7</td>\n",
       "      <td>8.1</td>\n",
       "      <td>0.685</td>\n",
       "      <td>0.621</td>\n",
       "      <td>...</td>\n",
       "      <td>128.8</td>\n",
       "      <td>53.0</td>\n",
       "      <td>5.7</td>\n",
       "      <td>0.686</td>\n",
       "      <td>0.683</td>\n",
       "      <td>1.005</td>\n",
       "      <td>13.9</td>\n",
       "      <td>0.4</td>\n",
       "      <td>-5.8</td>\n",
       "      <td>0.323</td>\n",
       "    </tr>\n",
       "    <tr>\n",
       "      <th>889</th>\n",
       "      <td>2016</td>\n",
       "      <td>Zimbabwe</td>\n",
       "      <td>0.620</td>\n",
       "      <td>60.3</td>\n",
       "      <td>2246.0</td>\n",
       "      <td>0.470</td>\n",
       "      <td>10.4</td>\n",
       "      <td>8.3</td>\n",
       "      <td>0.549</td>\n",
       "      <td>0.567</td>\n",
       "      <td>...</td>\n",
       "      <td>91.8</td>\n",
       "      <td>23.1</td>\n",
       "      <td>9.4</td>\n",
       "      <td>0.526</td>\n",
       "      <td>0.570</td>\n",
       "      <td>0.923</td>\n",
       "      <td>-19.3</td>\n",
       "      <td>13.7</td>\n",
       "      <td>-1.3</td>\n",
       "      <td>0.535</td>\n",
       "    </tr>\n",
       "  </tbody>\n",
       "</table>\n",
       "<p>5 rows × 76 columns</p>\n",
       "</div>"
      ],
      "text/plain": [
       "     year   country  Life expectancy Index  Life expectancy at birth  \\\n",
       "885  2016     Yemen                  0.709                      66.1   \n",
       "886  2016   Vanuatu                  0.770                      70.0   \n",
       "887  2016   Uruguay                  0.885                      77.5   \n",
       "888  2016  Viet Nam                  0.849                      75.2   \n",
       "889  2016  Zimbabwe                  0.620                      60.3   \n",
       "\n",
       "     Gross national income (GNI) per capita (2011 PPP$)  Income Index  \\\n",
       "885                                             1966.0          0.450   \n",
       "886                                             2751.0          0.501   \n",
       "887                                            19196.0          0.794   \n",
       "888                                             5638.0          0.609   \n",
       "889                                             2246.0          0.470   \n",
       "\n",
       "     Expected years of schooling (years)  Mean years of schooling (years)  \\\n",
       "885                                  8.7                              3.0   \n",
       "886                                 11.4                              6.7   \n",
       "887                                 16.3                              8.7   \n",
       "888                                 12.7                              8.1   \n",
       "889                                 10.4                              8.3   \n",
       "\n",
       "     Human Development Index (HDI)  Education Index  ...  \\\n",
       "885                          0.477            0.341  ...   \n",
       "886                          0.592            0.540  ...   \n",
       "887                          0.806            0.745  ...   \n",
       "888                          0.685            0.621  ...   \n",
       "889                          0.549            0.567  ...   \n",
       "\n",
       "     Mobile phone subscriptions (per 100 people)  \\\n",
       "885                                         60.5   \n",
       "886                                         78.5   \n",
       "887                                        149.4   \n",
       "888                                        128.8   \n",
       "889                                         91.8   \n",
       "\n",
       "     Internet users, total (% of population)  \\\n",
       "885                                     24.6   \n",
       "886                                     24.0   \n",
       "887                                     66.4   \n",
       "888                                     53.0   \n",
       "889                                     23.1   \n",
       "\n",
       "     Current health expenditure (% of GDP)  \\\n",
       "885                                    5.6   \n",
       "886                                    3.7   \n",
       "887                                    9.1   \n",
       "888                                    5.7   \n",
       "889                                    9.4   \n",
       "\n",
       "     Human Development Index (HDI), female  \\\n",
       "885                                  0.289   \n",
       "886                                    NaN   \n",
       "887                                  0.805   \n",
       "888                                  0.686   \n",
       "889                                  0.526   \n",
       "\n",
       "     Human Development Index (HDI), male  Gender Development Index (GDI)  \\\n",
       "885                                0.550                           0.525   \n",
       "886                                  NaN                             NaN   \n",
       "887                                0.793                           1.016   \n",
       "888                                0.683                           1.005   \n",
       "889                                0.570                           0.923   \n",
       "\n",
       "     Adjusted net savings (% of GNI)  \\\n",
       "885                              NaN   \n",
       "886                              NaN   \n",
       "887                             10.4   \n",
       "888                             13.9   \n",
       "889                            -19.3   \n",
       "\n",
       "     HIV prevalence, adult (% ages 15-49), total  \\\n",
       "885                                          NaN   \n",
       "886                                          NaN   \n",
       "887                                          0.6   \n",
       "888                                          0.4   \n",
       "889                                         13.7   \n",
       "\n",
       "     Private capital flows (% of GDP)  Gender Inequality Index (GII)  \n",
       "885                               NaN                          0.837  \n",
       "886                               NaN                            NaN  \n",
       "887                               6.0                          0.286  \n",
       "888                              -5.8                          0.323  \n",
       "889                              -1.3                          0.535  \n",
       "\n",
       "[5 rows x 76 columns]"
      ]
     },
     "execution_count": 134,
     "metadata": {},
     "output_type": "execute_result"
    }
   ],
   "source": [
    "test.tail()"
   ]
  },
  {
   "cell_type": "code",
   "execution_count": 32,
   "metadata": {},
   "outputs": [],
   "source": [
    "data = data.set_index(['year', 'country'])\n",
    "test = test.set_index(['year', 'country'])"
   ]
  },
  {
   "cell_type": "code",
   "execution_count": 39,
   "metadata": {},
   "outputs": [],
   "source": [
    "full = data.append(test)"
   ]
  },
  {
   "cell_type": "code",
   "execution_count": 44,
   "metadata": {},
   "outputs": [],
   "source": [
    "full.to_csv('dataset/full.csv', na_rep='nan')"
   ]
  },
  {
   "cell_type": "code",
   "execution_count": 45,
   "metadata": {},
   "outputs": [],
   "source": [
    "full = pd.read_csv('dataset/full.csv', na_values='nan')"
   ]
  },
  {
   "cell_type": "code",
   "execution_count": 121,
   "metadata": {},
   "outputs": [
    {
     "name": "stdout",
     "output_type": "stream",
     "text": [
      "(4755, 1)\n",
      "(4755, 181)\n"
     ]
    }
   ],
   "source": [
    "# FOR ONE HOT ENCODING\n",
    "from sklearn.neighbors import KNeighborsRegressor\n",
    "from sklearn.impute import SimpleImputer, KNNImputer\n",
    "from sklearn.preprocessing import OneHotEncoder\n",
    "from sklearn import model_selection\n",
    "\n",
    "X_train = data.iloc[:, 0:-1].values\n",
    "X_test = test.values\n",
    "y_train = data.iloc[:, -1].values\n",
    "\n",
    "# imputing missing values\n",
    "# simple imputer\n",
    "imputer = SimpleImputer(missing_values=np.nan, strategy='constant', fill_value=0)\n",
    "imputer.fit(full.drop(columns='y').values)\n",
    "X_train = imputer.transform(X_train)\n",
    "X_test = imputer.transform(X_test)\n",
    "\n",
    "# OneHotEncoder\n",
    "enc = OneHotEncoder(sparse=False)\n",
    "print(full.drop(columns='y').values[:, 1].reshape(-1,1).shape)\n",
    "print(enc.fit_transform(full.drop(columns='y').values[:, 1].reshape(-1,1)).shape)\n",
    "enc.fit(full.drop(columns='y').values[:, 1].reshape(-1,1))\n",
    "\n",
    "X_train = np.hstack((X_train, enc.transform(X_train[:, 1].reshape(-1, 1))))\n",
    "X_test = np.hstack((X_test, enc.transform(X_test[:, 1].reshape(-1, 1))))\n",
    "\n",
    "X_train = np.delete(X_train, 1, 1)\n",
    "X_test = np.delete(X_test, 1, 1)\n",
    "\n",
    "#normalize\n",
    "scaler = preprocessing.StandardScaler()\n",
    "scaler.fit(np.vstack((X_train, X_test))[:, :75])\n",
    "X_train[:, :75] = scaler.transform(X_train[:, :75])\n",
    "X_test[:, :75] = scaler.transform(X_test[:, :75])\n"
   ]
  },
  {
   "cell_type": "code",
   "execution_count": 112,
   "metadata": {},
   "outputs": [
    {
     "data": {
      "text/plain": [
       "array([[-1.6648662794686289, -1.6286122400949699, -1.5328676423145136,\n",
       "        ..., 0.0, 0.0, 0.0],\n",
       "       [-1.6648662794686289, 0.43868823576559063, 0.42434454695251783,\n",
       "        ..., 0.0, 0.0, 0.0],\n",
       "       [-1.6648662794686289, -0.03115278147544622, -0.021717765950200155,\n",
       "        ..., 0.0, 0.0, 0.0],\n",
       "       ...,\n",
       "       [1.6093119783454835, 0.35724912611047754, 0.34241473437854986,\n",
       "        ..., 0.0, 0.0, 0.0],\n",
       "       [1.6093119783454835, 0.5138627985241565, 0.4971710470182676, ...,\n",
       "        0.0, 0.0, 0.0],\n",
       "       [1.6093119783454835, -0.5323165331992181, -0.49509001637757544,\n",
       "        ..., 0.0, 1.0, 0.0]], dtype=object)"
      ]
     },
     "execution_count": 112,
     "metadata": {},
     "output_type": "execute_result"
    }
   ],
   "source": [
    "X_train"
   ]
  },
  {
   "cell_type": "code",
   "execution_count": 69,
   "metadata": {},
   "outputs": [
    {
     "data": {
      "text/plain": [
       "(3865, 256)"
      ]
     },
     "execution_count": 69,
     "metadata": {},
     "output_type": "execute_result"
    }
   ],
   "source": [
    "X_train.shape"
   ]
  },
  {
   "cell_type": "code",
   "execution_count": 125,
   "metadata": {},
   "outputs": [
    {
     "name": "stdout",
     "output_type": "stream",
     "text": [
      "0.0009004150232622033\n"
     ]
    }
   ],
   "source": [
    "#XGBoost\n",
    "from sklearn.metrics import mean_squared_error as MSE\n",
    "from sklearn.model_selection import cross_val_score as CVS\n",
    "import xgboost as xgb\n",
    "XGB = xgb.XGBRegressor(\n",
    "    max_depth=5,\n",
    "    learning_rate=0.1,\n",
    "    n_estimators=1500,\n",
    "    verbosity=1,\n",
    "    silent=None,\n",
    "    objective='reg:squarederror',\n",
    "    booster='gbtree',\n",
    "    n_jobs=3,\n",
    "    nthread=None,\n",
    "    gamma=0,\n",
    "    min_child_weight=1,\n",
    "    max_delta_step=0,\n",
    "    subsample=1,\n",
    "    colsample_bytree=1,\n",
    "    colsample_bylevel=1,\n",
    "    colsample_bynode=0.3,\n",
    "    reg_alpha=0,\n",
    "    reg_lambda=0.11,\n",
    "    scale_pos_weight=1,\n",
    "    base_score=0.5,\n",
    "    random_state=42,\n",
    "    seed=None,\n",
    "    missing=None,\n",
    "    importance_type='gain')\n",
    "XGB.fit(X_train, y_train)\n",
    "\n",
    "print(MSE(y_train, XGB.predict(X_train))**0.5)"
   ]
  },
  {
   "cell_type": "code",
   "execution_count": 126,
   "metadata": {},
   "outputs": [
    {
     "name": "stdout",
     "output_type": "stream",
     "text": [
      "0.013128146347445375 CV score 5-fold of XGB on train\n"
     ]
    }
   ],
   "source": [
    "cvs = -CVS(XGB, X_train,y_train, scoring='neg_root_mean_squared_error', cv=5)\n",
    "print(cvs.mean(), 'CV score 5-fold of XGB on train')"
   ]
  },
  {
   "cell_type": "code",
   "execution_count": 127,
   "metadata": {},
   "outputs": [
    {
     "data": {
      "text/plain": [
       "array([0.01154904, 0.00515771, 0.00531948, 0.00747433, 0.03614017])"
      ]
     },
     "execution_count": 127,
     "metadata": {},
     "output_type": "execute_result"
    }
   ],
   "source": [
    "cvs"
   ]
  },
  {
   "cell_type": "code",
   "execution_count": 142,
   "metadata": {},
   "outputs": [],
   "source": [
    "y_pred = XGB.predict(X_test)"
   ]
  },
  {
   "cell_type": "markdown",
   "metadata": {},
   "source": [
    "# Part 2"
   ]
  },
  {
   "cell_type": "code",
   "execution_count": 145,
   "metadata": {},
   "outputs": [],
   "source": [
    "raw_test = pd.read_csv('dataset/test.csv')"
   ]
  },
  {
   "cell_type": "code",
   "execution_count": 147,
   "metadata": {},
   "outputs": [],
   "source": [
    "#alpha is the coefficient before each E_i in calculating\n",
    "#the likely index increase \\Delta y_i multiplied by 1000\n",
    "def P(y):\n",
    "    return -np.log(y + 0.01) + 3\n",
    "def alpha(y):\n",
    "    return P(y)**2\n",
    "p2slice = raw_test.iloc[:, 2:3]\n",
    "p2slice['y pred'] = pd.Series(y_pred)\n",
    "p2slice['alpha'] = pd.Series([alpha(x) for x in p2slice['y pred']])"
   ]
  },
  {
   "cell_type": "code",
   "execution_count": 148,
   "metadata": {},
   "outputs": [
    {
     "data": {
      "text/html": [
       "<div>\n",
       "<style scoped>\n",
       "    .dataframe tbody tr th:only-of-type {\n",
       "        vertical-align: middle;\n",
       "    }\n",
       "\n",
       "    .dataframe tbody tr th {\n",
       "        vertical-align: top;\n",
       "    }\n",
       "\n",
       "    .dataframe thead th {\n",
       "        text-align: right;\n",
       "    }\n",
       "</style>\n",
       "<table border=\"1\" class=\"dataframe\">\n",
       "  <thead>\n",
       "    <tr style=\"text-align: right;\">\n",
       "      <th></th>\n",
       "      <th>existence expectancy index</th>\n",
       "      <th>y pred</th>\n",
       "      <th>alpha</th>\n",
       "    </tr>\n",
       "  </thead>\n",
       "  <tbody>\n",
       "    <tr>\n",
       "      <th>0</th>\n",
       "      <td>0.456086</td>\n",
       "      <td>0.040783</td>\n",
       "      <td>35.762705</td>\n",
       "    </tr>\n",
       "    <tr>\n",
       "      <th>1</th>\n",
       "      <td>0.529835</td>\n",
       "      <td>0.038954</td>\n",
       "      <td>36.202726</td>\n",
       "    </tr>\n",
       "    <tr>\n",
       "      <th>2</th>\n",
       "      <td>0.560976</td>\n",
       "      <td>0.038881</td>\n",
       "      <td>36.220771</td>\n",
       "    </tr>\n",
       "    <tr>\n",
       "      <th>3</th>\n",
       "      <td>0.565910</td>\n",
       "      <td>0.039570</td>\n",
       "      <td>36.052394</td>\n",
       "    </tr>\n",
       "    <tr>\n",
       "      <th>4</th>\n",
       "      <td>0.588274</td>\n",
       "      <td>0.021967</td>\n",
       "      <td>41.512875</td>\n",
       "    </tr>\n",
       "    <tr>\n",
       "      <th>...</th>\n",
       "      <td>...</td>\n",
       "      <td>...</td>\n",
       "      <td>...</td>\n",
       "    </tr>\n",
       "    <tr>\n",
       "      <th>885</th>\n",
       "      <td>NaN</td>\n",
       "      <td>0.021534</td>\n",
       "      <td>41.688968</td>\n",
       "    </tr>\n",
       "    <tr>\n",
       "      <th>886</th>\n",
       "      <td>NaN</td>\n",
       "      <td>0.029529</td>\n",
       "      <td>38.821832</td>\n",
       "    </tr>\n",
       "    <tr>\n",
       "      <th>887</th>\n",
       "      <td>NaN</td>\n",
       "      <td>0.082569</td>\n",
       "      <td>28.942210</td>\n",
       "    </tr>\n",
       "    <tr>\n",
       "      <th>888</th>\n",
       "      <td>NaN</td>\n",
       "      <td>0.053718</td>\n",
       "      <td>33.100384</td>\n",
       "    </tr>\n",
       "    <tr>\n",
       "      <th>889</th>\n",
       "      <td>NaN</td>\n",
       "      <td>0.022147</td>\n",
       "      <td>41.440608</td>\n",
       "    </tr>\n",
       "  </tbody>\n",
       "</table>\n",
       "<p>890 rows × 3 columns</p>\n",
       "</div>"
      ],
      "text/plain": [
       "     existence expectancy index    y pred      alpha\n",
       "0                      0.456086  0.040783  35.762705\n",
       "1                      0.529835  0.038954  36.202726\n",
       "2                      0.560976  0.038881  36.220771\n",
       "3                      0.565910  0.039570  36.052394\n",
       "4                      0.588274  0.021967  41.512875\n",
       "..                          ...       ...        ...\n",
       "885                         NaN  0.021534  41.688968\n",
       "886                         NaN  0.029529  38.821832\n",
       "887                         NaN  0.082569  28.942210\n",
       "888                         NaN  0.053718  33.100384\n",
       "889                         NaN  0.022147  41.440608\n",
       "\n",
       "[890 rows x 3 columns]"
      ]
     },
     "execution_count": 148,
     "metadata": {},
     "output_type": "execute_result"
    }
   ],
   "source": [
    "p2slice"
   ]
  },
  {
   "cell_type": "code",
   "execution_count": 149,
   "metadata": {},
   "outputs": [
    {
     "data": {
      "text/html": [
       "<div>\n",
       "<style scoped>\n",
       "    .dataframe tbody tr th:only-of-type {\n",
       "        vertical-align: middle;\n",
       "    }\n",
       "\n",
       "    .dataframe tbody tr th {\n",
       "        vertical-align: top;\n",
       "    }\n",
       "\n",
       "    .dataframe thead th {\n",
       "        text-align: right;\n",
       "    }\n",
       "</style>\n",
       "<table border=\"1\" class=\"dataframe\">\n",
       "  <thead>\n",
       "    <tr style=\"text-align: right;\">\n",
       "      <th></th>\n",
       "      <th>existence expectancy index</th>\n",
       "      <th>y pred</th>\n",
       "      <th>alpha</th>\n",
       "    </tr>\n",
       "  </thead>\n",
       "  <tbody>\n",
       "    <tr>\n",
       "      <th>0</th>\n",
       "      <td>0.456086</td>\n",
       "      <td>0.040783</td>\n",
       "      <td>35.762705</td>\n",
       "    </tr>\n",
       "    <tr>\n",
       "      <th>1</th>\n",
       "      <td>0.529835</td>\n",
       "      <td>0.038954</td>\n",
       "      <td>36.202726</td>\n",
       "    </tr>\n",
       "    <tr>\n",
       "      <th>2</th>\n",
       "      <td>0.560976</td>\n",
       "      <td>0.038881</td>\n",
       "      <td>36.220771</td>\n",
       "    </tr>\n",
       "    <tr>\n",
       "      <th>3</th>\n",
       "      <td>0.565910</td>\n",
       "      <td>0.039570</td>\n",
       "      <td>36.052394</td>\n",
       "    </tr>\n",
       "    <tr>\n",
       "      <th>4</th>\n",
       "      <td>0.588274</td>\n",
       "      <td>0.021967</td>\n",
       "      <td>41.512875</td>\n",
       "    </tr>\n",
       "    <tr>\n",
       "      <th>...</th>\n",
       "      <td>...</td>\n",
       "      <td>...</td>\n",
       "      <td>...</td>\n",
       "    </tr>\n",
       "    <tr>\n",
       "      <th>61</th>\n",
       "      <td>0.686832</td>\n",
       "      <td>0.044358</td>\n",
       "      <td>34.953700</td>\n",
       "    </tr>\n",
       "    <tr>\n",
       "      <th>62</th>\n",
       "      <td>0.688025</td>\n",
       "      <td>0.029303</td>\n",
       "      <td>38.893435</td>\n",
       "    </tr>\n",
       "    <tr>\n",
       "      <th>63</th>\n",
       "      <td>0.692317</td>\n",
       "      <td>0.036504</td>\n",
       "      <td>36.823272</td>\n",
       "    </tr>\n",
       "    <tr>\n",
       "      <th>64</th>\n",
       "      <td>0.698337</td>\n",
       "      <td>0.027632</td>\n",
       "      <td>39.437052</td>\n",
       "    </tr>\n",
       "    <tr>\n",
       "      <th>65</th>\n",
       "      <td>0.698797</td>\n",
       "      <td>0.035961</td>\n",
       "      <td>36.965907</td>\n",
       "    </tr>\n",
       "  </tbody>\n",
       "</table>\n",
       "<p>66 rows × 3 columns</p>\n",
       "</div>"
      ],
      "text/plain": [
       "    existence expectancy index    y pred      alpha\n",
       "0                     0.456086  0.040783  35.762705\n",
       "1                     0.529835  0.038954  36.202726\n",
       "2                     0.560976  0.038881  36.220771\n",
       "3                     0.565910  0.039570  36.052394\n",
       "4                     0.588274  0.021967  41.512875\n",
       "..                         ...       ...        ...\n",
       "61                    0.686832  0.044358  34.953700\n",
       "62                    0.688025  0.029303  38.893435\n",
       "63                    0.692317  0.036504  36.823272\n",
       "64                    0.698337  0.027632  39.437052\n",
       "65                    0.698797  0.035961  36.965907\n",
       "\n",
       "[66 rows x 3 columns]"
      ]
     },
     "execution_count": 149,
     "metadata": {},
     "output_type": "execute_result"
    }
   ],
   "source": [
    "p2slice[p2slice['existence expectancy index'] < 0.7]"
   ]
  },
  {
   "cell_type": "code",
   "execution_count": 150,
   "metadata": {
    "scrolled": true
   },
   "outputs": [
    {
     "name": "stdout",
     "output_type": "stream",
     "text": [
      "Int64Index([ 1,  2,  3,  4,  5,  6,  9, 10, 11, 14, 15, 16, 17, 18, 19, 20, 21,\n",
      "            22, 23, 25, 26, 27, 29, 30, 31, 34, 35, 37, 38, 39, 40, 41, 45, 46,\n",
      "            47, 48, 49, 50, 52, 53, 54, 55, 56, 57, 58, 60, 62, 63, 64, 65],\n",
      "           dtype='int64')\n",
      "Int64Index([  0,   7,   8,  12,  13,  24,  28,  32,  36,  42,\n",
      "            ...\n",
      "            784, 785, 790, 816, 838, 844, 885, 886, 888, 889],\n",
      "           dtype='int64', length=450)\n",
      "[  1   2   3   4   5   6   9  10  11  14  15  16  17  18  19  20  21  22\n",
      "  23  25  26  27  29  30  31  34  35  37  38  39  40  41  45  46  47  48\n",
      "  49  50  52  53  54  55  56  57  58  60  62  63  64  65   0   7   8  12\n",
      "  13  24  28  32  36  42  43  51  59  61  66  67  68  69  70  71  72  73\n",
      "  74  75  76  77  78  79  80  81  82  83  84  85  86  87  88  89  90  91\n",
      "  92  93  94  95  96  97  98  99 100 101 102 103 104 105 106 107 108 109\n",
      " 110 111 112 113 114 115 116 117 118 119 120 121 122 123 124 125 126 127\n",
      " 128 129 130 131 132 133 134 135 136 137 138 139 140 141 142 143 144 145\n",
      " 146 147 148 149 150 152 153 154 155 156 157 158 159 160 162 163 164 165\n",
      " 166 167 168 169 170 171 172 173 174 175 176 177 178 179 180 181 182 183\n",
      " 184 185 186 187 188 189 190 191 192 193 194 195 196 197 198 200 201 202\n",
      " 203 204 205 206 207 208 209 210 211 212 213 216 217 219 220 221 223 224\n",
      " 225 226 227 228 229 230 231 233 234 235 236 237 238 239 240 241 242 244\n",
      " 245 246 247 248 250 251 252 253 254 255 256 257 258 259 260 261 263 264\n",
      " 266 267 268 269 270 271 272 275 276 277 278 279 280 281 282 283 284 286\n",
      " 288 289 290 291 292 293 294 295 296 297 298 299 300 301 302 303 304 305\n",
      " 307 309 311 312 313 314 315 316 317 320 322 323 324 325 326 327 328 329\n",
      " 330 331 333 334 335 336 337 338 340 341 342 343 344 345 346 347 348 350\n",
      " 351 354 356 357 358 360 361 362 363 364 365 366 368 369 371 375 377 378\n",
      " 382 383 384 385 386 389 394 395 396 397 399 400 401 402 404 405 406 407\n",
      " 408 410 411 412 415 417 420 421 422 424 425 426 427 429 430 432 433 434\n",
      " 435 437 438 439 442 443 445 446 449 450 456 457 458 461 466 467 471 472\n",
      " 474 478 481 482 484 486 490 491 494 498 504 505 506 507 509 513 516 517\n",
      " 519 522 524 525 529 531 532 534 537 538 539 542 544 547 549 553 557 558\n",
      " 561 562 564 566 570 571 573 575 576 578 580 581 582 584 587 588 590 593\n",
      " 595 596 603 606 609 613 618 621 625 627 629 632 633 637 638 642 647 648\n",
      " 649 652 656 658 664 666 674 677 679 681 685 688 694 726 727 728 731 746\n",
      " 753 754 763 775 784 785 790 816 838 844 885 886 888 889]\n"
     ]
    }
   ],
   "source": [
    "#indices of 50 largest by alpha points that have EEI < 0.7\n",
    "k = p2slice[p2slice['existence expectancy index']<0.7]['alpha'].nlargest(50).index.sort_values()\n",
    "print (k)\n",
    "\n",
    "#indices of 450 largest by alpha points after dropping the necessary 50 with EEI <0.7\n",
    "a = p2slice.drop(k)['alpha'].nlargest(450).index.sort_values()\n",
    "print(a)\n",
    "\n",
    "k = np.array(k)\n",
    "a = np.array(a)\n",
    "ka = np.concatenate([k,a])\n",
    "print(ka)"
   ]
  },
  {
   "cell_type": "code",
   "execution_count": 168,
   "metadata": {
    "scrolled": true
   },
   "outputs": [],
   "source": [
    "answer = pd.DataFrame(data={'index': raw_test.index,\n",
    "                  'pred': y_pred,\n",
    "                  'opt_pred': 0})\n",
    "for i in ka:\n",
    "    answer.iloc[i, 2] = 100"
   ]
  },
  {
   "cell_type": "code",
   "execution_count": 169,
   "metadata": {},
   "outputs": [
    {
     "data": {
      "text/plain": [
       "50000"
      ]
     },
     "execution_count": 169,
     "metadata": {},
     "output_type": "execute_result"
    }
   ],
   "source": [
    "answer['opt_pred'].sum()"
   ]
  },
  {
   "cell_type": "code",
   "execution_count": 170,
   "metadata": {},
   "outputs": [
    {
     "data": {
      "text/plain": [
       "6400"
      ]
     },
     "execution_count": 170,
     "metadata": {},
     "output_type": "execute_result"
    }
   ],
   "source": [
    "answer[p2slice['existence expectancy index']<0.7]['opt_pred'].sum()"
   ]
  },
  {
   "cell_type": "code",
   "execution_count": 171,
   "metadata": {},
   "outputs": [
    {
     "data": {
      "image/png": "[encoded data removed]",
      "text/plain": [
       "<Figure size 432x288 with 1 Axes>"
      ]
     },
     "metadata": {
      "needs_background": "light"
     },
     "output_type": "display_data"
    }
   ],
   "source": [
    "plt.hist(p2slice['alpha'], label='All test points', color='b', bins=50)\n",
    "plt.hist(p2slice.iloc[:66, -1],\n",
    "         label ='Test points with EEI < 0.7', color='r', bins=50)\n",
    "plt.legend()\n",
    "plt.xlabel('Alpha')\n",
    "plt.ylabel('Count')\n",
    "plt.title('Alpha values on test')\n",
    "plt.show()"
   ]
  },
  {
   "cell_type": "code",
   "execution_count": 172,
   "metadata": {},
   "outputs": [],
   "source": [
    "answer = answer.set_index(['index'])"
   ]
  },
  {
   "cell_type": "code",
   "execution_count": 173,
   "metadata": {},
   "outputs": [],
   "source": [
    "answer.to_csv('answer1.csv')"
   ]
  }
 ],
 "metadata": {
  "kernelspec": {
   "display_name": "Python 3",
   "language": "python",
   "name": "python3"
  },
  "language_info": {
   "codemirror_mode": {
    "name": "ipython",
    "version": 3
   },
   "file_extension": ".py",
   "mimetype": "text/x-python",
   "name": "python",
   "nbconvert_exporter": "python",
   "pygments_lexer": "ipython3",
   "version": "3.7.6"
  }
 },
 "nbformat": 4,
 "nbformat_minor": 4
}
