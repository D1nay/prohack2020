{
 "cells": [
  {
   "cell_type": "code",
   "execution_count": 15,
   "metadata": {},
   "outputs": [
    {
     "name": "stdout",
     "output_type": "stream",
     "text": [
      "The jupyternotify extension is already loaded. To reload it, use:\n",
      "  %reload_ext jupyternotify\n"
     ]
    }
   ],
   "source": [
    "%load_ext jupyternotify\n",
    "import numpy as np\n",
    "import pandas as pd\n",
    "import matplotlib\n",
    "import math\n",
    "from sklearn import model_selection, ensemble, metrics, linear_model, preprocessing, pipeline\n",
    "from matplotlib import pyplot as plt\n",
    "%matplotlib inline"
   ]
  },
  {
   "cell_type": "code",
   "execution_count": 2,
   "metadata": {},
   "outputs": [],
   "source": [
    "data = pd.read_csv('dataset/undp_train.csv', na_values='nan')"
   ]
  },
  {
   "cell_type": "code",
   "execution_count": 6,
   "metadata": {},
   "outputs": [],
   "source": [
    "test = pd.read_csv('dataset/undp_test.csv', na_values='nan')"
   ]
  },
  {
   "cell_type": "code",
   "execution_count": 83,
   "metadata": {
    "scrolled": true
   },
   "outputs": [],
   "source": [
    "numeric_data_indices = list(range(len(data.columns)-1))\n",
    "numeric_data_indices.remove(1)"
   ]
  },
  {
   "cell_type": "code",
   "execution_count": 93,
   "metadata": {},
   "outputs": [],
   "source": [
    "data_no_world = data[data['country'] != 'World']"
   ]
  },
  {
   "cell_type": "code",
   "execution_count": 94,
   "metadata": {
    "scrolled": true
   },
   "outputs": [],
   "source": [
    "# FOR ONE HOT ENCODING\n",
    "from sklearn.neighbors import KNeighborsRegressor\n",
    "from sklearn.impute import SimpleImputer, KNNImputer\n",
    "from sklearn.preprocessing import OneHotEncoder\n",
    "from sklearn.metrics import mean_squared_error as MSE\n",
    "from sklearn.model_selection import cross_val_score as CVS\n",
    "\n",
    "def RMSE(x,y):\n",
    "    return MSE(x,y)**0.5\n",
    "\n",
    "# Pipeline\n",
    "pipe = pipeline.Pipeline(steps = [       \n",
    "    ('feature_processing', pipeline.FeatureUnion(transformer_list = [        \n",
    "            #numeric\n",
    "            ('numeric_variables_processing', pipeline.Pipeline(steps = [\n",
    "                ('selecting', preprocessing.FunctionTransformer(lambda data: data[:, numeric_data_indices])),\n",
    "                ('imputing', SimpleImputer(missing_values=np.nan, strategy='constant', fill_value=0)),\n",
    "                ('scaling', preprocessing.StandardScaler())            \n",
    "                        ])),\n",
    "        \n",
    "            #categorical\n",
    "            ('categorical_variables_processing', pipeline.Pipeline(steps = [\n",
    "                ('selecting', preprocessing.FunctionTransformer(lambda data: data[:, 1].reshape(-1, 1))),\n",
    "                ('hot_encoding', preprocessing.OneHotEncoder(handle_unknown = 'ignore'))            \n",
    "                        ])),\n",
    "        ]))\n",
    "    ]\n",
    ")\n",
    "\n",
    "# shortcut for scorer\n",
    "nrmse = 'neg_root_mean_squared_error'\n",
    "\n",
    "X = data_no_world.iloc[:, 0:-1].values\n",
    "y = data_no_world.iloc[:, -1].values\n",
    "\n",
    "X = pipe.fit_transform(X)\n",
    "\n",
    "# split\n",
    "(X_train, X_test, y_train,\n",
    " y_test) = model_selection.train_test_split(X, y,\n",
    "          test_size = 0.2, shuffle=True, random_state=777)"
   ]
  },
  {
   "cell_type": "code",
   "execution_count": 95,
   "metadata": {},
   "outputs": [
    {
     "name": "stdout",
     "output_type": "stream",
     "text": [
      "0.000944783712376604\n",
      "0.007413320735632963\n"
     ]
    }
   ],
   "source": [
    "#XGBoost WITHOUT target transform\n",
    "import xgboost as xgb\n",
    "XGB = xgb.XGBRegressor(\n",
    "    max_depth=5,\n",
    "    learning_rate=0.1,\n",
    "    n_estimators=1500,\n",
    "    verbosity=1,\n",
    "    silent=None,\n",
    "    objective='reg:squarederror',\n",
    "    booster='gbtree',\n",
    "    n_jobs=3,\n",
    "    nthread=None,\n",
    "    gamma=0,\n",
    "    min_child_weight=1,\n",
    "    max_delta_step=0,\n",
    "    subsample=1,\n",
    "    colsample_bytree=1,\n",
    "    colsample_bylevel=1,\n",
    "    colsample_bynode=0.3,\n",
    "    reg_alpha=0,\n",
    "    reg_lambda=0.11,\n",
    "    scale_pos_weight=1,\n",
    "    base_score=0.5,\n",
    "    random_state=42,\n",
    "    seed=None,\n",
    "    missing=None,\n",
    "    importance_type='gain')\n",
    "XGB.fit(X_train, y_train)\n",
    "\n",
    "print(MSE(y_train, XGB.predict(X_train))**0.5)\n",
    "print(MSE(y_test, XGB.predict(X_test))**0.5)"
   ]
  },
  {
   "cell_type": "code",
   "execution_count": 87,
   "metadata": {},
   "outputs": [
    {
     "name": "stdout",
     "output_type": "stream",
     "text": [
      "0.008529225967588486 CV score 5-fold of XGB on train\n"
     ]
    }
   ],
   "source": [
    "cvs = -CVS(XGB, X_train,y_train, scoring=nrmse, cv=5)\n",
    "print(cvs.mean(), 'CV score 5-fold of XGB on train')"
   ]
  },
  {
   "cell_type": "code",
   "execution_count": 78,
   "metadata": {},
   "outputs": [
    {
     "name": "stdout",
     "output_type": "stream",
     "text": [
      "0.014048396146600828 CV score 5-fold of RandomForest on train\n",
      "0.008773215580983748\n"
     ]
    }
   ],
   "source": [
    "#Let's use RandomForest\n",
    "from sklearn.ensemble import RandomForestRegressor\n",
    "forest = RandomForestRegressor(n_estimators=500,\n",
    "                              criterion='mse',\n",
    "                              max_depth=None,\n",
    "                              min_samples_split=2,\n",
    "                              min_samples_leaf=1,\n",
    "#                              max_features=26,\n",
    "                              max_features=86,\n",
    "                              n_jobs=3)\n",
    "\n",
    "print(-CVS(forest, X_train,y_train, scoring=nrmse, cv=5).mean(), 'CV score 5-fold of RandomForest on train')\n",
    "forest.fit(X_train, y_train)\n",
    "print(RMSE(y_test, forest.predict(X_test)))"
   ]
  }
 ],
 "metadata": {
  "kernelspec": {
   "display_name": "Python 3",
   "language": "python",
   "name": "python3"
  },
  "language_info": {
   "codemirror_mode": {
    "name": "ipython",
    "version": 3
   },
   "file_extension": ".py",
   "mimetype": "text/x-python",
   "name": "python",
   "nbconvert_exporter": "python",
   "pygments_lexer": "ipython3",
   "version": "3.7.6"
  }
 },
 "nbformat": 4,
 "nbformat_minor": 4
}
