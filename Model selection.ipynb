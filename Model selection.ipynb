{
 "cells": [
  {
   "cell_type": "code",
   "execution_count": 1,
   "metadata": {},
   "outputs": [],
   "source": [
    "# %load_ext jupyternotify\n",
    "import numpy as np\n",
    "import pandas as pd\n",
    "import matplotlib\n",
    "import math\n",
    "from sklearn import model_selection, ensemble, metrics, linear_model, preprocessing, pipeline\n",
    "from matplotlib import pyplot as plt\n",
    "import seaborn as sns\n",
    "%matplotlib inline"
   ]
  },
  {
   "cell_type": "code",
   "execution_count": 54,
   "metadata": {},
   "outputs": [],
   "source": [
    "data = pd.read_csv('dataset/undp_train.csv', na_values='nan')"
   ]
  },
  {
   "cell_type": "code",
   "execution_count": 3,
   "metadata": {},
   "outputs": [],
   "source": [
    "test = pd.read_csv('dataset/undp_test.csv', na_values='nan')"
   ]
  },
  {
   "cell_type": "code",
   "execution_count": 81,
   "metadata": {
    "scrolled": true
   },
   "outputs": [
    {
     "data": {
      "text/plain": [
       "[(0, 'year'),\n",
       " (1, 'country'),\n",
       " (2, 'Life expectancy Index'),\n",
       " (3, 'Life expectancy at birth'),\n",
       " (4, 'Gross national income (GNI) per capita (2011 PPP$)'),\n",
       " (5, 'Income Index'),\n",
       " (6, 'Expected years of schooling (years)'),\n",
       " (7, 'Mean years of schooling (years)'),\n",
       " (8, 'Human Development Index (HDI)'),\n",
       " (9, 'Education Index'),\n",
       " (10, 'Population using at least basic drinking-water services (%)'),\n",
       " (11, 'Population using at least basic sanitation services (%)'),\n",
       " (12, 'Gross capital formation (% of GDP)'),\n",
       " (13, 'Population, total (millions)'),\n",
       " (14, 'Population, urban (%)'),\n",
       " (15, 'Mortality rate, under-five (per 1,000 live births)'),\n",
       " (16, 'Mortality rate, infant (per 1,000 live births)'),\n",
       " (17,\n",
       "  'Old age dependency ratio (old age (65 and older) per 100 people (ages 15-64))'),\n",
       " (18, 'Population ages 15–64 (millions)'),\n",
       " (19, 'Population, ages 65 and older (millions)'),\n",
       " (20, 'Life expectancy at birth, male (years)'),\n",
       " (21, 'Life expectancy at birth, female (years)'),\n",
       " (22, 'Population, under age 5 (millions)'),\n",
       " (23, 'Young age (0-14) dependency ratio (per 100 people ages 15-64)'),\n",
       " (24, 'Adolescent birth rate (births per 1,000 women ages 15-19)'),\n",
       " (25, 'Total unemployment rate (female to male ratio)'),\n",
       " (26, 'Vulnerable employment (% of total employment)'),\n",
       " (27, 'Unemployment, total (% of labour force)'),\n",
       " (28, 'Employment in agriculture (% of total employment)'),\n",
       " (29, 'Labour force participation rate (% ages 15 and older)'),\n",
       " (30, 'Labour force participation rate (% ages 15 and older), female'),\n",
       " (31, 'Employment in services (% of total employment)'),\n",
       " (32, 'Labour force participation rate (% ages 15 and older), male'),\n",
       " (33, 'Employment to population ratio (% ages 15 and older)'),\n",
       " (34, 'Forest area (% of total land area)'),\n",
       " (35,\n",
       "  'Share of employment in nonagriculture, female (% of total employment in nonagriculture)'),\n",
       " (36, 'Youth unemployment rate (female to male ratio)'),\n",
       " (37, 'Unemployment, youth (% ages 15–24)'),\n",
       " (38, 'Mortality rate, female adult (per 1,000 people)'),\n",
       " (39, 'Mortality rate, male adult (per 1,000 people)'),\n",
       " (40, 'Infants lacking immunization, measles (% of one-year-olds)'),\n",
       " (41, 'Infants lacking immunization, DTP (% of one-year-olds)'),\n",
       " (42, 'Gross domestic product (GDP) per capita (2011 PPP $)'),\n",
       " (43, 'Gross domestic product (GDP), total (2011 PPP $ billions)'),\n",
       " (44, 'Foreign direct investment, net inflows (% of GDP)'),\n",
       " (45, 'Exports and imports (% of GDP)'),\n",
       " (46, 'Share of seats in parliament (% held by women)'),\n",
       " (47, 'Natural resource depletion (% of GNI)'),\n",
       " (48, 'Mean years of schooling, female (years)'),\n",
       " (49, 'Mean years of schooling, male (years)'),\n",
       " (50, 'Expected years of schooling, female (years)'),\n",
       " (51, 'Expected years of schooling, male (years)'),\n",
       " (52, 'Maternal mortality ratio (deaths per 100,000 live births)'),\n",
       " (53, 'Renewable energy consumption (% of total final energy consumption)'),\n",
       " (54, 'Estimated gross national income per capita, male (2011 PPP$)'),\n",
       " (55, 'Estimated gross national income per capita, female (2011 PPP$)'),\n",
       " (56, 'Rural population with access to electricity (%)'),\n",
       " (57, 'Domestic credit provided by financial sector (% of GDP)'),\n",
       " (58,\n",
       "  'Population with at least some secondary education, female (% ages 25 and older)'),\n",
       " (59,\n",
       "  'Population with at least some secondary education, male (% ages 25 and older)'),\n",
       " (60, 'Gross fixed capital formation (% of GDP)'),\n",
       " (61, 'Remittances, inflows (% of GDP)'),\n",
       " (62,\n",
       "  'Population with at least some secondary education (% ages 25 and older)'),\n",
       " (63, 'International inbound tourists (thousands)'),\n",
       " (64, 'Gross enrolment ratio, primary (% of primary school-age population)'),\n",
       " (65, 'Tuberculosis incidence (per 100,000 people)'),\n",
       " (66, 'Mobile phone subscriptions (per 100 people)'),\n",
       " (67, 'Internet users, total (% of population)'),\n",
       " (68, 'Current health expenditure (% of GDP)'),\n",
       " (69, 'Human Development Index (HDI), female'),\n",
       " (70, 'Human Development Index (HDI), male'),\n",
       " (71, 'Gender Development Index (GDI)'),\n",
       " (72, 'Adjusted net savings (% of GNI)'),\n",
       " (73, 'HIV prevalence, adult (% ages 15-49), total'),\n",
       " (74, 'Private capital flows (% of GDP)'),\n",
       " (75, 'Gender Inequality Index (GII)'),\n",
       " (76, 'y')]"
      ]
     },
     "execution_count": 81,
     "metadata": {},
     "output_type": "execute_result"
    }
   ],
   "source": [
    "list(enumerate(data.columns))"
   ]
  },
  {
   "cell_type": "code",
   "execution_count": 84,
   "metadata": {},
   "outputs": [],
   "source": [
    "index_columns = ['Life expectancy Index',\n",
    "                 'Income Index',\n",
    "                 'Human Development Index (HDI)',\n",
    "                 'Human Development Index (HDI), female',\n",
    "                 'Human Development Index (HDI), male',\n",
    "                 'Education Index',\n",
    "                 'Gender Development Index (GDI)',\n",
    "                 'Gender Inequality Index (GII)', ]"
   ]
  },
  {
   "cell_type": "code",
   "execution_count": 5,
   "metadata": {},
   "outputs": [],
   "source": [
    "data_no_world = data[data['country'] != 'World']"
   ]
  },
  {
   "cell_type": "code",
   "execution_count": 206,
   "metadata": {},
   "outputs": [],
   "source": [
    "data_mod = data.loc[:, ['year', 'country'] + index_columns + ['y']]"
   ]
  },
  {
   "cell_type": "code",
   "execution_count": 210,
   "metadata": {
    "scrolled": true
   },
   "outputs": [],
   "source": [
    "data_mod = data_mod.set_index(['year', 'country'])"
   ]
  },
  {
   "cell_type": "code",
   "execution_count": 269,
   "metadata": {},
   "outputs": [],
   "source": [
    "data_mod = data_mod.reset_index()"
   ]
  },
  {
   "cell_type": "code",
   "execution_count": 213,
   "metadata": {},
   "outputs": [],
   "source": [
    "idx = pd.IndexSlice"
   ]
  },
  {
   "cell_type": "code",
   "execution_count": 310,
   "metadata": {
    "scrolled": true
   },
   "outputs": [
    {
     "data": {
      "text/plain": [
       "Text(0, 0.5, 'y')"
      ]
     },
     "execution_count": 310,
     "metadata": {},
     "output_type": "execute_result"
    },
    {
     "data": {
      "image/png": "[encoded data removed]",
      "text/plain": [
       "<Figure size 432x288 with 1 Axes>"
      ]
     },
     "metadata": {
      "needs_background": "light"
     },
     "output_type": "display_data"
    }
   ],
   "source": [
    "import math\n",
    "i = 7\n",
    "x = data_mod.set_index(['year', 'country']).loc[idx[:, :], index_columns[i]]\n",
    "y = data_mod.set_index(['year', 'country']).loc[idx[:, :], 'y']\n",
    "\n",
    "plt.scatter(x, y)\n",
    "plt.title(data_mod.columns[i])\n",
    "plt.xlabel(data_mod.columns[i])\n",
    "plt.ylabel('y')"
   ]
  },
  {
   "cell_type": "code",
   "execution_count": 258,
   "metadata": {},
   "outputs": [],
   "source": [
    "summ = data_mod.iloc[:, i].fillna(value=0) * 0\n",
    "for i in range(6):\n",
    "    summ += -1/(data_mod.iloc[:, i].fillna(value=0)-1.1)"
   ]
  },
  {
   "cell_type": "code",
   "execution_count": 259,
   "metadata": {},
   "outputs": [
    {
     "data": {
      "text/plain": [
       "<matplotlib.collections.PathCollection at 0x7fe8aef12e50>"
      ]
     },
     "execution_count": 259,
     "metadata": {},
     "output_type": "execute_result"
    },
    {
     "data": {
      "image/png": "[encoded data removed]",
      "text/plain": [
       "<Figure size 432x288 with 1 Axes>"
      ]
     },
     "metadata": {
      "needs_background": "light"
     },
     "output_type": "display_data"
    }
   ],
   "source": [
    "plt.scatter(summ, data_mod['y'])"
   ]
  },
  {
   "cell_type": "code",
   "execution_count": 201,
   "metadata": {},
   "outputs": [
    {
     "data": {
      "text/plain": [
       "Text(0, 0.5, 'y')"
      ]
     },
     "execution_count": 201,
     "metadata": {},
     "output_type": "execute_result"
    },
    {
     "data": {
      "image/png": "[encoded data removed]",
      "text/plain": [
       "<Figure size 432x288 with 1 Axes>"
      ]
     },
     "metadata": {
      "needs_background": "light"
     },
     "output_type": "display_data"
    }
   ],
   "source": [
    "i = 6\n",
    "plt.scatter(-1/(data_mod.iloc[:, i]-1), data_mod['y'])\n",
    "plt.title(data_mod.columns[i])\n",
    "plt.xlabel(data_mod.columns[i])\n",
    "plt.ylabel('y')"
   ]
  },
  {
   "cell_type": "code",
   "execution_count": 345,
   "metadata": {},
   "outputs": [],
   "source": [
    "data_mod = data_mod.set_index(['year', 'country'])"
   ]
  },
  {
   "cell_type": "code",
   "execution_count": 321,
   "metadata": {},
   "outputs": [],
   "source": [
    "def transf1(x):\n",
    "    return -1/(x-1.1)\n",
    "def transf2(x):\n",
    "    return 1/(x)"
   ]
  },
  {
   "cell_type": "code",
   "execution_count": 343,
   "metadata": {
    "scrolled": true
   },
   "outputs": [
    {
     "data": {
      "text/plain": [
       "Text(0, 0.5, 'y')"
      ]
     },
     "execution_count": 343,
     "metadata": {},
     "output_type": "execute_result"
    },
    {
     "data": {
      "image/png": "[encoded data removed]",
      "text/plain": [
       "<Figure size 432x288 with 1 Axes>"
      ]
     },
     "metadata": {
      "needs_background": "light"
     },
     "output_type": "display_data"
    }
   ],
   "source": [
    "i = 9\n",
    "plt.scatter(list(map(transf2, data_mod.iloc[:, i])), data_mod['y'])\n",
    "plt.title(data_mod.columns[i])\n",
    "plt.xlabel(data_mod.columns[i])\n",
    "plt.ylabel('y')"
   ]
  },
  {
   "cell_type": "code",
   "execution_count": 543,
   "metadata": {},
   "outputs": [],
   "source": [
    "data_ind = data.set_index(['year', 'country'])"
   ]
  },
  {
   "cell_type": "code",
   "execution_count": 349,
   "metadata": {},
   "outputs": [],
   "source": [
    "data_mod_inv = data_mod[index_columns[:7]].apply(transf)"
   ]
  },
  {
   "cell_type": "code",
   "execution_count": 350,
   "metadata": {},
   "outputs": [],
   "source": [
    "data_mod_inv[data_mod[index_columns[-1]].apply(transf2).name] = data_mod[index_columns[-1]].apply(transf2)"
   ]
  },
  {
   "cell_type": "code",
   "execution_count": 352,
   "metadata": {},
   "outputs": [],
   "source": [
    "data_mod_inv['y'] = data.set_index(['year', 'country'])['y']"
   ]
  },
  {
   "cell_type": "code",
   "execution_count": 355,
   "metadata": {},
   "outputs": [],
   "source": [
    "data_mod_inv = data_mod_inv.reset_index()"
   ]
  },
  {
   "cell_type": "code",
   "execution_count": 364,
   "metadata": {},
   "outputs": [],
   "source": [
    "data_mod_inv_no_cat = data_mod_inv.drop(columns=['year', 'country'])"
   ]
  },
  {
   "cell_type": "code",
   "execution_count": 348,
   "metadata": {},
   "outputs": [
    {
     "data": {
      "text/plain": [
       "'Gender Inequality Index (GII)'"
      ]
     },
     "execution_count": 348,
     "metadata": {},
     "output_type": "execute_result"
    }
   ],
   "source": [
    "data_mod[index_columns[-1]].apply(transf2).name"
   ]
  },
  {
   "cell_type": "code",
   "execution_count": 365,
   "metadata": {
    "collapsed": true
   },
   "outputs": [
    {
     "data": {
      "text/html": [
       "<div>\n",
       "<style scoped>\n",
       "    .dataframe tbody tr th:only-of-type {\n",
       "        vertical-align: middle;\n",
       "    }\n",
       "\n",
       "    .dataframe tbody tr th {\n",
       "        vertical-align: top;\n",
       "    }\n",
       "\n",
       "    .dataframe thead th {\n",
       "        text-align: right;\n",
       "    }\n",
       "</style>\n",
       "<table border=\"1\" class=\"dataframe\">\n",
       "  <thead>\n",
       "    <tr style=\"text-align: right;\">\n",
       "      <th></th>\n",
       "      <th>Life expectancy Index</th>\n",
       "      <th>Income Index</th>\n",
       "      <th>Human Development Index (HDI)</th>\n",
       "      <th>Human Development Index (HDI), female</th>\n",
       "      <th>Human Development Index (HDI), male</th>\n",
       "      <th>Education Index</th>\n",
       "      <th>Gender Development Index (GDI)</th>\n",
       "      <th>Gender Inequality Index (GII)</th>\n",
       "      <th>y</th>\n",
       "    </tr>\n",
       "  </thead>\n",
       "  <tbody>\n",
       "    <tr>\n",
       "      <th>0</th>\n",
       "      <td>1.579779</td>\n",
       "      <td>1.577287</td>\n",
       "      <td>1.246883</td>\n",
       "      <td>NaN</td>\n",
       "      <td>NaN</td>\n",
       "      <td>1.022495</td>\n",
       "      <td>NaN</td>\n",
       "      <td>NaN</td>\n",
       "      <td>0.050220</td>\n",
       "    </tr>\n",
       "    <tr>\n",
       "      <th>1</th>\n",
       "      <td>3.300330</td>\n",
       "      <td>1.893939</td>\n",
       "      <td>2.192982</td>\n",
       "      <td>NaN</td>\n",
       "      <td>NaN</td>\n",
       "      <td>1.937984</td>\n",
       "      <td>NaN</td>\n",
       "      <td>NaN</td>\n",
       "      <td>0.082286</td>\n",
       "    </tr>\n",
       "    <tr>\n",
       "      <th>2</th>\n",
       "      <td>2.645503</td>\n",
       "      <td>2.469136</td>\n",
       "      <td>1.915709</td>\n",
       "      <td>NaN</td>\n",
       "      <td>NaN</td>\n",
       "      <td>1.398601</td>\n",
       "      <td>NaN</td>\n",
       "      <td>NaN</td>\n",
       "      <td>0.064073</td>\n",
       "    </tr>\n",
       "    <tr>\n",
       "      <th>3</th>\n",
       "      <td>1.406470</td>\n",
       "      <td>1.858736</td>\n",
       "      <td>NaN</td>\n",
       "      <td>NaN</td>\n",
       "      <td>NaN</td>\n",
       "      <td>NaN</td>\n",
       "      <td>NaN</td>\n",
       "      <td>NaN</td>\n",
       "      <td>0.049559</td>\n",
       "    </tr>\n",
       "    <tr>\n",
       "      <th>4</th>\n",
       "      <td>3.267974</td>\n",
       "      <td>2.557545</td>\n",
       "      <td>2.544529</td>\n",
       "      <td>NaN</td>\n",
       "      <td>NaN</td>\n",
       "      <td>2.118644</td>\n",
       "      <td>NaN</td>\n",
       "      <td>NaN</td>\n",
       "      <td>0.074967</td>\n",
       "    </tr>\n",
       "    <tr>\n",
       "      <th>...</th>\n",
       "      <td>...</td>\n",
       "      <td>...</td>\n",
       "      <td>...</td>\n",
       "      <td>...</td>\n",
       "      <td>...</td>\n",
       "      <td>...</td>\n",
       "      <td>...</td>\n",
       "      <td>...</td>\n",
       "      <td>...</td>\n",
       "    </tr>\n",
       "    <tr>\n",
       "      <th>3860</th>\n",
       "      <td>5.154639</td>\n",
       "      <td>6.666667</td>\n",
       "      <td>5.464481</td>\n",
       "      <td>5.405405</td>\n",
       "      <td>5.586592</td>\n",
       "      <td>4.854369</td>\n",
       "      <td>9.345794</td>\n",
       "      <td>4.566210</td>\n",
       "      <td>0.100069</td>\n",
       "    </tr>\n",
       "    <tr>\n",
       "      <th>3861</th>\n",
       "      <td>3.164557</td>\n",
       "      <td>2.049180</td>\n",
       "      <td>2.475248</td>\n",
       "      <td>2.336449</td>\n",
       "      <td>2.597403</td>\n",
       "      <td>2.525253</td>\n",
       "      <td>6.250000</td>\n",
       "      <td>3.300330</td>\n",
       "      <td>0.037598</td>\n",
       "    </tr>\n",
       "    <tr>\n",
       "      <th>3862</th>\n",
       "      <td>3.436426</td>\n",
       "      <td>2.923977</td>\n",
       "      <td>2.967359</td>\n",
       "      <td>3.021148</td>\n",
       "      <td>2.881844</td>\n",
       "      <td>2.659574</td>\n",
       "      <td>12.658228</td>\n",
       "      <td>2.127660</td>\n",
       "      <td>0.046967</td>\n",
       "    </tr>\n",
       "    <tr>\n",
       "      <th>3863</th>\n",
       "      <td>3.322259</td>\n",
       "      <td>2.890173</td>\n",
       "      <td>2.645503</td>\n",
       "      <td>2.493766</td>\n",
       "      <td>2.801120</td>\n",
       "      <td>2.109705</td>\n",
       "      <td>6.250000</td>\n",
       "      <td>2.227171</td>\n",
       "      <td>0.033304</td>\n",
       "    </tr>\n",
       "    <tr>\n",
       "      <th>3864</th>\n",
       "      <td>2.183406</td>\n",
       "      <td>1.792115</td>\n",
       "      <td>1.886792</td>\n",
       "      <td>1.824818</td>\n",
       "      <td>1.960784</td>\n",
       "      <td>1.760563</td>\n",
       "      <td>6.060606</td>\n",
       "      <td>1.751313</td>\n",
       "      <td>0.019508</td>\n",
       "    </tr>\n",
       "  </tbody>\n",
       "</table>\n",
       "<p>3865 rows × 9 columns</p>\n",
       "</div>"
      ],
      "text/plain": [
       "      Life expectancy Index  Income Index  Human Development Index (HDI)  \\\n",
       "0                  1.579779      1.577287                       1.246883   \n",
       "1                  3.300330      1.893939                       2.192982   \n",
       "2                  2.645503      2.469136                       1.915709   \n",
       "3                  1.406470      1.858736                            NaN   \n",
       "4                  3.267974      2.557545                       2.544529   \n",
       "...                     ...           ...                            ...   \n",
       "3860               5.154639      6.666667                       5.464481   \n",
       "3861               3.164557      2.049180                       2.475248   \n",
       "3862               3.436426      2.923977                       2.967359   \n",
       "3863               3.322259      2.890173                       2.645503   \n",
       "3864               2.183406      1.792115                       1.886792   \n",
       "\n",
       "      Human Development Index (HDI), female  \\\n",
       "0                                       NaN   \n",
       "1                                       NaN   \n",
       "2                                       NaN   \n",
       "3                                       NaN   \n",
       "4                                       NaN   \n",
       "...                                     ...   \n",
       "3860                               5.405405   \n",
       "3861                               2.336449   \n",
       "3862                               3.021148   \n",
       "3863                               2.493766   \n",
       "3864                               1.824818   \n",
       "\n",
       "      Human Development Index (HDI), male  Education Index  \\\n",
       "0                                     NaN         1.022495   \n",
       "1                                     NaN         1.937984   \n",
       "2                                     NaN         1.398601   \n",
       "3                                     NaN              NaN   \n",
       "4                                     NaN         2.118644   \n",
       "...                                   ...              ...   \n",
       "3860                             5.586592         4.854369   \n",
       "3861                             2.597403         2.525253   \n",
       "3862                             2.881844         2.659574   \n",
       "3863                             2.801120         2.109705   \n",
       "3864                             1.960784         1.760563   \n",
       "\n",
       "      Gender Development Index (GDI)  Gender Inequality Index (GII)         y  \n",
       "0                                NaN                            NaN  0.050220  \n",
       "1                                NaN                            NaN  0.082286  \n",
       "2                                NaN                            NaN  0.064073  \n",
       "3                                NaN                            NaN  0.049559  \n",
       "4                                NaN                            NaN  0.074967  \n",
       "...                              ...                            ...       ...  \n",
       "3860                        9.345794                       4.566210  0.100069  \n",
       "3861                        6.250000                       3.300330  0.037598  \n",
       "3862                       12.658228                       2.127660  0.046967  \n",
       "3863                        6.250000                       2.227171  0.033304  \n",
       "3864                        6.060606                       1.751313  0.019508  \n",
       "\n",
       "[3865 rows x 9 columns]"
      ]
     },
     "execution_count": 365,
     "metadata": {},
     "output_type": "execute_result"
    }
   ],
   "source": [
    "data_mod_inv_no_cat"
   ]
  },
  {
   "cell_type": "code",
   "execution_count": 375,
   "metadata": {},
   "outputs": [],
   "source": [
    "data_mod = data_mod.reset_index()"
   ]
  },
  {
   "cell_type": "code",
   "execution_count": 427,
   "metadata": {},
   "outputs": [],
   "source": [
    "data_mod_no_year_country = data_mod.drop(columns=['year', 'country'])"
   ]
  },
  {
   "cell_type": "code",
   "execution_count": 445,
   "metadata": {},
   "outputs": [],
   "source": [
    "data_no_cat = data.drop(columns=['year', 'country'])"
   ]
  },
  {
   "cell_type": "code",
   "execution_count": 454,
   "metadata": {},
   "outputs": [],
   "source": [
    "data_mod_no_country = data_mod.drop(columns=['country'])"
   ]
  },
  {
   "cell_type": "code",
   "execution_count": 586,
   "metadata": {},
   "outputs": [],
   "source": [
    "data_mod_inv = data_mod_inv.drop(columns=['Human Development Index (HDI), female',\n",
    "                                          'Human Development Index (HDI), male'])"
   ]
  },
  {
   "cell_type": "code",
   "execution_count": 622,
   "metadata": {},
   "outputs": [],
   "source": [
    "data_enc = data_mod.drop(columns=['Human Development Index (HDI), female',\n",
    "                                  'Human Development Index (HDI), male'])"
   ]
  },
  {
   "cell_type": "code",
   "execution_count": 618,
   "metadata": {},
   "outputs": [
    {
     "data": {
      "text/plain": [
       "0       0.044122\n",
       "1       0.079259\n",
       "2       0.060402\n",
       "3       0.042614\n",
       "4       0.073062\n",
       "          ...   \n",
       "3860    0.122765\n",
       "3861    0.058928\n",
       "3862    0.062529\n",
       "3863    0.052014\n",
       "3864    0.043608\n",
       "Name: country, Length: 3865, dtype: float64"
      ]
     },
     "execution_count": 618,
     "metadata": {},
     "output_type": "execute_result"
    }
   ],
   "source": [
    "data['country'].map(encode_country)"
   ]
  },
  {
   "cell_type": "code",
   "execution_count": 87,
   "metadata": {},
   "outputs": [],
   "source": [
    "data_enc = data.copy()"
   ]
  },
  {
   "cell_type": "code",
   "execution_count": 147,
   "metadata": {
    "scrolled": true
   },
   "outputs": [
    {
     "data": {
      "text/plain": [
       "country\n",
       "Afghanistan    0.044122\n",
       "Albania        0.079259\n",
       "Algeria        0.060402\n",
       "Angola         0.042614\n",
       "Argentina      0.073062\n",
       "                 ...   \n",
       "Viet Nam       0.066898\n",
       "World          0.052014\n",
       "Yemen          0.044866\n",
       "Zambia         0.043608\n",
       "Zimbabwe       0.045937\n",
       "Name: y, Length: 181, dtype: float64"
      ]
     },
     "execution_count": 147,
     "metadata": {},
     "output_type": "execute_result"
    }
   ],
   "source": [
    "encode_country"
   ]
  },
  {
   "cell_type": "code",
   "execution_count": 88,
   "metadata": {},
   "outputs": [],
   "source": [
    "encode_country = data.groupby('country')['y'].mean()"
   ]
  },
  {
   "cell_type": "code",
   "execution_count": 89,
   "metadata": {},
   "outputs": [],
   "source": [
    "encode_year = data.groupby('year')['y'].mean()"
   ]
  },
  {
   "cell_type": "code",
   "execution_count": 90,
   "metadata": {},
   "outputs": [],
   "source": [
    "data_enc['year'] = data['year'].map(encode_year)"
   ]
  },
  {
   "cell_type": "code",
   "execution_count": 91,
   "metadata": {},
   "outputs": [],
   "source": [
    "data_enc['country'] = data['country'].map(encode_country)"
   ]
  },
  {
   "cell_type": "code",
   "execution_count": 213,
   "metadata": {},
   "outputs": [
    {
     "data": {
      "text/html": [
       "<div>\n",
       "<style scoped>\n",
       "    .dataframe tbody tr th:only-of-type {\n",
       "        vertical-align: middle;\n",
       "    }\n",
       "\n",
       "    .dataframe tbody tr th {\n",
       "        vertical-align: top;\n",
       "    }\n",
       "\n",
       "    .dataframe thead th {\n",
       "        text-align: right;\n",
       "    }\n",
       "</style>\n",
       "<table border=\"1\" class=\"dataframe\">\n",
       "  <thead>\n",
       "    <tr style=\"text-align: right;\">\n",
       "      <th></th>\n",
       "      <th>year</th>\n",
       "      <th>country</th>\n",
       "      <th>Life expectancy Index</th>\n",
       "      <th>Life expectancy at birth</th>\n",
       "      <th>Gross national income (GNI) per capita (2011 PPP$)</th>\n",
       "      <th>Income Index</th>\n",
       "      <th>Expected years of schooling (years)</th>\n",
       "      <th>Mean years of schooling (years)</th>\n",
       "      <th>Human Development Index (HDI)</th>\n",
       "      <th>Education Index</th>\n",
       "      <th>...</th>\n",
       "      <th>Internet users, total (% of population)</th>\n",
       "      <th>Current health expenditure (% of GDP)</th>\n",
       "      <th>Human Development Index (HDI), female</th>\n",
       "      <th>Human Development Index (HDI), male</th>\n",
       "      <th>Gender Development Index (GDI)</th>\n",
       "      <th>Adjusted net savings (% of GNI)</th>\n",
       "      <th>HIV prevalence, adult (% ages 15-49), total</th>\n",
       "      <th>Private capital flows (% of GDP)</th>\n",
       "      <th>Gender Inequality Index (GII)</th>\n",
       "      <th>y</th>\n",
       "    </tr>\n",
       "  </thead>\n",
       "  <tbody>\n",
       "    <tr>\n",
       "      <th>0</th>\n",
       "      <td>0.081928</td>\n",
       "      <td>0.044122</td>\n",
       "      <td>0.467</td>\n",
       "      <td>50.3</td>\n",
       "      <td>2193.0</td>\n",
       "      <td>0.466</td>\n",
       "      <td>2.6</td>\n",
       "      <td>1.5</td>\n",
       "      <td>0.298</td>\n",
       "      <td>0.122</td>\n",
       "      <td>...</td>\n",
       "      <td>NaN</td>\n",
       "      <td>NaN</td>\n",
       "      <td>NaN</td>\n",
       "      <td>NaN</td>\n",
       "      <td>NaN</td>\n",
       "      <td>NaN</td>\n",
       "      <td>NaN</td>\n",
       "      <td>NaN</td>\n",
       "      <td>NaN</td>\n",
       "      <td>0.050220</td>\n",
       "    </tr>\n",
       "    <tr>\n",
       "      <th>1</th>\n",
       "      <td>0.081928</td>\n",
       "      <td>0.079259</td>\n",
       "      <td>0.797</td>\n",
       "      <td>71.8</td>\n",
       "      <td>4415.0</td>\n",
       "      <td>0.572</td>\n",
       "      <td>11.6</td>\n",
       "      <td>7.8</td>\n",
       "      <td>0.644</td>\n",
       "      <td>0.584</td>\n",
       "      <td>...</td>\n",
       "      <td>NaN</td>\n",
       "      <td>NaN</td>\n",
       "      <td>NaN</td>\n",
       "      <td>NaN</td>\n",
       "      <td>NaN</td>\n",
       "      <td>2.3</td>\n",
       "      <td>0.1</td>\n",
       "      <td>NaN</td>\n",
       "      <td>NaN</td>\n",
       "      <td>0.082286</td>\n",
       "    </tr>\n",
       "    <tr>\n",
       "      <th>2</th>\n",
       "      <td>0.081928</td>\n",
       "      <td>0.060402</td>\n",
       "      <td>0.722</td>\n",
       "      <td>66.9</td>\n",
       "      <td>9989.0</td>\n",
       "      <td>0.695</td>\n",
       "      <td>9.6</td>\n",
       "      <td>3.6</td>\n",
       "      <td>0.578</td>\n",
       "      <td>0.385</td>\n",
       "      <td>...</td>\n",
       "      <td>NaN</td>\n",
       "      <td>NaN</td>\n",
       "      <td>NaN</td>\n",
       "      <td>NaN</td>\n",
       "      <td>NaN</td>\n",
       "      <td>9.0</td>\n",
       "      <td>0.1</td>\n",
       "      <td>NaN</td>\n",
       "      <td>NaN</td>\n",
       "      <td>0.064073</td>\n",
       "    </tr>\n",
       "    <tr>\n",
       "      <th>3</th>\n",
       "      <td>0.081928</td>\n",
       "      <td>0.042614</td>\n",
       "      <td>0.389</td>\n",
       "      <td>45.3</td>\n",
       "      <td>4139.0</td>\n",
       "      <td>0.562</td>\n",
       "      <td>3.4</td>\n",
       "      <td>NaN</td>\n",
       "      <td>NaN</td>\n",
       "      <td>NaN</td>\n",
       "      <td>...</td>\n",
       "      <td>NaN</td>\n",
       "      <td>NaN</td>\n",
       "      <td>NaN</td>\n",
       "      <td>NaN</td>\n",
       "      <td>NaN</td>\n",
       "      <td>NaN</td>\n",
       "      <td>0.2</td>\n",
       "      <td>NaN</td>\n",
       "      <td>NaN</td>\n",
       "      <td>0.049559</td>\n",
       "    </tr>\n",
       "    <tr>\n",
       "      <th>4</th>\n",
       "      <td>0.081928</td>\n",
       "      <td>0.073062</td>\n",
       "      <td>0.794</td>\n",
       "      <td>71.6</td>\n",
       "      <td>10932.0</td>\n",
       "      <td>0.709</td>\n",
       "      <td>13.2</td>\n",
       "      <td>7.9</td>\n",
       "      <td>0.707</td>\n",
       "      <td>0.628</td>\n",
       "      <td>...</td>\n",
       "      <td>NaN</td>\n",
       "      <td>NaN</td>\n",
       "      <td>NaN</td>\n",
       "      <td>NaN</td>\n",
       "      <td>NaN</td>\n",
       "      <td>6.6</td>\n",
       "      <td>0.1</td>\n",
       "      <td>-0.4</td>\n",
       "      <td>NaN</td>\n",
       "      <td>0.074967</td>\n",
       "    </tr>\n",
       "    <tr>\n",
       "      <th>...</th>\n",
       "      <td>...</td>\n",
       "      <td>...</td>\n",
       "      <td>...</td>\n",
       "      <td>...</td>\n",
       "      <td>...</td>\n",
       "      <td>...</td>\n",
       "      <td>...</td>\n",
       "      <td>...</td>\n",
       "      <td>...</td>\n",
       "      <td>...</td>\n",
       "      <td>...</td>\n",
       "      <td>...</td>\n",
       "      <td>...</td>\n",
       "      <td>...</td>\n",
       "      <td>...</td>\n",
       "      <td>...</td>\n",
       "      <td>...</td>\n",
       "      <td>...</td>\n",
       "      <td>...</td>\n",
       "      <td>...</td>\n",
       "      <td>...</td>\n",
       "    </tr>\n",
       "    <tr>\n",
       "      <th>3860</th>\n",
       "      <td>0.080857</td>\n",
       "      <td>0.122765</td>\n",
       "      <td>0.906</td>\n",
       "      <td>78.9</td>\n",
       "      <td>54039.0</td>\n",
       "      <td>0.950</td>\n",
       "      <td>16.2</td>\n",
       "      <td>13.3</td>\n",
       "      <td>0.917</td>\n",
       "      <td>0.894</td>\n",
       "      <td>...</td>\n",
       "      <td>74.6</td>\n",
       "      <td>16.8</td>\n",
       "      <td>0.915</td>\n",
       "      <td>0.921</td>\n",
       "      <td>0.993</td>\n",
       "      <td>7.5</td>\n",
       "      <td>NaN</td>\n",
       "      <td>-1.4</td>\n",
       "      <td>0.219</td>\n",
       "      <td>0.100069</td>\n",
       "    </tr>\n",
       "    <tr>\n",
       "      <th>3861</th>\n",
       "      <td>0.080857</td>\n",
       "      <td>0.058928</td>\n",
       "      <td>0.784</td>\n",
       "      <td>70.9</td>\n",
       "      <td>5759.0</td>\n",
       "      <td>0.612</td>\n",
       "      <td>11.7</td>\n",
       "      <td>11.4</td>\n",
       "      <td>0.696</td>\n",
       "      <td>0.704</td>\n",
       "      <td>...</td>\n",
       "      <td>42.8</td>\n",
       "      <td>6.1</td>\n",
       "      <td>0.672</td>\n",
       "      <td>0.715</td>\n",
       "      <td>0.940</td>\n",
       "      <td>NaN</td>\n",
       "      <td>0.2</td>\n",
       "      <td>NaN</td>\n",
       "      <td>0.303</td>\n",
       "      <td>0.037598</td>\n",
       "    </tr>\n",
       "    <tr>\n",
       "      <th>3862</th>\n",
       "      <td>0.080857</td>\n",
       "      <td>0.062529</td>\n",
       "      <td>0.809</td>\n",
       "      <td>72.6</td>\n",
       "      <td>15101.0</td>\n",
       "      <td>0.758</td>\n",
       "      <td>14.0</td>\n",
       "      <td>10.1</td>\n",
       "      <td>0.763</td>\n",
       "      <td>0.724</td>\n",
       "      <td>...</td>\n",
       "      <td>64.0</td>\n",
       "      <td>5.1</td>\n",
       "      <td>0.769</td>\n",
       "      <td>0.753</td>\n",
       "      <td>1.021</td>\n",
       "      <td>NaN</td>\n",
       "      <td>NaN</td>\n",
       "      <td>NaN</td>\n",
       "      <td>0.470</td>\n",
       "      <td>0.046967</td>\n",
       "    </tr>\n",
       "    <tr>\n",
       "      <th>3863</th>\n",
       "      <td>0.080857</td>\n",
       "      <td>0.052014</td>\n",
       "      <td>0.799</td>\n",
       "      <td>72.0</td>\n",
       "      <td>14709.0</td>\n",
       "      <td>0.754</td>\n",
       "      <td>12.5</td>\n",
       "      <td>8.3</td>\n",
       "      <td>0.722</td>\n",
       "      <td>0.626</td>\n",
       "      <td>...</td>\n",
       "      <td>NaN</td>\n",
       "      <td>9.9</td>\n",
       "      <td>0.699</td>\n",
       "      <td>0.743</td>\n",
       "      <td>0.940</td>\n",
       "      <td>11.1</td>\n",
       "      <td>1.0</td>\n",
       "      <td>-0.2</td>\n",
       "      <td>0.449</td>\n",
       "      <td>0.033304</td>\n",
       "    </tr>\n",
       "    <tr>\n",
       "      <th>3864</th>\n",
       "      <td>0.080857</td>\n",
       "      <td>0.043608</td>\n",
       "      <td>0.642</td>\n",
       "      <td>61.7</td>\n",
       "      <td>3617.0</td>\n",
       "      <td>0.542</td>\n",
       "      <td>10.9</td>\n",
       "      <td>6.8</td>\n",
       "      <td>0.570</td>\n",
       "      <td>0.532</td>\n",
       "      <td>...</td>\n",
       "      <td>NaN</td>\n",
       "      <td>4.4</td>\n",
       "      <td>0.552</td>\n",
       "      <td>0.590</td>\n",
       "      <td>0.935</td>\n",
       "      <td>11.5</td>\n",
       "      <td>12.0</td>\n",
       "      <td>-13.9</td>\n",
       "      <td>0.571</td>\n",
       "      <td>0.019508</td>\n",
       "    </tr>\n",
       "  </tbody>\n",
       "</table>\n",
       "<p>3865 rows × 77 columns</p>\n",
       "</div>"
      ],
      "text/plain": [
       "          year   country  Life expectancy Index  Life expectancy at birth  \\\n",
       "0     0.081928  0.044122                  0.467                      50.3   \n",
       "1     0.081928  0.079259                  0.797                      71.8   \n",
       "2     0.081928  0.060402                  0.722                      66.9   \n",
       "3     0.081928  0.042614                  0.389                      45.3   \n",
       "4     0.081928  0.073062                  0.794                      71.6   \n",
       "...        ...       ...                    ...                       ...   \n",
       "3860  0.080857  0.122765                  0.906                      78.9   \n",
       "3861  0.080857  0.058928                  0.784                      70.9   \n",
       "3862  0.080857  0.062529                  0.809                      72.6   \n",
       "3863  0.080857  0.052014                  0.799                      72.0   \n",
       "3864  0.080857  0.043608                  0.642                      61.7   \n",
       "\n",
       "      Gross national income (GNI) per capita (2011 PPP$)  Income Index  \\\n",
       "0                                                2193.0          0.466   \n",
       "1                                                4415.0          0.572   \n",
       "2                                                9989.0          0.695   \n",
       "3                                                4139.0          0.562   \n",
       "4                                               10932.0          0.709   \n",
       "...                                                 ...            ...   \n",
       "3860                                            54039.0          0.950   \n",
       "3861                                             5759.0          0.612   \n",
       "3862                                            15101.0          0.758   \n",
       "3863                                            14709.0          0.754   \n",
       "3864                                             3617.0          0.542   \n",
       "\n",
       "      Expected years of schooling (years)  Mean years of schooling (years)  \\\n",
       "0                                     2.6                              1.5   \n",
       "1                                    11.6                              7.8   \n",
       "2                                     9.6                              3.6   \n",
       "3                                     3.4                              NaN   \n",
       "4                                    13.2                              7.9   \n",
       "...                                   ...                              ...   \n",
       "3860                                 16.2                             13.3   \n",
       "3861                                 11.7                             11.4   \n",
       "3862                                 14.0                             10.1   \n",
       "3863                                 12.5                              8.3   \n",
       "3864                                 10.9                              6.8   \n",
       "\n",
       "      Human Development Index (HDI)  Education Index  ...  \\\n",
       "0                             0.298            0.122  ...   \n",
       "1                             0.644            0.584  ...   \n",
       "2                             0.578            0.385  ...   \n",
       "3                               NaN              NaN  ...   \n",
       "4                             0.707            0.628  ...   \n",
       "...                             ...              ...  ...   \n",
       "3860                          0.917            0.894  ...   \n",
       "3861                          0.696            0.704  ...   \n",
       "3862                          0.763            0.724  ...   \n",
       "3863                          0.722            0.626  ...   \n",
       "3864                          0.570            0.532  ...   \n",
       "\n",
       "      Internet users, total (% of population)  \\\n",
       "0                                         NaN   \n",
       "1                                         NaN   \n",
       "2                                         NaN   \n",
       "3                                         NaN   \n",
       "4                                         NaN   \n",
       "...                                       ...   \n",
       "3860                                     74.6   \n",
       "3861                                     42.8   \n",
       "3862                                     64.0   \n",
       "3863                                      NaN   \n",
       "3864                                      NaN   \n",
       "\n",
       "      Current health expenditure (% of GDP)  \\\n",
       "0                                       NaN   \n",
       "1                                       NaN   \n",
       "2                                       NaN   \n",
       "3                                       NaN   \n",
       "4                                       NaN   \n",
       "...                                     ...   \n",
       "3860                                   16.8   \n",
       "3861                                    6.1   \n",
       "3862                                    5.1   \n",
       "3863                                    9.9   \n",
       "3864                                    4.4   \n",
       "\n",
       "      Human Development Index (HDI), female  \\\n",
       "0                                       NaN   \n",
       "1                                       NaN   \n",
       "2                                       NaN   \n",
       "3                                       NaN   \n",
       "4                                       NaN   \n",
       "...                                     ...   \n",
       "3860                                  0.915   \n",
       "3861                                  0.672   \n",
       "3862                                  0.769   \n",
       "3863                                  0.699   \n",
       "3864                                  0.552   \n",
       "\n",
       "      Human Development Index (HDI), male  Gender Development Index (GDI)  \\\n",
       "0                                     NaN                             NaN   \n",
       "1                                     NaN                             NaN   \n",
       "2                                     NaN                             NaN   \n",
       "3                                     NaN                             NaN   \n",
       "4                                     NaN                             NaN   \n",
       "...                                   ...                             ...   \n",
       "3860                                0.921                           0.993   \n",
       "3861                                0.715                           0.940   \n",
       "3862                                0.753                           1.021   \n",
       "3863                                0.743                           0.940   \n",
       "3864                                0.590                           0.935   \n",
       "\n",
       "      Adjusted net savings (% of GNI)  \\\n",
       "0                                 NaN   \n",
       "1                                 2.3   \n",
       "2                                 9.0   \n",
       "3                                 NaN   \n",
       "4                                 6.6   \n",
       "...                               ...   \n",
       "3860                              7.5   \n",
       "3861                              NaN   \n",
       "3862                              NaN   \n",
       "3863                             11.1   \n",
       "3864                             11.5   \n",
       "\n",
       "      HIV prevalence, adult (% ages 15-49), total  \\\n",
       "0                                             NaN   \n",
       "1                                             0.1   \n",
       "2                                             0.1   \n",
       "3                                             0.2   \n",
       "4                                             0.1   \n",
       "...                                           ...   \n",
       "3860                                          NaN   \n",
       "3861                                          0.2   \n",
       "3862                                          NaN   \n",
       "3863                                          1.0   \n",
       "3864                                         12.0   \n",
       "\n",
       "      Private capital flows (% of GDP)  Gender Inequality Index (GII)  \\\n",
       "0                                  NaN                            NaN   \n",
       "1                                  NaN                            NaN   \n",
       "2                                  NaN                            NaN   \n",
       "3                                  NaN                            NaN   \n",
       "4                                 -0.4                            NaN   \n",
       "...                                ...                            ...   \n",
       "3860                              -1.4                          0.219   \n",
       "3861                               NaN                          0.303   \n",
       "3862                               NaN                          0.470   \n",
       "3863                              -0.2                          0.449   \n",
       "3864                             -13.9                          0.571   \n",
       "\n",
       "             y  \n",
       "0     0.050220  \n",
       "1     0.082286  \n",
       "2     0.064073  \n",
       "3     0.049559  \n",
       "4     0.074967  \n",
       "...        ...  \n",
       "3860  0.100069  \n",
       "3861  0.037598  \n",
       "3862  0.046967  \n",
       "3863  0.033304  \n",
       "3864  0.019508  \n",
       "\n",
       "[3865 rows x 77 columns]"
      ]
     },
     "execution_count": 213,
     "metadata": {},
     "output_type": "execute_result"
    }
   ],
   "source": [
    "data_enc"
   ]
  },
  {
   "cell_type": "code",
   "execution_count": 218,
   "metadata": {},
   "outputs": [
    {
     "data": {
      "text/plain": [
       "array(['Afghanistan', 'Albania', 'Algeria', ...,\n",
       "       'Venezuela (Bolivarian Republic of)', 'World', 'Zambia'],\n",
       "      dtype=object)"
      ]
     },
     "execution_count": 218,
     "metadata": {},
     "output_type": "execute_result"
    }
   ],
   "source": [
    "data.values[:, 1]"
   ]
  },
  {
   "cell_type": "code",
   "execution_count": null,
   "metadata": {},
   "outputs": [],
   "source": []
  },
  {
   "cell_type": "code",
   "execution_count": 216,
   "metadata": {
    "scrolled": true
   },
   "outputs": [
    {
     "ename": "AttributeError",
     "evalue": "'numpy.ndarray' object has no attribute 'map'",
     "output_type": "error",
     "traceback": [
      "\u001b[0;31m---------------------------------------------------------------------------\u001b[0m",
      "\u001b[0;31mAttributeError\u001b[0m                            Traceback (most recent call last)",
      "\u001b[0;32m<ipython-input-216-d37a40d72572>\u001b[0m in \u001b[0;36m<module>\u001b[0;34m\u001b[0m\n\u001b[1;32m     51\u001b[0m \u001b[0my\u001b[0m \u001b[0;34m=\u001b[0m \u001b[0mdata\u001b[0m\u001b[0;34m.\u001b[0m\u001b[0miloc\u001b[0m\u001b[0;34m[\u001b[0m\u001b[0;34m:\u001b[0m\u001b[0;34m,\u001b[0m \u001b[0;34m-\u001b[0m\u001b[0;36m1\u001b[0m\u001b[0;34m]\u001b[0m\u001b[0;34m.\u001b[0m\u001b[0mvalues\u001b[0m\u001b[0;34m\u001b[0m\u001b[0;34m\u001b[0m\u001b[0m\n\u001b[1;32m     52\u001b[0m \u001b[0;34m\u001b[0m\u001b[0m\n\u001b[0;32m---> 53\u001b[0;31m \u001b[0mX\u001b[0m \u001b[0;34m=\u001b[0m \u001b[0mpipe\u001b[0m\u001b[0;34m.\u001b[0m\u001b[0mfit_transform\u001b[0m\u001b[0;34m(\u001b[0m\u001b[0mX\u001b[0m\u001b[0;34m)\u001b[0m\u001b[0;34m\u001b[0m\u001b[0;34m\u001b[0m\u001b[0m\n\u001b[0m\u001b[1;32m     54\u001b[0m \u001b[0;34m\u001b[0m\u001b[0m\n\u001b[1;32m     55\u001b[0m \u001b[0;31m# split\u001b[0m\u001b[0;34m\u001b[0m\u001b[0;34m\u001b[0m\u001b[0;34m\u001b[0m\u001b[0m\n",
      "\u001b[0;32m~/anaconda3/lib/python3.7/site-packages/sklearn/pipeline.py\u001b[0m in \u001b[0;36mfit_transform\u001b[0;34m(self, X, y, **fit_params)\u001b[0m\n\u001b[1;32m    389\u001b[0m                 \u001b[0;32mreturn\u001b[0m \u001b[0mXt\u001b[0m\u001b[0;34m\u001b[0m\u001b[0;34m\u001b[0m\u001b[0m\n\u001b[1;32m    390\u001b[0m             \u001b[0;32mif\u001b[0m \u001b[0mhasattr\u001b[0m\u001b[0;34m(\u001b[0m\u001b[0mlast_step\u001b[0m\u001b[0;34m,\u001b[0m \u001b[0;34m'fit_transform'\u001b[0m\u001b[0;34m)\u001b[0m\u001b[0;34m:\u001b[0m\u001b[0;34m\u001b[0m\u001b[0;34m\u001b[0m\u001b[0m\n\u001b[0;32m--> 391\u001b[0;31m                 \u001b[0;32mreturn\u001b[0m \u001b[0mlast_step\u001b[0m\u001b[0;34m.\u001b[0m\u001b[0mfit_transform\u001b[0m\u001b[0;34m(\u001b[0m\u001b[0mXt\u001b[0m\u001b[0;34m,\u001b[0m \u001b[0my\u001b[0m\u001b[0;34m,\u001b[0m \u001b[0;34m**\u001b[0m\u001b[0mfit_params\u001b[0m\u001b[0;34m)\u001b[0m\u001b[0;34m\u001b[0m\u001b[0;34m\u001b[0m\u001b[0m\n\u001b[0m\u001b[1;32m    392\u001b[0m             \u001b[0;32melse\u001b[0m\u001b[0;34m:\u001b[0m\u001b[0;34m\u001b[0m\u001b[0;34m\u001b[0m\u001b[0m\n\u001b[1;32m    393\u001b[0m                 \u001b[0;32mreturn\u001b[0m \u001b[0mlast_step\u001b[0m\u001b[0;34m.\u001b[0m\u001b[0mfit\u001b[0m\u001b[0;34m(\u001b[0m\u001b[0mXt\u001b[0m\u001b[0;34m,\u001b[0m \u001b[0my\u001b[0m\u001b[0;34m,\u001b[0m \u001b[0;34m**\u001b[0m\u001b[0mfit_params\u001b[0m\u001b[0;34m)\u001b[0m\u001b[0;34m.\u001b[0m\u001b[0mtransform\u001b[0m\u001b[0;34m(\u001b[0m\u001b[0mXt\u001b[0m\u001b[0;34m)\u001b[0m\u001b[0;34m\u001b[0m\u001b[0;34m\u001b[0m\u001b[0m\n",
      "\u001b[0;32m~/anaconda3/lib/python3.7/site-packages/sklearn/pipeline.py\u001b[0m in \u001b[0;36mfit_transform\u001b[0;34m(self, X, y, **fit_params)\u001b[0m\n\u001b[1;32m    934\u001b[0m             \u001b[0msum\u001b[0m \u001b[0mof\u001b[0m \u001b[0mn_components\u001b[0m \u001b[0;34m(\u001b[0m\u001b[0moutput\u001b[0m \u001b[0mdimension\u001b[0m\u001b[0;34m)\u001b[0m \u001b[0mover\u001b[0m \u001b[0mtransformers\u001b[0m\u001b[0;34m.\u001b[0m\u001b[0;34m\u001b[0m\u001b[0;34m\u001b[0m\u001b[0m\n\u001b[1;32m    935\u001b[0m         \"\"\"\n\u001b[0;32m--> 936\u001b[0;31m         \u001b[0mresults\u001b[0m \u001b[0;34m=\u001b[0m \u001b[0mself\u001b[0m\u001b[0;34m.\u001b[0m\u001b[0m_parallel_func\u001b[0m\u001b[0;34m(\u001b[0m\u001b[0mX\u001b[0m\u001b[0;34m,\u001b[0m \u001b[0my\u001b[0m\u001b[0;34m,\u001b[0m \u001b[0mfit_params\u001b[0m\u001b[0;34m,\u001b[0m \u001b[0m_fit_transform_one\u001b[0m\u001b[0;34m)\u001b[0m\u001b[0;34m\u001b[0m\u001b[0;34m\u001b[0m\u001b[0m\n\u001b[0m\u001b[1;32m    937\u001b[0m         \u001b[0;32mif\u001b[0m \u001b[0;32mnot\u001b[0m \u001b[0mresults\u001b[0m\u001b[0;34m:\u001b[0m\u001b[0;34m\u001b[0m\u001b[0;34m\u001b[0m\u001b[0m\n\u001b[1;32m    938\u001b[0m             \u001b[0;31m# All transformers are None\u001b[0m\u001b[0;34m\u001b[0m\u001b[0;34m\u001b[0m\u001b[0;34m\u001b[0m\u001b[0m\n",
      "\u001b[0;32m~/anaconda3/lib/python3.7/site-packages/sklearn/pipeline.py\u001b[0m in \u001b[0;36m_parallel_func\u001b[0;34m(self, X, y, fit_params, func)\u001b[0m\n\u001b[1;32m    964\u001b[0m             \u001b[0mmessage\u001b[0m\u001b[0;34m=\u001b[0m\u001b[0mself\u001b[0m\u001b[0;34m.\u001b[0m\u001b[0m_log_message\u001b[0m\u001b[0;34m(\u001b[0m\u001b[0mname\u001b[0m\u001b[0;34m,\u001b[0m \u001b[0midx\u001b[0m\u001b[0;34m,\u001b[0m \u001b[0mlen\u001b[0m\u001b[0;34m(\u001b[0m\u001b[0mtransformers\u001b[0m\u001b[0;34m)\u001b[0m\u001b[0;34m)\u001b[0m\u001b[0;34m,\u001b[0m\u001b[0;34m\u001b[0m\u001b[0;34m\u001b[0m\u001b[0m\n\u001b[1;32m    965\u001b[0m             \u001b[0;34m**\u001b[0m\u001b[0mfit_params\u001b[0m\u001b[0;34m)\u001b[0m \u001b[0;32mfor\u001b[0m \u001b[0midx\u001b[0m\u001b[0;34m,\u001b[0m \u001b[0;34m(\u001b[0m\u001b[0mname\u001b[0m\u001b[0;34m,\u001b[0m \u001b[0mtransformer\u001b[0m\u001b[0;34m,\u001b[0m\u001b[0;34m\u001b[0m\u001b[0;34m\u001b[0m\u001b[0m\n\u001b[0;32m--> 966\u001b[0;31m                                     weight) in enumerate(transformers, 1))\n\u001b[0m\u001b[1;32m    967\u001b[0m \u001b[0;34m\u001b[0m\u001b[0m\n\u001b[1;32m    968\u001b[0m     \u001b[0;32mdef\u001b[0m \u001b[0mtransform\u001b[0m\u001b[0;34m(\u001b[0m\u001b[0mself\u001b[0m\u001b[0;34m,\u001b[0m \u001b[0mX\u001b[0m\u001b[0;34m)\u001b[0m\u001b[0;34m:\u001b[0m\u001b[0;34m\u001b[0m\u001b[0;34m\u001b[0m\u001b[0m\n",
      "\u001b[0;32m~/anaconda3/lib/python3.7/site-packages/joblib/parallel.py\u001b[0m in \u001b[0;36m__call__\u001b[0;34m(self, iterable)\u001b[0m\n\u001b[1;32m   1005\u001b[0m                 \u001b[0mself\u001b[0m\u001b[0;34m.\u001b[0m\u001b[0m_iterating\u001b[0m \u001b[0;34m=\u001b[0m \u001b[0mself\u001b[0m\u001b[0;34m.\u001b[0m\u001b[0m_original_iterator\u001b[0m \u001b[0;32mis\u001b[0m \u001b[0;32mnot\u001b[0m \u001b[0;32mNone\u001b[0m\u001b[0;34m\u001b[0m\u001b[0;34m\u001b[0m\u001b[0m\n\u001b[1;32m   1006\u001b[0m \u001b[0;34m\u001b[0m\u001b[0m\n\u001b[0;32m-> 1007\u001b[0;31m             \u001b[0;32mwhile\u001b[0m \u001b[0mself\u001b[0m\u001b[0;34m.\u001b[0m\u001b[0mdispatch_one_batch\u001b[0m\u001b[0;34m(\u001b[0m\u001b[0miterator\u001b[0m\u001b[0;34m)\u001b[0m\u001b[0;34m:\u001b[0m\u001b[0;34m\u001b[0m\u001b[0;34m\u001b[0m\u001b[0m\n\u001b[0m\u001b[1;32m   1008\u001b[0m                 \u001b[0;32mpass\u001b[0m\u001b[0;34m\u001b[0m\u001b[0;34m\u001b[0m\u001b[0m\n\u001b[1;32m   1009\u001b[0m \u001b[0;34m\u001b[0m\u001b[0m\n",
      "\u001b[0;32m~/anaconda3/lib/python3.7/site-packages/joblib/parallel.py\u001b[0m in \u001b[0;36mdispatch_one_batch\u001b[0;34m(self, iterator)\u001b[0m\n\u001b[1;32m    833\u001b[0m                 \u001b[0;32mreturn\u001b[0m \u001b[0;32mFalse\u001b[0m\u001b[0;34m\u001b[0m\u001b[0;34m\u001b[0m\u001b[0m\n\u001b[1;32m    834\u001b[0m             \u001b[0;32melse\u001b[0m\u001b[0;34m:\u001b[0m\u001b[0;34m\u001b[0m\u001b[0;34m\u001b[0m\u001b[0m\n\u001b[0;32m--> 835\u001b[0;31m                 \u001b[0mself\u001b[0m\u001b[0;34m.\u001b[0m\u001b[0m_dispatch\u001b[0m\u001b[0;34m(\u001b[0m\u001b[0mtasks\u001b[0m\u001b[0;34m)\u001b[0m\u001b[0;34m\u001b[0m\u001b[0;34m\u001b[0m\u001b[0m\n\u001b[0m\u001b[1;32m    836\u001b[0m                 \u001b[0;32mreturn\u001b[0m \u001b[0;32mTrue\u001b[0m\u001b[0;34m\u001b[0m\u001b[0;34m\u001b[0m\u001b[0m\n\u001b[1;32m    837\u001b[0m \u001b[0;34m\u001b[0m\u001b[0m\n",
      "\u001b[0;32m~/anaconda3/lib/python3.7/site-packages/joblib/parallel.py\u001b[0m in \u001b[0;36m_dispatch\u001b[0;34m(self, batch)\u001b[0m\n\u001b[1;32m    752\u001b[0m         \u001b[0;32mwith\u001b[0m \u001b[0mself\u001b[0m\u001b[0;34m.\u001b[0m\u001b[0m_lock\u001b[0m\u001b[0;34m:\u001b[0m\u001b[0;34m\u001b[0m\u001b[0;34m\u001b[0m\u001b[0m\n\u001b[1;32m    753\u001b[0m             \u001b[0mjob_idx\u001b[0m \u001b[0;34m=\u001b[0m \u001b[0mlen\u001b[0m\u001b[0;34m(\u001b[0m\u001b[0mself\u001b[0m\u001b[0;34m.\u001b[0m\u001b[0m_jobs\u001b[0m\u001b[0;34m)\u001b[0m\u001b[0;34m\u001b[0m\u001b[0;34m\u001b[0m\u001b[0m\n\u001b[0;32m--> 754\u001b[0;31m             \u001b[0mjob\u001b[0m \u001b[0;34m=\u001b[0m \u001b[0mself\u001b[0m\u001b[0;34m.\u001b[0m\u001b[0m_backend\u001b[0m\u001b[0;34m.\u001b[0m\u001b[0mapply_async\u001b[0m\u001b[0;34m(\u001b[0m\u001b[0mbatch\u001b[0m\u001b[0;34m,\u001b[0m \u001b[0mcallback\u001b[0m\u001b[0;34m=\u001b[0m\u001b[0mcb\u001b[0m\u001b[0;34m)\u001b[0m\u001b[0;34m\u001b[0m\u001b[0;34m\u001b[0m\u001b[0m\n\u001b[0m\u001b[1;32m    755\u001b[0m             \u001b[0;31m# A job can complete so quickly than its callback is\u001b[0m\u001b[0;34m\u001b[0m\u001b[0;34m\u001b[0m\u001b[0;34m\u001b[0m\u001b[0m\n\u001b[1;32m    756\u001b[0m             \u001b[0;31m# called before we get here, causing self._jobs to\u001b[0m\u001b[0;34m\u001b[0m\u001b[0;34m\u001b[0m\u001b[0;34m\u001b[0m\u001b[0m\n",
      "\u001b[0;32m~/anaconda3/lib/python3.7/site-packages/joblib/_parallel_backends.py\u001b[0m in \u001b[0;36mapply_async\u001b[0;34m(self, func, callback)\u001b[0m\n\u001b[1;32m    207\u001b[0m     \u001b[0;32mdef\u001b[0m \u001b[0mapply_async\u001b[0m\u001b[0;34m(\u001b[0m\u001b[0mself\u001b[0m\u001b[0;34m,\u001b[0m \u001b[0mfunc\u001b[0m\u001b[0;34m,\u001b[0m \u001b[0mcallback\u001b[0m\u001b[0;34m=\u001b[0m\u001b[0;32mNone\u001b[0m\u001b[0;34m)\u001b[0m\u001b[0;34m:\u001b[0m\u001b[0;34m\u001b[0m\u001b[0;34m\u001b[0m\u001b[0m\n\u001b[1;32m    208\u001b[0m         \u001b[0;34m\"\"\"Schedule a func to be run\"\"\"\u001b[0m\u001b[0;34m\u001b[0m\u001b[0;34m\u001b[0m\u001b[0m\n\u001b[0;32m--> 209\u001b[0;31m         \u001b[0mresult\u001b[0m \u001b[0;34m=\u001b[0m \u001b[0mImmediateResult\u001b[0m\u001b[0;34m(\u001b[0m\u001b[0mfunc\u001b[0m\u001b[0;34m)\u001b[0m\u001b[0;34m\u001b[0m\u001b[0;34m\u001b[0m\u001b[0m\n\u001b[0m\u001b[1;32m    210\u001b[0m         \u001b[0;32mif\u001b[0m \u001b[0mcallback\u001b[0m\u001b[0;34m:\u001b[0m\u001b[0;34m\u001b[0m\u001b[0;34m\u001b[0m\u001b[0m\n\u001b[1;32m    211\u001b[0m             \u001b[0mcallback\u001b[0m\u001b[0;34m(\u001b[0m\u001b[0mresult\u001b[0m\u001b[0;34m)\u001b[0m\u001b[0;34m\u001b[0m\u001b[0;34m\u001b[0m\u001b[0m\n",
      "\u001b[0;32m~/anaconda3/lib/python3.7/site-packages/joblib/_parallel_backends.py\u001b[0m in \u001b[0;36m__init__\u001b[0;34m(self, batch)\u001b[0m\n\u001b[1;32m    588\u001b[0m         \u001b[0;31m# Don't delay the application, to avoid keeping the input\u001b[0m\u001b[0;34m\u001b[0m\u001b[0;34m\u001b[0m\u001b[0;34m\u001b[0m\u001b[0m\n\u001b[1;32m    589\u001b[0m         \u001b[0;31m# arguments in memory\u001b[0m\u001b[0;34m\u001b[0m\u001b[0;34m\u001b[0m\u001b[0;34m\u001b[0m\u001b[0m\n\u001b[0;32m--> 590\u001b[0;31m         \u001b[0mself\u001b[0m\u001b[0;34m.\u001b[0m\u001b[0mresults\u001b[0m \u001b[0;34m=\u001b[0m \u001b[0mbatch\u001b[0m\u001b[0;34m(\u001b[0m\u001b[0;34m)\u001b[0m\u001b[0;34m\u001b[0m\u001b[0;34m\u001b[0m\u001b[0m\n\u001b[0m\u001b[1;32m    591\u001b[0m \u001b[0;34m\u001b[0m\u001b[0m\n\u001b[1;32m    592\u001b[0m     \u001b[0;32mdef\u001b[0m \u001b[0mget\u001b[0m\u001b[0;34m(\u001b[0m\u001b[0mself\u001b[0m\u001b[0;34m)\u001b[0m\u001b[0;34m:\u001b[0m\u001b[0;34m\u001b[0m\u001b[0;34m\u001b[0m\u001b[0m\n",
      "\u001b[0;32m~/anaconda3/lib/python3.7/site-packages/joblib/parallel.py\u001b[0m in \u001b[0;36m__call__\u001b[0;34m(self)\u001b[0m\n\u001b[1;32m    254\u001b[0m         \u001b[0;32mwith\u001b[0m \u001b[0mparallel_backend\u001b[0m\u001b[0;34m(\u001b[0m\u001b[0mself\u001b[0m\u001b[0;34m.\u001b[0m\u001b[0m_backend\u001b[0m\u001b[0;34m,\u001b[0m \u001b[0mn_jobs\u001b[0m\u001b[0;34m=\u001b[0m\u001b[0mself\u001b[0m\u001b[0;34m.\u001b[0m\u001b[0m_n_jobs\u001b[0m\u001b[0;34m)\u001b[0m\u001b[0;34m:\u001b[0m\u001b[0;34m\u001b[0m\u001b[0;34m\u001b[0m\u001b[0m\n\u001b[1;32m    255\u001b[0m             return [func(*args, **kwargs)\n\u001b[0;32m--> 256\u001b[0;31m                     for func, args, kwargs in self.items]\n\u001b[0m\u001b[1;32m    257\u001b[0m \u001b[0;34m\u001b[0m\u001b[0m\n\u001b[1;32m    258\u001b[0m     \u001b[0;32mdef\u001b[0m \u001b[0m__len__\u001b[0m\u001b[0;34m(\u001b[0m\u001b[0mself\u001b[0m\u001b[0;34m)\u001b[0m\u001b[0;34m:\u001b[0m\u001b[0;34m\u001b[0m\u001b[0;34m\u001b[0m\u001b[0m\n",
      "\u001b[0;32m~/anaconda3/lib/python3.7/site-packages/joblib/parallel.py\u001b[0m in \u001b[0;36m<listcomp>\u001b[0;34m(.0)\u001b[0m\n\u001b[1;32m    254\u001b[0m         \u001b[0;32mwith\u001b[0m \u001b[0mparallel_backend\u001b[0m\u001b[0;34m(\u001b[0m\u001b[0mself\u001b[0m\u001b[0;34m.\u001b[0m\u001b[0m_backend\u001b[0m\u001b[0;34m,\u001b[0m \u001b[0mn_jobs\u001b[0m\u001b[0;34m=\u001b[0m\u001b[0mself\u001b[0m\u001b[0;34m.\u001b[0m\u001b[0m_n_jobs\u001b[0m\u001b[0;34m)\u001b[0m\u001b[0;34m:\u001b[0m\u001b[0;34m\u001b[0m\u001b[0;34m\u001b[0m\u001b[0m\n\u001b[1;32m    255\u001b[0m             return [func(*args, **kwargs)\n\u001b[0;32m--> 256\u001b[0;31m                     for func, args, kwargs in self.items]\n\u001b[0m\u001b[1;32m    257\u001b[0m \u001b[0;34m\u001b[0m\u001b[0m\n\u001b[1;32m    258\u001b[0m     \u001b[0;32mdef\u001b[0m \u001b[0m__len__\u001b[0m\u001b[0;34m(\u001b[0m\u001b[0mself\u001b[0m\u001b[0;34m)\u001b[0m\u001b[0;34m:\u001b[0m\u001b[0;34m\u001b[0m\u001b[0;34m\u001b[0m\u001b[0m\n",
      "\u001b[0;32m~/anaconda3/lib/python3.7/site-packages/sklearn/pipeline.py\u001b[0m in \u001b[0;36m_fit_transform_one\u001b[0;34m(transformer, X, y, weight, message_clsname, message, **fit_params)\u001b[0m\n\u001b[1;32m    726\u001b[0m     \u001b[0;32mwith\u001b[0m \u001b[0m_print_elapsed_time\u001b[0m\u001b[0;34m(\u001b[0m\u001b[0mmessage_clsname\u001b[0m\u001b[0;34m,\u001b[0m \u001b[0mmessage\u001b[0m\u001b[0;34m)\u001b[0m\u001b[0;34m:\u001b[0m\u001b[0;34m\u001b[0m\u001b[0;34m\u001b[0m\u001b[0m\n\u001b[1;32m    727\u001b[0m         \u001b[0;32mif\u001b[0m \u001b[0mhasattr\u001b[0m\u001b[0;34m(\u001b[0m\u001b[0mtransformer\u001b[0m\u001b[0;34m,\u001b[0m \u001b[0;34m'fit_transform'\u001b[0m\u001b[0;34m)\u001b[0m\u001b[0;34m:\u001b[0m\u001b[0;34m\u001b[0m\u001b[0;34m\u001b[0m\u001b[0m\n\u001b[0;32m--> 728\u001b[0;31m             \u001b[0mres\u001b[0m \u001b[0;34m=\u001b[0m \u001b[0mtransformer\u001b[0m\u001b[0;34m.\u001b[0m\u001b[0mfit_transform\u001b[0m\u001b[0;34m(\u001b[0m\u001b[0mX\u001b[0m\u001b[0;34m,\u001b[0m \u001b[0my\u001b[0m\u001b[0;34m,\u001b[0m \u001b[0;34m**\u001b[0m\u001b[0mfit_params\u001b[0m\u001b[0;34m)\u001b[0m\u001b[0;34m\u001b[0m\u001b[0;34m\u001b[0m\u001b[0m\n\u001b[0m\u001b[1;32m    729\u001b[0m         \u001b[0;32melse\u001b[0m\u001b[0;34m:\u001b[0m\u001b[0;34m\u001b[0m\u001b[0;34m\u001b[0m\u001b[0m\n\u001b[1;32m    730\u001b[0m             \u001b[0mres\u001b[0m \u001b[0;34m=\u001b[0m \u001b[0mtransformer\u001b[0m\u001b[0;34m.\u001b[0m\u001b[0mfit\u001b[0m\u001b[0;34m(\u001b[0m\u001b[0mX\u001b[0m\u001b[0;34m,\u001b[0m \u001b[0my\u001b[0m\u001b[0;34m,\u001b[0m \u001b[0;34m**\u001b[0m\u001b[0mfit_params\u001b[0m\u001b[0;34m)\u001b[0m\u001b[0;34m.\u001b[0m\u001b[0mtransform\u001b[0m\u001b[0;34m(\u001b[0m\u001b[0mX\u001b[0m\u001b[0;34m)\u001b[0m\u001b[0;34m\u001b[0m\u001b[0;34m\u001b[0m\u001b[0m\n",
      "\u001b[0;32m~/anaconda3/lib/python3.7/site-packages/sklearn/pipeline.py\u001b[0m in \u001b[0;36mfit_transform\u001b[0;34m(self, X, y, **fit_params)\u001b[0m\n\u001b[1;32m    389\u001b[0m                 \u001b[0;32mreturn\u001b[0m \u001b[0mXt\u001b[0m\u001b[0;34m\u001b[0m\u001b[0;34m\u001b[0m\u001b[0m\n\u001b[1;32m    390\u001b[0m             \u001b[0;32mif\u001b[0m \u001b[0mhasattr\u001b[0m\u001b[0;34m(\u001b[0m\u001b[0mlast_step\u001b[0m\u001b[0;34m,\u001b[0m \u001b[0;34m'fit_transform'\u001b[0m\u001b[0;34m)\u001b[0m\u001b[0;34m:\u001b[0m\u001b[0;34m\u001b[0m\u001b[0;34m\u001b[0m\u001b[0m\n\u001b[0;32m--> 391\u001b[0;31m                 \u001b[0;32mreturn\u001b[0m \u001b[0mlast_step\u001b[0m\u001b[0;34m.\u001b[0m\u001b[0mfit_transform\u001b[0m\u001b[0;34m(\u001b[0m\u001b[0mXt\u001b[0m\u001b[0;34m,\u001b[0m \u001b[0my\u001b[0m\u001b[0;34m,\u001b[0m \u001b[0;34m**\u001b[0m\u001b[0mfit_params\u001b[0m\u001b[0;34m)\u001b[0m\u001b[0;34m\u001b[0m\u001b[0;34m\u001b[0m\u001b[0m\n\u001b[0m\u001b[1;32m    392\u001b[0m             \u001b[0;32melse\u001b[0m\u001b[0;34m:\u001b[0m\u001b[0;34m\u001b[0m\u001b[0;34m\u001b[0m\u001b[0m\n\u001b[1;32m    393\u001b[0m                 \u001b[0;32mreturn\u001b[0m \u001b[0mlast_step\u001b[0m\u001b[0;34m.\u001b[0m\u001b[0mfit\u001b[0m\u001b[0;34m(\u001b[0m\u001b[0mXt\u001b[0m\u001b[0;34m,\u001b[0m \u001b[0my\u001b[0m\u001b[0;34m,\u001b[0m \u001b[0;34m**\u001b[0m\u001b[0mfit_params\u001b[0m\u001b[0;34m)\u001b[0m\u001b[0;34m.\u001b[0m\u001b[0mtransform\u001b[0m\u001b[0;34m(\u001b[0m\u001b[0mXt\u001b[0m\u001b[0;34m)\u001b[0m\u001b[0;34m\u001b[0m\u001b[0;34m\u001b[0m\u001b[0m\n",
      "\u001b[0;32m~/anaconda3/lib/python3.7/site-packages/sklearn/base.py\u001b[0m in \u001b[0;36mfit_transform\u001b[0;34m(self, X, y, **fit_params)\u001b[0m\n\u001b[1;32m    569\u001b[0m         \u001b[0;32mif\u001b[0m \u001b[0my\u001b[0m \u001b[0;32mis\u001b[0m \u001b[0;32mNone\u001b[0m\u001b[0;34m:\u001b[0m\u001b[0;34m\u001b[0m\u001b[0;34m\u001b[0m\u001b[0m\n\u001b[1;32m    570\u001b[0m             \u001b[0;31m# fit method of arity 1 (unsupervised transformation)\u001b[0m\u001b[0;34m\u001b[0m\u001b[0;34m\u001b[0m\u001b[0;34m\u001b[0m\u001b[0m\n\u001b[0;32m--> 571\u001b[0;31m             \u001b[0;32mreturn\u001b[0m \u001b[0mself\u001b[0m\u001b[0;34m.\u001b[0m\u001b[0mfit\u001b[0m\u001b[0;34m(\u001b[0m\u001b[0mX\u001b[0m\u001b[0;34m,\u001b[0m \u001b[0;34m**\u001b[0m\u001b[0mfit_params\u001b[0m\u001b[0;34m)\u001b[0m\u001b[0;34m.\u001b[0m\u001b[0mtransform\u001b[0m\u001b[0;34m(\u001b[0m\u001b[0mX\u001b[0m\u001b[0;34m)\u001b[0m\u001b[0;34m\u001b[0m\u001b[0;34m\u001b[0m\u001b[0m\n\u001b[0m\u001b[1;32m    572\u001b[0m         \u001b[0;32melse\u001b[0m\u001b[0;34m:\u001b[0m\u001b[0;34m\u001b[0m\u001b[0;34m\u001b[0m\u001b[0m\n\u001b[1;32m    573\u001b[0m             \u001b[0;31m# fit method of arity 2 (supervised transformation)\u001b[0m\u001b[0;34m\u001b[0m\u001b[0;34m\u001b[0m\u001b[0;34m\u001b[0m\u001b[0m\n",
      "\u001b[0;32m~/anaconda3/lib/python3.7/site-packages/sklearn/preprocessing/_function_transformer.py\u001b[0m in \u001b[0;36mtransform\u001b[0;34m(self, X)\u001b[0m\n\u001b[1;32m    139\u001b[0m             \u001b[0mTransformed\u001b[0m \u001b[0minput\u001b[0m\u001b[0;34m.\u001b[0m\u001b[0;34m\u001b[0m\u001b[0;34m\u001b[0m\u001b[0m\n\u001b[1;32m    140\u001b[0m         \"\"\"\n\u001b[0;32m--> 141\u001b[0;31m         \u001b[0;32mreturn\u001b[0m \u001b[0mself\u001b[0m\u001b[0;34m.\u001b[0m\u001b[0m_transform\u001b[0m\u001b[0;34m(\u001b[0m\u001b[0mX\u001b[0m\u001b[0;34m,\u001b[0m \u001b[0mfunc\u001b[0m\u001b[0;34m=\u001b[0m\u001b[0mself\u001b[0m\u001b[0;34m.\u001b[0m\u001b[0mfunc\u001b[0m\u001b[0;34m,\u001b[0m \u001b[0mkw_args\u001b[0m\u001b[0;34m=\u001b[0m\u001b[0mself\u001b[0m\u001b[0;34m.\u001b[0m\u001b[0mkw_args\u001b[0m\u001b[0;34m)\u001b[0m\u001b[0;34m\u001b[0m\u001b[0;34m\u001b[0m\u001b[0m\n\u001b[0m\u001b[1;32m    142\u001b[0m \u001b[0;34m\u001b[0m\u001b[0m\n\u001b[1;32m    143\u001b[0m     \u001b[0;32mdef\u001b[0m \u001b[0minverse_transform\u001b[0m\u001b[0;34m(\u001b[0m\u001b[0mself\u001b[0m\u001b[0;34m,\u001b[0m \u001b[0mX\u001b[0m\u001b[0;34m)\u001b[0m\u001b[0;34m:\u001b[0m\u001b[0;34m\u001b[0m\u001b[0;34m\u001b[0m\u001b[0m\n",
      "\u001b[0;32m~/anaconda3/lib/python3.7/site-packages/sklearn/preprocessing/_function_transformer.py\u001b[0m in \u001b[0;36m_transform\u001b[0;34m(self, X, func, kw_args)\u001b[0m\n\u001b[1;32m    163\u001b[0m             \u001b[0mfunc\u001b[0m \u001b[0;34m=\u001b[0m \u001b[0m_identity\u001b[0m\u001b[0;34m\u001b[0m\u001b[0;34m\u001b[0m\u001b[0m\n\u001b[1;32m    164\u001b[0m \u001b[0;34m\u001b[0m\u001b[0m\n\u001b[0;32m--> 165\u001b[0;31m         \u001b[0;32mreturn\u001b[0m \u001b[0mfunc\u001b[0m\u001b[0;34m(\u001b[0m\u001b[0mX\u001b[0m\u001b[0;34m,\u001b[0m \u001b[0;34m**\u001b[0m\u001b[0;34m(\u001b[0m\u001b[0mkw_args\u001b[0m \u001b[0;32mif\u001b[0m \u001b[0mkw_args\u001b[0m \u001b[0;32melse\u001b[0m \u001b[0;34m{\u001b[0m\u001b[0;34m}\u001b[0m\u001b[0;34m)\u001b[0m\u001b[0;34m)\u001b[0m\u001b[0;34m\u001b[0m\u001b[0;34m\u001b[0m\u001b[0m\n\u001b[0m\u001b[1;32m    166\u001b[0m \u001b[0;34m\u001b[0m\u001b[0m\n\u001b[1;32m    167\u001b[0m     \u001b[0;32mdef\u001b[0m \u001b[0m_more_tags\u001b[0m\u001b[0;34m(\u001b[0m\u001b[0mself\u001b[0m\u001b[0;34m)\u001b[0m\u001b[0;34m:\u001b[0m\u001b[0;34m\u001b[0m\u001b[0;34m\u001b[0m\u001b[0m\n",
      "\u001b[0;32m<ipython-input-216-d37a40d72572>\u001b[0m in \u001b[0;36m<lambda>\u001b[0;34m(data)\u001b[0m\n\u001b[1;32m     30\u001b[0m \u001b[0;31m#                ('hot_encoding', preprocessing.OneHotEncoder(handle_unknown = 'ignore'))\u001b[0m\u001b[0;34m\u001b[0m\u001b[0;34m\u001b[0m\u001b[0;34m\u001b[0m\u001b[0m\n\u001b[1;32m     31\u001b[0m \u001b[0;31m#                ('ordinal_encoding', preprocessing.OrdinalEncoder()),\u001b[0m\u001b[0;34m\u001b[0m\u001b[0;34m\u001b[0m\u001b[0;34m\u001b[0m\u001b[0m\n\u001b[0;32m---> 32\u001b[0;31m                 \u001b[0;34m(\u001b[0m\u001b[0;34m'mean_encoding'\u001b[0m\u001b[0;34m,\u001b[0m \u001b[0mpreprocessing\u001b[0m\u001b[0;34m.\u001b[0m\u001b[0mFunctionTransformer\u001b[0m\u001b[0;34m(\u001b[0m\u001b[0;32mlambda\u001b[0m \u001b[0mdata\u001b[0m\u001b[0;34m:\u001b[0m \u001b[0mdata\u001b[0m\u001b[0;34m.\u001b[0m\u001b[0mmap\u001b[0m\u001b[0;34m(\u001b[0m\u001b[0mencode_country\u001b[0m\u001b[0;34m)\u001b[0m\u001b[0;34m)\u001b[0m\u001b[0;34m)\u001b[0m\u001b[0;34m\u001b[0m\u001b[0;34m\u001b[0m\u001b[0m\n\u001b[0m\u001b[1;32m     33\u001b[0m                         ])),\n\u001b[1;32m     34\u001b[0m \u001b[0;34m\u001b[0m\u001b[0m\n",
      "\u001b[0;31mAttributeError\u001b[0m: 'numpy.ndarray' object has no attribute 'map'"
     ]
    }
   ],
   "source": [
    "# Data manipulation\n",
    "from sklearn.neighbors import KNeighborsRegressor\n",
    "from sklearn.impute import SimpleImputer, KNNImputer\n",
    "from sklearn.preprocessing import OneHotEncoder, OrdinalEncoder\n",
    "from sklearn.metrics import mean_squared_error as MSE\n",
    "from sklearn.model_selection import cross_val_score as CVS\n",
    "\n",
    "def RMSE(x,y):\n",
    "    return MSE(x,y)**0.5\n",
    "\n",
    "numeric_data_indices = list(range(2,len(data.columns)-1))\n",
    "# categorical_data_indices = [0, 1]\n",
    " \n",
    "encode_country = data.groupby('country')['y'].mean()\n",
    "encode_year = data.groupby('year')['y'].mean()\n",
    "# Pipeline\n",
    "pipe = pipeline.Pipeline(steps = [       \n",
    "    ('feature_processing', pipeline.FeatureUnion(transformer_list = [\n",
    "        \n",
    "            #categorical -- year\n",
    "            ('year_categorical_variables_processing', pipeline.Pipeline(steps = [\n",
    "                ('selecting', preprocessing.FunctionTransformer(lambda data: data[:, 0].reshape(-1, 1))),\n",
    "#                ('hot_encoding', preprocessing.OneHotEncoder(handle_unknown = 'ignore'))\n",
    "                ('ordinal_encoding', preprocessing.OrdinalEncoder())\n",
    "                        ])),\n",
    "        \n",
    "            #categorical -- country \n",
    "            ('country_categorical_variables_processing', pipeline.Pipeline(steps = [\n",
    "                ('selecting', preprocessing.FunctionTransformer(lambda data: data[:, 1])),\n",
    "#                ('hot_encoding', preprocessing.OneHotEncoder(handle_unknown = 'ignore'))\n",
    "#                ('ordinal_encoding', preprocessing.OrdinalEncoder()),\n",
    "                ('mean_encoding', preprocessing.FunctionTransformer(lambda data: data.map(encode_country)))\n",
    "                        ])),\n",
    "                \n",
    "        \n",
    "        \n",
    "            #numeric\n",
    "            ('numeric_variables_processing', pipeline.Pipeline(steps = [\n",
    "                ('selecting', preprocessing.FunctionTransformer(lambda data: data[:, numeric_data_indices])),\n",
    "                ('imputing', SimpleImputer(missing_values=np.nan, strategy='constant', fill_value=0)),\n",
    "                ('scaling', preprocessing.StandardScaler())            \n",
    "                        ])),\n",
    "        ]))\n",
    "    ]\n",
    ")\n",
    "\n",
    "# shortcut for scorer\n",
    "nrmse = 'neg_root_mean_squared_error'\n",
    "\n",
    "X = data.iloc[:, :-1].values\n",
    "y = data.iloc[:, -1].values\n",
    "\n",
    "X = pipe.fit_transform(X)\n",
    "\n",
    "# split\n",
    "(X_train, X_test, y_train,\n",
    " y_test) = model_selection.train_test_split(X, y,\n",
    "          test_size = 0.1, shuffle=False, random_state=425)"
   ]
  },
  {
   "cell_type": "code",
   "execution_count": 180,
   "metadata": {
    "scrolled": true
   },
   "outputs": [
    {
     "name": "stdout",
     "output_type": "stream",
     "text": [
      "0.03831248346412121 CV score Linreg on train data\n",
      "0.055733595203855825 Linreg on test data\n",
      "\n",
      "0.038221713853932505 CV 10-fold score Ridgereg on train data\n",
      "0.055731394210679214 Ridge on test data\n",
      "\n",
      "0.038654860747139266 CV 10-fold score LASSO on train data\n",
      "0.06831238733844468 LASSO on test data\n"
     ]
    }
   ],
   "source": [
    "from sklearn.compose import TransformedTargetRegressor as TransTargReg\n",
    "from sklearn.preprocessing import QuantileTransformer, quantile_transform\n",
    "\n",
    "\n",
    "qt = QuantileTransformer(n_quantiles=1000, output_distribution='normal' )\n",
    "\n",
    "# lr = TransTargReg(regressor=linear_model.LinearRegression(),\n",
    "#                   transformer=qt)\n",
    "lr = linear_model.LinearRegression()\n",
    "\n",
    "lr.fit(X_train, y_train)\n",
    "\n",
    "train_rmse = RMSE(y_train, lr.predict(X_train))\n",
    "test_rmse = RMSE(y_test, lr.predict(X_test))\n",
    "print(-CVS(lr, X_train, y_train, scoring=nrmse, cv=10).mean(), 'CV score Linreg on train data')\n",
    "print(test_rmse, 'Linreg on test data\\n')\n",
    "\n",
    "# Ridgereg = TransTargReg(regressor=linear_model.Ridge(   \n",
    "#     alpha=1.0,\n",
    "#     fit_intercept=True,\n",
    "#     normalize=False,\n",
    "#     copy_X=True,\n",
    "#     max_iter=None,\n",
    "#     tol=0.0001,\n",
    "#     solver='auto',\n",
    "#     random_state=None,\n",
    "# ),\n",
    "#                       transformer=qt)\n",
    "Ridgereg = linear_model.Ridge(\n",
    "    alpha=0.001,\n",
    "    fit_intercept=True,\n",
    "    normalize=False,\n",
    "    copy_X=True,\n",
    "    max_iter=None,\n",
    "    tol=0.0001,\n",
    "    solver='auto',\n",
    "    random_state=None,\n",
    ")\n",
    "\n",
    "Ridgereg.fit(X_train, y_train)\n",
    "\n",
    "test_rmse = RMSE(y_test, Ridgereg.predict(X_test))\n",
    "print(-CVS(Ridgereg, X_train, y_train, scoring=nrmse, cv=10).mean(), 'CV 10-fold score Ridgereg on train data')\n",
    "print(test_rmse, 'Ridge on test data\\n')\n",
    "\n",
    "lasso = linear_model.Lasso(\n",
    "    alpha=0.001,\n",
    "    fit_intercept=True,\n",
    "    normalize=False,\n",
    "    precompute=False,\n",
    "    copy_X=True,\n",
    "    max_iter=1000,\n",
    "    tol=0.0001,\n",
    "    warm_start=False,\n",
    "    positive=False,\n",
    "    random_state=None,\n",
    "    selection='cyclic',\n",
    ")\n",
    "\n",
    "lasso.fit(X_train, y_train)\n",
    "\n",
    "test_rmse = RMSE(y_test, lasso.predict(X_test))\n",
    "print(-CVS(lasso, X_train, y_train, scoring=nrmse, cv=10).mean(), 'CV 10-fold score LASSO on train data')\n",
    "print(test_rmse, 'LASSO on test data')"
   ]
  },
  {
   "cell_type": "code",
   "execution_count": 181,
   "metadata": {},
   "outputs": [
    {
     "name": "stdout",
     "output_type": "stream",
     "text": [
      "0.0005550196107443532\n",
      "0.03434030554990672\n"
     ]
    }
   ],
   "source": [
    "#XGBoost WITHOUT target transform\n",
    "import xgboost as xgb\n",
    "XGB = xgb.XGBRegressor(\n",
    "    max_depth=5,\n",
    "    learning_rate=0.1,\n",
    "    n_estimators=1500,\n",
    "    verbosity=1,\n",
    "    silent=None,\n",
    "    objective='reg:squarederror',\n",
    "    booster='gbtree',\n",
    "    n_jobs=3,\n",
    "    nthread=None,\n",
    "    gamma=0,\n",
    "    min_child_weight=1,\n",
    "    max_delta_step=0,\n",
    "    subsample=0.5,\n",
    "    colsample_bytree=1,\n",
    "    colsample_bylevel=1,\n",
    "    colsample_bynode=0.3,\n",
    "    reg_alpha=0,\n",
    "    reg_lambda=0.001,\n",
    "    scale_pos_weight=1,\n",
    "    base_score=0.5,\n",
    "    random_state=42,\n",
    "    seed=None,\n",
    "    missing=None,\n",
    "    importance_type='gain')\n",
    "XGB.fit(X_train, y_train)\n",
    "\n",
    "print(MSE(y_train, XGB.predict(X_train))**0.5)\n",
    "print(MSE(y_test, XGB.predict(X_test))**0.5)"
   ]
  },
  {
   "cell_type": "code",
   "execution_count": 190,
   "metadata": {},
   "outputs": [
    {
     "data": {
      "text/plain": [
       "(387,)"
      ]
     },
     "execution_count": 190,
     "metadata": {},
     "output_type": "execute_result"
    }
   ],
   "source": [
    "y_test.shape"
   ]
  },
  {
   "cell_type": "code",
   "execution_count": 200,
   "metadata": {
    "scrolled": true
   },
   "outputs": [],
   "source": [
    "data_errors = data[-387:].copy()\n",
    "data_errors['y_pred'] = XGB.predict(X_test)\n",
    "data_errors['y_delta'] = data_errors['y_pred'] - data_errors['y']"
   ]
  },
  {
   "cell_type": "code",
   "execution_count": 208,
   "metadata": {},
   "outputs": [
    {
     "data": {
      "text/html": [
       "<div>\n",
       "<style scoped>\n",
       "    .dataframe tbody tr th:only-of-type {\n",
       "        vertical-align: middle;\n",
       "    }\n",
       "\n",
       "    .dataframe tbody tr th {\n",
       "        vertical-align: top;\n",
       "    }\n",
       "\n",
       "    .dataframe thead th {\n",
       "        text-align: right;\n",
       "    }\n",
       "</style>\n",
       "<table border=\"1\" class=\"dataframe\">\n",
       "  <thead>\n",
       "    <tr style=\"text-align: right;\">\n",
       "      <th></th>\n",
       "      <th>year</th>\n",
       "      <th>country</th>\n",
       "      <th>Life expectancy Index</th>\n",
       "      <th>Life expectancy at birth</th>\n",
       "      <th>Gross national income (GNI) per capita (2011 PPP$)</th>\n",
       "      <th>Income Index</th>\n",
       "      <th>Expected years of schooling (years)</th>\n",
       "      <th>Mean years of schooling (years)</th>\n",
       "      <th>Human Development Index (HDI)</th>\n",
       "      <th>Education Index</th>\n",
       "      <th>...</th>\n",
       "      <th>Human Development Index (HDI), female</th>\n",
       "      <th>Human Development Index (HDI), male</th>\n",
       "      <th>Gender Development Index (GDI)</th>\n",
       "      <th>Adjusted net savings (% of GNI)</th>\n",
       "      <th>HIV prevalence, adult (% ages 15-49), total</th>\n",
       "      <th>Private capital flows (% of GDP)</th>\n",
       "      <th>Gender Inequality Index (GII)</th>\n",
       "      <th>y</th>\n",
       "      <th>y_pred</th>\n",
       "      <th>y_delta</th>\n",
       "    </tr>\n",
       "  </thead>\n",
       "  <tbody>\n",
       "    <tr>\n",
       "      <th>3580</th>\n",
       "      <td>2012</td>\n",
       "      <td>Saudi Arabia</td>\n",
       "      <td>0.835</td>\n",
       "      <td>74.3</td>\n",
       "      <td>50283.0</td>\n",
       "      <td>0.940</td>\n",
       "      <td>15.6</td>\n",
       "      <td>9.4</td>\n",
       "      <td>0.837</td>\n",
       "      <td>0.747</td>\n",
       "      <td>...</td>\n",
       "      <td>0.771</td>\n",
       "      <td>0.872</td>\n",
       "      <td>0.884</td>\n",
       "      <td>30.1</td>\n",
       "      <td>NaN</td>\n",
       "      <td>-0.6</td>\n",
       "      <td>0.621</td>\n",
       "      <td>0.039163</td>\n",
       "      <td>0.143043</td>\n",
       "      <td>0.103881</td>\n",
       "    </tr>\n",
       "    <tr>\n",
       "      <th>3585</th>\n",
       "      <td>2012</td>\n",
       "      <td>Spain</td>\n",
       "      <td>0.960</td>\n",
       "      <td>82.4</td>\n",
       "      <td>30888.0</td>\n",
       "      <td>0.866</td>\n",
       "      <td>17.4</td>\n",
       "      <td>9.5</td>\n",
       "      <td>0.873</td>\n",
       "      <td>0.800</td>\n",
       "      <td>...</td>\n",
       "      <td>0.862</td>\n",
       "      <td>0.881</td>\n",
       "      <td>0.979</td>\n",
       "      <td>5.2</td>\n",
       "      <td>0.4</td>\n",
       "      <td>2.0</td>\n",
       "      <td>0.103</td>\n",
       "      <td>0.183778</td>\n",
       "      <td>0.300256</td>\n",
       "      <td>0.116478</td>\n",
       "    </tr>\n",
       "    <tr>\n",
       "      <th>3674</th>\n",
       "      <td>2013</td>\n",
       "      <td>Spain</td>\n",
       "      <td>0.963</td>\n",
       "      <td>82.6</td>\n",
       "      <td>30516.0</td>\n",
       "      <td>0.864</td>\n",
       "      <td>17.6</td>\n",
       "      <td>9.5</td>\n",
       "      <td>0.875</td>\n",
       "      <td>0.804</td>\n",
       "      <td>...</td>\n",
       "      <td>0.866</td>\n",
       "      <td>0.885</td>\n",
       "      <td>0.979</td>\n",
       "      <td>5.9</td>\n",
       "      <td>0.4</td>\n",
       "      <td>-8.1</td>\n",
       "      <td>0.098</td>\n",
       "      <td>0.182444</td>\n",
       "      <td>0.296493</td>\n",
       "      <td>0.114050</td>\n",
       "    </tr>\n",
       "    <tr>\n",
       "      <th>3783</th>\n",
       "      <td>2015</td>\n",
       "      <td>Bahrain</td>\n",
       "      <td>0.873</td>\n",
       "      <td>76.8</td>\n",
       "      <td>42125.0</td>\n",
       "      <td>0.913</td>\n",
       "      <td>15.0</td>\n",
       "      <td>9.3</td>\n",
       "      <td>0.834</td>\n",
       "      <td>0.728</td>\n",
       "      <td>...</td>\n",
       "      <td>0.797</td>\n",
       "      <td>0.850</td>\n",
       "      <td>0.938</td>\n",
       "      <td>14.0</td>\n",
       "      <td>0.1</td>\n",
       "      <td>-10.4</td>\n",
       "      <td>0.226</td>\n",
       "      <td>0.034701</td>\n",
       "      <td>0.165585</td>\n",
       "      <td>0.130884</td>\n",
       "    </tr>\n",
       "    <tr>\n",
       "      <th>3803</th>\n",
       "      <td>2015</td>\n",
       "      <td>Estonia</td>\n",
       "      <td>0.889</td>\n",
       "      <td>77.8</td>\n",
       "      <td>27001.0</td>\n",
       "      <td>0.846</td>\n",
       "      <td>16.1</td>\n",
       "      <td>12.9</td>\n",
       "      <td>0.871</td>\n",
       "      <td>0.878</td>\n",
       "      <td>...</td>\n",
       "      <td>0.873</td>\n",
       "      <td>0.857</td>\n",
       "      <td>1.018</td>\n",
       "      <td>12.8</td>\n",
       "      <td>0.6</td>\n",
       "      <td>3.2</td>\n",
       "      <td>0.144</td>\n",
       "      <td>0.166271</td>\n",
       "      <td>0.271954</td>\n",
       "      <td>0.105683</td>\n",
       "    </tr>\n",
       "  </tbody>\n",
       "</table>\n",
       "<p>5 rows × 79 columns</p>\n",
       "</div>"
      ],
      "text/plain": [
       "      year       country  Life expectancy Index  Life expectancy at birth  \\\n",
       "3580  2012  Saudi Arabia                  0.835                      74.3   \n",
       "3585  2012         Spain                  0.960                      82.4   \n",
       "3674  2013         Spain                  0.963                      82.6   \n",
       "3783  2015       Bahrain                  0.873                      76.8   \n",
       "3803  2015       Estonia                  0.889                      77.8   \n",
       "\n",
       "      Gross national income (GNI) per capita (2011 PPP$)  Income Index  \\\n",
       "3580                                            50283.0          0.940   \n",
       "3585                                            30888.0          0.866   \n",
       "3674                                            30516.0          0.864   \n",
       "3783                                            42125.0          0.913   \n",
       "3803                                            27001.0          0.846   \n",
       "\n",
       "      Expected years of schooling (years)  Mean years of schooling (years)  \\\n",
       "3580                                 15.6                              9.4   \n",
       "3585                                 17.4                              9.5   \n",
       "3674                                 17.6                              9.5   \n",
       "3783                                 15.0                              9.3   \n",
       "3803                                 16.1                             12.9   \n",
       "\n",
       "      Human Development Index (HDI)  Education Index  ...  \\\n",
       "3580                          0.837            0.747  ...   \n",
       "3585                          0.873            0.800  ...   \n",
       "3674                          0.875            0.804  ...   \n",
       "3783                          0.834            0.728  ...   \n",
       "3803                          0.871            0.878  ...   \n",
       "\n",
       "      Human Development Index (HDI), female  \\\n",
       "3580                                  0.771   \n",
       "3585                                  0.862   \n",
       "3674                                  0.866   \n",
       "3783                                  0.797   \n",
       "3803                                  0.873   \n",
       "\n",
       "      Human Development Index (HDI), male  Gender Development Index (GDI)  \\\n",
       "3580                                0.872                           0.884   \n",
       "3585                                0.881                           0.979   \n",
       "3674                                0.885                           0.979   \n",
       "3783                                0.850                           0.938   \n",
       "3803                                0.857                           1.018   \n",
       "\n",
       "      Adjusted net savings (% of GNI)  \\\n",
       "3580                             30.1   \n",
       "3585                              5.2   \n",
       "3674                              5.9   \n",
       "3783                             14.0   \n",
       "3803                             12.8   \n",
       "\n",
       "      HIV prevalence, adult (% ages 15-49), total  \\\n",
       "3580                                          NaN   \n",
       "3585                                          0.4   \n",
       "3674                                          0.4   \n",
       "3783                                          0.1   \n",
       "3803                                          0.6   \n",
       "\n",
       "      Private capital flows (% of GDP)  Gender Inequality Index (GII)  \\\n",
       "3580                              -0.6                          0.621   \n",
       "3585                               2.0                          0.103   \n",
       "3674                              -8.1                          0.098   \n",
       "3783                             -10.4                          0.226   \n",
       "3803                               3.2                          0.144   \n",
       "\n",
       "             y    y_pred   y_delta  \n",
       "3580  0.039163  0.143043  0.103881  \n",
       "3585  0.183778  0.300256  0.116478  \n",
       "3674  0.182444  0.296493  0.114050  \n",
       "3783  0.034701  0.165585  0.130884  \n",
       "3803  0.166271  0.271954  0.105683  \n",
       "\n",
       "[5 rows x 79 columns]"
      ]
     },
     "execution_count": 208,
     "metadata": {},
     "output_type": "execute_result"
    }
   ],
   "source": [
    "data_errors[data_errors['y_delta']>0.1]"
   ]
  },
  {
   "cell_type": "code",
   "execution_count": 199,
   "metadata": {
    "scrolled": true
   },
   "outputs": [
    {
     "data": {
      "text/plain": [
       "(array([297.,  52.,  18.,   7.,   8.,   1.,   1.,   1.,   0.,   2.]),\n",
       " array([1.69009836e-05, 2.35083335e-02, 4.69997660e-02, 7.04911985e-02,\n",
       "        9.39826310e-02, 1.17474064e-01, 1.40965496e-01, 1.64456929e-01,\n",
       "        1.87948361e-01, 2.11439794e-01, 2.34931226e-01]),\n",
       " <a list of 10 Patch objects>)"
      ]
     },
     "execution_count": 199,
     "metadata": {},
     "output_type": "execute_result"
    },
    {
     "data": {
      "image/png": "[encoded data removed]",
      "text/plain": [
       "<Figure size 432x288 with 1 Axes>"
      ]
     },
     "metadata": {
      "needs_background": "light"
     },
     "output_type": "display_data"
    }
   ],
   "source": [
    "plt.hist(np.abs(y_test - XGB.predict(X_test)))"
   ]
  },
  {
   "cell_type": "code",
   "execution_count": 168,
   "metadata": {
    "scrolled": true
   },
   "outputs": [
    {
     "data": {
      "text/plain": [
       "Index(['Life expectancy at birth',\n",
       "       'Renewable energy consumption (% of total final energy consumption)',\n",
       "       'Life expectancy Index',\n",
       "       'Gross national income (GNI) per capita (2011 PPP$)',\n",
       "       'Human Development Index (HDI)', 'Mean years of schooling (years)',\n",
       "       'Expected years of schooling (years)',\n",
       "       'Share of employment in nonagriculture, female (% of total employment in nonagriculture)',\n",
       "       'Education Index',\n",
       "       'Labour force participation rate (% ages 15 and older), female',\n",
       "       'Population using at least basic drinking-water services (%)',\n",
       "       'Rural population with access to electricity (%)',\n",
       "       'Old age dependency ratio (old age (65 and older) per 100 people (ages 15-64))',\n",
       "       'Population using at least basic sanitation services (%)', 'country',\n",
       "       'Mean years of schooling, male (years)',\n",
       "       'Young age (0-14) dependency ratio (per 100 people ages 15-64)',\n",
       "       'Life expectancy at birth, female (years)',\n",
       "       'Mean years of schooling, female (years)',\n",
       "       'Forest area (% of total land area)', 'Income Index',\n",
       "       'Labour force participation rate (% ages 15 and older)',\n",
       "       'Total unemployment rate (female to male ratio)',\n",
       "       'Exports and imports (% of GDP)',\n",
       "       'Employment in services (% of total employment)', 'year',\n",
       "       'Gross fixed capital formation (% of GDP)',\n",
       "       'Share of seats in parliament (% held by women)',\n",
       "       'Unemployment, total (% of labour force)',\n",
       "       'Employment to population ratio (% ages 15 and older)',\n",
       "       'Mortality rate, infant (per 1,000 live births)',\n",
       "       'Population with at least some secondary education, male (% ages 25 and older)',\n",
       "       'Mobile phone subscriptions (per 100 people)',\n",
       "       'Gross capital formation (% of GDP)',\n",
       "       'Population with at least some secondary education (% ages 25 and older)',\n",
       "       'Adolescent birth rate (births per 1,000 women ages 15-19)',\n",
       "       'Estimated gross national income per capita, male (2011 PPP$)',\n",
       "       'Population, ages 65 and older (millions)',\n",
       "       'Estimated gross national income per capita, female (2011 PPP$)',\n",
       "       'Foreign direct investment, net inflows (% of GDP)',\n",
       "       'Mortality rate, male adult (per 1,000 people)',\n",
       "       'Maternal mortality ratio (deaths per 100,000 live births)',\n",
       "       'Vulnerable employment (% of total employment)',\n",
       "       'Population, urban (%)', 'Expected years of schooling, male (years)',\n",
       "       'Gender Inequality Index (GII)',\n",
       "       'Labour force participation rate (% ages 15 and older), male',\n",
       "       'Life expectancy at birth, male (years)',\n",
       "       'Human Development Index (HDI), female',\n",
       "       'Population, under age 5 (millions)',\n",
       "       'Natural resource depletion (% of GNI)',\n",
       "       'Infants lacking immunization, measles (% of one-year-olds)',\n",
       "       'Remittances, inflows (% of GDP)',\n",
       "       'Gross domestic product (GDP), total (2011 PPP $ billions)',\n",
       "       'Population, total (millions)',\n",
       "       'Expected years of schooling, female (years)',\n",
       "       'HIV prevalence, adult (% ages 15-49), total',\n",
       "       'Population ages 15–64 (millions)',\n",
       "       'Employment in agriculture (% of total employment)',\n",
       "       'Youth unemployment rate (female to male ratio)',\n",
       "       'Gross domestic product (GDP) per capita (2011 PPP $)',\n",
       "       'Tuberculosis incidence (per 100,000 people)',\n",
       "       'Infants lacking immunization, DTP (% of one-year-olds)',\n",
       "       'Human Development Index (HDI), male',\n",
       "       'Unemployment, youth (% ages 15–24)',\n",
       "       'Population with at least some secondary education, female (% ages 25 and older)',\n",
       "       'Adjusted net savings (% of GNI)',\n",
       "       'Mortality rate, female adult (per 1,000 people)',\n",
       "       'Mortality rate, under-five (per 1,000 live births)',\n",
       "       'International inbound tourists (thousands)',\n",
       "       'Gender Development Index (GDI)',\n",
       "       'Internet users, total (% of population)',\n",
       "       'Current health expenditure (% of GDP)',\n",
       "       'Private capital flows (% of GDP)',\n",
       "       'Gross enrolment ratio, primary (% of primary school-age population)',\n",
       "       'Domestic credit provided by financial sector (% of GDP)'],\n",
       "      dtype='object')"
      ]
     },
     "execution_count": 168,
     "metadata": {},
     "output_type": "execute_result"
    }
   ],
   "source": [
    "data.columns[np.argsort(XGB.feature_importances_)[::-1]]"
   ]
  },
  {
   "cell_type": "code",
   "execution_count": 114,
   "metadata": {},
   "outputs": [
    {
     "data": {
      "text/plain": [
       "array([37, 65, 55, 66, 27, 35, 39, 25, 62, 69, 70, 34, 71, 14, 21, 24, 64,\n",
       "       48, 29, 49, 58, 52, 68, 17, 40, 53, 41, 23, 18, 59, 57, 26, 13, 60,\n",
       "       12, 11, 22, 32, 30, 42, 16, 43, 67, 73, 38, 72, 56, 10, 61, 44, 45,\n",
       "       20, 31, 15,  9, 50, 63,  8,  5, 28, 47,  2, 46,  7,  3, 33, 19,  1,\n",
       "        4,  0, 36,  6, 51, 54])"
      ]
     },
     "execution_count": 114,
     "metadata": {},
     "output_type": "execute_result"
    }
   ],
   "source": [
    "np.argsort(XGB.feature_importances_)"
   ]
  },
  {
   "cell_type": "code",
   "execution_count": 139,
   "metadata": {},
   "outputs": [
    {
     "data": {
      "text/plain": [
       "<matplotlib.axes._subplots.AxesSubplot at 0x7f941cc9b0d0>"
      ]
     },
     "execution_count": 139,
     "metadata": {},
     "output_type": "execute_result"
    },
    {
     "data": {
      "image/png": "[encoded data removed]",
      "text/plain": [
       "<Figure size 432x288 with 1 Axes>"
      ]
     },
     "metadata": {
      "needs_background": "light"
     },
     "output_type": "display_data"
    }
   ],
   "source": [
    "data[~data['Rural population with access to electricity (%)'].isna()].loc[:, 'Rural population with access to electricity (%)'].hist()"
   ]
  },
  {
   "cell_type": "code",
   "execution_count": 207,
   "metadata": {
    "scrolled": true
   },
   "outputs": [
    {
     "data": {
      "image/png": "[encoded data removed]",
      "text/plain": [
       "<Figure size 720x720 with 1 Axes>"
      ]
     },
     "metadata": {
      "needs_background": "light"
     },
     "output_type": "display_data"
    }
   ],
   "source": [
    "tree_importance_sorted_idx = np.argsort(XGB.feature_importances_)\n",
    "tree_indices = np.arange(0, len(XGB.feature_importances_)) + 0.5\n",
    "\n",
    "fig, ax = plt.subplots(figsize=(10, 10))\n",
    "ax.barh(tree_indices,\n",
    "         XGB.feature_importances_[tree_importance_sorted_idx], height=0.7)\n",
    "ax.set_yticklabels(data.columns[tree_importance_sorted_idx])\n",
    "ax.set_yticks(tree_indices)\n",
    "ax.set_ylim((0, len(XGB.feature_importances_)))\n",
    "fig.tight_layout()\n",
    "plt.show()"
   ]
  },
  {
   "cell_type": "code",
   "execution_count": 183,
   "metadata": {
    "scrolled": false
   },
   "outputs": [
    {
     "name": "stdout",
     "output_type": "stream",
     "text": [
      "0.01440754955469813 CV score 5-fold of XGB on train\n"
     ]
    }
   ],
   "source": [
    "cvs = -CVS(XGB, X_train,y_train, scoring=nrmse, cv=5)\n",
    "print(cvs.mean(), 'CV score 5-fold of XGB on train')"
   ]
  },
  {
   "cell_type": "code",
   "execution_count": 184,
   "metadata": {},
   "outputs": [
    {
     "data": {
      "text/plain": [
       "array([0.01682509, 0.0108559 , 0.01110094, 0.01063218, 0.02262363])"
      ]
     },
     "execution_count": 184,
     "metadata": {},
     "output_type": "execute_result"
    }
   ],
   "source": [
    "cvs"
   ]
  },
  {
   "cell_type": "code",
   "execution_count": 100,
   "metadata": {},
   "outputs": [
    {
     "name": "stdout",
     "output_type": "stream",
     "text": [
      "0.009557630507027005 CV score 5-fold of RandomForest on train\n",
      "0.03985123813723855\n"
     ]
    }
   ],
   "source": [
    "#Let's use RandomForest\n",
    "from sklearn.ensemble import RandomForestRegressor\n",
    "forest = RandomForestRegressor(n_estimators=500,\n",
    "                              criterion='mse',\n",
    "                              max_depth=5,\n",
    "                              min_samples_split=2,\n",
    "                              min_samples_leaf=1,\n",
    "                              max_features=25,\n",
    "#                              max_features=86,\n",
    "                              n_jobs=3)\n",
    "\n",
    "print(-CVS(forest, X_train,y_train, scoring=nrmse, cv=5).mean(), 'CV score 5-fold of RandomForest on train')\n",
    "forest.fit(X_train, y_train)\n",
    "print(RMSE(y_test, forest.predict(X_test)))"
   ]
  },
  {
   "cell_type": "code",
   "execution_count": 44,
   "metadata": {},
   "outputs": [
    {
     "name": "stdout",
     "output_type": "stream",
     "text": [
      "CPU times: user 1h 45min 16s, sys: 18.6 s, total: 1h 45min 35s\n",
      "Wall time: 35min 45s\n"
     ]
    },
    {
     "data": {
      "text/plain": [
       "GridSearchCV(cv=5, error_score=nan,\n",
       "             estimator=XGBRegressor(base_score=0.5, booster='gbtree',\n",
       "                                    colsample_bylevel=1, colsample_bynode=1,\n",
       "                                    colsample_bytree=1, gamma=0,\n",
       "                                    importance_type='gain', learning_rate=0.1,\n",
       "                                    max_delta_step=0, max_depth=5,\n",
       "                                    min_child_weight=1, missing=None,\n",
       "                                    n_estimators=1500, n_jobs=3, nthread=None,\n",
       "                                    objective='reg:squarederror',\n",
       "                                    random_state=42, reg_alpha=0,\n",
       "                                    reg_lambda=0.11, scale_pos_weight=1,\n",
       "                                    seed=None, silent=None, subsample=0.7,\n",
       "                                    verbosity=1),\n",
       "             iid='deprecated', n_jobs=None,\n",
       "             param_grid={'colsample_bynode': [0.3, 0.6, 1],\n",
       "                         'max_depth': [4, 5, 6],\n",
       "                         'reg_lambda': [0.13, 0.12, 0.11, 0.1, 0.09, 0.08]},\n",
       "             pre_dispatch='2*n_jobs', refit=True, return_train_score=False,\n",
       "             scoring='neg_root_mean_squared_error', verbose=0)"
      ]
     },
     "execution_count": 44,
     "metadata": {},
     "output_type": "execute_result"
    }
   ],
   "source": [
    "# Tuning hyperparameters of XGBoost\n",
    "%%time\n",
    "from sklearn.model_selection import RandomizedSearchCV, GridSearchCV\n",
    "\n",
    "#GridSearchCV for XGBoost RF hyperparameters\n",
    "param_grid = {\n",
    "    'reg_lambda': [0.13, 0.12, 0.11, 0.1, 0.09, 0.08],\n",
    "    'max_depth': [4, 5, 6],\n",
    "    'colsample_bynode': [0.3, 0.6, 1]\n",
    "}\n",
    "XGB_GSCV = model_selection.GridSearchCV(XGB,\n",
    "                                        param_grid=param_grid,\n",
    "                                        n_jobs=None,\n",
    "                                        scoring='neg_root_mean_squared_error',\n",
    "                                        cv=5)\n",
    "XGB_GSCV.fit(X_train, y_train)"
   ]
  },
  {
   "cell_type": "code",
   "execution_count": 45,
   "metadata": {},
   "outputs": [
    {
     "data": {
      "text/plain": [
       "{'colsample_bynode': 0.6, 'max_depth': 4, 'reg_lambda': 0.08}"
      ]
     },
     "execution_count": 45,
     "metadata": {},
     "output_type": "execute_result"
    }
   ],
   "source": [
    "XGB_GSCV.best_params_"
   ]
  },
  {
   "cell_type": "code",
   "execution_count": 48,
   "metadata": {
    "scrolled": true
   },
   "outputs": [
    {
     "data": {
      "text/plain": [
       "-0.0083316207936785"
      ]
     },
     "execution_count": 48,
     "metadata": {},
     "output_type": "execute_result"
    }
   ],
   "source": [
    "XGB_GSCV.best_score_"
   ]
  },
  {
   "cell_type": "code",
   "execution_count": 54,
   "metadata": {},
   "outputs": [
    {
     "data": {
      "text/plain": [
       "{'reg_lambda': [0.13, 0.12, 0.11, 0.1, 0.09, 0.08],\n",
       " 'max_depth': [4, 5, 6],\n",
       " 'colsample_bynode': [0.3, 0.6, 1]}"
      ]
     },
     "execution_count": 54,
     "metadata": {},
     "output_type": "execute_result"
    }
   ],
   "source": [
    "param_grid"
   ]
  },
  {
   "cell_type": "code",
   "execution_count": 56,
   "metadata": {},
   "outputs": [
    {
     "data": {
      "text/plain": [
       "{'mean_fit_time': array([ 5.35350151,  4.87943206,  4.85555339,  4.87456136,  4.80746737,\n",
       "         4.80907297,  5.09512296,  5.09345832,  5.10580516,  5.15837402,\n",
       "         5.06124406,  5.09585752,  4.95092335,  4.98737736,  5.10969477,\n",
       "         4.94382687,  4.95660944,  4.95098252,  7.52046118,  7.5075017 ,\n",
       "         7.51507001,  7.49919958,  7.47103252,  7.50139384,  7.91650324,\n",
       "         7.91747699,  7.88186531,  7.80968275,  7.85383649,  7.90951095,\n",
       "         7.59507589,  7.61667442,  7.5712791 ,  7.56280618,  7.59449124,\n",
       "         7.56464252, 10.62132335, 10.71043348, 10.72371988, 10.6653779 ,\n",
       "        10.66552935, 10.70967669, 11.21602669, 11.27209802, 11.17600584,\n",
       "        11.23389516, 11.23780007, 11.2046876 , 10.74959779, 10.6928494 ,\n",
       "        10.80183973, 10.77556095, 10.69891982, 10.74421024]),\n",
       " 'std_fit_time': array([0.47435578, 0.11116361, 0.10298132, 0.02329494, 0.09963057,\n",
       "        0.04510971, 0.06636834, 0.06168506, 0.06890871, 0.07231984,\n",
       "        0.06194179, 0.05726436, 0.10532499, 0.09148821, 0.12278145,\n",
       "        0.04513494, 0.03226929, 0.04007462, 0.06324361, 0.04955608,\n",
       "        0.02681505, 0.03305931, 0.02932162, 0.03638149, 0.06762918,\n",
       "        0.08161475, 0.07945564, 0.11295442, 0.03681675, 0.0423503 ,\n",
       "        0.0717421 , 0.07857006, 0.12720313, 0.10120297, 0.06067015,\n",
       "        0.06232766, 0.07034463, 0.03044013, 0.07510282, 0.04799931,\n",
       "        0.03274829, 0.04990511, 0.09681625, 0.08480509, 0.03322536,\n",
       "        0.06271338, 0.08336085, 0.10594358, 0.11213056, 0.07422927,\n",
       "        0.18935116, 0.0823426 , 0.13771215, 0.11521595]),\n",
       " 'mean_score_time': array([0.06327419, 0.06030049, 0.06002312, 0.0625145 , 0.05932326,\n",
       "        0.06087694, 0.06205192, 0.06246381, 0.06221075, 0.0646379 ,\n",
       "        0.0609992 , 0.06239743, 0.05960784, 0.06174045, 0.0623517 ,\n",
       "        0.06154494, 0.06140656, 0.06080284, 0.06031713, 0.05903106,\n",
       "        0.05959783, 0.06084485, 0.06064963, 0.06083817, 0.06127472,\n",
       "        0.0617763 , 0.06376085, 0.06263537, 0.06174884, 0.06166897,\n",
       "        0.05987053, 0.06093698, 0.060776  , 0.0595294 , 0.06176286,\n",
       "        0.05888605, 0.06052299, 0.0588594 , 0.05970697, 0.06136885,\n",
       "        0.05967579, 0.06042109, 0.06209216, 0.06179733, 0.0607214 ,\n",
       "        0.06265988, 0.06166248, 0.06206269, 0.0617825 , 0.05974526,\n",
       "        0.06047058, 0.05881596, 0.05859928, 0.05927401]),\n",
       " 'std_score_time': array([0.00255977, 0.0012292 , 0.00176063, 0.00216958, 0.00206488,\n",
       "        0.00381304, 0.00144482, 0.00201037, 0.0027354 , 0.00179947,\n",
       "        0.00195252, 0.00095908, 0.00208282, 0.00257284, 0.00297677,\n",
       "        0.00275915, 0.00328864, 0.00057918, 0.000697  , 0.00069287,\n",
       "        0.00064363, 0.00247109, 0.00139349, 0.00124779, 0.00213321,\n",
       "        0.00198635, 0.00246142, 0.00316893, 0.00087439, 0.00293939,\n",
       "        0.00250532, 0.00071035, 0.0009578 , 0.00174469, 0.00246288,\n",
       "        0.00142914, 0.0025456 , 0.00186498, 0.00136028, 0.00175154,\n",
       "        0.00057092, 0.00085017, 0.00215656, 0.00107386, 0.00313505,\n",
       "        0.00062138, 0.0017813 , 0.00138348, 0.00408563, 0.00262281,\n",
       "        0.00154059, 0.00132423, 0.00226071, 0.00201501]),\n",
       " 'param_colsample_bynode': masked_array(data=[0.3, 0.3, 0.3, 0.3, 0.3, 0.3, 0.3, 0.3, 0.3, 0.3, 0.3,\n",
       "                    0.3, 0.3, 0.3, 0.3, 0.3, 0.3, 0.3, 0.6, 0.6, 0.6, 0.6,\n",
       "                    0.6, 0.6, 0.6, 0.6, 0.6, 0.6, 0.6, 0.6, 0.6, 0.6, 0.6,\n",
       "                    0.6, 0.6, 0.6, 1, 1, 1, 1, 1, 1, 1, 1, 1, 1, 1, 1, 1,\n",
       "                    1, 1, 1, 1, 1],\n",
       "              mask=[False, False, False, False, False, False, False, False,\n",
       "                    False, False, False, False, False, False, False, False,\n",
       "                    False, False, False, False, False, False, False, False,\n",
       "                    False, False, False, False, False, False, False, False,\n",
       "                    False, False, False, False, False, False, False, False,\n",
       "                    False, False, False, False, False, False, False, False,\n",
       "                    False, False, False, False, False, False],\n",
       "        fill_value='?',\n",
       "             dtype=object),\n",
       " 'param_max_depth': masked_array(data=[4, 4, 4, 4, 4, 4, 5, 5, 5, 5, 5, 5, 6, 6, 6, 6, 6, 6,\n",
       "                    4, 4, 4, 4, 4, 4, 5, 5, 5, 5, 5, 5, 6, 6, 6, 6, 6, 6,\n",
       "                    4, 4, 4, 4, 4, 4, 5, 5, 5, 5, 5, 5, 6, 6, 6, 6, 6, 6],\n",
       "              mask=[False, False, False, False, False, False, False, False,\n",
       "                    False, False, False, False, False, False, False, False,\n",
       "                    False, False, False, False, False, False, False, False,\n",
       "                    False, False, False, False, False, False, False, False,\n",
       "                    False, False, False, False, False, False, False, False,\n",
       "                    False, False, False, False, False, False, False, False,\n",
       "                    False, False, False, False, False, False],\n",
       "        fill_value='?',\n",
       "             dtype=object),\n",
       " 'param_reg_lambda': masked_array(data=[0.13, 0.12, 0.11, 0.1, 0.09, 0.08, 0.13, 0.12, 0.11,\n",
       "                    0.1, 0.09, 0.08, 0.13, 0.12, 0.11, 0.1, 0.09, 0.08,\n",
       "                    0.13, 0.12, 0.11, 0.1, 0.09, 0.08, 0.13, 0.12, 0.11,\n",
       "                    0.1, 0.09, 0.08, 0.13, 0.12, 0.11, 0.1, 0.09, 0.08,\n",
       "                    0.13, 0.12, 0.11, 0.1, 0.09, 0.08, 0.13, 0.12, 0.11,\n",
       "                    0.1, 0.09, 0.08, 0.13, 0.12, 0.11, 0.1, 0.09, 0.08],\n",
       "              mask=[False, False, False, False, False, False, False, False,\n",
       "                    False, False, False, False, False, False, False, False,\n",
       "                    False, False, False, False, False, False, False, False,\n",
       "                    False, False, False, False, False, False, False, False,\n",
       "                    False, False, False, False, False, False, False, False,\n",
       "                    False, False, False, False, False, False, False, False,\n",
       "                    False, False, False, False, False, False],\n",
       "        fill_value='?',\n",
       "             dtype=object),\n",
       " 'params': [{'colsample_bynode': 0.3, 'max_depth': 4, 'reg_lambda': 0.13},\n",
       "  {'colsample_bynode': 0.3, 'max_depth': 4, 'reg_lambda': 0.12},\n",
       "  {'colsample_bynode': 0.3, 'max_depth': 4, 'reg_lambda': 0.11},\n",
       "  {'colsample_bynode': 0.3, 'max_depth': 4, 'reg_lambda': 0.1},\n",
       "  {'colsample_bynode': 0.3, 'max_depth': 4, 'reg_lambda': 0.09},\n",
       "  {'colsample_bynode': 0.3, 'max_depth': 4, 'reg_lambda': 0.08},\n",
       "  {'colsample_bynode': 0.3, 'max_depth': 5, 'reg_lambda': 0.13},\n",
       "  {'colsample_bynode': 0.3, 'max_depth': 5, 'reg_lambda': 0.12},\n",
       "  {'colsample_bynode': 0.3, 'max_depth': 5, 'reg_lambda': 0.11},\n",
       "  {'colsample_bynode': 0.3, 'max_depth': 5, 'reg_lambda': 0.1},\n",
       "  {'colsample_bynode': 0.3, 'max_depth': 5, 'reg_lambda': 0.09},\n",
       "  {'colsample_bynode': 0.3, 'max_depth': 5, 'reg_lambda': 0.08},\n",
       "  {'colsample_bynode': 0.3, 'max_depth': 6, 'reg_lambda': 0.13},\n",
       "  {'colsample_bynode': 0.3, 'max_depth': 6, 'reg_lambda': 0.12},\n",
       "  {'colsample_bynode': 0.3, 'max_depth': 6, 'reg_lambda': 0.11},\n",
       "  {'colsample_bynode': 0.3, 'max_depth': 6, 'reg_lambda': 0.1},\n",
       "  {'colsample_bynode': 0.3, 'max_depth': 6, 'reg_lambda': 0.09},\n",
       "  {'colsample_bynode': 0.3, 'max_depth': 6, 'reg_lambda': 0.08},\n",
       "  {'colsample_bynode': 0.6, 'max_depth': 4, 'reg_lambda': 0.13},\n",
       "  {'colsample_bynode': 0.6, 'max_depth': 4, 'reg_lambda': 0.12},\n",
       "  {'colsample_bynode': 0.6, 'max_depth': 4, 'reg_lambda': 0.11},\n",
       "  {'colsample_bynode': 0.6, 'max_depth': 4, 'reg_lambda': 0.1},\n",
       "  {'colsample_bynode': 0.6, 'max_depth': 4, 'reg_lambda': 0.09},\n",
       "  {'colsample_bynode': 0.6, 'max_depth': 4, 'reg_lambda': 0.08},\n",
       "  {'colsample_bynode': 0.6, 'max_depth': 5, 'reg_lambda': 0.13},\n",
       "  {'colsample_bynode': 0.6, 'max_depth': 5, 'reg_lambda': 0.12},\n",
       "  {'colsample_bynode': 0.6, 'max_depth': 5, 'reg_lambda': 0.11},\n",
       "  {'colsample_bynode': 0.6, 'max_depth': 5, 'reg_lambda': 0.1},\n",
       "  {'colsample_bynode': 0.6, 'max_depth': 5, 'reg_lambda': 0.09},\n",
       "  {'colsample_bynode': 0.6, 'max_depth': 5, 'reg_lambda': 0.08},\n",
       "  {'colsample_bynode': 0.6, 'max_depth': 6, 'reg_lambda': 0.13},\n",
       "  {'colsample_bynode': 0.6, 'max_depth': 6, 'reg_lambda': 0.12},\n",
       "  {'colsample_bynode': 0.6, 'max_depth': 6, 'reg_lambda': 0.11},\n",
       "  {'colsample_bynode': 0.6, 'max_depth': 6, 'reg_lambda': 0.1},\n",
       "  {'colsample_bynode': 0.6, 'max_depth': 6, 'reg_lambda': 0.09},\n",
       "  {'colsample_bynode': 0.6, 'max_depth': 6, 'reg_lambda': 0.08},\n",
       "  {'colsample_bynode': 1, 'max_depth': 4, 'reg_lambda': 0.13},\n",
       "  {'colsample_bynode': 1, 'max_depth': 4, 'reg_lambda': 0.12},\n",
       "  {'colsample_bynode': 1, 'max_depth': 4, 'reg_lambda': 0.11},\n",
       "  {'colsample_bynode': 1, 'max_depth': 4, 'reg_lambda': 0.1},\n",
       "  {'colsample_bynode': 1, 'max_depth': 4, 'reg_lambda': 0.09},\n",
       "  {'colsample_bynode': 1, 'max_depth': 4, 'reg_lambda': 0.08},\n",
       "  {'colsample_bynode': 1, 'max_depth': 5, 'reg_lambda': 0.13},\n",
       "  {'colsample_bynode': 1, 'max_depth': 5, 'reg_lambda': 0.12},\n",
       "  {'colsample_bynode': 1, 'max_depth': 5, 'reg_lambda': 0.11},\n",
       "  {'colsample_bynode': 1, 'max_depth': 5, 'reg_lambda': 0.1},\n",
       "  {'colsample_bynode': 1, 'max_depth': 5, 'reg_lambda': 0.09},\n",
       "  {'colsample_bynode': 1, 'max_depth': 5, 'reg_lambda': 0.08},\n",
       "  {'colsample_bynode': 1, 'max_depth': 6, 'reg_lambda': 0.13},\n",
       "  {'colsample_bynode': 1, 'max_depth': 6, 'reg_lambda': 0.12},\n",
       "  {'colsample_bynode': 1, 'max_depth': 6, 'reg_lambda': 0.11},\n",
       "  {'colsample_bynode': 1, 'max_depth': 6, 'reg_lambda': 0.1},\n",
       "  {'colsample_bynode': 1, 'max_depth': 6, 'reg_lambda': 0.09},\n",
       "  {'colsample_bynode': 1, 'max_depth': 6, 'reg_lambda': 0.08}],\n",
       " 'split0_test_score': array([-0.01086173, -0.01182939, -0.01175887, -0.0112258 , -0.01085103,\n",
       "        -0.01107459, -0.01144506, -0.01159907, -0.01127845, -0.01152389,\n",
       "        -0.01085945, -0.0110232 , -0.01164731, -0.01134025, -0.01134935,\n",
       "        -0.01190509, -0.01190515, -0.01128688, -0.00956683, -0.01051093,\n",
       "        -0.00972615, -0.00946275, -0.00979048, -0.00913691, -0.00994428,\n",
       "        -0.01019707, -0.01000539, -0.01024452, -0.01019873, -0.0107121 ,\n",
       "        -0.0111923 , -0.01130493, -0.01117134, -0.01114893, -0.01127639,\n",
       "        -0.0104724 , -0.01005175, -0.00997478, -0.01042936, -0.01034935,\n",
       "        -0.01022762, -0.00990076, -0.01064735, -0.01012647, -0.0107966 ,\n",
       "        -0.01034973, -0.01051926, -0.01019216, -0.01134861, -0.01099051,\n",
       "        -0.01114107, -0.01109575, -0.01099486, -0.0111196 ]),\n",
       " 'split1_test_score': array([-0.00864182, -0.00868078, -0.00855091, -0.00861907, -0.00833431,\n",
       "        -0.00887381, -0.00894697, -0.00918805, -0.00901356, -0.00960872,\n",
       "        -0.00960077, -0.00908112, -0.00909371, -0.00876565, -0.0089627 ,\n",
       "        -0.00868921, -0.00888017, -0.00837759, -0.00911926, -0.00914395,\n",
       "        -0.0091461 , -0.00901036, -0.00881891, -0.00866616, -0.00890212,\n",
       "        -0.00946042, -0.00927136, -0.00916996, -0.00938868, -0.00951379,\n",
       "        -0.01106146, -0.01065068, -0.01089717, -0.0111577 , -0.01055153,\n",
       "        -0.01026365, -0.01036473, -0.00925456, -0.00942846, -0.00969551,\n",
       "        -0.00926441, -0.00938965, -0.01002888, -0.00981042, -0.00984539,\n",
       "        -0.01031042, -0.00980482, -0.00902781, -0.00989797, -0.00982131,\n",
       "        -0.00990882, -0.01056098, -0.00994197, -0.01082114]),\n",
       " 'split2_test_score': array([-0.00739722, -0.00760754, -0.00741388, -0.00731628, -0.00798178,\n",
       "        -0.00757651, -0.00768242, -0.00727206, -0.00762299, -0.00786835,\n",
       "        -0.00786369, -0.00761792, -0.00804006, -0.00834425, -0.00799003,\n",
       "        -0.00819496, -0.00802519, -0.00793063, -0.00798807, -0.00804991,\n",
       "        -0.00777593, -0.00814867, -0.00780895, -0.00794752, -0.00767364,\n",
       "        -0.0077426 , -0.0081608 , -0.00829473, -0.00805363, -0.00825536,\n",
       "        -0.00803756, -0.00802276, -0.00851046, -0.00868018, -0.00844516,\n",
       "        -0.00901901, -0.0082551 , -0.00836058, -0.00826541, -0.00792516,\n",
       "        -0.00757804, -0.00791138, -0.00879912, -0.00851018, -0.00865756,\n",
       "        -0.00891371, -0.00875156, -0.00861965, -0.00905208, -0.0089944 ,\n",
       "        -0.00887208, -0.00868984, -0.00903117, -0.0090066 ]),\n",
       " 'split3_test_score': array([-0.00703935, -0.00670075, -0.00743245, -0.00847817, -0.00824309,\n",
       "        -0.00848552, -0.00782219, -0.00813251, -0.00805466, -0.00815601,\n",
       "        -0.0077906 , -0.00792823, -0.00879835, -0.0082208 , -0.00810692,\n",
       "        -0.00848937, -0.00839052, -0.00847409, -0.00753315, -0.00725956,\n",
       "        -0.00779071, -0.0078113 , -0.00830727, -0.00787672, -0.00737733,\n",
       "        -0.00853852, -0.00849775, -0.00741018, -0.00811485, -0.0083597 ,\n",
       "        -0.00811956, -0.00860816, -0.00818515, -0.00824868, -0.00821968,\n",
       "        -0.00890428, -0.00759449, -0.0077208 , -0.00778744, -0.00706897,\n",
       "        -0.00756453, -0.00832743, -0.00801773, -0.0080102 , -0.00828426,\n",
       "        -0.00798185, -0.00850159, -0.00805443, -0.00912588, -0.00947057,\n",
       "        -0.00923864, -0.00940495, -0.0096142 , -0.00947742]),\n",
       " 'split4_test_score': array([-0.00927175, -0.00923069, -0.00914057, -0.00879167, -0.00910395,\n",
       "        -0.00894547, -0.00928203, -0.00882166, -0.00872771, -0.00905681,\n",
       "        -0.00897101, -0.00923073, -0.00969565, -0.00963994, -0.00956243,\n",
       "        -0.00926923, -0.00973669, -0.01003204, -0.00867694, -0.00841646,\n",
       "        -0.00881426, -0.00831008, -0.00823988, -0.00803079, -0.00850734,\n",
       "        -0.00873282, -0.00883995, -0.00867682, -0.00856873, -0.00892228,\n",
       "        -0.00841125, -0.008266  , -0.00858114, -0.00921197, -0.00891596,\n",
       "        -0.00891526, -0.00891712, -0.00895044, -0.00845422, -0.00896764,\n",
       "        -0.00831072, -0.00904383, -0.00862055, -0.00869004, -0.00875447,\n",
       "        -0.00865111, -0.00932044, -0.0085001 , -0.00862674, -0.0082894 ,\n",
       "        -0.00886436, -0.00888199, -0.00875581, -0.00847221]),\n",
       " 'mean_test_score': array([-0.00864237, -0.00880983, -0.00885934, -0.0088862 , -0.00890283,\n",
       "        -0.00899118, -0.00903573, -0.00900267, -0.00893947, -0.00924276,\n",
       "        -0.0090171 , -0.00897624, -0.00945501, -0.00926218, -0.00919429,\n",
       "        -0.00930957, -0.00938754, -0.00922025, -0.00857685, -0.00867616,\n",
       "        -0.00865063, -0.00854863, -0.0085931 , -0.00833162, -0.00848094,\n",
       "        -0.00893428, -0.00895505, -0.00875924, -0.00886492, -0.00915264,\n",
       "        -0.00936443, -0.00937051, -0.00946905, -0.00968949, -0.00948174,\n",
       "        -0.00951492, -0.00903664, -0.00885223, -0.00887298, -0.00880133,\n",
       "        -0.00858907, -0.00891461, -0.00922273, -0.00902946, -0.00926765,\n",
       "        -0.00924136, -0.00937953, -0.00887883, -0.00961025, -0.00951324,\n",
       "        -0.00960499, -0.0097267 , -0.0096676 , -0.00977939]),\n",
       " 'std_test_score': array([0.00137417, 0.00174386, 0.00159417, 0.00127947, 0.00104334,\n",
       "        0.00115008, 0.00135481, 0.00145331, 0.00126785, 0.00129939,\n",
       "        0.00114645, 0.00120077, 0.00121885, 0.00115193, 0.00122197,\n",
       "        0.00134449, 0.00138331, 0.00125379, 0.0007376 , 0.00110014,\n",
       "        0.00076597, 0.00060156, 0.00067913, 0.00049099, 0.00091533,\n",
       "        0.00083532, 0.00064132, 0.00093992, 0.00081999, 0.00089992,\n",
       "        0.00144498, 0.00134152, 0.00128787, 0.00123355, 0.00121265,\n",
       "        0.00070082, 0.00104873, 0.00076857, 0.0009438 , 0.00118257,\n",
       "        0.00102862, 0.00071639, 0.0009668 , 0.00080462, 0.00092456,\n",
       "        0.00093952, 0.0007278 , 0.00072626, 0.00096106, 0.00089956,\n",
       "        0.00085694, 0.00094472, 0.00078437, 0.00102747]),\n",
       " 'rank_test_score': array([ 7, 12, 14, 18, 19, 25, 29, 26, 22, 36, 27, 24, 44, 37, 32, 39, 43,\n",
       "        33,  4,  9,  8,  3,  6,  1,  2, 21, 23, 10, 15, 31, 40, 41, 45, 52,\n",
       "        46, 48, 30, 13, 16, 11,  5, 20, 34, 28, 38, 35, 42, 17, 50, 47, 49,\n",
       "        53, 51, 54], dtype=int32)}"
      ]
     },
     "execution_count": 56,
     "metadata": {},
     "output_type": "execute_result"
    }
   ],
   "source": [
    "XGB_GSCV.cv_results_"
   ]
  },
  {
   "cell_type": "code",
   "execution_count": 62,
   "metadata": {},
   "outputs": [
    {
     "data": {
      "text/plain": [
       "[(-0.009779392293374113,\n",
       "  {'colsample_bynode': 1, 'max_depth': 6, 'reg_lambda': 0.08}),\n",
       " (-0.009726701717089942,\n",
       "  {'colsample_bynode': 1, 'max_depth': 6, 'reg_lambda': 0.1}),\n",
       " (-0.009689492992774126,\n",
       "  {'colsample_bynode': 0.6, 'max_depth': 6, 'reg_lambda': 0.1}),\n",
       " (-0.009667603767947343,\n",
       "  {'colsample_bynode': 1, 'max_depth': 6, 'reg_lambda': 0.09}),\n",
       " (-0.009610254999647414,\n",
       "  {'colsample_bynode': 1, 'max_depth': 6, 'reg_lambda': 0.13}),\n",
       " (-0.009604993594268883,\n",
       "  {'colsample_bynode': 1, 'max_depth': 6, 'reg_lambda': 0.11}),\n",
       " (-0.009514918851870155,\n",
       "  {'colsample_bynode': 0.6, 'max_depth': 6, 'reg_lambda': 0.08}),\n",
       " (-0.009513235715750124,\n",
       "  {'colsample_bynode': 1, 'max_depth': 6, 'reg_lambda': 0.12}),\n",
       " (-0.009481743459453237,\n",
       "  {'colsample_bynode': 0.6, 'max_depth': 6, 'reg_lambda': 0.09}),\n",
       " (-0.009469051217315528,\n",
       "  {'colsample_bynode': 0.6, 'max_depth': 6, 'reg_lambda': 0.11}),\n",
       " (-0.009455014586638496,\n",
       "  {'colsample_bynode': 0.3, 'max_depth': 6, 'reg_lambda': 0.13}),\n",
       " (-0.009387543577880195,\n",
       "  {'colsample_bynode': 0.3, 'max_depth': 6, 'reg_lambda': 0.09}),\n",
       " (-0.00937953228122852,\n",
       "  {'colsample_bynode': 1, 'max_depth': 5, 'reg_lambda': 0.09}),\n",
       " (-0.009370507064972292,\n",
       "  {'colsample_bynode': 0.6, 'max_depth': 6, 'reg_lambda': 0.12}),\n",
       " (-0.009364426286897548,\n",
       "  {'colsample_bynode': 0.6, 'max_depth': 6, 'reg_lambda': 0.13}),\n",
       " (-0.00930957054798606,\n",
       "  {'colsample_bynode': 0.3, 'max_depth': 6, 'reg_lambda': 0.1}),\n",
       " (-0.009267654313669133,\n",
       "  {'colsample_bynode': 1, 'max_depth': 5, 'reg_lambda': 0.11}),\n",
       " (-0.009262177757884748,\n",
       "  {'colsample_bynode': 0.3, 'max_depth': 6, 'reg_lambda': 0.12}),\n",
       " (-0.009242757614186881,\n",
       "  {'colsample_bynode': 0.3, 'max_depth': 5, 'reg_lambda': 0.1}),\n",
       " (-0.009241363424521077,\n",
       "  {'colsample_bynode': 1, 'max_depth': 5, 'reg_lambda': 0.1}),\n",
       " (-0.009222726699738278,\n",
       "  {'colsample_bynode': 1, 'max_depth': 5, 'reg_lambda': 0.13}),\n",
       " (-0.00922024634659743,\n",
       "  {'colsample_bynode': 0.3, 'max_depth': 6, 'reg_lambda': 0.08}),\n",
       " (-0.009194287039443727,\n",
       "  {'colsample_bynode': 0.3, 'max_depth': 6, 'reg_lambda': 0.11}),\n",
       " (-0.009152644413301577,\n",
       "  {'colsample_bynode': 0.6, 'max_depth': 5, 'reg_lambda': 0.08}),\n",
       " (-0.009036638164806298,\n",
       "  {'colsample_bynode': 1, 'max_depth': 4, 'reg_lambda': 0.13}),\n",
       " (-0.009035733304392755,\n",
       "  {'colsample_bynode': 0.3, 'max_depth': 5, 'reg_lambda': 0.13}),\n",
       " (-0.009029461855378899,\n",
       "  {'colsample_bynode': 1, 'max_depth': 5, 'reg_lambda': 0.12}),\n",
       " (-0.009017102547972573,\n",
       "  {'colsample_bynode': 0.3, 'max_depth': 5, 'reg_lambda': 0.09}),\n",
       " (-0.009002668258069616,\n",
       "  {'colsample_bynode': 0.3, 'max_depth': 5, 'reg_lambda': 0.12}),\n",
       " (-0.008991179067196858,\n",
       "  {'colsample_bynode': 0.3, 'max_depth': 4, 'reg_lambda': 0.08}),\n",
       " (-0.00897623872375306,\n",
       "  {'colsample_bynode': 0.3, 'max_depth': 5, 'reg_lambda': 0.08}),\n",
       " (-0.00895504907787121,\n",
       "  {'colsample_bynode': 0.6, 'max_depth': 5, 'reg_lambda': 0.11}),\n",
       " (-0.008939474091218272,\n",
       "  {'colsample_bynode': 0.3, 'max_depth': 5, 'reg_lambda': 0.11}),\n",
       " (-0.008934284540575706,\n",
       "  {'colsample_bynode': 0.6, 'max_depth': 5, 'reg_lambda': 0.12}),\n",
       " (-0.008914610512381325,\n",
       "  {'colsample_bynode': 1, 'max_depth': 4, 'reg_lambda': 0.08}),\n",
       " (-0.008902831554944316,\n",
       "  {'colsample_bynode': 0.3, 'max_depth': 4, 'reg_lambda': 0.09}),\n",
       " (-0.008886197839986117,\n",
       "  {'colsample_bynode': 0.3, 'max_depth': 4, 'reg_lambda': 0.1}),\n",
       " (-0.008878829891613073,\n",
       "  {'colsample_bynode': 1, 'max_depth': 5, 'reg_lambda': 0.08}),\n",
       " (-0.008872977902607665,\n",
       "  {'colsample_bynode': 1, 'max_depth': 4, 'reg_lambda': 0.11}),\n",
       " (-0.008864924802583126,\n",
       "  {'colsample_bynode': 0.6, 'max_depth': 5, 'reg_lambda': 0.09}),\n",
       " (-0.008859338054709159,\n",
       "  {'colsample_bynode': 0.3, 'max_depth': 4, 'reg_lambda': 0.11}),\n",
       " (-0.008852232490717453,\n",
       "  {'colsample_bynode': 1, 'max_depth': 4, 'reg_lambda': 0.12}),\n",
       " (-0.008809829019588716,\n",
       "  {'colsample_bynode': 0.3, 'max_depth': 4, 'reg_lambda': 0.12}),\n",
       " (-0.008801326697142373,\n",
       "  {'colsample_bynode': 1, 'max_depth': 4, 'reg_lambda': 0.1}),\n",
       " (-0.008759241855150797,\n",
       "  {'colsample_bynode': 0.6, 'max_depth': 5, 'reg_lambda': 0.1}),\n",
       " (-0.008676162101041152,\n",
       "  {'colsample_bynode': 0.6, 'max_depth': 4, 'reg_lambda': 0.12}),\n",
       " (-0.008650630901612869,\n",
       "  {'colsample_bynode': 0.6, 'max_depth': 4, 'reg_lambda': 0.11}),\n",
       " (-0.008642371818255692,\n",
       "  {'colsample_bynode': 0.3, 'max_depth': 4, 'reg_lambda': 0.13}),\n",
       " (-0.008593098478868105,\n",
       "  {'colsample_bynode': 0.6, 'max_depth': 4, 'reg_lambda': 0.09}),\n",
       " (-0.008589065625788869,\n",
       "  {'colsample_bynode': 1, 'max_depth': 4, 'reg_lambda': 0.09}),\n",
       " (-0.008576849542430282,\n",
       "  {'colsample_bynode': 0.6, 'max_depth': 4, 'reg_lambda': 0.13}),\n",
       " (-0.00854863077629978,\n",
       "  {'colsample_bynode': 0.6, 'max_depth': 4, 'reg_lambda': 0.1}),\n",
       " (-0.008480943847846862,\n",
       "  {'colsample_bynode': 0.6, 'max_depth': 5, 'reg_lambda': 0.13}),\n",
       " (-0.0083316207936785,\n",
       "  {'colsample_bynode': 0.6, 'max_depth': 4, 'reg_lambda': 0.08})]"
      ]
     },
     "execution_count": 62,
     "metadata": {},
     "output_type": "execute_result"
    }
   ],
   "source": [
    "sorted(list(zip(XGB_GSCV.cv_results_['mean_test_score'], XGB_GSCV.cv_results_['params'])))"
   ]
  },
  {
   "cell_type": "code",
   "execution_count": 50,
   "metadata": {},
   "outputs": [
    {
     "name": "stdout",
     "output_type": "stream",
     "text": [
      "0.008482756118082567\n"
     ]
    }
   ],
   "source": [
    "print(RMSE(y_test, XGB_GSCV.best_estimator_.predict(X_test)))"
   ]
  }
 ],
 "metadata": {
  "kernelspec": {
   "display_name": "Python 3",
   "language": "python",
   "name": "python3"
  },
  "language_info": {
   "codemirror_mode": {
    "name": "ipython",
    "version": 3
   },
   "file_extension": ".py",
   "mimetype": "text/x-python",
   "name": "python",
   "nbconvert_exporter": "python",
   "pygments_lexer": "ipython3",
   "version": "3.7.6"
  }
 },
 "nbformat": 4,
 "nbformat_minor": 4
}
