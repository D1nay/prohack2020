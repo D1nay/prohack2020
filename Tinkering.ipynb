{
 "cells": [
  {
   "cell_type": "code",
   "execution_count": 265,
   "metadata": {},
   "outputs": [],
   "source": [
    "import numpy as np\n",
    "import pandas as pd\n",
    "import matplotlib\n",
    "import math\n",
    "from sklearn import model_selection, ensemble, metrics, linear_model, preprocessing\n",
    "from matplotlib import pyplot as plt\n",
    "%matplotlib inline"
   ]
  },
  {
   "cell_type": "code",
   "execution_count": 2,
   "metadata": {},
   "outputs": [],
   "source": [
    "pd.set_option('display.max_rows', None)"
   ]
  },
  {
   "cell_type": "code",
   "execution_count": 61,
   "metadata": {},
   "outputs": [],
   "source": [
    "pd.set_option('display.max_rows', 10)"
   ]
  },
  {
   "cell_type": "code",
   "execution_count": 3,
   "metadata": {},
   "outputs": [],
   "source": [
    "data = pd.read_csv('dataset/train.csv')"
   ]
  },
  {
   "cell_type": "code",
   "execution_count": 4,
   "metadata": {},
   "outputs": [],
   "source": [
    "test = pd.read_csv('dataset/test.csv')"
   ]
  },
  {
   "cell_type": "code",
   "execution_count": 5,
   "metadata": {
    "scrolled": true
   },
   "outputs": [
    {
     "name": "stdout",
     "output_type": "stream",
     "text": [
      "[dtype('int64') dtype('O') dtype('float64') dtype('float64')\n",
      " dtype('float64') dtype('float64') dtype('float64') dtype('float64')\n",
      " dtype('float64') dtype('float64') dtype('float64') dtype('float64')\n",
      " dtype('float64') dtype('float64') dtype('float64') dtype('float64')\n",
      " dtype('float64') dtype('float64') dtype('float64') dtype('float64')\n",
      " dtype('float64') dtype('float64') dtype('float64') dtype('float64')\n",
      " dtype('float64') dtype('float64') dtype('float64') dtype('float64')\n",
      " dtype('float64') dtype('float64') dtype('float64') dtype('float64')\n",
      " dtype('float64') dtype('float64') dtype('float64') dtype('float64')\n",
      " dtype('float64') dtype('float64') dtype('float64') dtype('float64')\n",
      " dtype('float64') dtype('float64') dtype('float64') dtype('float64')\n",
      " dtype('float64') dtype('float64') dtype('float64') dtype('float64')\n",
      " dtype('float64') dtype('float64') dtype('float64') dtype('float64')\n",
      " dtype('float64') dtype('float64') dtype('float64') dtype('float64')\n",
      " dtype('float64') dtype('float64') dtype('float64') dtype('float64')\n",
      " dtype('float64') dtype('float64') dtype('float64') dtype('float64')\n",
      " dtype('float64') dtype('float64') dtype('float64') dtype('float64')\n",
      " dtype('float64') dtype('float64') dtype('float64') dtype('float64')\n",
      " dtype('float64') dtype('float64') dtype('float64') dtype('float64')\n",
      " dtype('float64') dtype('float64') dtype('float64') dtype('float64')]\n",
      "[dtype('int64') dtype('O') dtype('float64') dtype('float64')\n",
      " dtype('float64') dtype('float64') dtype('float64') dtype('float64')\n",
      " dtype('float64') dtype('float64') dtype('float64') dtype('float64')\n",
      " dtype('float64') dtype('float64') dtype('float64') dtype('float64')\n",
      " dtype('float64') dtype('float64') dtype('float64') dtype('float64')\n",
      " dtype('float64') dtype('float64') dtype('float64') dtype('float64')\n",
      " dtype('float64') dtype('float64') dtype('float64') dtype('float64')\n",
      " dtype('float64') dtype('float64') dtype('float64') dtype('float64')\n",
      " dtype('float64') dtype('float64') dtype('float64') dtype('float64')\n",
      " dtype('float64') dtype('float64') dtype('float64') dtype('float64')\n",
      " dtype('float64') dtype('float64') dtype('float64') dtype('float64')\n",
      " dtype('float64') dtype('float64') dtype('float64') dtype('float64')\n",
      " dtype('float64') dtype('float64') dtype('float64') dtype('float64')\n",
      " dtype('float64') dtype('float64') dtype('float64') dtype('float64')\n",
      " dtype('float64') dtype('float64') dtype('float64') dtype('float64')\n",
      " dtype('float64') dtype('float64') dtype('float64') dtype('float64')\n",
      " dtype('float64') dtype('float64') dtype('float64') dtype('float64')\n",
      " dtype('float64') dtype('float64') dtype('float64') dtype('float64')\n",
      " dtype('float64') dtype('float64') dtype('float64') dtype('float64')\n",
      " dtype('float64') dtype('float64') dtype('float64')]\n"
     ]
    }
   ],
   "source": [
    "# Data contains numerical values, except for \"galaxy\" and \n",
    "# \"galactic year\", which represent name and ordinal relationship\n",
    "print(data.dtypes.values)\n",
    "print(test.dtypes.values)"
   ]
  },
  {
   "cell_type": "code",
   "execution_count": 587,
   "metadata": {
    "scrolled": false
   },
   "outputs": [
    {
     "name": "stdout",
     "output_type": "stream",
     "text": [
      "[ 1  2  3  4  5  6  7  8  9 10 11 12 13 14 15 16 17 18 19 20 21 22 23 24\n",
      " 25 26]\n",
      "(26,)\n",
      "[18 19 20 21 22 23 24 25 26 27]\n",
      "(10,)\n",
      "['Andromeda Galaxy (M31)' 'Andromeda I' 'Andromeda II' 'Andromeda III'\n",
      " 'Andromeda IX']\n",
      "(181,)\n"
     ]
    }
   ],
   "source": [
    "#Test dataset contains objects only of latest 10 years,\n",
    "#including unmentioned in train data latest year 1016064\n",
    "unique_years = data['galactic year'].unique()\n",
    "print (unique_years)\n",
    "print (unique_years.shape)\n",
    "\n",
    "print(np.sort(test['galactic year'].unique()))\n",
    "print(test['galactic year'].unique().shape)\n",
    "\n",
    "unique_names = data['galaxy'].unique()\n",
    "unique_names = np.sort(unique_names)\n",
    "print (unique_names[:5])\n",
    "print(unique_names.shape)"
   ]
  },
  {
   "cell_type": "code",
   "execution_count": 590,
   "metadata": {},
   "outputs": [],
   "source": [
    "#Let's map all galactic years to years with increment of 1 year\n",
    "# and map all galaxies to their unique integer key\n",
    "\n",
    "#dictionary for replacement of galactic years with normal years\n",
    "di = {val: ind+1 for ind, val in enumerate(np.append(unique_years,\n",
    "                                                     1016064))}\n",
    "#dictionary for replacement of names with integer keys\n",
    "di_names = {val: ind+1 for ind, val in enumerate(unique_names)}\n",
    "data.replace({'galactic year':di}, inplace=True)\n",
    "test.replace({'galactic year':di}, inplace=True)\n",
    "\n",
    "data.replace({'galaxy':di_names}, inplace=True)\n",
    "test.replace({'galaxy':di_names}, inplace=True)"
   ]
  },
  {
   "cell_type": "code",
   "execution_count": 598,
   "metadata": {},
   "outputs": [
    {
     "data": {
      "text/plain": [
       "165     35\n",
       "189     59\n",
       "416     68\n",
       "574     68\n",
       "762     68\n",
       "        ..\n",
       "2677    66\n",
       "2866     5\n",
       "3019    66\n",
       "3545     5\n",
       "3678     5\n",
       "Length: 19, dtype: int64"
      ]
     },
     "execution_count": 598,
     "metadata": {},
     "output_type": "execute_result"
    }
   ],
   "source": [
    "data[data['galaxy']==59].isna().sum(axis=1)"
   ]
  },
  {
   "cell_type": "code",
   "execution_count": 6,
   "metadata": {
    "scrolled": true
   },
   "outputs": [
    {
     "data": {
      "text/plain": [
       "galactic year                                                                              0.000000\n",
       "y                                                                                          0.000000\n",
       "galaxy                                                                                     0.000000\n",
       "existence expectancy index                                                                 0.000259\n",
       "existence expectancy at birth                                                              0.000259\n",
       "Gross income per capita                                                                    0.007245\n",
       "Income Index                                                                               0.007245\n",
       "Expected years of education (galactic years)                                               0.034411\n",
       "Mean years of education (galactic years)                                                   0.093920\n",
       "Intergalactic Development Index (IDI)                                                      0.101164\n",
       "Education Index                                                                            0.101164\n",
       "Intergalactic Development Index (IDI), Rank                                                0.112031\n",
       "Population using at least basic drinking-water services (%)                                0.477102\n",
       "Population using at least basic sanitation services (%)                                    0.478655\n",
       "Gross capital formation (% of GGP)                                                         0.611384\n",
       "Population, urban (%)                                                                      0.671151\n",
       "Mortality rate, under-five (per 1,000 live births)                                         0.671151\n",
       "Population, total (millions)                                                               0.671151\n",
       "Old age dependency ratio (old age (65 and older) per 100 creatures (ages 15-64))           0.672962\n",
       "Population, ages 15–64 (millions)                                                          0.672962\n",
       "Population, ages 65 and older (millions)                                                   0.672962\n",
       "Life expectancy at birth, male (galactic years)                                            0.672962\n",
       "Life expectancy at birth, female (galactic years)                                          0.672962\n",
       "Population, under age 5 (millions)                                                         0.672962\n",
       "Young age (0-14) dependency ratio (per 100 creatures ages 15-64)                           0.672962\n",
       "Mortality rate, infant (per 1,000 live births)                                             0.674256\n",
       "Mortality rate, male grown up (per 1,000 people)                                           0.675809\n",
       "Mortality rate, female grown up (per 1,000 people)                                         0.675809\n",
       "Adolescent birth rate (births per 1,000 female creatures ages 15-19)                       0.676067\n",
       "Maternal mortality ratio (deaths per 100,000 live births)                                  0.676067\n",
       "Labour force participation rate (% ages 15 and older)                                      0.679948\n",
       "Employment in agriculture (% of total employment)                                          0.679948\n",
       "Total unemployment rate (female to male ratio)                                             0.679948\n",
       "Unemployment, total (% of labour force)                                                    0.679948\n",
       "Share of employment in nonagriculture, female (% of total employment in nonagriculture)    0.679948\n",
       "Vulnerable employment (% of total employment)                                              0.679948\n",
       "Employment to population ratio (% ages 15 and older)                                       0.679948\n",
       "Labour force participation rate (% ages 15 and older), female                              0.679948\n",
       "Labour force participation rate (% ages 15 and older), male                                0.679948\n",
       "Employment in services (% of total employment)                                             0.679948\n",
       "Youth unemployment rate (female to male ratio)                                             0.680207\n",
       "Unemployment, youth (% ages 15–24)                                                         0.680207\n",
       "Renewable energy consumption (% of total final energy consumption)                         0.680466\n",
       "Jungle area (% of total land area)                                                         0.680724\n",
       "Infants lacking immunization, red hot disease (% of one-galactic year-olds)                0.684605\n",
       "Infants lacking immunization, Combination Vaccine (% of one-galactic year-olds)            0.684605\n",
       "Gross galactic product (GGP) per capita                                                    0.689004\n",
       "Gross galactic product (GGP), total                                                        0.689004\n",
       "Outer Galaxies direct investment, net inflows (% of GGP)                                   0.697542\n",
       "Exports and imports (% of GGP)                                                             0.704010\n",
       "Mean years of education, female (galactic years)                                           0.705045\n",
       "Mean years of education, male (galactic years)                                             0.705563\n",
       "Natural resource depletion                                                                 0.707115\n",
       "Share of seats in senate (% held by female)                                                0.709444\n",
       "Expected years of education, female (galactic years)                                       0.713066\n",
       "Expected years of education, male (galactic years)                                         0.713325\n",
       "Population with at least some secondary education, female (% ages 25 and older)            0.718241\n",
       "Population with at least some secondary education, male (% ages 25 and older)              0.718758\n",
       "Domestic credit provided by financial sector (% of GGP)                                    0.720828\n",
       "Gross fixed capital formation (% of GGP)                                                   0.722122\n",
       "Estimated gross galactic income per capita, male                                           0.727038\n",
       "Estimated gross galactic income per capita, female                                         0.727038\n",
       "Population with at least some secondary education (% ages 25 and older)                    0.728072\n",
       "Gross enrolment ratio, primary (% of primary under-age population)                         0.731436\n",
       "Rural population with access to electricity (%)                                            0.733765\n",
       "Remittances, inflows (% of GGP)                                                            0.734023\n",
       "Intergalactic inbound tourists (thousands)                                                 0.742561\n",
       "Creature Immunodeficiency Disease prevalence, adult (% ages 15-49), total                  0.756533\n",
       "Intergalactic Development Index (IDI), female                                              0.763001\n",
       "Intergalactic Development Index (IDI), male                                                0.763260\n",
       "Gender Development Index (GDI)                                                             0.763519\n",
       "Adjusted net savings                                                                       0.764036\n",
       "Respiratory disease incidence (per 100,000 people)                                         0.768176\n",
       "Intergalactic Development Index (IDI), female, Rank                                        0.768952\n",
       "Intergalactic Development Index (IDI), male, Rank                                          0.769211\n",
       "Interstellar phone subscriptions (per 100 people)                                          0.769470\n",
       "Private galaxy capital flows (% of GGP)                                                    0.773868\n",
       "Interstellar Data Net users, total (% of population)                                       0.774386\n",
       "Current health expenditure (% of GGP)                                                      0.775679\n",
       "Gender Inequality Index (GII)                                                              0.781630\n",
       "dtype: float64"
      ]
     },
     "execution_count": 6,
     "metadata": {},
     "output_type": "execute_result"
    }
   ],
   "source": [
    "#Let's see how much data is missing for each feature\n",
    "data.isna().mean().sort_values()"
   ]
  },
  {
   "cell_type": "code",
   "execution_count": 9,
   "metadata": {},
   "outputs": [
    {
     "data": {
      "text/plain": [
       "True"
      ]
     },
     "execution_count": 9,
     "metadata": {},
     "output_type": "execute_result"
    }
   ],
   "source": [
    "#Are there any new unknown galaxies in the test dataset?\n",
    "#The answer is NO\n",
    "a = set(data['galaxy'].unique())\n",
    "b = set(test['galaxy'].unique())\n",
    "b.issubset(a)"
   ]
  },
  {
   "cell_type": "code",
   "execution_count": null,
   "metadata": {},
   "outputs": [],
   "source": []
  },
  {
   "cell_type": "code",
   "execution_count": 41,
   "metadata": {
    "scrolled": true
   },
   "outputs": [
    {
     "name": "stdout",
     "output_type": "stream",
     "text": [
      "galactic year\n",
      "990025     0.081928\n",
      "991020     0.082005\n",
      "992016     0.082007\n",
      "993012     0.082011\n",
      "994009     0.082023\n",
      "995006     0.082027\n",
      "996004     0.082088\n",
      "997002     0.082100\n",
      "998001     0.082106\n",
      "999000     0.082111\n",
      "1000000    0.082117\n",
      "1001000    0.082297\n",
      "1002001    0.082297\n",
      "1003002    0.082300\n",
      "1004004    0.082291\n",
      "1005006    0.082288\n",
      "1006009    0.082435\n",
      "1007012    0.081335\n",
      "1008016    0.081379\n",
      "1009020    0.081381\n",
      "1010025    0.081331\n",
      "1011030    0.080062\n",
      "1012036    0.094917\n",
      "1013042    0.098005\n",
      "1014049    0.087332\n",
      "1015056    0.080857\n",
      "Name: y, dtype: float64\n"
     ]
    },
    {
     "data": {
      "text/plain": [
       "[<matplotlib.lines.Line2D at 0x7f3f5e4d5e90>]"
      ]
     },
     "execution_count": 41,
     "metadata": {},
     "output_type": "execute_result"
    },
    {
     "data": {
      "image/png": "[encoded data removed]",
      "text/plain": [
       "<Figure size 432x288 with 1 Axes>"
      ]
     },
     "metadata": {
      "needs_background": "light"
     },
     "output_type": "display_data"
    }
   ],
   "source": [
    "\n",
    "y_dist = data.groupby(['galactic year'])['y'].mean()\n",
    "print (y_dist)\n",
    "plt.plot(y_dist)"
   ]
  },
  {
   "cell_type": "code",
   "execution_count": 266,
   "metadata": {
    "scrolled": true
   },
   "outputs": [
    {
     "name": "stdout",
     "output_type": "stream",
     "text": [
      "galaxy\n",
      "Andromeda Galaxy (M31)                  0.043539\n",
      "Andromeda I                             0.049126\n",
      "Andromeda II                            0.176689\n",
      "Andromeda III                           0.117387\n",
      "Andromeda IX                            0.166813\n",
      "                                          ...   \n",
      "Ursa Major II Dwarf                     0.190628\n",
      "Ursa Minor Dwarf                        0.051538\n",
      "Virgo I                                 0.042337\n",
      "Willman 1                               0.055283\n",
      "Wolf-Lundmark-Melotte (WLM, DDO 221)    0.044738\n",
      "Name: y, Length: 181, dtype: float64\n"
     ]
    },
    {
     "data": {
      "text/plain": [
       "(array([125.,  21.,   8.,  10.,   8.,   6.,   0.,   2.,   0.,   1.]),\n",
       " array([0.03693184, 0.07251439, 0.10809694, 0.14367949, 0.17926205,\n",
       "        0.2148446 , 0.25042715, 0.2860097 , 0.32159225, 0.3571748 ,\n",
       "        0.39275736]),\n",
       " <a list of 10 Patch objects>)"
      ]
     },
     "execution_count": 266,
     "metadata": {},
     "output_type": "execute_result"
    },
    {
     "data": {
      "image/png": "[encoded data removed]",
      "text/plain": [
       "<Figure size 432x288 with 1 Axes>"
      ]
     },
     "metadata": {
      "needs_background": "light"
     },
     "output_type": "display_data"
    }
   ],
   "source": [
    "y_dist = data.groupby(['galaxy'])['y'].mean()\n",
    "print(y_dist)\n",
    "plt.hist(y_dist)"
   ]
  },
  {
   "cell_type": "code",
   "execution_count": 425,
   "metadata": {},
   "outputs": [
    {
     "data": {
      "image/png": "[encoded data removed]",
      "text/plain": [
       "<Figure size 432x288 with 1 Axes>"
      ]
     },
     "metadata": {
      "needs_background": "light"
     },
     "output_type": "display_data"
    }
   ],
   "source": [
    "y_dist = data.groupby(['galaxy'])['y'].mean()\n",
    "#print(y_dist)\n",
    "plt.hist(y_dist)\n",
    "plt.show()"
   ]
  },
  {
   "cell_type": "code",
   "execution_count": 426,
   "metadata": {},
   "outputs": [
    {
     "data": {
      "image/png": "[encoded data removed]",
      "text/plain": [
       "<Figure size 432x288 with 1 Axes>"
      ]
     },
     "metadata": {
      "needs_background": "light"
     },
     "output_type": "display_data"
    }
   ],
   "source": [
    "plt.hist(y)\n",
    "plt.show()"
   ]
  },
  {
   "cell_type": "code",
   "execution_count": 269,
   "metadata": {},
   "outputs": [
    {
     "data": {
      "image/png": "[encoded data removed]",
      "text/plain": [
       "<Figure size 432x288 with 1 Axes>"
      ]
     },
     "metadata": {
      "needs_background": "light"
     },
     "output_type": "display_data"
    }
   ],
   "source": [
    "# transforming target y to follow a normal distribution\n",
    "# to improve the quality of linear regression\n",
    "from sklearn.preprocessing import QuantileTransformer, quantile_transform\n",
    "qt = QuantileTransformer(n_quantiles=1000, output_distribution='normal' )\n",
    "plt.hist(qt.fit_transform(y.reshape(-1, 1)), bins=100)\n",
    "plt.show()"
   ]
  },
  {
   "cell_type": "code",
   "execution_count": 56,
   "metadata": {
    "scrolled": false
   },
   "outputs": [
    {
     "data": {
      "text/plain": [
       "count    3865.000000\n",
       "mean        0.082773\n",
       "std         0.063415\n",
       "min         0.013036\n",
       "25%         0.047889\n",
       "50%         0.057820\n",
       "75%         0.087389\n",
       "max         0.683813\n",
       "Name: y, dtype: float64"
      ]
     },
     "execution_count": 56,
     "metadata": {},
     "output_type": "execute_result"
    }
   ],
   "source": [
    "data.iloc[:, -1].describe()"
   ]
  },
  {
   "cell_type": "code",
   "execution_count": 58,
   "metadata": {},
   "outputs": [
    {
     "data": {
      "text/plain": [
       "array([ 0.        ,  0.99400599,  1.98901099,  2.98401598,  3.98001998,\n",
       "        4.97602398,  5.97302697,  6.97002997,  7.96803197,  8.96603397,\n",
       "        9.96503497, 10.96403596, 11.96403596, 12.96403596, 13.96503497,\n",
       "       14.96603397, 15.96803197, 16.97002997, 17.97302697, 18.97602398,\n",
       "       19.98001998, 20.98401598, 21.98901099, 22.99400599, 24.        ,\n",
       "       25.00599401])"
      ]
     },
     "execution_count": 58,
     "metadata": {},
     "output_type": "execute_result"
    }
   ],
   "source": [
    "(unique_years - 990025)/1001"
   ]
  },
  {
   "cell_type": "code",
   "execution_count": 25,
   "metadata": {},
   "outputs": [
    {
     "name": "stdout",
     "output_type": "stream",
     "text": [
      "galaxy\n",
      "NGC 5253                                        1\n",
      "Wolf-Lundmark-Melotte (WLM, DDO 221)           17\n",
      "Andromeda XXI[57]                              17\n",
      "Andromeda X                                    17\n",
      "Aquarius Dwarf Galaxy (DDO 210)                17\n",
      "Sagittarius Dwarf Irregular Galaxy (SagDIG)    17\n",
      "Pegasus Dwarf Irregular (DDO 216)              17\n",
      "Perseus I (Andromeda XXXIII)                   18\n",
      "Canes Venatici I Dwarf                         18\n",
      "Cassiopeia Dwarf (Cas dSph, Andromeda VII)     18\n",
      "Cassiopeia II (Andromeda XXX)                  18\n",
      "Columba I                                      18\n",
      "Fornax Dwarf (E356-G04)                        18\n",
      "Hydra II                                       18\n",
      "Lacerta I (Andromeda XXXI)                     18\n",
      "Leo I Dwarf (DDO 74, UGC 5470)                 18\n",
      "Barnard's Galaxy (NGC 6822)                    18\n",
      "Leo T Dwarf                                    18\n",
      "Leo V Dwarf                                    18\n",
      "M110 (NGC 205)                                 18\n",
      "Pisces III (Andromeda XIII)                    18\n",
      "NGC 185                                        18\n",
      "Leo A (Leo III, DDO 69)                        18\n",
      "Leo II Dwarf (Leo B, DDO 93)                   18\n",
      "Andromeda Galaxy (M31)                         18\n",
      "Andromeda V                                    18\n",
      "Andromeda XI                                   18\n",
      "Andromeda XVII                                 18\n",
      "Andromeda I                                    18\n",
      "Andromeda XXVI                                 18\n",
      "Andromeda III                                  18\n",
      "Andromeda XXIX                                 18\n",
      "Andromeda IX                                   18\n",
      "ESO 383-087 (ISG 39)                           19\n",
      "Segue 1                                        19\n",
      "ESO 540-032                                    19\n",
      "Sagittarius II                                 19\n",
      "Reticulum III                                  19\n",
      "Pisces I                                       19\n",
      "Phoenix II                                     19\n",
      "HIPASS J1247-77                                19\n",
      "Sculptor Dwarf (E351-G30)                      19\n",
      "NGC 5102                                       19\n",
      "NGC 4214 (UGC 7278)                            19\n",
      "NGC 4163 (NGC 4167)                            19\n",
      "Hydrus I                                       19\n",
      "NGC 3741                                       19\n",
      "NGC 247                                        19\n",
      "KK98 77                                        19\n",
      "KKH 11 (ZOAG G135.74-04.53)                    19\n",
      "Maffei 1                                       19\n",
      "MB 3                                           19\n",
      "KKh 086                                        19\n",
      "ESO 325-11                                     19\n",
      "Segue 2                                        19\n",
      "Large Magellanic Cloud (LMC)                   19\n",
      "ESO 274-01[70]                                 19\n",
      "UGCA 133 (DDO 44)                              19\n",
      "UGC 8833                                       19\n",
      "Carina Dwarf (E206-G220)                       19\n",
      "Carina II                                      19\n",
      "Carina III                                     19\n",
      "UGCA 92                                        19\n",
      "Boötes III                                     19\n",
      "UGC 7577 (DDO 125)                             19\n",
      "Tucana II                                      19\n",
      "Antlia 2                                       19\n",
      "Coma Berenices Dwarf                           19\n",
      "Crater II                                      19\n",
      "Small Magellanic Cloud (SMC, NGC 292)          19\n",
      "Donatiello I                                   19\n",
      "Draco Dwarf (DDO 208)                          19\n",
      "Dwingeloo 1                                    19\n",
      "Triangulum II                                  19\n",
      "UGCA 105                                       19\n",
      "Cas 1 (KK98 19)                                20\n",
      "KKH 37 (Mai 16)                                20\n",
      "UGCA 15 (DDO 6)                                20\n",
      "Antlia B                                       21\n",
      "KKs 3                                          21\n",
      "KKR 25                                         21\n",
      "UGCA 438 (ESO 407-018)                         21\n",
      "Leo P                                          21\n",
      "KKh 060                                        21\n",
      "IC 5152                                        21\n",
      "IC 4662 (ESO 102-14)                           21\n",
      "IC 3104                                        21\n",
      "ESO 294-010                                    21\n",
      "UGC 4879 (VV124)[61]                           21\n",
      "Sextans A (92205, DDO 75)                      21\n",
      "NGC 2403                                       21\n",
      "NGC 300                                        22\n",
      "NGC 3109                                       22\n",
      "NGC 55                                         22\n",
      "UGC 8508 (I Zw 060)                            22\n",
      "Sextans B (UGC 5373)                           22\n",
      "UGC 9128 (DDO 187)                             22\n",
      "Antlia Dwarf                                   22\n",
      "GR 8 (DDO 155)                                 22\n",
      "KUG 1210+301B (KK98 127)                       22\n",
      "KKh 98                                         22\n",
      "Andromeda XVIII[60]                            22\n",
      "HIZSS 003                                      22\n",
      "ESO 410-G005                                   22\n",
      "KKR 03 (KK98 230)                              22\n",
      "Hercules Dwarf                                 23\n",
      "IC 342                                         23\n",
      "Camelopardalis B                               23\n",
      "NGC 1569 (UGC 3056)                            23\n",
      "Holmberg II (DDO 50, UGC 4305)                 23\n",
      "Boötes I                                       24\n",
      "Boötes II                                      24\n",
      "Grus II                                        24\n",
      "Grus I                                         24\n",
      "Pictor II                                      24\n",
      "UGC 9240 (DDO 190)                             24\n",
      "UGC 4483                                       24\n",
      "ESO 540-030 (KDG 2)                            24\n",
      "Sextans Dwarf Sph                              24\n",
      "Draco II                                       24\n",
      "UGC 8651 (DDO 181)                             24\n",
      "Reticulum II                                   24\n",
      "Dwingeloo 2                                    24\n",
      "FM2000 1                                       24\n",
      "Sagittarius Dwarf Sphr SagDEG                  24\n",
      "ESO 321-014[70]                                24\n",
      "DDO 99 (UGC 6817)                              24\n",
      "Tucana III                                     24\n",
      "NGC 5237                                       24\n",
      "MB 1 (KK98 21)                                 24\n",
      "KKH 12                                         24\n",
      "Maffei 2                                       24\n",
      "Ursa Major II Dwarf                            24\n",
      "Aquarius II                                    24\n",
      "NGC 1560                                       24\n",
      "Tucana IV                                      24\n",
      "UGCA 86                                        24\n",
      "NGC 2366                                       24\n",
      "Ursa Major I Dwarf (UMa I dSph)                24\n",
      "KK98 35                                        24\n",
      "Indus II                                       24\n",
      "UGCA 292                                       24\n",
      "NGC 404                                        24\n",
      "UGCA 276 (DDO 113)                             24\n",
      "Virgo I                                        24\n",
      "Horologium II                                  24\n",
      "Horologium I                                   24\n",
      "NGC 5206                                       24\n",
      "Ursa Minor Dwarf                               24\n",
      "Willman 1                                      24\n",
      "Cetus Dwarf                                    25\n",
      "Andromeda XXV                                  25\n",
      "Canes Venatici II Dwarf                        25\n",
      "Andromeda XXVIII                               25\n",
      "Boötes IV                                      25\n",
      "Cassiopeia III (Andromeda XXXII)               25\n",
      "Andromeda XX                                   25\n",
      "Pisces IV (Andromeda XIV)                      25\n",
      "Pegasus Dwarf Sph (And VI)                     25\n",
      "Andromeda VIII                                 25\n",
      "IC 1613 (UGC 668)                              25\n",
      "IC 10 (UGC 192)                                25\n",
      "Andromeda XXIII                                25\n",
      "Cetus III                                      25\n",
      "Pegasus III                                    25\n",
      "Phoenix Dwarf Galaxy (P 6830)                  25\n",
      "Pisces Dwarf                                   25\n",
      "Pisces II                                      25\n",
      "Andromeda II                                   25\n",
      "Pisces V (Andromeda XVI)                       25\n",
      "Leo IV Dwarf                                   25\n",
      "Eridanus II                                    25\n",
      "Triangulum Galaxy (M33)                        25\n",
      "Andromeda XV                                   25\n",
      "NGC 147 (DDO 3)                                25\n",
      "M32 (NGC 221)                                  25\n",
      "Tucana Dwarf                                   26\n",
      "Andromeda XXII[57]                             26\n",
      "Andromeda XXIV                                 26\n",
      "Andromeda XII                                  26\n",
      "Andromeda XIX[60]                              26\n",
      "Name: galactic year, dtype: int64\n"
     ]
    }
   ],
   "source": [
    "#With the exception of one galaxy NGC 5253 (drop it?), there at least 17 points for each galaxy - nice\n",
    "print(data.groupby(['galaxy'])['galactic year'].count().sort_values())"
   ]
  },
  {
   "cell_type": "code",
   "execution_count": 43,
   "metadata": {},
   "outputs": [
    {
     "data": {
      "text/plain": [
       "[<matplotlib.lines.Line2D at 0x7ff188c63490>]"
      ]
     },
     "execution_count": 43,
     "metadata": {},
     "output_type": "execute_result"
    },
    {
     "data": {
      "image/png": "[encoded data removed]",
      "text/plain": [
       "<Figure size 432x288 with 1 Axes>"
      ]
     },
     "metadata": {
      "needs_background": "light"
     },
     "output_type": "display_data"
    }
   ],
   "source": [
    "galslice = data[data['galaxy'] == 'Sextans B (UGC 5373)']\n",
    "plt.plot(galslice['galactic year'], galslice['y'])"
   ]
  },
  {
   "cell_type": "markdown",
   "metadata": {},
   "source": [
    "Let's try replacing all NaN in data with zeros. Furthermore in this part I assume that the target variable y does not depend on the galactic year nor the galaxy the data comes from. The assumption is that the final index is calculated solely based on the statistics of a given galaxy in a given year. In other words, I believe here that y is non-discriminative towards what galaxy and which year data is drawn from. "
   ]
  },
  {
   "cell_type": "code",
   "execution_count": 329,
   "metadata": {},
   "outputs": [
    {
     "name": "stdout",
     "output_type": "stream",
     "text": [
      "0.03452235167623197 Linreg on train data\n",
      "0.037545690346621606 Linreg on test data\n",
      "\n",
      "0.033477194937087264 SGDreg on train data\n",
      "0.03684363184971296 SGDreg on test data\n"
     ]
    }
   ],
   "source": [
    "from sklearn.model_selection import cross_val_score as CVS\n",
    "from sklearn.linear_model import LinearRegression as LR\n",
    "from sklearn.metrics import mean_squared_error as MSE\n",
    "from sklearn.compose import TransformedTargetRegressor as TransTargReg\n",
    "\n",
    "# getting X and y\n",
    "X = data.fillna(value=0).iloc[:, 2:-1].values\n",
    "y = data.fillna(value=0).iloc[:, -1].values\n",
    "\n",
    "#creating a target transformer (normal)\n",
    "qt = QuantileTransformer(n_quantiles=1000, output_distribution='normal' )\n",
    "\n",
    "\n",
    "# shortcut for scorer\n",
    "nrmse = 'neg_root_mean_squared_error'\n",
    "# normalize\n",
    "scaler = preprocessing.StandardScaler()\n",
    "X = scaler.fit_transform(X)\n",
    "\n",
    "(X_train, X_test, y_train,\n",
    " y_test) = model_selection.train_test_split(X, y,\n",
    "          test_size = 0.2, shuffle=True, random_state=425)\n",
    "\n",
    "lr = TransTargReg(regressor=linear_model.LinearRegression(),\n",
    "                  transformer=qt)\n",
    "lr.fit(X_train, y_train)\n",
    "\n",
    "train_rmse = MSE(y_train, lr.predict(X_train))**0.5\n",
    "test_rmse = MSE(y_test, lr.predict(X_test))**0.5\n",
    "print(train_rmse, 'Linreg on train data')\n",
    "print(test_rmse, 'Linreg on test data\\n')\n",
    "\n",
    "SGDreg = TransTargReg(regressor=linear_model.SGDRegressor(loss='huber',\n",
    "                                   penalty='l2',\n",
    "                                   alpha=0.01,\n",
    "                                   epsilon=0.3,\n",
    "                                   learning_rate='adaptive'),\n",
    "                      transformer=qt)\n",
    "SGDreg.fit(X_train, y_train)\n",
    "\n",
    "\n",
    "train_rmse = MSE(y_train, SGDreg.predict(X_train))**0.5\n",
    "test_rmse = MSE(y_test, SGDreg.predict(X_test))**0.5\n",
    "print(train_rmse, 'SGDreg on train data')\n",
    "print(test_rmse, 'SGDreg on test data')\n",
    "\n"
   ]
  },
  {
   "cell_type": "code",
   "execution_count": 555,
   "metadata": {
    "scrolled": true
   },
   "outputs": [
    {
     "name": "stdout",
     "output_type": "stream",
     "text": [
      "CPU times: user 7min 54s, sys: 14.5 s, total: 8min 8s\n",
      "Wall time: 4h 22min 38s\n"
     ]
    },
    {
     "data": {
      "text/plain": [
       "GridSearchCV(cv=None, error_score=nan,\n",
       "             estimator=TransformedTargetRegressor(check_inverse=True, func=None,\n",
       "                                                  inverse_func=None,\n",
       "                                                  regressor=SGDRegressor(alpha=0.01,\n",
       "                                                                         average=False,\n",
       "                                                                         early_stopping=False,\n",
       "                                                                         epsilon=0.3,\n",
       "                                                                         eta0=0.01,\n",
       "                                                                         fit_intercept=True,\n",
       "                                                                         l1_ratio=0.15,\n",
       "                                                                         learning_rate='adaptive',\n",
       "                                                                         loss='huber',\n",
       "                                                                         max_iter=1000,\n",
       "                                                                         n_iter_no_change=5,\n",
       "                                                                         penalty='l2',\n",
       "                                                                         power_t=0.25,\n",
       "                                                                         random_s...\n",
       "                         'regressor__eta0': [0.01, 0.1, 1, 0.0001],\n",
       "                         'regressor__learning_rate': ['constant', 'optimal',\n",
       "                                                      'invscaling',\n",
       "                                                      'adaptive'],\n",
       "                         'regressor__loss': ['huber', 'squared_loss',\n",
       "                                             'epsilon_insensitive'],\n",
       "                         'regressor__penalty': ['l2', 'l1', 'elasticnet'],\n",
       "                         'regressor__tol': [0.0001, 0.001, 0.01]},\n",
       "             pre_dispatch='2*n_jobs', refit=True, return_train_score=False,\n",
       "             scoring='neg_root_mean_squared_error', verbose=0)"
      ]
     },
     "execution_count": 555,
     "metadata": {},
     "output_type": "execute_result"
    }
   ],
   "source": [
    "%%time\n",
    "\n",
    "# Tuning hyperparameters of an SGD regressor\n",
    "param_grid = {\n",
    "    'regressor__loss': ['huber', 'squared_loss', 'epsilon_insensitive'],\n",
    "    'regressor__penalty': ['l2', 'l1', 'elasticnet'],\n",
    "    'regressor__alpha' : [0.0001, 0.001, 0.01, 0.1, 1, 0.00001, 0.000001],\n",
    "    'regressor__epsilon': [0.1, 0.01, 0.001, 0.3, 0.5],\n",
    "    'regressor__learning_rate': ['constant', 'optimal', 'invscaling', 'adaptive'],\n",
    "    'regressor__tol': [1e-4, 1e-3, 1e-2],\n",
    "    'regressor__epsilon':[0.1, 0.01, 0.5, 1, 1.5, 2, 2.5], \n",
    "    'regressor__eta0': [0.01, 0.1, 1, 0.0001]\n",
    "}\n",
    "SGDreg_GSCV = model_selection.GridSearchCV(SGDreg, param_grid=param_grid, n_jobs=3, scoring='neg_root_mean_squared_error')\n",
    "SGDreg_GSCV.fit(X_train, y_train)"
   ]
  },
  {
   "cell_type": "code",
   "execution_count": 559,
   "metadata": {},
   "outputs": [
    {
     "data": {
      "text/plain": [
       "0.03586419314511298"
      ]
     },
     "execution_count": 559,
     "metadata": {},
     "output_type": "execute_result"
    }
   ],
   "source": [
    "MSE(y_test, SGDreg_GSCV.best_estimator_.predict(X_test))**0.5"
   ]
  },
  {
   "cell_type": "code",
   "execution_count": 280,
   "metadata": {
    "scrolled": true
   },
   "outputs": [
    {
     "name": "stdout",
     "output_type": "stream",
     "text": [
      "{'regressor__loss': 'huber'}\n",
      "-0.03415186563078466\n"
     ]
    }
   ],
   "source": [
    "print(SGDreg_GSCV.best_params_)\n",
    "print(SGDreg_GSCV.best_score_)"
   ]
  },
  {
   "cell_type": "code",
   "execution_count": 321,
   "metadata": {},
   "outputs": [
    {
     "data": {
      "text/plain": [
       "RandomForestRegressor(bootstrap=True, ccp_alpha=0.0, criterion='mse',\n",
       "                      max_depth=None, max_features=26, max_leaf_nodes=None,\n",
       "                      max_samples=None, min_impurity_decrease=0.0,\n",
       "                      min_impurity_split=None, min_samples_leaf=1,\n",
       "                      min_samples_split=2, min_weight_fraction_leaf=0.0,\n",
       "                      n_estimators=300, n_jobs=3, oob_score=False,\n",
       "                      random_state=None, verbose=0, warm_start=False)"
      ]
     },
     "execution_count": 321,
     "metadata": {},
     "output_type": "execute_result"
    }
   ],
   "source": [
    "#Let's use RandomForest\n",
    "from sklearn.ensemble import RandomForestRegressor\n",
    "forest = RandomForestRegressor(n_estimators=300,\n",
    "                              criterion='mse',\n",
    "                              max_depth=None,\n",
    "                              min_samples_split=2,\n",
    "                              min_samples_leaf=1,\n",
    "                              max_features=26,\n",
    "                              n_jobs=3)\n",
    "forest.fit(X_train, y_train)"
   ]
  },
  {
   "cell_type": "code",
   "execution_count": 322,
   "metadata": {
    "scrolled": true
   },
   "outputs": [
    {
     "name": "stdout",
     "output_type": "stream",
     "text": [
      "0.010259119702342894\n",
      "0.028155913993791946\n"
     ]
    }
   ],
   "source": [
    "print(MSE(y_train, forest.predict(X_train))**0.5)\n",
    "print(MSE(y_test, forest.predict(X_test))**0.5)"
   ]
  },
  {
   "cell_type": "code",
   "execution_count": 343,
   "metadata": {},
   "outputs": [
    {
     "name": "stdout",
     "output_type": "stream",
     "text": [
      "0.0003990202436867411\n",
      "0.02735101354723755\n"
     ]
    }
   ],
   "source": [
    "#XGBoost\n",
    "import xgboost as xgb\n",
    "XGB = TransTargReg(xgb.XGBRegressor(max_depth=5,\n",
    "    learning_rate=0.1,\n",
    "    n_estimators=2000,\n",
    "    verbosity=1,\n",
    "    silent=None,\n",
    "    objective='reg:squarederror',\n",
    "    booster='gbtree',\n",
    "    n_jobs=3,\n",
    "    nthread=None,\n",
    "    gamma=0,\n",
    "    min_child_weight=1,\n",
    "    max_delta_step=0,\n",
    "    subsample=0.5,\n",
    "    colsample_bytree=1,\n",
    "    colsample_bylevel=1,\n",
    "    colsample_bynode=1,\n",
    "    reg_alpha=0,\n",
    "    reg_lambda=1,\n",
    "    scale_pos_weight=1,\n",
    "    base_score=0.5,\n",
    "    random_state=42,\n",
    "    seed=None,\n",
    "    missing=None,\n",
    "    importance_type='gain'),\n",
    "                   qt)\n",
    "XGB.fit(X_train, y_train)\n",
    "\n",
    "print(MSE(y_train, XGB.predict(X_train))**0.5)\n",
    "print(MSE(y_test, XGB.predict(X_test))**0.5)"
   ]
  },
  {
   "cell_type": "code",
   "execution_count": 363,
   "metadata": {},
   "outputs": [
    {
     "data": {
      "text/plain": [
       "Text(0.5, 1.0, 'Existence expectancy index')"
      ]
     },
     "execution_count": 363,
     "metadata": {},
     "output_type": "execute_result"
    },
    {
     "data": {
      "image/png": "[encoded data removed]",
      "text/plain": [
       "<Figure size 432x288 with 1 Axes>"
      ]
     },
     "metadata": {
      "needs_background": "light"
     },
     "output_type": "display_data"
    }
   ],
   "source": [
    "plt.hist(test.iloc[:, 2])\n",
    "plt.title('Existence expectancy index')"
   ]
  },
  {
   "cell_type": "code",
   "execution_count": 331,
   "metadata": {
    "scrolled": true
   },
   "outputs": [
    {
     "data": {
      "text/plain": [
       "GridSearchCV(cv=None, error_score=nan,\n",
       "             estimator=TransformedTargetRegressor(check_inverse=True, func=None,\n",
       "                                                  inverse_func=None,\n",
       "                                                  regressor=XGBRegressor(base_score=0.5,\n",
       "                                                                         booster='gbtree',\n",
       "                                                                         colsample_bylevel=1,\n",
       "                                                                         colsample_bynode=1,\n",
       "                                                                         colsample_bytree=1,\n",
       "                                                                         gamma=0,\n",
       "                                                                         importance_type='gain',\n",
       "                                                                         learning_rate=0.1,\n",
       "                                                                         max_delta_step=0,\n",
       "                                                                         max_depth=5,\n",
       "                                                                         min_child_weight=1,\n",
       "                                                                         missing=None,\n",
       "                                                                         n_esti...\n",
       "                                                                                  ignore_implicit_zeros=False,\n",
       "                                                                                  n_quantiles=1000,\n",
       "                                                                                  output_distribution='normal',\n",
       "                                                                                  random_state=None,\n",
       "                                                                                  subsample=100000)),\n",
       "             iid='deprecated', n_jobs=3,\n",
       "             param_grid={'regressor__learning_rate': [0.1],\n",
       "                         'regressor__max_depth': [2, 4, 6, 8, 10],\n",
       "                         'regressor__n_estimators': [200, 400, 800, 1200]},\n",
       "             pre_dispatch='2*n_jobs', refit=True, return_train_score=False,\n",
       "             scoring='neg_root_mean_squared_error', verbose=0)"
      ]
     },
     "execution_count": 331,
     "metadata": {},
     "output_type": "execute_result"
    }
   ],
   "source": [
    "#GridSearch for XGBoost RF hyperparameters\n",
    "param_grid = {\n",
    "    'regressor__max_depth': [2,4,6,8,10],\n",
    "    'regressor__learning_rate': [0.1],\n",
    "    'regressor__n_estimators': [200, 400, 800, 1200],\n",
    "}\n",
    "XGB_GSCV = model_selection.GridSearchCV(XGB, param_grid=param_grid, n_jobs=3, scoring='neg_root_mean_squared_error')\n",
    "XGB_GSCV.fit(X_train, y_train)"
   ]
  },
  {
   "cell_type": "code",
   "execution_count": 428,
   "metadata": {},
   "outputs": [
    {
     "data": {
      "text/plain": [
       "{'regressor__learning_rate': 0.1,\n",
       " 'regressor__max_depth': 4,\n",
       " 'regressor__n_estimators': 400}"
      ]
     },
     "execution_count": 428,
     "metadata": {},
     "output_type": "execute_result"
    }
   ],
   "source": [
    "XGB_GSCV.best_params_"
   ]
  },
  {
   "cell_type": "code",
   "execution_count": 337,
   "metadata": {},
   "outputs": [
    {
     "data": {
      "text/plain": [
       "0.030103865780963007"
      ]
     },
     "execution_count": 337,
     "metadata": {},
     "output_type": "execute_result"
    }
   ],
   "source": [
    "MSE(y_test, XGB_GSCV.best_estimator_.predict(X_test))**0.5"
   ]
  },
  {
   "cell_type": "code",
   "execution_count": 360,
   "metadata": {
    "scrolled": true
   },
   "outputs": [
    {
     "data": {
      "image/png": "[encoded data removed]",
      "text/plain": [
       "<Figure size 432x288 with 1 Axes>"
      ]
     },
     "metadata": {
      "needs_background": "light"
     },
     "output_type": "display_data"
    }
   ],
   "source": [
    "#\n",
    "y_tpred = XGB.predict(test.iloc[:, 2:].values)\n",
    "plt.hist(y_tpred, bins=50)\n",
    "plt.title('y prediction distribution')\n",
    "plt.show()"
   ]
  },
  {
   "cell_type": "markdown",
   "metadata": {},
   "source": [
    "## Part 2 "
   ]
  },
  {
   "cell_type": "code",
   "execution_count": 495,
   "metadata": {
    "scrolled": true
   },
   "outputs": [],
   "source": [
    "#alpha is the coefficient before each E_i in calculating\n",
    "#the likely index increase \\Delta y_i multiplied by 1000\n",
    "def P(y):\n",
    "    return -np.log(y + 0.01) + 3\n",
    "def alpha(y):\n",
    "    return P(y)**2\n",
    "p2slice = test.iloc[:, 2:3]\n",
    "p2slice['y pred'] = pd.Series(y_tpred)\n",
    "p2slice['alpha'] = pd.Series([alpha(x) for x in p2slice['y pred']])"
   ]
  },
  {
   "cell_type": "code",
   "execution_count": 496,
   "metadata": {},
   "outputs": [
    {
     "data": {
      "image/png": "[encoded data removed]",
      "text/plain": [
       "<Figure size 432x288 with 1 Axes>"
      ]
     },
     "metadata": {
      "needs_background": "light"
     },
     "output_type": "display_data"
    }
   ],
   "source": [
    "plt.hist(p2slice['alpha'])\n",
    "plt.show()"
   ]
  },
  {
   "cell_type": "code",
   "execution_count": 475,
   "metadata": {
    "scrolled": true
   },
   "outputs": [
    {
     "data": {
      "image/png": "[encoded data removed]",
      "text/plain": [
       "<Figure size 432x288 with 1 Axes>"
      ]
     },
     "metadata": {
      "needs_background": "light"
     },
     "output_type": "display_data"
    }
   ],
   "source": [
    "#finding points with EEI < 0.7\n",
    "a = test.copy()\n",
    "a['order index'] = pd.Series(test.index)\n",
    "\n",
    "a = a.fillna(value=0)\n",
    "EEI = a[(a.iloc[:, 2] < 0.7) & (a.iloc[:, 2] != 0)]\n",
    "\n",
    "scaler = preprocessing.StandardScaler()\n",
    "EEI = scaler.fit_transform(EEI.iloc[:, 2:-1])\n",
    "y_eei = XGB.predict(EEI)\n",
    "\n",
    "plt.hist(y_eei)\n",
    "plt.title('y prediction for points with EEI < 0.7')\n",
    "plt.show()"
   ]
  },
  {
   "cell_type": "code",
   "execution_count": 474,
   "metadata": {},
   "outputs": [
    {
     "data": {
      "text/plain": [
       "True"
      ]
     },
     "execution_count": 474,
     "metadata": {},
     "output_type": "execute_result"
    }
   ],
   "source": [
    "#First 66 points in test are actually the points that have EEI < 0.7\n",
    "indices = a[(a.iloc[:, 2] < 0.7) & (a.iloc[:, 2] != 0)]['order index']\n",
    "np.array_equal(np.array(indices), np.array(range(66)))"
   ]
  },
  {
   "cell_type": "code",
   "execution_count": 551,
   "metadata": {},
   "outputs": [
    {
     "data": {
      "text/html": [
       "<div>\n",
       "<style scoped>\n",
       "    .dataframe tbody tr th:only-of-type {\n",
       "        vertical-align: middle;\n",
       "    }\n",
       "\n",
       "    .dataframe tbody tr th {\n",
       "        vertical-align: top;\n",
       "    }\n",
       "\n",
       "    .dataframe thead th {\n",
       "        text-align: right;\n",
       "    }\n",
       "</style>\n",
       "<table border=\"1\" class=\"dataframe\">\n",
       "  <thead>\n",
       "    <tr style=\"text-align: right;\">\n",
       "      <th></th>\n",
       "      <th>existence expectancy index</th>\n",
       "      <th>y pred</th>\n",
       "      <th>alpha</th>\n",
       "    </tr>\n",
       "  </thead>\n",
       "  <tbody>\n",
       "    <tr>\n",
       "      <th>0</th>\n",
       "      <td>0.456086</td>\n",
       "      <td>0.049377</td>\n",
       "      <td>33.917299</td>\n",
       "    </tr>\n",
       "    <tr>\n",
       "      <th>1</th>\n",
       "      <td>0.529835</td>\n",
       "      <td>0.047134</td>\n",
       "      <td>34.367255</td>\n",
       "    </tr>\n",
       "    <tr>\n",
       "      <th>2</th>\n",
       "      <td>0.560976</td>\n",
       "      <td>0.048802</td>\n",
       "      <td>34.030714</td>\n",
       "    </tr>\n",
       "    <tr>\n",
       "      <th>3</th>\n",
       "      <td>0.565910</td>\n",
       "      <td>0.049323</td>\n",
       "      <td>33.927881</td>\n",
       "    </tr>\n",
       "    <tr>\n",
       "      <th>4</th>\n",
       "      <td>0.588274</td>\n",
       "      <td>0.036177</td>\n",
       "      <td>36.908911</td>\n",
       "    </tr>\n",
       "    <tr>\n",
       "      <th>...</th>\n",
       "      <td>...</td>\n",
       "      <td>...</td>\n",
       "      <td>...</td>\n",
       "    </tr>\n",
       "    <tr>\n",
       "      <th>58</th>\n",
       "      <td>0.684616</td>\n",
       "      <td>0.022826</td>\n",
       "      <td>41.171827</td>\n",
       "    </tr>\n",
       "    <tr>\n",
       "      <th>60</th>\n",
       "      <td>0.685613</td>\n",
       "      <td>0.038868</td>\n",
       "      <td>36.223904</td>\n",
       "    </tr>\n",
       "    <tr>\n",
       "      <th>62</th>\n",
       "      <td>0.688025</td>\n",
       "      <td>0.035104</td>\n",
       "      <td>37.195049</td>\n",
       "    </tr>\n",
       "    <tr>\n",
       "      <th>63</th>\n",
       "      <td>0.692317</td>\n",
       "      <td>0.040405</td>\n",
       "      <td>35.852042</td>\n",
       "    </tr>\n",
       "    <tr>\n",
       "      <th>64</th>\n",
       "      <td>0.698337</td>\n",
       "      <td>0.040553</td>\n",
       "      <td>35.816916</td>\n",
       "    </tr>\n",
       "  </tbody>\n",
       "</table>\n",
       "<p>50 rows × 3 columns</p>\n",
       "</div>"
      ],
      "text/plain": [
       "    existence expectancy index    y pred      alpha\n",
       "0                     0.456086  0.049377  33.917299\n",
       "1                     0.529835  0.047134  34.367255\n",
       "2                     0.560976  0.048802  34.030714\n",
       "3                     0.565910  0.049323  33.927881\n",
       "4                     0.588274  0.036177  36.908911\n",
       "..                         ...       ...        ...\n",
       "58                    0.684616  0.022826  41.171827\n",
       "60                    0.685613  0.038868  36.223904\n",
       "62                    0.688025  0.035104  37.195049\n",
       "63                    0.692317  0.040405  35.852042\n",
       "64                    0.698337  0.040553  35.816916\n",
       "\n",
       "[50 rows x 3 columns]"
      ]
     },
     "execution_count": 551,
     "metadata": {},
     "output_type": "execute_result"
    }
   ],
   "source": [
    "#how many rows are there with certain alpha values out of\n",
    "#the ones with EEI < 0.7\n",
    "p2slice[(p2slice['alpha']>33.76) & (p2slice.iloc[:, 0]<0.7)]"
   ]
  },
  {
   "cell_type": "code",
   "execution_count": 552,
   "metadata": {},
   "outputs": [
    {
     "data": {
      "text/html": [
       "<div>\n",
       "<style scoped>\n",
       "    .dataframe tbody tr th:only-of-type {\n",
       "        vertical-align: middle;\n",
       "    }\n",
       "\n",
       "    .dataframe tbody tr th {\n",
       "        vertical-align: top;\n",
       "    }\n",
       "\n",
       "    .dataframe thead th {\n",
       "        text-align: right;\n",
       "    }\n",
       "</style>\n",
       "<table border=\"1\" class=\"dataframe\">\n",
       "  <thead>\n",
       "    <tr style=\"text-align: right;\">\n",
       "      <th></th>\n",
       "      <th>existence expectancy index</th>\n",
       "      <th>y pred</th>\n",
       "      <th>alpha</th>\n",
       "    </tr>\n",
       "  </thead>\n",
       "  <tbody>\n",
       "    <tr>\n",
       "      <th>0</th>\n",
       "      <td>0.456086</td>\n",
       "      <td>0.049377</td>\n",
       "      <td>33.917299</td>\n",
       "    </tr>\n",
       "    <tr>\n",
       "      <th>1</th>\n",
       "      <td>0.529835</td>\n",
       "      <td>0.047134</td>\n",
       "      <td>34.367255</td>\n",
       "    </tr>\n",
       "    <tr>\n",
       "      <th>2</th>\n",
       "      <td>0.560976</td>\n",
       "      <td>0.048802</td>\n",
       "      <td>34.030714</td>\n",
       "    </tr>\n",
       "    <tr>\n",
       "      <th>3</th>\n",
       "      <td>0.565910</td>\n",
       "      <td>0.049323</td>\n",
       "      <td>33.927881</td>\n",
       "    </tr>\n",
       "    <tr>\n",
       "      <th>4</th>\n",
       "      <td>0.588274</td>\n",
       "      <td>0.036177</td>\n",
       "      <td>36.908911</td>\n",
       "    </tr>\n",
       "    <tr>\n",
       "      <th>...</th>\n",
       "      <td>...</td>\n",
       "      <td>...</td>\n",
       "      <td>...</td>\n",
       "    </tr>\n",
       "    <tr>\n",
       "      <th>885</th>\n",
       "      <td>NaN</td>\n",
       "      <td>0.047341</td>\n",
       "      <td>34.324773</td>\n",
       "    </tr>\n",
       "    <tr>\n",
       "      <th>886</th>\n",
       "      <td>NaN</td>\n",
       "      <td>0.047341</td>\n",
       "      <td>34.324773</td>\n",
       "    </tr>\n",
       "    <tr>\n",
       "      <th>887</th>\n",
       "      <td>NaN</td>\n",
       "      <td>0.047341</td>\n",
       "      <td>34.324773</td>\n",
       "    </tr>\n",
       "    <tr>\n",
       "      <th>888</th>\n",
       "      <td>NaN</td>\n",
       "      <td>0.047341</td>\n",
       "      <td>34.324773</td>\n",
       "    </tr>\n",
       "    <tr>\n",
       "      <th>889</th>\n",
       "      <td>NaN</td>\n",
       "      <td>0.047341</td>\n",
       "      <td>34.324773</td>\n",
       "    </tr>\n",
       "  </tbody>\n",
       "</table>\n",
       "<p>681 rows × 3 columns</p>\n",
       "</div>"
      ],
      "text/plain": [
       "     existence expectancy index    y pred      alpha\n",
       "0                      0.456086  0.049377  33.917299\n",
       "1                      0.529835  0.047134  34.367255\n",
       "2                      0.560976  0.048802  34.030714\n",
       "3                      0.565910  0.049323  33.927881\n",
       "4                      0.588274  0.036177  36.908911\n",
       "..                          ...       ...        ...\n",
       "885                         NaN  0.047341  34.324773\n",
       "886                         NaN  0.047341  34.324773\n",
       "887                         NaN  0.047341  34.324773\n",
       "888                         NaN  0.047341  34.324773\n",
       "889                         NaN  0.047341  34.324773\n",
       "\n",
       "[681 rows x 3 columns]"
      ]
     },
     "execution_count": 552,
     "metadata": {},
     "output_type": "execute_result"
    }
   ],
   "source": [
    "p2slice[(p2slice['alpha']>33.76)]"
   ]
  },
  {
   "cell_type": "code",
   "execution_count": 521,
   "metadata": {
    "scrolled": true
   },
   "outputs": [
    {
     "data": {
      "image/png": "[encoded data removed]",
      "text/plain": [
       "<Figure size 432x288 with 1 Axes>"
      ]
     },
     "metadata": {
      "needs_background": "light"
     },
     "output_type": "display_data"
    }
   ],
   "source": [
    "plt.hist(p2slice['alpha'], label='All test points', color='b')\n",
    "plt.hist(p2slice.iloc[:66, -1],\n",
    "         label ='Test points with EEI < 0.7', color='r')\n",
    "plt.legend()\n",
    "plt.xlabel('Alpha')\n",
    "plt.ylabel('Count')\n",
    "plt.title('Alpha values on test')\n",
    "plt.show()"
   ]
  }
 ],
 "metadata": {
  "kernelspec": {
   "display_name": "Python 3",
   "language": "python",
   "name": "python3"
  },
  "language_info": {
   "codemirror_mode": {
    "name": "ipython",
    "version": 3
   },
   "file_extension": ".py",
   "mimetype": "text/x-python",
   "name": "python",
   "nbconvert_exporter": "python",
   "pygments_lexer": "ipython3",
   "version": "3.7.6"
  }
 },
 "nbformat": 4,
 "nbformat_minor": 4
}
