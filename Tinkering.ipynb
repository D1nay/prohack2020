{
 "cells": [
  {
   "cell_type": "code",
   "execution_count": 149,
   "metadata": {},
   "outputs": [],
   "source": [
    "import numpy as np\n",
    "import pandas as pd\n",
    "import matplotlib\n",
    "import math\n",
    "from sklearn import model_selection, ensemble, metrics, linear_model, preprocessing\n",
    "from matplotlib import pyplot as plt"
   ]
  },
  {
   "cell_type": "code",
   "execution_count": 2,
   "metadata": {},
   "outputs": [],
   "source": [
    "pd.set_option('display.max_rows', None)"
   ]
  },
  {
   "cell_type": "code",
   "execution_count": 61,
   "metadata": {},
   "outputs": [],
   "source": [
    "pd.set_option('display.max_rows', 10)"
   ]
  },
  {
   "cell_type": "code",
   "execution_count": 3,
   "metadata": {},
   "outputs": [],
   "source": [
    "data = pd.read_csv('dataset/train.csv')"
   ]
  },
  {
   "cell_type": "code",
   "execution_count": 82,
   "metadata": {},
   "outputs": [
    {
     "data": {
      "text/html": [
       "<div>\n",
       "<style scoped>\n",
       "    .dataframe tbody tr th:only-of-type {\n",
       "        vertical-align: middle;\n",
       "    }\n",
       "\n",
       "    .dataframe tbody tr th {\n",
       "        vertical-align: top;\n",
       "    }\n",
       "\n",
       "    .dataframe thead th {\n",
       "        text-align: right;\n",
       "    }\n",
       "</style>\n",
       "<table border=\"1\" class=\"dataframe\">\n",
       "  <thead>\n",
       "    <tr style=\"text-align: right;\">\n",
       "      <th></th>\n",
       "      <th>galactic year</th>\n",
       "      <th>existence expectancy index</th>\n",
       "      <th>existence expectancy at birth</th>\n",
       "      <th>Gross income per capita</th>\n",
       "      <th>Income Index</th>\n",
       "      <th>Expected years of education (galactic years)</th>\n",
       "      <th>Mean years of education (galactic years)</th>\n",
       "      <th>Intergalactic Development Index (IDI)</th>\n",
       "      <th>Education Index</th>\n",
       "      <th>Intergalactic Development Index (IDI), Rank</th>\n",
       "      <th>...</th>\n",
       "      <th>Intergalactic Development Index (IDI), female</th>\n",
       "      <th>Intergalactic Development Index (IDI), male</th>\n",
       "      <th>Gender Development Index (GDI)</th>\n",
       "      <th>Intergalactic Development Index (IDI), female, Rank</th>\n",
       "      <th>Intergalactic Development Index (IDI), male, Rank</th>\n",
       "      <th>Adjusted net savings</th>\n",
       "      <th>Creature Immunodeficiency Disease prevalence, adult (% ages 15-49), total</th>\n",
       "      <th>Private galaxy capital flows (% of GGP)</th>\n",
       "      <th>Gender Inequality Index (GII)</th>\n",
       "      <th>y</th>\n",
       "    </tr>\n",
       "  </thead>\n",
       "  <tbody>\n",
       "    <tr>\n",
       "      <th>count</th>\n",
       "      <td>3.865000e+03</td>\n",
       "      <td>3864.000000</td>\n",
       "      <td>3864.000000</td>\n",
       "      <td>3837.000000</td>\n",
       "      <td>3837.000000</td>\n",
       "      <td>3732.000000</td>\n",
       "      <td>3502.000000</td>\n",
       "      <td>3474.000000</td>\n",
       "      <td>3474.000000</td>\n",
       "      <td>3432.000000</td>\n",
       "      <td>...</td>\n",
       "      <td>916.000000</td>\n",
       "      <td>915.000000</td>\n",
       "      <td>914.000000</td>\n",
       "      <td>893.000000</td>\n",
       "      <td>892.000000</td>\n",
       "      <td>912.000000</td>\n",
       "      <td>941.000000</td>\n",
       "      <td>874.000000</td>\n",
       "      <td>844.000000</td>\n",
       "      <td>3865.000000</td>\n",
       "    </tr>\n",
       "    <tr>\n",
       "      <th>mean</th>\n",
       "      <td>1.000709e+06</td>\n",
       "      <td>0.872479</td>\n",
       "      <td>76.798111</td>\n",
       "      <td>31633.240872</td>\n",
       "      <td>0.825154</td>\n",
       "      <td>14.723296</td>\n",
       "      <td>10.283959</td>\n",
       "      <td>0.804246</td>\n",
       "      <td>0.745900</td>\n",
       "      <td>135.129178</td>\n",
       "      <td>...</td>\n",
       "      <td>0.823561</td>\n",
       "      <td>0.844209</td>\n",
       "      <td>1.008465</td>\n",
       "      <td>121.754797</td>\n",
       "      <td>120.873428</td>\n",
       "      <td>21.252922</td>\n",
       "      <td>6.443023</td>\n",
       "      <td>22.261474</td>\n",
       "      <td>0.600733</td>\n",
       "      <td>0.082773</td>\n",
       "    </tr>\n",
       "    <tr>\n",
       "      <th>std</th>\n",
       "      <td>6.945463e+03</td>\n",
       "      <td>0.162367</td>\n",
       "      <td>10.461654</td>\n",
       "      <td>18736.378445</td>\n",
       "      <td>0.194055</td>\n",
       "      <td>3.612546</td>\n",
       "      <td>3.319948</td>\n",
       "      <td>0.176242</td>\n",
       "      <td>0.199795</td>\n",
       "      <td>52.449535</td>\n",
       "      <td>...</td>\n",
       "      <td>0.185780</td>\n",
       "      <td>0.159041</td>\n",
       "      <td>0.087299</td>\n",
       "      <td>46.269362</td>\n",
       "      <td>46.795666</td>\n",
       "      <td>14.258986</td>\n",
       "      <td>4.804873</td>\n",
       "      <td>34.342797</td>\n",
       "      <td>0.205785</td>\n",
       "      <td>0.063415</td>\n",
       "    </tr>\n",
       "    <tr>\n",
       "      <th>min</th>\n",
       "      <td>9.900250e+05</td>\n",
       "      <td>0.227890</td>\n",
       "      <td>34.244062</td>\n",
       "      <td>-126.906522</td>\n",
       "      <td>0.292001</td>\n",
       "      <td>3.799663</td>\n",
       "      <td>1.928166</td>\n",
       "      <td>0.273684</td>\n",
       "      <td>0.189874</td>\n",
       "      <td>9.925906</td>\n",
       "      <td>...</td>\n",
       "      <td>0.305733</td>\n",
       "      <td>0.369519</td>\n",
       "      <td>0.465177</td>\n",
       "      <td>23.224603</td>\n",
       "      <td>16.215151</td>\n",
       "      <td>-76.741414</td>\n",
       "      <td>-1.192011</td>\n",
       "      <td>-735.186886</td>\n",
       "      <td>0.089092</td>\n",
       "      <td>0.013036</td>\n",
       "    </tr>\n",
       "    <tr>\n",
       "      <th>25%</th>\n",
       "      <td>9.950060e+05</td>\n",
       "      <td>0.763027</td>\n",
       "      <td>69.961449</td>\n",
       "      <td>20169.118912</td>\n",
       "      <td>0.677131</td>\n",
       "      <td>12.592467</td>\n",
       "      <td>7.654169</td>\n",
       "      <td>0.671862</td>\n",
       "      <td>0.597746</td>\n",
       "      <td>92.262724</td>\n",
       "      <td>...</td>\n",
       "      <td>0.690707</td>\n",
       "      <td>0.731264</td>\n",
       "      <td>0.965800</td>\n",
       "      <td>84.090816</td>\n",
       "      <td>82.232550</td>\n",
       "      <td>15.001028</td>\n",
       "      <td>4.113472</td>\n",
       "      <td>17.227899</td>\n",
       "      <td>0.430332</td>\n",
       "      <td>0.047889</td>\n",
       "    </tr>\n",
       "    <tr>\n",
       "      <th>50%</th>\n",
       "      <td>1.000000e+06</td>\n",
       "      <td>0.907359</td>\n",
       "      <td>78.995101</td>\n",
       "      <td>26600.768195</td>\n",
       "      <td>0.827300</td>\n",
       "      <td>14.942913</td>\n",
       "      <td>10.385465</td>\n",
       "      <td>0.824758</td>\n",
       "      <td>0.761255</td>\n",
       "      <td>135.914318</td>\n",
       "      <td>...</td>\n",
       "      <td>0.835410</td>\n",
       "      <td>0.862773</td>\n",
       "      <td>1.029947</td>\n",
       "      <td>120.069916</td>\n",
       "      <td>121.057923</td>\n",
       "      <td>22.182571</td>\n",
       "      <td>5.309497</td>\n",
       "      <td>24.472557</td>\n",
       "      <td>0.624640</td>\n",
       "      <td>0.057820</td>\n",
       "    </tr>\n",
       "    <tr>\n",
       "      <th>75%</th>\n",
       "      <td>1.006009e+06</td>\n",
       "      <td>0.992760</td>\n",
       "      <td>84.558971</td>\n",
       "      <td>36898.631754</td>\n",
       "      <td>0.970295</td>\n",
       "      <td>17.123797</td>\n",
       "      <td>12.884752</td>\n",
       "      <td>0.939043</td>\n",
       "      <td>0.893505</td>\n",
       "      <td>175.301993</td>\n",
       "      <td>...</td>\n",
       "      <td>0.970365</td>\n",
       "      <td>0.961369</td>\n",
       "      <td>1.068481</td>\n",
       "      <td>158.579644</td>\n",
       "      <td>157.815625</td>\n",
       "      <td>29.134738</td>\n",
       "      <td>6.814577</td>\n",
       "      <td>31.748295</td>\n",
       "      <td>0.767404</td>\n",
       "      <td>0.087389</td>\n",
       "    </tr>\n",
       "    <tr>\n",
       "      <th>max</th>\n",
       "      <td>1.015056e+06</td>\n",
       "      <td>1.246908</td>\n",
       "      <td>100.210053</td>\n",
       "      <td>151072.683156</td>\n",
       "      <td>1.361883</td>\n",
       "      <td>26.955944</td>\n",
       "      <td>19.057648</td>\n",
       "      <td>1.232814</td>\n",
       "      <td>1.269625</td>\n",
       "      <td>278.786613</td>\n",
       "      <td>...</td>\n",
       "      <td>1.237661</td>\n",
       "      <td>1.182746</td>\n",
       "      <td>1.181230</td>\n",
       "      <td>232.720847</td>\n",
       "      <td>233.915373</td>\n",
       "      <td>61.903641</td>\n",
       "      <td>36.538462</td>\n",
       "      <td>95.941245</td>\n",
       "      <td>1.098439</td>\n",
       "      <td>0.683813</td>\n",
       "    </tr>\n",
       "  </tbody>\n",
       "</table>\n",
       "<p>8 rows × 79 columns</p>\n",
       "</div>"
      ],
      "text/plain": [
       "       galactic year  existence expectancy index  \\\n",
       "count   3.865000e+03                 3864.000000   \n",
       "mean    1.000709e+06                    0.872479   \n",
       "std     6.945463e+03                    0.162367   \n",
       "min     9.900250e+05                    0.227890   \n",
       "25%     9.950060e+05                    0.763027   \n",
       "50%     1.000000e+06                    0.907359   \n",
       "75%     1.006009e+06                    0.992760   \n",
       "max     1.015056e+06                    1.246908   \n",
       "\n",
       "       existence expectancy at birth  Gross income per capita  Income Index  \\\n",
       "count                    3864.000000              3837.000000   3837.000000   \n",
       "mean                       76.798111             31633.240872      0.825154   \n",
       "std                        10.461654             18736.378445      0.194055   \n",
       "min                        34.244062              -126.906522      0.292001   \n",
       "25%                        69.961449             20169.118912      0.677131   \n",
       "50%                        78.995101             26600.768195      0.827300   \n",
       "75%                        84.558971             36898.631754      0.970295   \n",
       "max                       100.210053            151072.683156      1.361883   \n",
       "\n",
       "       Expected years of education (galactic years)  \\\n",
       "count                                   3732.000000   \n",
       "mean                                      14.723296   \n",
       "std                                        3.612546   \n",
       "min                                        3.799663   \n",
       "25%                                       12.592467   \n",
       "50%                                       14.942913   \n",
       "75%                                       17.123797   \n",
       "max                                       26.955944   \n",
       "\n",
       "       Mean years of education (galactic years)  \\\n",
       "count                               3502.000000   \n",
       "mean                                  10.283959   \n",
       "std                                    3.319948   \n",
       "min                                    1.928166   \n",
       "25%                                    7.654169   \n",
       "50%                                   10.385465   \n",
       "75%                                   12.884752   \n",
       "max                                   19.057648   \n",
       "\n",
       "       Intergalactic Development Index (IDI)  Education Index  \\\n",
       "count                            3474.000000      3474.000000   \n",
       "mean                                0.804246         0.745900   \n",
       "std                                 0.176242         0.199795   \n",
       "min                                 0.273684         0.189874   \n",
       "25%                                 0.671862         0.597746   \n",
       "50%                                 0.824758         0.761255   \n",
       "75%                                 0.939043         0.893505   \n",
       "max                                 1.232814         1.269625   \n",
       "\n",
       "       Intergalactic Development Index (IDI), Rank  ...  \\\n",
       "count                                  3432.000000  ...   \n",
       "mean                                    135.129178  ...   \n",
       "std                                      52.449535  ...   \n",
       "min                                       9.925906  ...   \n",
       "25%                                      92.262724  ...   \n",
       "50%                                     135.914318  ...   \n",
       "75%                                     175.301993  ...   \n",
       "max                                     278.786613  ...   \n",
       "\n",
       "       Intergalactic Development Index (IDI), female  \\\n",
       "count                                     916.000000   \n",
       "mean                                        0.823561   \n",
       "std                                         0.185780   \n",
       "min                                         0.305733   \n",
       "25%                                         0.690707   \n",
       "50%                                         0.835410   \n",
       "75%                                         0.970365   \n",
       "max                                         1.237661   \n",
       "\n",
       "       Intergalactic Development Index (IDI), male  \\\n",
       "count                                   915.000000   \n",
       "mean                                      0.844209   \n",
       "std                                       0.159041   \n",
       "min                                       0.369519   \n",
       "25%                                       0.731264   \n",
       "50%                                       0.862773   \n",
       "75%                                       0.961369   \n",
       "max                                       1.182746   \n",
       "\n",
       "       Gender Development Index (GDI)  \\\n",
       "count                      914.000000   \n",
       "mean                         1.008465   \n",
       "std                          0.087299   \n",
       "min                          0.465177   \n",
       "25%                          0.965800   \n",
       "50%                          1.029947   \n",
       "75%                          1.068481   \n",
       "max                          1.181230   \n",
       "\n",
       "       Intergalactic Development Index (IDI), female, Rank  \\\n",
       "count                                         893.000000     \n",
       "mean                                          121.754797     \n",
       "std                                            46.269362     \n",
       "min                                            23.224603     \n",
       "25%                                            84.090816     \n",
       "50%                                           120.069916     \n",
       "75%                                           158.579644     \n",
       "max                                           232.720847     \n",
       "\n",
       "       Intergalactic Development Index (IDI), male, Rank  \\\n",
       "count                                         892.000000   \n",
       "mean                                          120.873428   \n",
       "std                                            46.795666   \n",
       "min                                            16.215151   \n",
       "25%                                            82.232550   \n",
       "50%                                           121.057923   \n",
       "75%                                           157.815625   \n",
       "max                                           233.915373   \n",
       "\n",
       "       Adjusted net savings   \\\n",
       "count             912.000000   \n",
       "mean               21.252922   \n",
       "std                14.258986   \n",
       "min               -76.741414   \n",
       "25%                15.001028   \n",
       "50%                22.182571   \n",
       "75%                29.134738   \n",
       "max                61.903641   \n",
       "\n",
       "       Creature Immunodeficiency Disease prevalence, adult (% ages 15-49), total  \\\n",
       "count                                         941.000000                           \n",
       "mean                                            6.443023                           \n",
       "std                                             4.804873                           \n",
       "min                                            -1.192011                           \n",
       "25%                                             4.113472                           \n",
       "50%                                             5.309497                           \n",
       "75%                                             6.814577                           \n",
       "max                                            36.538462                           \n",
       "\n",
       "       Private galaxy capital flows (% of GGP)  Gender Inequality Index (GII)  \\\n",
       "count                               874.000000                     844.000000   \n",
       "mean                                 22.261474                       0.600733   \n",
       "std                                  34.342797                       0.205785   \n",
       "min                                -735.186886                       0.089092   \n",
       "25%                                  17.227899                       0.430332   \n",
       "50%                                  24.472557                       0.624640   \n",
       "75%                                  31.748295                       0.767404   \n",
       "max                                  95.941245                       1.098439   \n",
       "\n",
       "                 y  \n",
       "count  3865.000000  \n",
       "mean      0.082773  \n",
       "std       0.063415  \n",
       "min       0.013036  \n",
       "25%       0.047889  \n",
       "50%       0.057820  \n",
       "75%       0.087389  \n",
       "max       0.683813  \n",
       "\n",
       "[8 rows x 79 columns]"
      ]
     },
     "execution_count": 82,
     "metadata": {},
     "output_type": "execute_result"
    }
   ],
   "source": [
    "data.describe()"
   ]
  },
  {
   "cell_type": "code",
   "execution_count": 4,
   "metadata": {},
   "outputs": [],
   "source": [
    "test = pd.read_csv('dataset/test.csv')"
   ]
  },
  {
   "cell_type": "code",
   "execution_count": 5,
   "metadata": {
    "scrolled": true
   },
   "outputs": [
    {
     "name": "stdout",
     "output_type": "stream",
     "text": [
      "[dtype('int64') dtype('O') dtype('float64') dtype('float64')\n",
      " dtype('float64') dtype('float64') dtype('float64') dtype('float64')\n",
      " dtype('float64') dtype('float64') dtype('float64') dtype('float64')\n",
      " dtype('float64') dtype('float64') dtype('float64') dtype('float64')\n",
      " dtype('float64') dtype('float64') dtype('float64') dtype('float64')\n",
      " dtype('float64') dtype('float64') dtype('float64') dtype('float64')\n",
      " dtype('float64') dtype('float64') dtype('float64') dtype('float64')\n",
      " dtype('float64') dtype('float64') dtype('float64') dtype('float64')\n",
      " dtype('float64') dtype('float64') dtype('float64') dtype('float64')\n",
      " dtype('float64') dtype('float64') dtype('float64') dtype('float64')\n",
      " dtype('float64') dtype('float64') dtype('float64') dtype('float64')\n",
      " dtype('float64') dtype('float64') dtype('float64') dtype('float64')\n",
      " dtype('float64') dtype('float64') dtype('float64') dtype('float64')\n",
      " dtype('float64') dtype('float64') dtype('float64') dtype('float64')\n",
      " dtype('float64') dtype('float64') dtype('float64') dtype('float64')\n",
      " dtype('float64') dtype('float64') dtype('float64') dtype('float64')\n",
      " dtype('float64') dtype('float64') dtype('float64') dtype('float64')\n",
      " dtype('float64') dtype('float64') dtype('float64') dtype('float64')\n",
      " dtype('float64') dtype('float64') dtype('float64') dtype('float64')\n",
      " dtype('float64') dtype('float64') dtype('float64') dtype('float64')]\n",
      "[dtype('int64') dtype('O') dtype('float64') dtype('float64')\n",
      " dtype('float64') dtype('float64') dtype('float64') dtype('float64')\n",
      " dtype('float64') dtype('float64') dtype('float64') dtype('float64')\n",
      " dtype('float64') dtype('float64') dtype('float64') dtype('float64')\n",
      " dtype('float64') dtype('float64') dtype('float64') dtype('float64')\n",
      " dtype('float64') dtype('float64') dtype('float64') dtype('float64')\n",
      " dtype('float64') dtype('float64') dtype('float64') dtype('float64')\n",
      " dtype('float64') dtype('float64') dtype('float64') dtype('float64')\n",
      " dtype('float64') dtype('float64') dtype('float64') dtype('float64')\n",
      " dtype('float64') dtype('float64') dtype('float64') dtype('float64')\n",
      " dtype('float64') dtype('float64') dtype('float64') dtype('float64')\n",
      " dtype('float64') dtype('float64') dtype('float64') dtype('float64')\n",
      " dtype('float64') dtype('float64') dtype('float64') dtype('float64')\n",
      " dtype('float64') dtype('float64') dtype('float64') dtype('float64')\n",
      " dtype('float64') dtype('float64') dtype('float64') dtype('float64')\n",
      " dtype('float64') dtype('float64') dtype('float64') dtype('float64')\n",
      " dtype('float64') dtype('float64') dtype('float64') dtype('float64')\n",
      " dtype('float64') dtype('float64') dtype('float64') dtype('float64')\n",
      " dtype('float64') dtype('float64') dtype('float64') dtype('float64')\n",
      " dtype('float64') dtype('float64') dtype('float64')]\n"
     ]
    }
   ],
   "source": [
    "# Data contains numerical values, except for \"galaxy\" and \n",
    "# \"galactic year\", which represent name and ordinal relationship\n",
    "print(data.dtypes.values)\n",
    "print(test.dtypes.values)"
   ]
  },
  {
   "cell_type": "code",
   "execution_count": 6,
   "metadata": {
    "scrolled": true
   },
   "outputs": [
    {
     "data": {
      "text/plain": [
       "galactic year                                                                              0.000000\n",
       "y                                                                                          0.000000\n",
       "galaxy                                                                                     0.000000\n",
       "existence expectancy index                                                                 0.000259\n",
       "existence expectancy at birth                                                              0.000259\n",
       "Gross income per capita                                                                    0.007245\n",
       "Income Index                                                                               0.007245\n",
       "Expected years of education (galactic years)                                               0.034411\n",
       "Mean years of education (galactic years)                                                   0.093920\n",
       "Intergalactic Development Index (IDI)                                                      0.101164\n",
       "Education Index                                                                            0.101164\n",
       "Intergalactic Development Index (IDI), Rank                                                0.112031\n",
       "Population using at least basic drinking-water services (%)                                0.477102\n",
       "Population using at least basic sanitation services (%)                                    0.478655\n",
       "Gross capital formation (% of GGP)                                                         0.611384\n",
       "Population, urban (%)                                                                      0.671151\n",
       "Mortality rate, under-five (per 1,000 live births)                                         0.671151\n",
       "Population, total (millions)                                                               0.671151\n",
       "Old age dependency ratio (old age (65 and older) per 100 creatures (ages 15-64))           0.672962\n",
       "Population, ages 15–64 (millions)                                                          0.672962\n",
       "Population, ages 65 and older (millions)                                                   0.672962\n",
       "Life expectancy at birth, male (galactic years)                                            0.672962\n",
       "Life expectancy at birth, female (galactic years)                                          0.672962\n",
       "Population, under age 5 (millions)                                                         0.672962\n",
       "Young age (0-14) dependency ratio (per 100 creatures ages 15-64)                           0.672962\n",
       "Mortality rate, infant (per 1,000 live births)                                             0.674256\n",
       "Mortality rate, male grown up (per 1,000 people)                                           0.675809\n",
       "Mortality rate, female grown up (per 1,000 people)                                         0.675809\n",
       "Adolescent birth rate (births per 1,000 female creatures ages 15-19)                       0.676067\n",
       "Maternal mortality ratio (deaths per 100,000 live births)                                  0.676067\n",
       "Labour force participation rate (% ages 15 and older)                                      0.679948\n",
       "Employment in agriculture (% of total employment)                                          0.679948\n",
       "Total unemployment rate (female to male ratio)                                             0.679948\n",
       "Unemployment, total (% of labour force)                                                    0.679948\n",
       "Share of employment in nonagriculture, female (% of total employment in nonagriculture)    0.679948\n",
       "Vulnerable employment (% of total employment)                                              0.679948\n",
       "Employment to population ratio (% ages 15 and older)                                       0.679948\n",
       "Labour force participation rate (% ages 15 and older), female                              0.679948\n",
       "Labour force participation rate (% ages 15 and older), male                                0.679948\n",
       "Employment in services (% of total employment)                                             0.679948\n",
       "Youth unemployment rate (female to male ratio)                                             0.680207\n",
       "Unemployment, youth (% ages 15–24)                                                         0.680207\n",
       "Renewable energy consumption (% of total final energy consumption)                         0.680466\n",
       "Jungle area (% of total land area)                                                         0.680724\n",
       "Infants lacking immunization, red hot disease (% of one-galactic year-olds)                0.684605\n",
       "Infants lacking immunization, Combination Vaccine (% of one-galactic year-olds)            0.684605\n",
       "Gross galactic product (GGP) per capita                                                    0.689004\n",
       "Gross galactic product (GGP), total                                                        0.689004\n",
       "Outer Galaxies direct investment, net inflows (% of GGP)                                   0.697542\n",
       "Exports and imports (% of GGP)                                                             0.704010\n",
       "Mean years of education, female (galactic years)                                           0.705045\n",
       "Mean years of education, male (galactic years)                                             0.705563\n",
       "Natural resource depletion                                                                 0.707115\n",
       "Share of seats in senate (% held by female)                                                0.709444\n",
       "Expected years of education, female (galactic years)                                       0.713066\n",
       "Expected years of education, male (galactic years)                                         0.713325\n",
       "Population with at least some secondary education, female (% ages 25 and older)            0.718241\n",
       "Population with at least some secondary education, male (% ages 25 and older)              0.718758\n",
       "Domestic credit provided by financial sector (% of GGP)                                    0.720828\n",
       "Gross fixed capital formation (% of GGP)                                                   0.722122\n",
       "Estimated gross galactic income per capita, male                                           0.727038\n",
       "Estimated gross galactic income per capita, female                                         0.727038\n",
       "Population with at least some secondary education (% ages 25 and older)                    0.728072\n",
       "Gross enrolment ratio, primary (% of primary under-age population)                         0.731436\n",
       "Rural population with access to electricity (%)                                            0.733765\n",
       "Remittances, inflows (% of GGP)                                                            0.734023\n",
       "Intergalactic inbound tourists (thousands)                                                 0.742561\n",
       "Creature Immunodeficiency Disease prevalence, adult (% ages 15-49), total                  0.756533\n",
       "Intergalactic Development Index (IDI), female                                              0.763001\n",
       "Intergalactic Development Index (IDI), male                                                0.763260\n",
       "Gender Development Index (GDI)                                                             0.763519\n",
       "Adjusted net savings                                                                       0.764036\n",
       "Respiratory disease incidence (per 100,000 people)                                         0.768176\n",
       "Intergalactic Development Index (IDI), female, Rank                                        0.768952\n",
       "Intergalactic Development Index (IDI), male, Rank                                          0.769211\n",
       "Interstellar phone subscriptions (per 100 people)                                          0.769470\n",
       "Private galaxy capital flows (% of GGP)                                                    0.773868\n",
       "Interstellar Data Net users, total (% of population)                                       0.774386\n",
       "Current health expenditure (% of GGP)                                                      0.775679\n",
       "Gender Inequality Index (GII)                                                              0.781630\n",
       "dtype: float64"
      ]
     },
     "execution_count": 6,
     "metadata": {},
     "output_type": "execute_result"
    }
   ],
   "source": [
    "#Let's see how much data is missing for each feature\n",
    "data.isna().mean().sort_values()"
   ]
  },
  {
   "cell_type": "code",
   "execution_count": 9,
   "metadata": {},
   "outputs": [
    {
     "data": {
      "text/plain": [
       "True"
      ]
     },
     "execution_count": 9,
     "metadata": {},
     "output_type": "execute_result"
    }
   ],
   "source": [
    "#Are there any new unknown galaxies in the test dataset?\n",
    "#The answer is NO\n",
    "a = set(data['galaxy'].unique())\n",
    "b = set(test['galaxy'].unique())\n",
    "b.issubset(a)"
   ]
  },
  {
   "cell_type": "code",
   "execution_count": 75,
   "metadata": {
    "scrolled": true
   },
   "outputs": [
    {
     "name": "stdout",
     "output_type": "stream",
     "text": [
      "[ 990025  991020  992016  993012  994009  995006  996004  997002  998001\n",
      "  999000 1000000 1001000 1002001 1003002 1004004 1005006 1006009 1007012\n",
      " 1008016 1009020 1010025 1011030 1012036 1013042 1014049 1015056]\n",
      "(26,)\n",
      "[1007012 1008016 1009020 1010025 1011030 1012036 1013042 1014049 1015056\n",
      " 1016064]\n",
      "(10,)\n"
     ]
    }
   ],
   "source": [
    "#Test dataset contains objects only of latest 10 years,\n",
    "#including unmentioned in train data latest year 1016064\n",
    "unique_years = data['galactic year'].unique()\n",
    "print (unique_years)\n",
    "print (unique_years.shape)\n",
    "\n",
    "print(np.sort(test['galactic year'].unique()))\n",
    "print(test['galactic year'].unique().shape)"
   ]
  },
  {
   "cell_type": "code",
   "execution_count": 41,
   "metadata": {
    "scrolled": true
   },
   "outputs": [
    {
     "name": "stdout",
     "output_type": "stream",
     "text": [
      "galactic year\n",
      "990025     0.081928\n",
      "991020     0.082005\n",
      "992016     0.082007\n",
      "993012     0.082011\n",
      "994009     0.082023\n",
      "995006     0.082027\n",
      "996004     0.082088\n",
      "997002     0.082100\n",
      "998001     0.082106\n",
      "999000     0.082111\n",
      "1000000    0.082117\n",
      "1001000    0.082297\n",
      "1002001    0.082297\n",
      "1003002    0.082300\n",
      "1004004    0.082291\n",
      "1005006    0.082288\n",
      "1006009    0.082435\n",
      "1007012    0.081335\n",
      "1008016    0.081379\n",
      "1009020    0.081381\n",
      "1010025    0.081331\n",
      "1011030    0.080062\n",
      "1012036    0.094917\n",
      "1013042    0.098005\n",
      "1014049    0.087332\n",
      "1015056    0.080857\n",
      "Name: y, dtype: float64\n"
     ]
    },
    {
     "data": {
      "text/plain": [
       "[<matplotlib.lines.Line2D at 0x7f3f5e4d5e90>]"
      ]
     },
     "execution_count": 41,
     "metadata": {},
     "output_type": "execute_result"
    },
    {
     "data": {
      "image/png": "[encoded data removed]",
      "text/plain": [
       "<Figure size 432x288 with 1 Axes>"
      ]
     },
     "metadata": {
      "needs_background": "light"
     },
     "output_type": "display_data"
    }
   ],
   "source": [
    "\n",
    "y_dist = data.groupby(['galactic year'])['y'].mean()\n",
    "print (y_dist)\n",
    "plt.plot(y_dist)"
   ]
  },
  {
   "cell_type": "code",
   "execution_count": 42,
   "metadata": {
    "scrolled": true
   },
   "outputs": [
    {
     "name": "stdout",
     "output_type": "stream",
     "text": [
      "galaxy\n",
      "Andromeda Galaxy (M31)                  0.043539\n",
      "Andromeda I                             0.049126\n",
      "Andromeda II                            0.176689\n",
      "Andromeda III                           0.117387\n",
      "Andromeda IX                            0.166813\n",
      "                                          ...   \n",
      "Ursa Major II Dwarf                     0.190628\n",
      "Ursa Minor Dwarf                        0.051538\n",
      "Virgo I                                 0.042337\n",
      "Willman 1                               0.055283\n",
      "Wolf-Lundmark-Melotte (WLM, DDO 221)    0.044738\n",
      "Name: y, Length: 181, dtype: float64\n"
     ]
    },
    {
     "data": {
      "text/plain": [
       "(array([125.,  21.,   8.,  10.,   8.,   6.,   0.,   2.,   0.,   1.]),\n",
       " array([0.03693184, 0.07251439, 0.10809694, 0.14367949, 0.17926205,\n",
       "        0.2148446 , 0.25042715, 0.2860097 , 0.32159225, 0.3571748 ,\n",
       "        0.39275736]),\n",
       " <a list of 10 Patch objects>)"
      ]
     },
     "execution_count": 42,
     "metadata": {},
     "output_type": "execute_result"
    },
    {
     "data": {
      "image/png": "[encoded data removed]",
      "text/plain": [
       "<Figure size 432x288 with 1 Axes>"
      ]
     },
     "metadata": {
      "needs_background": "light"
     },
     "output_type": "display_data"
    }
   ],
   "source": [
    "y_dist = data.groupby(['galaxy'])['y'].mean()\n",
    "print(y_dist)\n",
    "plt.hist(y_dist)"
   ]
  },
  {
   "cell_type": "code",
   "execution_count": 162,
   "metadata": {},
   "outputs": [
    {
     "name": "stdout",
     "output_type": "stream",
     "text": [
      "galaxy\n",
      "Andromeda Galaxy (M31)                  0.043539\n",
      "Andromeda I                             0.049126\n",
      "Andromeda II                            0.176689\n",
      "Andromeda III                           0.117387\n",
      "Andromeda IX                            0.166813\n",
      "                                          ...   \n",
      "Ursa Major II Dwarf                     0.190628\n",
      "Ursa Minor Dwarf                        0.051538\n",
      "Virgo I                                 0.042337\n",
      "Willman 1                               0.055283\n",
      "Wolf-Lundmark-Melotte (WLM, DDO 221)    0.044738\n",
      "Name: y, Length: 181, dtype: float64\n"
     ]
    },
    {
     "data": {
      "text/plain": [
       "(array([52., 45., 31., 12., 10.,  4., 14.,  9.,  2.,  2.]),\n",
       " array([-3.29868128, -3.06226948, -2.82585768, -2.58944588, -2.35303408,\n",
       "        -2.11662228, -1.88021048, -1.64379868, -1.40738687, -1.17097507,\n",
       "        -0.93456327]),\n",
       " <a list of 10 Patch objects>)"
      ]
     },
     "execution_count": 162,
     "metadata": {},
     "output_type": "execute_result"
    },
    {
     "data": {
      "image/png": "[encoded data removed]",
      "text/plain": [
       "<Figure size 432x288 with 1 Axes>"
      ]
     },
     "metadata": {
      "needs_background": "light"
     },
     "output_type": "display_data"
    }
   ],
   "source": [
    "y_dist = data.groupby(['galaxy'])['y'].mean()\n",
    "print(y_dist)\n",
    "plt.hist(np.log(y_dist))"
   ]
  },
  {
   "cell_type": "code",
   "execution_count": 56,
   "metadata": {
    "scrolled": false
   },
   "outputs": [
    {
     "data": {
      "text/plain": [
       "count    3865.000000\n",
       "mean        0.082773\n",
       "std         0.063415\n",
       "min         0.013036\n",
       "25%         0.047889\n",
       "50%         0.057820\n",
       "75%         0.087389\n",
       "max         0.683813\n",
       "Name: y, dtype: float64"
      ]
     },
     "execution_count": 56,
     "metadata": {},
     "output_type": "execute_result"
    }
   ],
   "source": [
    "data.iloc[:, -1].describe()"
   ]
  },
  {
   "cell_type": "code",
   "execution_count": 58,
   "metadata": {},
   "outputs": [
    {
     "data": {
      "text/plain": [
       "array([ 0.        ,  0.99400599,  1.98901099,  2.98401598,  3.98001998,\n",
       "        4.97602398,  5.97302697,  6.97002997,  7.96803197,  8.96603397,\n",
       "        9.96503497, 10.96403596, 11.96403596, 12.96403596, 13.96503497,\n",
       "       14.96603397, 15.96803197, 16.97002997, 17.97302697, 18.97602398,\n",
       "       19.98001998, 20.98401598, 21.98901099, 22.99400599, 24.        ,\n",
       "       25.00599401])"
      ]
     },
     "execution_count": 58,
     "metadata": {},
     "output_type": "execute_result"
    }
   ],
   "source": [
    "(unique_years - 990025)/1001"
   ]
  },
  {
   "cell_type": "code",
   "execution_count": 25,
   "metadata": {},
   "outputs": [
    {
     "name": "stdout",
     "output_type": "stream",
     "text": [
      "galaxy\n",
      "NGC 5253                                        1\n",
      "Wolf-Lundmark-Melotte (WLM, DDO 221)           17\n",
      "Andromeda XXI[57]                              17\n",
      "Andromeda X                                    17\n",
      "Aquarius Dwarf Galaxy (DDO 210)                17\n",
      "Sagittarius Dwarf Irregular Galaxy (SagDIG)    17\n",
      "Pegasus Dwarf Irregular (DDO 216)              17\n",
      "Perseus I (Andromeda XXXIII)                   18\n",
      "Canes Venatici I Dwarf                         18\n",
      "Cassiopeia Dwarf (Cas dSph, Andromeda VII)     18\n",
      "Cassiopeia II (Andromeda XXX)                  18\n",
      "Columba I                                      18\n",
      "Fornax Dwarf (E356-G04)                        18\n",
      "Hydra II                                       18\n",
      "Lacerta I (Andromeda XXXI)                     18\n",
      "Leo I Dwarf (DDO 74, UGC 5470)                 18\n",
      "Barnard's Galaxy (NGC 6822)                    18\n",
      "Leo T Dwarf                                    18\n",
      "Leo V Dwarf                                    18\n",
      "M110 (NGC 205)                                 18\n",
      "Pisces III (Andromeda XIII)                    18\n",
      "NGC 185                                        18\n",
      "Leo A (Leo III, DDO 69)                        18\n",
      "Leo II Dwarf (Leo B, DDO 93)                   18\n",
      "Andromeda Galaxy (M31)                         18\n",
      "Andromeda V                                    18\n",
      "Andromeda XI                                   18\n",
      "Andromeda XVII                                 18\n",
      "Andromeda I                                    18\n",
      "Andromeda XXVI                                 18\n",
      "Andromeda III                                  18\n",
      "Andromeda XXIX                                 18\n",
      "Andromeda IX                                   18\n",
      "ESO 383-087 (ISG 39)                           19\n",
      "Segue 1                                        19\n",
      "ESO 540-032                                    19\n",
      "Sagittarius II                                 19\n",
      "Reticulum III                                  19\n",
      "Pisces I                                       19\n",
      "Phoenix II                                     19\n",
      "HIPASS J1247-77                                19\n",
      "Sculptor Dwarf (E351-G30)                      19\n",
      "NGC 5102                                       19\n",
      "NGC 4214 (UGC 7278)                            19\n",
      "NGC 4163 (NGC 4167)                            19\n",
      "Hydrus I                                       19\n",
      "NGC 3741                                       19\n",
      "NGC 247                                        19\n",
      "KK98 77                                        19\n",
      "KKH 11 (ZOAG G135.74-04.53)                    19\n",
      "Maffei 1                                       19\n",
      "MB 3                                           19\n",
      "KKh 086                                        19\n",
      "ESO 325-11                                     19\n",
      "Segue 2                                        19\n",
      "Large Magellanic Cloud (LMC)                   19\n",
      "ESO 274-01[70]                                 19\n",
      "UGCA 133 (DDO 44)                              19\n",
      "UGC 8833                                       19\n",
      "Carina Dwarf (E206-G220)                       19\n",
      "Carina II                                      19\n",
      "Carina III                                     19\n",
      "UGCA 92                                        19\n",
      "Boötes III                                     19\n",
      "UGC 7577 (DDO 125)                             19\n",
      "Tucana II                                      19\n",
      "Antlia 2                                       19\n",
      "Coma Berenices Dwarf                           19\n",
      "Crater II                                      19\n",
      "Small Magellanic Cloud (SMC, NGC 292)          19\n",
      "Donatiello I                                   19\n",
      "Draco Dwarf (DDO 208)                          19\n",
      "Dwingeloo 1                                    19\n",
      "Triangulum II                                  19\n",
      "UGCA 105                                       19\n",
      "Cas 1 (KK98 19)                                20\n",
      "KKH 37 (Mai 16)                                20\n",
      "UGCA 15 (DDO 6)                                20\n",
      "Antlia B                                       21\n",
      "KKs 3                                          21\n",
      "KKR 25                                         21\n",
      "UGCA 438 (ESO 407-018)                         21\n",
      "Leo P                                          21\n",
      "KKh 060                                        21\n",
      "IC 5152                                        21\n",
      "IC 4662 (ESO 102-14)                           21\n",
      "IC 3104                                        21\n",
      "ESO 294-010                                    21\n",
      "UGC 4879 (VV124)[61]                           21\n",
      "Sextans A (92205, DDO 75)                      21\n",
      "NGC 2403                                       21\n",
      "NGC 300                                        22\n",
      "NGC 3109                                       22\n",
      "NGC 55                                         22\n",
      "UGC 8508 (I Zw 060)                            22\n",
      "Sextans B (UGC 5373)                           22\n",
      "UGC 9128 (DDO 187)                             22\n",
      "Antlia Dwarf                                   22\n",
      "GR 8 (DDO 155)                                 22\n",
      "KUG 1210+301B (KK98 127)                       22\n",
      "KKh 98                                         22\n",
      "Andromeda XVIII[60]                            22\n",
      "HIZSS 003                                      22\n",
      "ESO 410-G005                                   22\n",
      "KKR 03 (KK98 230)                              22\n",
      "Hercules Dwarf                                 23\n",
      "IC 342                                         23\n",
      "Camelopardalis B                               23\n",
      "NGC 1569 (UGC 3056)                            23\n",
      "Holmberg II (DDO 50, UGC 4305)                 23\n",
      "Boötes I                                       24\n",
      "Boötes II                                      24\n",
      "Grus II                                        24\n",
      "Grus I                                         24\n",
      "Pictor II                                      24\n",
      "UGC 9240 (DDO 190)                             24\n",
      "UGC 4483                                       24\n",
      "ESO 540-030 (KDG 2)                            24\n",
      "Sextans Dwarf Sph                              24\n",
      "Draco II                                       24\n",
      "UGC 8651 (DDO 181)                             24\n",
      "Reticulum II                                   24\n",
      "Dwingeloo 2                                    24\n",
      "FM2000 1                                       24\n",
      "Sagittarius Dwarf Sphr SagDEG                  24\n",
      "ESO 321-014[70]                                24\n",
      "DDO 99 (UGC 6817)                              24\n",
      "Tucana III                                     24\n",
      "NGC 5237                                       24\n",
      "MB 1 (KK98 21)                                 24\n",
      "KKH 12                                         24\n",
      "Maffei 2                                       24\n",
      "Ursa Major II Dwarf                            24\n",
      "Aquarius II                                    24\n",
      "NGC 1560                                       24\n",
      "Tucana IV                                      24\n",
      "UGCA 86                                        24\n",
      "NGC 2366                                       24\n",
      "Ursa Major I Dwarf (UMa I dSph)                24\n",
      "KK98 35                                        24\n",
      "Indus II                                       24\n",
      "UGCA 292                                       24\n",
      "NGC 404                                        24\n",
      "UGCA 276 (DDO 113)                             24\n",
      "Virgo I                                        24\n",
      "Horologium II                                  24\n",
      "Horologium I                                   24\n",
      "NGC 5206                                       24\n",
      "Ursa Minor Dwarf                               24\n",
      "Willman 1                                      24\n",
      "Cetus Dwarf                                    25\n",
      "Andromeda XXV                                  25\n",
      "Canes Venatici II Dwarf                        25\n",
      "Andromeda XXVIII                               25\n",
      "Boötes IV                                      25\n",
      "Cassiopeia III (Andromeda XXXII)               25\n",
      "Andromeda XX                                   25\n",
      "Pisces IV (Andromeda XIV)                      25\n",
      "Pegasus Dwarf Sph (And VI)                     25\n",
      "Andromeda VIII                                 25\n",
      "IC 1613 (UGC 668)                              25\n",
      "IC 10 (UGC 192)                                25\n",
      "Andromeda XXIII                                25\n",
      "Cetus III                                      25\n",
      "Pegasus III                                    25\n",
      "Phoenix Dwarf Galaxy (P 6830)                  25\n",
      "Pisces Dwarf                                   25\n",
      "Pisces II                                      25\n",
      "Andromeda II                                   25\n",
      "Pisces V (Andromeda XVI)                       25\n",
      "Leo IV Dwarf                                   25\n",
      "Eridanus II                                    25\n",
      "Triangulum Galaxy (M33)                        25\n",
      "Andromeda XV                                   25\n",
      "NGC 147 (DDO 3)                                25\n",
      "M32 (NGC 221)                                  25\n",
      "Tucana Dwarf                                   26\n",
      "Andromeda XXII[57]                             26\n",
      "Andromeda XXIV                                 26\n",
      "Andromeda XII                                  26\n",
      "Andromeda XIX[60]                              26\n",
      "Name: galactic year, dtype: int64\n"
     ]
    }
   ],
   "source": [
    "#With the exception of one galaxy NGC 5253 (drop it?), there at least 17 points for each galaxy - nice\n",
    "print(data.groupby(['galaxy'])['galactic year'].count().sort_values())"
   ]
  },
  {
   "cell_type": "code",
   "execution_count": 43,
   "metadata": {},
   "outputs": [
    {
     "data": {
      "text/plain": [
       "[<matplotlib.lines.Line2D at 0x7ff188c63490>]"
      ]
     },
     "execution_count": 43,
     "metadata": {},
     "output_type": "execute_result"
    },
    {
     "data": {
      "image/png": "[encoded data removed]",
      "text/plain": [
       "<Figure size 432x288 with 1 Axes>"
      ]
     },
     "metadata": {
      "needs_background": "light"
     },
     "output_type": "display_data"
    }
   ],
   "source": [
    "galslice = data[data['galaxy'] == 'Sextans B (UGC 5373)']\n",
    "plt.plot(galslice['galactic year'], galslice['y'])"
   ]
  },
  {
   "cell_type": "markdown",
   "metadata": {},
   "source": [
    "Let's try replacing all NaN in data with zeros. Furthermore in this part I assume that the target variable y does not depend on the galactic year nor the galaxy the data comes from. The assumption is that the final index is calculated solely based on the statistics of a given galaxy in a given year. In other words, I believe here that y is non-discriminative towards what galaxy and which year data is drawn from. "
   ]
  },
  {
   "cell_type": "code",
   "execution_count": 187,
   "metadata": {},
   "outputs": [
    {
     "name": "stdout",
     "output_type": "stream",
     "text": [
      "0.039715770090714135 Linreg on train data\n",
      "0.04619005493173697 Linreg on test data\n",
      "\n",
      "0.04120393053488227 SGDreg on train data\n",
      "0.0450457683825086 SGDreg on test data\n"
     ]
    }
   ],
   "source": [
    "from sklearn.model_selection import cross_val_score as CVS\n",
    "from sklearn.linear_model import LinearRegression as LR\n",
    "\n",
    "X = data.fillna(value=0).iloc[:, 2:-1].values\n",
    "y = data.fillna(value=0).iloc[:, -1].values\n",
    "\n",
    "#shortcut for scorer\n",
    "nrmse = 'neg_root_mean_squared_error'\n",
    "#normalize\n",
    "scaler = preprocessing.StandardScaler()\n",
    "X = scaler.fit_transform(X)\n",
    "\n",
    "(X_train, X_test, y_train,\n",
    " y_test) = model_selection.train_test_split(X, y, test_size = 0.2, shuffle=True, random_state=425)\n",
    "\n",
    "lr = linear_model.LinearRegression()\n",
    "lr.fit(X_train, y_train)\n",
    "\n",
    "train_rmse = -CVS(lr, X_train, y_train, scoring = nrmse, cv = 5).mean()\n",
    "test_rmse = -CVS(lr, X_test, y_test, scoring = nrmse, cv = 5).mean()\n",
    "print(train_rmse, 'Linreg on train data')\n",
    "print(test_rmse, 'Linreg on test data\\n')\n",
    "\n",
    "SGDreg = linear_model.SGDRegressor(penalty='l1')\n",
    "SGDreg.fit(X_train, y_train)\n",
    "\n",
    "train_rmse = -CVS(SGDreg, X_train, y_train, scoring = nrmse, cv = 5).mean()\n",
    "test_rmse = -CVS(SGDreg, X_test, y_test, scoring = nrmse, cv = 5).mean()\n",
    "print(train_rmse, 'SGDreg on train data')\n",
    "print(test_rmse, 'SGDreg on test data')\n",
    "\n"
   ]
  },
  {
   "cell_type": "code",
   "execution_count": 183,
   "metadata": {
    "scrolled": true
   },
   "outputs": [
    {
     "data": {
      "text/plain": [
       "GridSearchCV(cv=None, error_score=nan,\n",
       "             estimator=SGDRegressor(alpha=0.0001, average=False,\n",
       "                                    early_stopping=False, epsilon=0.1,\n",
       "                                    eta0=0.01, fit_intercept=True,\n",
       "                                    l1_ratio=0.15, learning_rate='invscaling',\n",
       "                                    loss='squared_loss', max_iter=1000,\n",
       "                                    n_iter_no_change=5, penalty='l1',\n",
       "                                    power_t=0.25, random_state=None,\n",
       "                                    shuffle=True, tol=0.001,\n",
       "                                    validation_fraction=0.1, verbose=0,\n",
       "                                    warm_s...\n",
       "             param_grid={'alpha': [0.0001, 0.001, 0.01, 0.1, 1, 1e-05, 1e-06],\n",
       "                         'epsilon': [0.1, 0.01, 0.001, 0.3, 0.5],\n",
       "                         'learning_rate': ['constant', 'optimal', 'invscaling',\n",
       "                                           'adaptive'],\n",
       "                         'loss': ['huber', 'squared_loss',\n",
       "                                  'epsilon_insensitive'],\n",
       "                         'penalty': ['l2', 'l1', 'elasticnet']},\n",
       "             pre_dispatch='2*n_jobs', refit=True, return_train_score=False,\n",
       "             scoring='neg_root_mean_squared_error', verbose=0)"
      ]
     },
     "execution_count": 183,
     "metadata": {},
     "output_type": "execute_result"
    }
   ],
   "source": [
    "# Tuning hyperparameters of an SGD regressor\n",
    "param_grid = {\n",
    "    'loss': ['huber', 'squared_loss', 'epsilon_insensitive'],\n",
    "    'penalty': ['l2', 'l1', 'elasticnet'],\n",
    "    'alpha' : [0.0001, 0.001, 0.01, 0.1, 1, 0.00001, 0.000001],\n",
    "    'epsilon': [0.1, 0.01, 0.001, 0.3, 0.5],\n",
    "    'learning_rate': ['constant', 'optimal', 'invscaling', 'adaptive'],\n",
    "}\n",
    "SGDreg_GSCV = model_selection.GridSearchCV(SGDreg, param_grid=param_grid, n_jobs=3, scoring='neg_root_mean_squared_error')\n",
    "SGDreg_GSCV.fit(X_train, y_train)"
   ]
  },
  {
   "cell_type": "code",
   "execution_count": 184,
   "metadata": {},
   "outputs": [
    {
     "data": {
      "text/plain": [
       "{'alpha': 0.01,\n",
       " 'epsilon': 0.3,\n",
       " 'learning_rate': 'adaptive',\n",
       " 'loss': 'huber',\n",
       " 'penalty': 'l2'}"
      ]
     },
     "execution_count": 184,
     "metadata": {},
     "output_type": "execute_result"
    }
   ],
   "source": [
    "SGDreg_GSCV.best_params_"
   ]
  },
  {
   "cell_type": "code",
   "execution_count": 203,
   "metadata": {},
   "outputs": [
    {
     "data": {
      "text/plain": [
       "0.04169575155088787"
      ]
     },
     "execution_count": 203,
     "metadata": {},
     "output_type": "execute_result"
    }
   ],
   "source": [
    "# test_rmse of SGDregressor with best parameters based on GridSearch\n",
    "metrics.mean_squared_error(y_test, SGDreg_GSCV.best_estimator_.predict(X_test))**0.5"
   ]
  },
  {
   "cell_type": "code",
   "execution_count": null,
   "metadata": {},
   "outputs": [],
   "source": []
  },
  {
   "cell_type": "code",
   "execution_count": 132,
   "metadata": {},
   "outputs": [
    {
     "data": {
      "text/plain": [
       "array([82.07633263, 74.47090212, 67.06210213, ..., 68.35158793,\n",
       "       90.71095242, 54.55316052])"
      ]
     },
     "execution_count": 132,
     "metadata": {},
     "output_type": "execute_result"
    }
   ],
   "source": [
    "X_train[:, 1]"
   ]
  },
  {
   "cell_type": "code",
   "execution_count": null,
   "metadata": {},
   "outputs": [],
   "source": []
  },
  {
   "cell_type": "code",
   "execution_count": 91,
   "metadata": {},
   "outputs": [
    {
     "data": {
      "text/plain": [
       "array([[1.00302983e+00, 8.20763326e+01, 3.66147483e+04, ...,\n",
       "        4.79470827e+00, 1.97307699e+01, 8.24575359e-01],\n",
       "       [8.83323902e-01, 7.44709021e+01, 1.91584530e+04, ...,\n",
       "        0.00000000e+00, 0.00000000e+00, 0.00000000e+00],\n",
       "       [6.05476429e-01, 6.70621021e+01, 2.60712034e+04, ...,\n",
       "        0.00000000e+00, 0.00000000e+00, 0.00000000e+00],\n",
       "       ...,\n",
       "       [7.61967185e-01, 6.83515879e+01, 2.89941384e+04, ...,\n",
       "        0.00000000e+00, 0.00000000e+00, 0.00000000e+00],\n",
       "       [9.73456845e-01, 9.07109524e+01, 3.98473684e+04, ...,\n",
       "        0.00000000e+00, 0.00000000e+00, 0.00000000e+00],\n",
       "       [6.26269365e-01, 5.45531605e+01, 3.12991695e+04, ...,\n",
       "        0.00000000e+00, 0.00000000e+00, 0.00000000e+00]])"
      ]
     },
     "execution_count": 91,
     "metadata": {},
     "output_type": "execute_result"
    }
   ],
   "source": [
    "X_train"
   ]
  },
  {
   "cell_type": "code",
   "execution_count": null,
   "metadata": {},
   "outputs": [],
   "source": [
    "linreg = linear_model.LinearRegression()"
   ]
  }
 ],
 "metadata": {
  "kernelspec": {
   "display_name": "Python 3",
   "language": "python",
   "name": "python3"
  },
  "language_info": {
   "codemirror_mode": {
    "name": "ipython",
    "version": 3
   },
   "file_extension": ".py",
   "mimetype": "text/x-python",
   "name": "python",
   "nbconvert_exporter": "python",
   "pygments_lexer": "ipython3",
   "version": "3.7.6"
  }
 },
 "nbformat": 4,
 "nbformat_minor": 4
}
