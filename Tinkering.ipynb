{
 "cells": [
  {
   "cell_type": "code",
   "execution_count": 2,
   "metadata": {},
   "outputs": [
    {
     "data": {
      "application/javascript": [
       "if (!(\"Notification\" in window)) {\n",
       "    alert(\"This browser does not support desktop notifications, so the %%notify magic will not work.\");\n",
       "} else if (Notification.permission !== 'granted' && Notification.permission !== 'denied') {\n",
       "    Notification.requestPermission(function (permission) {\n",
       "        if(!('permission' in Notification)) {\n",
       "            Notification.permission = permission;\n",
       "        }\n",
       "    })\n",
       "}\n"
      ],
      "text/plain": [
       "<IPython.core.display.Javascript object>"
      ]
     },
     "metadata": {},
     "output_type": "display_data"
    }
   ],
   "source": [
    "%load_ext jupyternotify\n",
    "import numpy as np\n",
    "import pandas as pd\n",
    "import matplotlib\n",
    "import math\n",
    "from sklearn import model_selection, ensemble, metrics, linear_model, preprocessing\n",
    "from matplotlib import pyplot as plt\n",
    "%matplotlib inline"
   ]
  },
  {
   "cell_type": "code",
   "execution_count": 2,
   "metadata": {},
   "outputs": [],
   "source": [
    "pd.set_option('display.max_rows', None)"
   ]
  },
  {
   "cell_type": "code",
   "execution_count": 61,
   "metadata": {},
   "outputs": [],
   "source": [
    "pd.set_option('display.max_rows', 10)"
   ]
  },
  {
   "cell_type": "code",
   "execution_count": 3,
   "metadata": {},
   "outputs": [],
   "source": [
    "data = pd.read_csv('dataset/train.csv')"
   ]
  },
  {
   "cell_type": "code",
   "execution_count": 4,
   "metadata": {},
   "outputs": [],
   "source": [
    "test = pd.read_csv('dataset/test.csv')"
   ]
  },
  {
   "cell_type": "code",
   "execution_count": 6,
   "metadata": {
    "scrolled": true
   },
   "outputs": [
    {
     "data": {
      "text/plain": [
       "[(0, 'galactic year'),\n",
       " (1, 'galaxy'),\n",
       " (2, 'existence expectancy index'),\n",
       " (3, 'existence expectancy at birth'),\n",
       " (4, 'Gross income per capita'),\n",
       " (5, 'Income Index'),\n",
       " (6, 'Expected years of education (galactic years)'),\n",
       " (7, 'Mean years of education (galactic years)'),\n",
       " (8, 'Intergalactic Development Index (IDI)'),\n",
       " (9, 'Education Index'),\n",
       " (10, 'Intergalactic Development Index (IDI), Rank'),\n",
       " (11, 'Population using at least basic drinking-water services (%)'),\n",
       " (12, 'Population using at least basic sanitation services (%)'),\n",
       " (13, 'Gross capital formation (% of GGP)'),\n",
       " (14, 'Population, total (millions)'),\n",
       " (15, 'Population, urban (%)'),\n",
       " (16, 'Mortality rate, under-five (per 1,000 live births)'),\n",
       " (17, 'Mortality rate, infant (per 1,000 live births)'),\n",
       " (18,\n",
       "  'Old age dependency ratio (old age (65 and older) per 100 creatures (ages 15-64))'),\n",
       " (19, 'Population, ages 15–64 (millions)'),\n",
       " (20, 'Population, ages 65 and older (millions)'),\n",
       " (21, 'Life expectancy at birth, male (galactic years)'),\n",
       " (22, 'Life expectancy at birth, female (galactic years)'),\n",
       " (23, 'Population, under age 5 (millions)'),\n",
       " (24, 'Young age (0-14) dependency ratio (per 100 creatures ages 15-64)'),\n",
       " (25, 'Adolescent birth rate (births per 1,000 female creatures ages 15-19)'),\n",
       " (26, 'Total unemployment rate (female to male ratio)'),\n",
       " (27, 'Vulnerable employment (% of total employment)'),\n",
       " (28, 'Unemployment, total (% of labour force)'),\n",
       " (29, 'Employment in agriculture (% of total employment)'),\n",
       " (30, 'Labour force participation rate (% ages 15 and older)'),\n",
       " (31, 'Labour force participation rate (% ages 15 and older), female'),\n",
       " (32, 'Employment in services (% of total employment)'),\n",
       " (33, 'Labour force participation rate (% ages 15 and older), male'),\n",
       " (34, 'Employment to population ratio (% ages 15 and older)'),\n",
       " (35, 'Jungle area (% of total land area)'),\n",
       " (36,\n",
       "  'Share of employment in nonagriculture, female (% of total employment in nonagriculture)'),\n",
       " (37, 'Youth unemployment rate (female to male ratio)'),\n",
       " (38, 'Unemployment, youth (% ages 15–24)'),\n",
       " (39, 'Mortality rate, female grown up (per 1,000 people)'),\n",
       " (40, 'Mortality rate, male grown up (per 1,000 people)'),\n",
       " (41,\n",
       "  'Infants lacking immunization, red hot disease (% of one-galactic year-olds)'),\n",
       " (42,\n",
       "  'Infants lacking immunization, Combination Vaccine (% of one-galactic year-olds)'),\n",
       " (43, 'Gross galactic product (GGP) per capita'),\n",
       " (44, 'Gross galactic product (GGP), total'),\n",
       " (45, 'Outer Galaxies direct investment, net inflows (% of GGP)'),\n",
       " (46, 'Exports and imports (% of GGP)'),\n",
       " (47, 'Share of seats in senate (% held by female)'),\n",
       " (48, 'Natural resource depletion'),\n",
       " (49, 'Mean years of education, female (galactic years)'),\n",
       " (50, 'Mean years of education, male (galactic years)'),\n",
       " (51, 'Expected years of education, female (galactic years)'),\n",
       " (52, 'Expected years of education, male (galactic years)'),\n",
       " (53, 'Maternal mortality ratio (deaths per 100,000 live births)'),\n",
       " (54, 'Renewable energy consumption (% of total final energy consumption)'),\n",
       " (55, 'Estimated gross galactic income per capita, male'),\n",
       " (56, 'Estimated gross galactic income per capita, female'),\n",
       " (57, 'Rural population with access to electricity (%)'),\n",
       " (58, 'Domestic credit provided by financial sector (% of GGP)'),\n",
       " (59,\n",
       "  'Population with at least some secondary education, female (% ages 25 and older)'),\n",
       " (60,\n",
       "  'Population with at least some secondary education, male (% ages 25 and older)'),\n",
       " (61, 'Gross fixed capital formation (% of GGP)'),\n",
       " (62, 'Remittances, inflows (% of GGP)'),\n",
       " (63,\n",
       "  'Population with at least some secondary education (% ages 25 and older)'),\n",
       " (64, 'Intergalactic inbound tourists (thousands)'),\n",
       " (65, 'Gross enrolment ratio, primary (% of primary under-age population)'),\n",
       " (66, 'Respiratory disease incidence (per 100,000 people)'),\n",
       " (67, 'Interstellar phone subscriptions (per 100 people)'),\n",
       " (68, 'Interstellar Data Net users, total (% of population)'),\n",
       " (69, 'Current health expenditure (% of GGP)'),\n",
       " (70, 'Intergalactic Development Index (IDI), female'),\n",
       " (71, 'Intergalactic Development Index (IDI), male'),\n",
       " (72, 'Gender Development Index (GDI)'),\n",
       " (73, 'Intergalactic Development Index (IDI), female, Rank'),\n",
       " (74, 'Intergalactic Development Index (IDI), male, Rank'),\n",
       " (75, 'Adjusted net savings '),\n",
       " (76,\n",
       "  'Creature Immunodeficiency Disease prevalence, adult (% ages 15-49), total'),\n",
       " (77, 'Private galaxy capital flows (% of GGP)'),\n",
       " (78, 'Gender Inequality Index (GII)'),\n",
       " (79, 'y')]"
      ]
     },
     "execution_count": 6,
     "metadata": {},
     "output_type": "execute_result"
    }
   ],
   "source": [
    "list(enumerate(data.columns))"
   ]
  },
  {
   "cell_type": "code",
   "execution_count": 22,
   "metadata": {
    "scrolled": true
   },
   "outputs": [
    {
     "name": "stdout",
     "output_type": "stream",
     "text": [
      "Mean years of education (galactic years)\n"
     ]
    },
    {
     "data": {
      "text/html": [
       "<div>\n",
       "<style scoped>\n",
       "    .dataframe tbody tr th:only-of-type {\n",
       "        vertical-align: middle;\n",
       "    }\n",
       "\n",
       "    .dataframe tbody tr th {\n",
       "        vertical-align: top;\n",
       "    }\n",
       "\n",
       "    .dataframe thead th {\n",
       "        text-align: right;\n",
       "    }\n",
       "</style>\n",
       "<table border=\"1\" class=\"dataframe\">\n",
       "  <thead>\n",
       "    <tr style=\"text-align: right;\">\n",
       "      <th></th>\n",
       "      <th>galactic year</th>\n",
       "      <th>galaxy</th>\n",
       "      <th>existence expectancy index</th>\n",
       "      <th>existence expectancy at birth</th>\n",
       "      <th>Gross income per capita</th>\n",
       "      <th>Income Index</th>\n",
       "      <th>Expected years of education (galactic years)</th>\n",
       "      <th>Mean years of education (galactic years)</th>\n",
       "      <th>Intergalactic Development Index (IDI)</th>\n",
       "      <th>Education Index</th>\n",
       "      <th>...</th>\n",
       "      <th>Current health expenditure (% of GGP)</th>\n",
       "      <th>Intergalactic Development Index (IDI), female</th>\n",
       "      <th>Intergalactic Development Index (IDI), male</th>\n",
       "      <th>Gender Development Index (GDI)</th>\n",
       "      <th>Intergalactic Development Index (IDI), female, Rank</th>\n",
       "      <th>Intergalactic Development Index (IDI), male, Rank</th>\n",
       "      <th>Adjusted net savings</th>\n",
       "      <th>Creature Immunodeficiency Disease prevalence, adult (% ages 15-49), total</th>\n",
       "      <th>Private galaxy capital flows (% of GGP)</th>\n",
       "      <th>Gender Inequality Index (GII)</th>\n",
       "    </tr>\n",
       "  </thead>\n",
       "  <tbody>\n",
       "    <tr>\n",
       "      <th>41</th>\n",
       "      <td>27</td>\n",
       "      <td>7</td>\n",
       "      <td>0.659660</td>\n",
       "      <td>63.940738</td>\n",
       "      <td>17323.267019</td>\n",
       "      <td>0.678189</td>\n",
       "      <td>12.452063</td>\n",
       "      <td>8.780434</td>\n",
       "      <td>0.638532</td>\n",
       "      <td>0.738510</td>\n",
       "      <td>...</td>\n",
       "      <td>11.204164</td>\n",
       "      <td>0.684239</td>\n",
       "      <td>0.687178</td>\n",
       "      <td>1.114842</td>\n",
       "      <td>179.106053</td>\n",
       "      <td>195.188927</td>\n",
       "      <td>19.766788</td>\n",
       "      <td>29.154971</td>\n",
       "      <td>33.776606</td>\n",
       "      <td>0.685646</td>\n",
       "    </tr>\n",
       "    <tr>\n",
       "      <th>57</th>\n",
       "      <td>27</td>\n",
       "      <td>75</td>\n",
       "      <td>0.682815</td>\n",
       "      <td>70.163893</td>\n",
       "      <td>15368.770876</td>\n",
       "      <td>0.716356</td>\n",
       "      <td>14.936837</td>\n",
       "      <td>10.235461</td>\n",
       "      <td>0.766032</td>\n",
       "      <td>0.527746</td>\n",
       "      <td>...</td>\n",
       "      <td>6.428840</td>\n",
       "      <td>0.702641</td>\n",
       "      <td>0.699396</td>\n",
       "      <td>0.869801</td>\n",
       "      <td>154.585525</td>\n",
       "      <td>206.087378</td>\n",
       "      <td>26.388623</td>\n",
       "      <td>9.795034</td>\n",
       "      <td>23.742147</td>\n",
       "      <td>0.788741</td>\n",
       "    </tr>\n",
       "    <tr>\n",
       "      <th>67</th>\n",
       "      <td>27</td>\n",
       "      <td>179</td>\n",
       "      <td>0.704373</td>\n",
       "      <td>62.578774</td>\n",
       "      <td>26545.496277</td>\n",
       "      <td>0.475344</td>\n",
       "      <td>11.654224</td>\n",
       "      <td>7.809612</td>\n",
       "      <td>0.594509</td>\n",
       "      <td>0.490001</td>\n",
       "      <td>...</td>\n",
       "      <td>6.928602</td>\n",
       "      <td>0.563622</td>\n",
       "      <td>0.498191</td>\n",
       "      <td>0.934718</td>\n",
       "      <td>209.322397</td>\n",
       "      <td>234.119429</td>\n",
       "      <td>NaN</td>\n",
       "      <td>6.396419</td>\n",
       "      <td>NaN</td>\n",
       "      <td>0.948781</td>\n",
       "    </tr>\n",
       "    <tr>\n",
       "      <th>83</th>\n",
       "      <td>27</td>\n",
       "      <td>152</td>\n",
       "      <td>0.729481</td>\n",
       "      <td>65.334385</td>\n",
       "      <td>20213.281664</td>\n",
       "      <td>0.710236</td>\n",
       "      <td>16.792718</td>\n",
       "      <td>8.187436</td>\n",
       "      <td>0.759934</td>\n",
       "      <td>0.785823</td>\n",
       "      <td>...</td>\n",
       "      <td>6.902993</td>\n",
       "      <td>0.788946</td>\n",
       "      <td>0.712283</td>\n",
       "      <td>0.949569</td>\n",
       "      <td>187.466791</td>\n",
       "      <td>168.104504</td>\n",
       "      <td>16.443804</td>\n",
       "      <td>5.834149</td>\n",
       "      <td>15.834209</td>\n",
       "      <td>0.756174</td>\n",
       "    </tr>\n",
       "    <tr>\n",
       "      <th>88</th>\n",
       "      <td>27</td>\n",
       "      <td>45</td>\n",
       "      <td>0.732327</td>\n",
       "      <td>71.532674</td>\n",
       "      <td>33360.840015</td>\n",
       "      <td>0.825167</td>\n",
       "      <td>13.147442</td>\n",
       "      <td>10.059363</td>\n",
       "      <td>0.760529</td>\n",
       "      <td>0.750277</td>\n",
       "      <td>...</td>\n",
       "      <td>11.120508</td>\n",
       "      <td>0.938336</td>\n",
       "      <td>0.716669</td>\n",
       "      <td>1.076733</td>\n",
       "      <td>180.956163</td>\n",
       "      <td>185.904734</td>\n",
       "      <td>14.821980</td>\n",
       "      <td>31.487193</td>\n",
       "      <td>20.285836</td>\n",
       "      <td>0.828074</td>\n",
       "    </tr>\n",
       "    <tr>\n",
       "      <th>...</th>\n",
       "      <td>...</td>\n",
       "      <td>...</td>\n",
       "      <td>...</td>\n",
       "      <td>...</td>\n",
       "      <td>...</td>\n",
       "      <td>...</td>\n",
       "      <td>...</td>\n",
       "      <td>...</td>\n",
       "      <td>...</td>\n",
       "      <td>...</td>\n",
       "      <td>...</td>\n",
       "      <td>...</td>\n",
       "      <td>...</td>\n",
       "      <td>...</td>\n",
       "      <td>...</td>\n",
       "      <td>...</td>\n",
       "      <td>...</td>\n",
       "      <td>...</td>\n",
       "      <td>...</td>\n",
       "      <td>...</td>\n",
       "      <td>...</td>\n",
       "    </tr>\n",
       "    <tr>\n",
       "      <th>885</th>\n",
       "      <td>27</td>\n",
       "      <td>59</td>\n",
       "      <td>NaN</td>\n",
       "      <td>NaN</td>\n",
       "      <td>NaN</td>\n",
       "      <td>NaN</td>\n",
       "      <td>NaN</td>\n",
       "      <td>NaN</td>\n",
       "      <td>NaN</td>\n",
       "      <td>NaN</td>\n",
       "      <td>...</td>\n",
       "      <td>NaN</td>\n",
       "      <td>NaN</td>\n",
       "      <td>NaN</td>\n",
       "      <td>NaN</td>\n",
       "      <td>NaN</td>\n",
       "      <td>NaN</td>\n",
       "      <td>NaN</td>\n",
       "      <td>NaN</td>\n",
       "      <td>NaN</td>\n",
       "      <td>NaN</td>\n",
       "    </tr>\n",
       "    <tr>\n",
       "      <th>886</th>\n",
       "      <td>27</td>\n",
       "      <td>117</td>\n",
       "      <td>NaN</td>\n",
       "      <td>NaN</td>\n",
       "      <td>NaN</td>\n",
       "      <td>NaN</td>\n",
       "      <td>NaN</td>\n",
       "      <td>NaN</td>\n",
       "      <td>NaN</td>\n",
       "      <td>NaN</td>\n",
       "      <td>...</td>\n",
       "      <td>NaN</td>\n",
       "      <td>NaN</td>\n",
       "      <td>NaN</td>\n",
       "      <td>NaN</td>\n",
       "      <td>NaN</td>\n",
       "      <td>NaN</td>\n",
       "      <td>NaN</td>\n",
       "      <td>NaN</td>\n",
       "      <td>NaN</td>\n",
       "      <td>NaN</td>\n",
       "    </tr>\n",
       "    <tr>\n",
       "      <th>887</th>\n",
       "      <td>27</td>\n",
       "      <td>58</td>\n",
       "      <td>NaN</td>\n",
       "      <td>NaN</td>\n",
       "      <td>NaN</td>\n",
       "      <td>NaN</td>\n",
       "      <td>NaN</td>\n",
       "      <td>NaN</td>\n",
       "      <td>NaN</td>\n",
       "      <td>NaN</td>\n",
       "      <td>...</td>\n",
       "      <td>NaN</td>\n",
       "      <td>NaN</td>\n",
       "      <td>NaN</td>\n",
       "      <td>NaN</td>\n",
       "      <td>NaN</td>\n",
       "      <td>NaN</td>\n",
       "      <td>NaN</td>\n",
       "      <td>NaN</td>\n",
       "      <td>NaN</td>\n",
       "      <td>NaN</td>\n",
       "    </tr>\n",
       "    <tr>\n",
       "      <th>888</th>\n",
       "      <td>27</td>\n",
       "      <td>62</td>\n",
       "      <td>NaN</td>\n",
       "      <td>NaN</td>\n",
       "      <td>NaN</td>\n",
       "      <td>NaN</td>\n",
       "      <td>NaN</td>\n",
       "      <td>NaN</td>\n",
       "      <td>NaN</td>\n",
       "      <td>NaN</td>\n",
       "      <td>...</td>\n",
       "      <td>NaN</td>\n",
       "      <td>NaN</td>\n",
       "      <td>NaN</td>\n",
       "      <td>NaN</td>\n",
       "      <td>NaN</td>\n",
       "      <td>NaN</td>\n",
       "      <td>NaN</td>\n",
       "      <td>NaN</td>\n",
       "      <td>NaN</td>\n",
       "      <td>NaN</td>\n",
       "    </tr>\n",
       "    <tr>\n",
       "      <th>889</th>\n",
       "      <td>27</td>\n",
       "      <td>85</td>\n",
       "      <td>NaN</td>\n",
       "      <td>NaN</td>\n",
       "      <td>NaN</td>\n",
       "      <td>NaN</td>\n",
       "      <td>NaN</td>\n",
       "      <td>NaN</td>\n",
       "      <td>NaN</td>\n",
       "      <td>NaN</td>\n",
       "      <td>...</td>\n",
       "      <td>NaN</td>\n",
       "      <td>NaN</td>\n",
       "      <td>NaN</td>\n",
       "      <td>NaN</td>\n",
       "      <td>NaN</td>\n",
       "      <td>NaN</td>\n",
       "      <td>NaN</td>\n",
       "      <td>NaN</td>\n",
       "      <td>NaN</td>\n",
       "      <td>NaN</td>\n",
       "    </tr>\n",
       "  </tbody>\n",
       "</table>\n",
       "<p>86 rows × 79 columns</p>\n",
       "</div>"
      ],
      "text/plain": [
       "     galactic year  galaxy  existence expectancy index  \\\n",
       "41              27       7                    0.659660   \n",
       "57              27      75                    0.682815   \n",
       "67              27     179                    0.704373   \n",
       "83              27     152                    0.729481   \n",
       "88              27      45                    0.732327   \n",
       "..             ...     ...                         ...   \n",
       "885             27      59                         NaN   \n",
       "886             27     117                         NaN   \n",
       "887             27      58                         NaN   \n",
       "888             27      62                         NaN   \n",
       "889             27      85                         NaN   \n",
       "\n",
       "     existence expectancy at birth  Gross income per capita  Income Index  \\\n",
       "41                       63.940738             17323.267019      0.678189   \n",
       "57                       70.163893             15368.770876      0.716356   \n",
       "67                       62.578774             26545.496277      0.475344   \n",
       "83                       65.334385             20213.281664      0.710236   \n",
       "88                       71.532674             33360.840015      0.825167   \n",
       "..                             ...                      ...           ...   \n",
       "885                            NaN                      NaN           NaN   \n",
       "886                            NaN                      NaN           NaN   \n",
       "887                            NaN                      NaN           NaN   \n",
       "888                            NaN                      NaN           NaN   \n",
       "889                            NaN                      NaN           NaN   \n",
       "\n",
       "     Expected years of education (galactic years)  \\\n",
       "41                                      12.452063   \n",
       "57                                      14.936837   \n",
       "67                                      11.654224   \n",
       "83                                      16.792718   \n",
       "88                                      13.147442   \n",
       "..                                            ...   \n",
       "885                                           NaN   \n",
       "886                                           NaN   \n",
       "887                                           NaN   \n",
       "888                                           NaN   \n",
       "889                                           NaN   \n",
       "\n",
       "     Mean years of education (galactic years)  \\\n",
       "41                                   8.780434   \n",
       "57                                  10.235461   \n",
       "67                                   7.809612   \n",
       "83                                   8.187436   \n",
       "88                                  10.059363   \n",
       "..                                        ...   \n",
       "885                                       NaN   \n",
       "886                                       NaN   \n",
       "887                                       NaN   \n",
       "888                                       NaN   \n",
       "889                                       NaN   \n",
       "\n",
       "     Intergalactic Development Index (IDI)  Education Index  ...  \\\n",
       "41                                0.638532         0.738510  ...   \n",
       "57                                0.766032         0.527746  ...   \n",
       "67                                0.594509         0.490001  ...   \n",
       "83                                0.759934         0.785823  ...   \n",
       "88                                0.760529         0.750277  ...   \n",
       "..                                     ...              ...  ...   \n",
       "885                                    NaN              NaN  ...   \n",
       "886                                    NaN              NaN  ...   \n",
       "887                                    NaN              NaN  ...   \n",
       "888                                    NaN              NaN  ...   \n",
       "889                                    NaN              NaN  ...   \n",
       "\n",
       "     Current health expenditure (% of GGP)  \\\n",
       "41                               11.204164   \n",
       "57                                6.428840   \n",
       "67                                6.928602   \n",
       "83                                6.902993   \n",
       "88                               11.120508   \n",
       "..                                     ...   \n",
       "885                                    NaN   \n",
       "886                                    NaN   \n",
       "887                                    NaN   \n",
       "888                                    NaN   \n",
       "889                                    NaN   \n",
       "\n",
       "     Intergalactic Development Index (IDI), female  \\\n",
       "41                                        0.684239   \n",
       "57                                        0.702641   \n",
       "67                                        0.563622   \n",
       "83                                        0.788946   \n",
       "88                                        0.938336   \n",
       "..                                             ...   \n",
       "885                                            NaN   \n",
       "886                                            NaN   \n",
       "887                                            NaN   \n",
       "888                                            NaN   \n",
       "889                                            NaN   \n",
       "\n",
       "     Intergalactic Development Index (IDI), male  \\\n",
       "41                                      0.687178   \n",
       "57                                      0.699396   \n",
       "67                                      0.498191   \n",
       "83                                      0.712283   \n",
       "88                                      0.716669   \n",
       "..                                           ...   \n",
       "885                                          NaN   \n",
       "886                                          NaN   \n",
       "887                                          NaN   \n",
       "888                                          NaN   \n",
       "889                                          NaN   \n",
       "\n",
       "     Gender Development Index (GDI)  \\\n",
       "41                         1.114842   \n",
       "57                         0.869801   \n",
       "67                         0.934718   \n",
       "83                         0.949569   \n",
       "88                         1.076733   \n",
       "..                              ...   \n",
       "885                             NaN   \n",
       "886                             NaN   \n",
       "887                             NaN   \n",
       "888                             NaN   \n",
       "889                             NaN   \n",
       "\n",
       "     Intergalactic Development Index (IDI), female, Rank  \\\n",
       "41                                          179.106053     \n",
       "57                                          154.585525     \n",
       "67                                          209.322397     \n",
       "83                                          187.466791     \n",
       "88                                          180.956163     \n",
       "..                                                 ...     \n",
       "885                                                NaN     \n",
       "886                                                NaN     \n",
       "887                                                NaN     \n",
       "888                                                NaN     \n",
       "889                                                NaN     \n",
       "\n",
       "     Intergalactic Development Index (IDI), male, Rank  Adjusted net savings   \\\n",
       "41                                          195.188927              19.766788   \n",
       "57                                          206.087378              26.388623   \n",
       "67                                          234.119429                    NaN   \n",
       "83                                          168.104504              16.443804   \n",
       "88                                          185.904734              14.821980   \n",
       "..                                                 ...                    ...   \n",
       "885                                                NaN                    NaN   \n",
       "886                                                NaN                    NaN   \n",
       "887                                                NaN                    NaN   \n",
       "888                                                NaN                    NaN   \n",
       "889                                                NaN                    NaN   \n",
       "\n",
       "     Creature Immunodeficiency Disease prevalence, adult (% ages 15-49), total  \\\n",
       "41                                           29.154971                           \n",
       "57                                            9.795034                           \n",
       "67                                            6.396419                           \n",
       "83                                            5.834149                           \n",
       "88                                           31.487193                           \n",
       "..                                                 ...                           \n",
       "885                                                NaN                           \n",
       "886                                                NaN                           \n",
       "887                                                NaN                           \n",
       "888                                                NaN                           \n",
       "889                                                NaN                           \n",
       "\n",
       "     Private galaxy capital flows (% of GGP)  Gender Inequality Index (GII)  \n",
       "41                                 33.776606                       0.685646  \n",
       "57                                 23.742147                       0.788741  \n",
       "67                                       NaN                       0.948781  \n",
       "83                                 15.834209                       0.756174  \n",
       "88                                 20.285836                       0.828074  \n",
       "..                                       ...                            ...  \n",
       "885                                      NaN                            NaN  \n",
       "886                                      NaN                            NaN  \n",
       "887                                      NaN                            NaN  \n",
       "888                                      NaN                            NaN  \n",
       "889                                      NaN                            NaN  \n",
       "\n",
       "[86 rows x 79 columns]"
      ]
     },
     "execution_count": 22,
     "metadata": {},
     "output_type": "execute_result"
    }
   ],
   "source": [
    "print (test.columns[7])\n",
    "test[test.iloc[:,0] == 27]"
   ]
  },
  {
   "cell_type": "code",
   "execution_count": 5,
   "metadata": {
    "scrolled": true
   },
   "outputs": [
    {
     "name": "stdout",
     "output_type": "stream",
     "text": [
      "[dtype('int64') dtype('O') dtype('float64') dtype('float64')\n",
      " dtype('float64') dtype('float64') dtype('float64') dtype('float64')\n",
      " dtype('float64') dtype('float64') dtype('float64') dtype('float64')\n",
      " dtype('float64') dtype('float64') dtype('float64') dtype('float64')\n",
      " dtype('float64') dtype('float64') dtype('float64') dtype('float64')\n",
      " dtype('float64') dtype('float64') dtype('float64') dtype('float64')\n",
      " dtype('float64') dtype('float64') dtype('float64') dtype('float64')\n",
      " dtype('float64') dtype('float64') dtype('float64') dtype('float64')\n",
      " dtype('float64') dtype('float64') dtype('float64') dtype('float64')\n",
      " dtype('float64') dtype('float64') dtype('float64') dtype('float64')\n",
      " dtype('float64') dtype('float64') dtype('float64') dtype('float64')\n",
      " dtype('float64') dtype('float64') dtype('float64') dtype('float64')\n",
      " dtype('float64') dtype('float64') dtype('float64') dtype('float64')\n",
      " dtype('float64') dtype('float64') dtype('float64') dtype('float64')\n",
      " dtype('float64') dtype('float64') dtype('float64') dtype('float64')\n",
      " dtype('float64') dtype('float64') dtype('float64') dtype('float64')\n",
      " dtype('float64') dtype('float64') dtype('float64') dtype('float64')\n",
      " dtype('float64') dtype('float64') dtype('float64') dtype('float64')\n",
      " dtype('float64') dtype('float64') dtype('float64') dtype('float64')\n",
      " dtype('float64') dtype('float64') dtype('float64') dtype('float64')]\n",
      "[dtype('int64') dtype('O') dtype('float64') dtype('float64')\n",
      " dtype('float64') dtype('float64') dtype('float64') dtype('float64')\n",
      " dtype('float64') dtype('float64') dtype('float64') dtype('float64')\n",
      " dtype('float64') dtype('float64') dtype('float64') dtype('float64')\n",
      " dtype('float64') dtype('float64') dtype('float64') dtype('float64')\n",
      " dtype('float64') dtype('float64') dtype('float64') dtype('float64')\n",
      " dtype('float64') dtype('float64') dtype('float64') dtype('float64')\n",
      " dtype('float64') dtype('float64') dtype('float64') dtype('float64')\n",
      " dtype('float64') dtype('float64') dtype('float64') dtype('float64')\n",
      " dtype('float64') dtype('float64') dtype('float64') dtype('float64')\n",
      " dtype('float64') dtype('float64') dtype('float64') dtype('float64')\n",
      " dtype('float64') dtype('float64') dtype('float64') dtype('float64')\n",
      " dtype('float64') dtype('float64') dtype('float64') dtype('float64')\n",
      " dtype('float64') dtype('float64') dtype('float64') dtype('float64')\n",
      " dtype('float64') dtype('float64') dtype('float64') dtype('float64')\n",
      " dtype('float64') dtype('float64') dtype('float64') dtype('float64')\n",
      " dtype('float64') dtype('float64') dtype('float64') dtype('float64')\n",
      " dtype('float64') dtype('float64') dtype('float64') dtype('float64')\n",
      " dtype('float64') dtype('float64') dtype('float64') dtype('float64')\n",
      " dtype('float64') dtype('float64') dtype('float64')]\n"
     ]
    }
   ],
   "source": [
    "# Data contains numerical values, except for \"galaxy\" and \n",
    "# \"galactic year\", which represent name and ordinal relationship\n",
    "print(data.dtypes.values)\n",
    "print(test.dtypes.values)"
   ]
  },
  {
   "cell_type": "code",
   "execution_count": 9,
   "metadata": {
    "scrolled": true
   },
   "outputs": [
    {
     "name": "stdout",
     "output_type": "stream",
     "text": [
      "[ 990025  991020  992016  993012  994009  995006  996004  997002  998001\n",
      "  999000 1000000 1001000 1002001 1003002 1004004 1005006 1006009 1007012\n",
      " 1008016 1009020 1010025 1011030 1012036 1013042 1014049 1015056]\n",
      "(26,)\n",
      "[1007012 1008016 1009020 1010025 1011030 1012036 1013042 1014049 1015056\n",
      " 1016064]\n",
      "(10,)\n",
      "['Andromeda Galaxy (M31)' 'Andromeda I' 'Andromeda II' 'Andromeda III'\n",
      " 'Andromeda IX']\n",
      "(181,)\n"
     ]
    }
   ],
   "source": [
    "#Test dataset contains objects only of latest 10 years,\n",
    "#including unmentioned in train data latest year 1016064\n",
    "unique_years = data['galactic year'].unique()\n",
    "print (unique_years)\n",
    "print (unique_years.shape)\n",
    "\n",
    "print(np.sort(test['galactic year'].unique()))\n",
    "print(test['galactic year'].unique().shape)\n",
    "\n",
    "unique_names = data['galaxy'].unique()\n",
    "unique_names = np.sort(unique_names)\n",
    "print (unique_names[:5])\n",
    "print(unique_names.shape)"
   ]
  },
  {
   "cell_type": "code",
   "execution_count": 10,
   "metadata": {},
   "outputs": [],
   "source": [
    "#Let's map all galactic years to years with increment of 1 year\n",
    "# and map all galaxies to their unique integer key\n",
    "\n",
    "#dictionary for replacement of galactic years with normal years\n",
    "di = {val: ind+1 for ind, val in enumerate(np.append(unique_years,\n",
    "                                                     1016064))}\n",
    "#dictionary for replacement of names with integer keys\n",
    "di_names = {val: ind+1 for ind, val in enumerate(unique_names)}\n",
    "data.replace({'galactic year':di}, inplace=True)\n",
    "test.replace({'galactic year':di}, inplace=True)\n",
    "\n",
    "data.replace({'galaxy':di_names}, inplace=True)\n",
    "test.replace({'galaxy':di_names}, inplace=True)"
   ]
  },
  {
   "cell_type": "code",
   "execution_count": 7,
   "metadata": {},
   "outputs": [
    {
     "data": {
      "text/plain": [
       "165     35\n",
       "189     59\n",
       "416     68\n",
       "574     68\n",
       "762     68\n",
       "938     15\n",
       "1256    68\n",
       "1390    68\n",
       "1475    68\n",
       "1751    68\n",
       "1889     7\n",
       "2023    66\n",
       "2188    66\n",
       "2408    66\n",
       "2677    66\n",
       "2866     5\n",
       "3019    66\n",
       "3545     5\n",
       "3678     5\n",
       "dtype: int64"
      ]
     },
     "execution_count": 7,
     "metadata": {},
     "output_type": "execute_result"
    }
   ],
   "source": [
    "data[data['galaxy']==59].isna().sum(axis=1)"
   ]
  },
  {
   "cell_type": "code",
   "execution_count": 6,
   "metadata": {
    "scrolled": true
   },
   "outputs": [
    {
     "data": {
      "text/plain": [
       "galactic year                                                                              0.000000\n",
       "y                                                                                          0.000000\n",
       "galaxy                                                                                     0.000000\n",
       "existence expectancy index                                                                 0.000259\n",
       "existence expectancy at birth                                                              0.000259\n",
       "Gross income per capita                                                                    0.007245\n",
       "Income Index                                                                               0.007245\n",
       "Expected years of education (galactic years)                                               0.034411\n",
       "Mean years of education (galactic years)                                                   0.093920\n",
       "Intergalactic Development Index (IDI)                                                      0.101164\n",
       "Education Index                                                                            0.101164\n",
       "Intergalactic Development Index (IDI), Rank                                                0.112031\n",
       "Population using at least basic drinking-water services (%)                                0.477102\n",
       "Population using at least basic sanitation services (%)                                    0.478655\n",
       "Gross capital formation (% of GGP)                                                         0.611384\n",
       "Population, urban (%)                                                                      0.671151\n",
       "Mortality rate, under-five (per 1,000 live births)                                         0.671151\n",
       "Population, total (millions)                                                               0.671151\n",
       "Old age dependency ratio (old age (65 and older) per 100 creatures (ages 15-64))           0.672962\n",
       "Population, ages 15–64 (millions)                                                          0.672962\n",
       "Population, ages 65 and older (millions)                                                   0.672962\n",
       "Life expectancy at birth, male (galactic years)                                            0.672962\n",
       "Life expectancy at birth, female (galactic years)                                          0.672962\n",
       "Population, under age 5 (millions)                                                         0.672962\n",
       "Young age (0-14) dependency ratio (per 100 creatures ages 15-64)                           0.672962\n",
       "Mortality rate, infant (per 1,000 live births)                                             0.674256\n",
       "Mortality rate, male grown up (per 1,000 people)                                           0.675809\n",
       "Mortality rate, female grown up (per 1,000 people)                                         0.675809\n",
       "Adolescent birth rate (births per 1,000 female creatures ages 15-19)                       0.676067\n",
       "Maternal mortality ratio (deaths per 100,000 live births)                                  0.676067\n",
       "Labour force participation rate (% ages 15 and older)                                      0.679948\n",
       "Employment in agriculture (% of total employment)                                          0.679948\n",
       "Total unemployment rate (female to male ratio)                                             0.679948\n",
       "Unemployment, total (% of labour force)                                                    0.679948\n",
       "Share of employment in nonagriculture, female (% of total employment in nonagriculture)    0.679948\n",
       "Vulnerable employment (% of total employment)                                              0.679948\n",
       "Employment to population ratio (% ages 15 and older)                                       0.679948\n",
       "Labour force participation rate (% ages 15 and older), female                              0.679948\n",
       "Labour force participation rate (% ages 15 and older), male                                0.679948\n",
       "Employment in services (% of total employment)                                             0.679948\n",
       "Youth unemployment rate (female to male ratio)                                             0.680207\n",
       "Unemployment, youth (% ages 15–24)                                                         0.680207\n",
       "Renewable energy consumption (% of total final energy consumption)                         0.680466\n",
       "Jungle area (% of total land area)                                                         0.680724\n",
       "Infants lacking immunization, red hot disease (% of one-galactic year-olds)                0.684605\n",
       "Infants lacking immunization, Combination Vaccine (% of one-galactic year-olds)            0.684605\n",
       "Gross galactic product (GGP) per capita                                                    0.689004\n",
       "Gross galactic product (GGP), total                                                        0.689004\n",
       "Outer Galaxies direct investment, net inflows (% of GGP)                                   0.697542\n",
       "Exports and imports (% of GGP)                                                             0.704010\n",
       "Mean years of education, female (galactic years)                                           0.705045\n",
       "Mean years of education, male (galactic years)                                             0.705563\n",
       "Natural resource depletion                                                                 0.707115\n",
       "Share of seats in senate (% held by female)                                                0.709444\n",
       "Expected years of education, female (galactic years)                                       0.713066\n",
       "Expected years of education, male (galactic years)                                         0.713325\n",
       "Population with at least some secondary education, female (% ages 25 and older)            0.718241\n",
       "Population with at least some secondary education, male (% ages 25 and older)              0.718758\n",
       "Domestic credit provided by financial sector (% of GGP)                                    0.720828\n",
       "Gross fixed capital formation (% of GGP)                                                   0.722122\n",
       "Estimated gross galactic income per capita, male                                           0.727038\n",
       "Estimated gross galactic income per capita, female                                         0.727038\n",
       "Population with at least some secondary education (% ages 25 and older)                    0.728072\n",
       "Gross enrolment ratio, primary (% of primary under-age population)                         0.731436\n",
       "Rural population with access to electricity (%)                                            0.733765\n",
       "Remittances, inflows (% of GGP)                                                            0.734023\n",
       "Intergalactic inbound tourists (thousands)                                                 0.742561\n",
       "Creature Immunodeficiency Disease prevalence, adult (% ages 15-49), total                  0.756533\n",
       "Intergalactic Development Index (IDI), female                                              0.763001\n",
       "Intergalactic Development Index (IDI), male                                                0.763260\n",
       "Gender Development Index (GDI)                                                             0.763519\n",
       "Adjusted net savings                                                                       0.764036\n",
       "Respiratory disease incidence (per 100,000 people)                                         0.768176\n",
       "Intergalactic Development Index (IDI), female, Rank                                        0.768952\n",
       "Intergalactic Development Index (IDI), male, Rank                                          0.769211\n",
       "Interstellar phone subscriptions (per 100 people)                                          0.769470\n",
       "Private galaxy capital flows (% of GGP)                                                    0.773868\n",
       "Interstellar Data Net users, total (% of population)                                       0.774386\n",
       "Current health expenditure (% of GGP)                                                      0.775679\n",
       "Gender Inequality Index (GII)                                                              0.781630\n",
       "dtype: float64"
      ]
     },
     "execution_count": 6,
     "metadata": {},
     "output_type": "execute_result"
    }
   ],
   "source": [
    "#Let's see how much data is missing for each feature\n",
    "data.isna().mean().sort_values()"
   ]
  },
  {
   "cell_type": "code",
   "execution_count": 9,
   "metadata": {},
   "outputs": [
    {
     "data": {
      "text/plain": [
       "True"
      ]
     },
     "execution_count": 9,
     "metadata": {},
     "output_type": "execute_result"
    }
   ],
   "source": [
    "#Are there any new unknown galaxies in the test dataset?\n",
    "#The answer is NO\n",
    "a = set(data['galaxy'].unique())\n",
    "b = set(test['galaxy'].unique())\n",
    "b.issubset(a)"
   ]
  },
  {
   "cell_type": "code",
   "execution_count": 23,
   "metadata": {
    "scrolled": true
   },
   "outputs": [
    {
     "name": "stdout",
     "output_type": "stream",
     "text": [
      "galactic year\n",
      "1     0.081928\n",
      "2     0.082005\n",
      "3     0.082007\n",
      "4     0.082011\n",
      "5     0.082023\n",
      "6     0.082027\n",
      "7     0.082088\n",
      "8     0.082100\n",
      "9     0.082106\n",
      "10    0.082111\n",
      "11    0.082117\n",
      "12    0.082297\n",
      "13    0.082297\n",
      "14    0.082300\n",
      "15    0.082291\n",
      "16    0.082288\n",
      "17    0.082435\n",
      "18    0.081335\n",
      "19    0.081379\n",
      "20    0.081381\n",
      "21    0.081331\n",
      "22    0.080062\n",
      "23    0.094917\n",
      "24    0.098005\n",
      "25    0.087332\n",
      "26    0.080857\n",
      "Name: y, dtype: float64\n"
     ]
    },
    {
     "data": {
      "text/plain": [
       "[<matplotlib.lines.Line2D at 0x7feebaa3e8d0>]"
      ]
     },
     "execution_count": 23,
     "metadata": {},
     "output_type": "execute_result"
    },
    {
     "data": {
      "image/png": "[encoded data removed]",
      "text/plain": [
       "<Figure size 432x288 with 1 Axes>"
      ]
     },
     "metadata": {
      "needs_background": "light"
     },
     "output_type": "display_data"
    }
   ],
   "source": [
    "y_dist = data.groupby(['galactic year'])['y'].mean()\n",
    "print (y_dist)\n",
    "plt.plot(y_dist)"
   ]
  },
  {
   "cell_type": "code",
   "execution_count": 24,
   "metadata": {
    "scrolled": true
   },
   "outputs": [
    {
     "name": "stdout",
     "output_type": "stream",
     "text": [
      "galaxy\n",
      "1      0.043539\n",
      "2      0.049126\n",
      "3      0.176689\n",
      "4      0.117387\n",
      "5      0.166813\n",
      "         ...   \n",
      "177    0.190628\n",
      "178    0.051538\n",
      "179    0.042337\n",
      "180    0.055283\n",
      "181    0.044738\n",
      "Name: y, Length: 181, dtype: float64\n"
     ]
    },
    {
     "data": {
      "text/plain": [
       "(array([125.,  21.,   8.,  10.,   8.,   6.,   0.,   2.,   0.,   1.]),\n",
       " array([0.03693184, 0.07251439, 0.10809694, 0.14367949, 0.17926205,\n",
       "        0.2148446 , 0.25042715, 0.2860097 , 0.32159225, 0.3571748 ,\n",
       "        0.39275736]),\n",
       " <a list of 10 Patch objects>)"
      ]
     },
     "execution_count": 24,
     "metadata": {},
     "output_type": "execute_result"
    },
    {
     "data": {
      "image/png": "[encoded data removed]",
      "text/plain": [
       "<Figure size 432x288 with 1 Axes>"
      ]
     },
     "metadata": {
      "needs_background": "light"
     },
     "output_type": "display_data"
    }
   ],
   "source": [
    "y_dist = data.groupby(['galaxy'])['y'].mean()\n",
    "print(y_dist)\n",
    "plt.hist(y_dist)"
   ]
  },
  {
   "cell_type": "code",
   "execution_count": 425,
   "metadata": {
    "scrolled": true
   },
   "outputs": [
    {
     "data": {
      "image/png": "[encoded data removed]",
      "text/plain": [
       "<Figure size 432x288 with 1 Axes>"
      ]
     },
     "metadata": {
      "needs_background": "light"
     },
     "output_type": "display_data"
    }
   ],
   "source": [
    "y_dist = data.groupby(['galaxy'])['y'].mean()\n",
    "#print(y_dist)\n",
    "plt.hist(y_dist)\n",
    "plt.show()"
   ]
  },
  {
   "cell_type": "code",
   "execution_count": 426,
   "metadata": {},
   "outputs": [
    {
     "data": {
      "image/png": "[encoded data removed]",
      "text/plain": [
       "<Figure size 432x288 with 1 Axes>"
      ]
     },
     "metadata": {
      "needs_background": "light"
     },
     "output_type": "display_data"
    }
   ],
   "source": [
    "plt.hist(y)\n",
    "plt.show()"
   ]
  },
  {
   "cell_type": "code",
   "execution_count": 26,
   "metadata": {},
   "outputs": [
    {
     "data": {
      "image/png": "[encoded data removed]",
      "text/plain": [
       "<Figure size 432x288 with 1 Axes>"
      ]
     },
     "metadata": {
      "needs_background": "light"
     },
     "output_type": "display_data"
    }
   ],
   "source": [
    "# transforming target y to follow a normal distribution\n",
    "# to improve the quality of linear regression\n",
    "from sklearn.preprocessing import QuantileTransformer, quantile_transform\n",
    "qt = QuantileTransformer(n_quantiles=1000, output_distribution='normal' )\n",
    "plt.hist(qt.fit_transform(y.reshape(-1, 1)), bins=100)\n",
    "plt.show()"
   ]
  },
  {
   "cell_type": "code",
   "execution_count": 56,
   "metadata": {
    "scrolled": false
   },
   "outputs": [
    {
     "data": {
      "text/plain": [
       "count    3865.000000\n",
       "mean        0.082773\n",
       "std         0.063415\n",
       "min         0.013036\n",
       "25%         0.047889\n",
       "50%         0.057820\n",
       "75%         0.087389\n",
       "max         0.683813\n",
       "Name: y, dtype: float64"
      ]
     },
     "execution_count": 56,
     "metadata": {},
     "output_type": "execute_result"
    }
   ],
   "source": [
    "data.iloc[:, -1].describe()"
   ]
  },
  {
   "cell_type": "code",
   "execution_count": 58,
   "metadata": {},
   "outputs": [
    {
     "data": {
      "text/plain": [
       "array([ 0.        ,  0.99400599,  1.98901099,  2.98401598,  3.98001998,\n",
       "        4.97602398,  5.97302697,  6.97002997,  7.96803197,  8.96603397,\n",
       "        9.96503497, 10.96403596, 11.96403596, 12.96403596, 13.96503497,\n",
       "       14.96603397, 15.96803197, 16.97002997, 17.97302697, 18.97602398,\n",
       "       19.98001998, 20.98401598, 21.98901099, 22.99400599, 24.        ,\n",
       "       25.00599401])"
      ]
     },
     "execution_count": 58,
     "metadata": {},
     "output_type": "execute_result"
    }
   ],
   "source": [
    "(unique_years - 990025)/1001"
   ]
  },
  {
   "cell_type": "code",
   "execution_count": 196,
   "metadata": {},
   "outputs": [
    {
     "name": "stdout",
     "output_type": "stream",
     "text": [
      "galaxy\n",
      "127     1\n",
      "181    17\n",
      "20     17\n",
      "8      17\n",
      "27     17\n",
      "       ..\n",
      "156    26\n",
      "17     26\n",
      "18     26\n",
      "10     26\n",
      "11     26\n",
      "Name: galactic year, Length: 181, dtype: int64\n"
     ]
    }
   ],
   "source": [
    "#With the exception of one galaxy NGC 5253 (drop it?), there at least 17 points for each galaxy - nice\n",
    "print(data.groupby(['galaxy'])['galactic year'].count().sort_values())"
   ]
  },
  {
   "cell_type": "markdown",
   "metadata": {},
   "source": [
    "Let's try replacing all NaN in data with zeros. Furthermore in this part I assume that the target variable y does not depend on the galactic year nor the galaxy the data comes from. The assumption is that the final index is calculated solely based on the statistics of a given galaxy in a given year. In other words, I believe here that y is non-discriminative towards what galaxy and which year data is drawn from. "
   ]
  },
  {
   "cell_type": "code",
   "execution_count": 56,
   "metadata": {},
   "outputs": [],
   "source": [
    "from sklearn.neighbors import KNeighborsRegressor\n",
    "from sklearn.impute import SimpleImputer\n",
    "\n",
    "#cols_to_drop = [10, 73, 74] # The \"rank\" columns\n",
    "cols_to_sel = [2, 5, 8, 9, 70, 71, 72, 78]\n",
    "\n",
    "# Getting X and y\n",
    "#X = data.drop(data.columns[cols_to_drop], axis=1).iloc[:, 0:-1].values   # Drop 'rank' columns\n",
    "X = data.iloc[:, 0:-1].values    # Use all columns\n",
    "#X = data[data.columns[cols_to_sel]].iloc[:, 0:-1].values # Select specific columns only\n",
    "y = data.iloc[:, -1].values\n",
    "\n",
    "# imputing missing values\n",
    "# simple imputer\n",
    "imputer = SimpleImputer(missing_values=np.nan, strategy='mean', fill_value=0)\n",
    "\n",
    "# iterative imputer \n",
    "# iterimputer = IterativeImputer(estimator=KNeighborsRegressor(), min_value=0, random_state=5, missing_values=np.nan)\n",
    "\n",
    "X = imputer.fit_transform(X)\n",
    "#X = imputer.fit_transform(X)\n",
    "\n",
    "# normalize\n",
    "scaler = preprocessing.StandardScaler()\n",
    "X = scaler.fit_transform(X)\n",
    "\n",
    "# split\n",
    "(X_train, X_test, y_train,\n",
    " y_test) = model_selection.train_test_split(X, y,\n",
    "          test_size = 0.2, shuffle=True, random_state=425)"
   ]
  },
  {
   "cell_type": "code",
   "execution_count": 57,
   "metadata": {},
   "outputs": [
    {
     "name": "stdout",
     "output_type": "stream",
     "text": [
      "0.03401480107761708 CV score Linreg on train data\n",
      "0.03487935657267216 Linreg on test data\n",
      "\n",
      "0.03458598633281745 CV score SGDreg on train data\n",
      "0.03506612672123994 SGDreg on test data\n"
     ]
    }
   ],
   "source": [
    "from sklearn.model_selection import cross_val_score as CVS\n",
    "from sklearn.linear_model import LinearRegression as LR\n",
    "from sklearn.metrics import mean_squared_error as MSE\n",
    "from sklearn.compose import TransformedTargetRegressor as TransTargReg\n",
    "from sklearn.impute import SimpleImputer\n",
    "from sklearn.preprocessing import QuantileTransformer, quantile_transform\n",
    "from sklearn.experimental import enable_iterative_imputer\n",
    "from sklearn.impute import IterativeImputer\n",
    "\n",
    "def RMSE(x,y):\n",
    "    return MSE(x,y)**0.5\n",
    "\n",
    "#creating a target transformer (normal)\n",
    "qt = QuantileTransformer(n_quantiles=1000, output_distribution='normal' )\n",
    "\n",
    "# shortcut for scorer\n",
    "nrmse = 'neg_root_mean_squared_error'\n",
    "\n",
    "lr = TransTargReg(regressor=linear_model.LinearRegression(),\n",
    "                  transformer=qt)\n",
    "lr.fit(X_train, y_train)\n",
    "\n",
    "train_rmse = RMSE(y_train, lr.predict(X_train))\n",
    "test_rmse = RMSE(y_test, lr.predict(X_test))\n",
    "print(-CVS(lr, X_train, y_train, scoring=nrmse, cv=10).mean(), 'CV score Linreg on train data')\n",
    "print(test_rmse, 'Linreg on test data\\n')\n",
    "\n",
    "SGDreg = TransTargReg(regressor=linear_model.SGDRegressor(\n",
    "    loss='squared_loss',\n",
    "    penalty='l2',\n",
    "    alpha=0.01,\n",
    "    l1_ratio=0.15,\n",
    "    fit_intercept=True,\n",
    "    max_iter=100000,\n",
    "    tol=0.0001,\n",
    "    shuffle=True,\n",
    "    verbose=0,\n",
    "    epsilon=0.1,\n",
    "    random_state=None,\n",
    "    learning_rate='invscaling',\n",
    "    eta0=0.01,\n",
    "    power_t=0.25,\n",
    "    early_stopping=False,\n",
    "    validation_fraction=0.1,\n",
    "    n_iter_no_change=5,\n",
    "    warm_start=False,\n",
    "    average=False,\n",
    "),\n",
    "                      transformer=qt)\n",
    "SGDreg.fit(X_train, y_train)\n",
    "\n",
    "test_rmse = RMSE(y_test, SGDreg.predict(X_test))\n",
    "print(-CVS(SGDreg, X_train, y_train, scoring=nrmse, cv=10).mean(), 'CV score SGDreg on train data')\n",
    "print(test_rmse, 'SGDreg on test data')\n",
    "\n"
   ]
  },
  {
   "cell_type": "code",
   "execution_count": 58,
   "metadata": {},
   "outputs": [
    {
     "name": "stdout",
     "output_type": "stream",
     "text": [
      "0.03222367721084958 CV score SVR on train data\n",
      "0.03211626702335784 SVR on test data\n"
     ]
    }
   ],
   "source": [
    "#SVM\n",
    "from sklearn import svm\n",
    "svr = TransTargReg(regressor=svm.SVR(\n",
    "    kernel='rbf',\n",
    "    degree=3,\n",
    "    gamma='scale',\n",
    "    coef0=0.0,\n",
    "    tol=0.001,\n",
    "    C=1.0,\n",
    "    epsilon=0.1,\n",
    "    shrinking=True,\n",
    "    cache_size=200,\n",
    "    verbose=False,\n",
    "    max_iter=-1,),\n",
    "                   transformer=qt)\n",
    "\n",
    "print (-CVS(svr, X_train, y_train, scoring=nrmse, cv=5).mean(), 'CV score SVR on train data')\n",
    "svr.fit(X_train, y_train)\n",
    "print (RMSE(y_test, svr.predict(X_test)), 'SVR on test data')"
   ]
  },
  {
   "cell_type": "code",
   "execution_count": 59,
   "metadata": {},
   "outputs": [
    {
     "name": "stdout",
     "output_type": "stream",
     "text": [
      "0.027923927341554432 CV score 5-fold of RandomForest on train\n",
      "0.02856752010064952\n"
     ]
    }
   ],
   "source": [
    "#Let's use RandomForest\n",
    "from sklearn.ensemble import RandomForestRegressor\n",
    "forest = RandomForestRegressor(n_estimators=500,\n",
    "                              criterion='mse',\n",
    "                              max_depth=None,\n",
    "                              min_samples_split=2,\n",
    "                              min_samples_leaf=1,\n",
    "#                              max_features=26,\n",
    "                              max_features=3,\n",
    "                              n_jobs=3)\n",
    "\n",
    "print(-CVS(forest, X_train,y_train, scoring=nrmse, cv=5).mean(), 'CV score 5-fold of RandomForest on train')\n",
    "forest.fit(X_train, y_train)\n",
    "print(RMSE(y_test, forest.predict(X_test)))"
   ]
  },
  {
   "cell_type": "code",
   "execution_count": 60,
   "metadata": {},
   "outputs": [
    {
     "name": "stdout",
     "output_type": "stream",
     "text": [
      "0.005261446406474647\n",
      "0.021430010624459456\n"
     ]
    }
   ],
   "source": [
    "#XGBoost\n",
    "import xgboost as xgb\n",
    "XGB = TransTargReg(xgb.XGBRegressor(max_depth=5,\n",
    "    learning_rate=0.1,\n",
    "    n_estimators=500,\n",
    "    verbosity=1,\n",
    "    silent=None,\n",
    "    objective='reg:squarederror',\n",
    "    booster='gbtree',\n",
    "    n_jobs=3,\n",
    "    nthread=None,\n",
    "    gamma=0,\n",
    "    min_child_weight=1,\n",
    "    max_delta_step=0,\n",
    "    subsample=0.5,\n",
    "    colsample_bytree=1,\n",
    "    colsample_bylevel=1,\n",
    "    colsample_bynode=0.3,\n",
    "    reg_alpha=0,\n",
    "    reg_lambda=1,\n",
    "    scale_pos_weight=1,\n",
    "    base_score=0.5,\n",
    "    random_state=42,\n",
    "    seed=None,\n",
    "    missing=None,\n",
    "    importance_type='gain'),\n",
    "                   qt)\n",
    "XGB.fit(X_train, y_train)\n",
    "\n",
    "print(MSE(y_train, XGB.predict(X_train))**0.5)\n",
    "print(MSE(y_test, XGB.predict(X_test))**0.5)"
   ]
  },
  {
   "cell_type": "code",
   "execution_count": 61,
   "metadata": {},
   "outputs": [
    {
     "name": "stdout",
     "output_type": "stream",
     "text": [
      "0.023863671579118406 CV score 5-fold of XGB on train\n"
     ]
    }
   ],
   "source": [
    "print(-CVS(XGB, X_train,y_train, scoring=nrmse, cv=5).mean(), 'CV score 5-fold of XGB on train')"
   ]
  },
  {
   "cell_type": "code",
   "execution_count": 363,
   "metadata": {},
   "outputs": [
    {
     "data": {
      "text/plain": [
       "Text(0.5, 1.0, 'Existence expectancy index')"
      ]
     },
     "execution_count": 363,
     "metadata": {},
     "output_type": "execute_result"
    },
    {
     "data": {
      "image/png": "[encoded data removed]",
      "text/plain": [
       "<Figure size 432x288 with 1 Axes>"
      ]
     },
     "metadata": {
      "needs_background": "light"
     },
     "output_type": "display_data"
    }
   ],
   "source": [
    "plt.hist(test.iloc[:, 2])\n",
    "plt.title('Existence expectancy index')"
   ]
  },
  {
   "cell_type": "code",
   "execution_count": 174,
   "metadata": {
    "scrolled": true
   },
   "outputs": [
    {
     "name": "stdout",
     "output_type": "stream",
     "text": [
      "CPU times: user 15min 7s, sys: 6.59 s, total: 15min 13s\n",
      "Wall time: 5min 18s\n"
     ]
    },
    {
     "data": {
      "text/plain": [
       "GridSearchCV(cv=5, error_score=nan,\n",
       "             estimator=TransformedTargetRegressor(check_inverse=True, func=None,\n",
       "                                                  inverse_func=None,\n",
       "                                                  regressor=XGBRegressor(base_score=0.5,\n",
       "                                                                         booster='gbtree',\n",
       "                                                                         colsample_bylevel=1,\n",
       "                                                                         colsample_bynode=0.3,\n",
       "                                                                         colsample_bytree=1,\n",
       "                                                                         gamma=0,\n",
       "                                                                         importance_type='gain',\n",
       "                                                                         learning_rate=0.1,\n",
       "                                                                         max_delta_step=0,\n",
       "                                                                         max_depth=5,\n",
       "                                                                         min_child_weight=1,\n",
       "                                                                         missing=None,\n",
       "                                                                         n_estim...\n",
       "                                                                         verbosity=1),\n",
       "                                                  transformer=QuantileTransformer(copy=True,\n",
       "                                                                                  ignore_implicit_zeros=False,\n",
       "                                                                                  n_quantiles=1000,\n",
       "                                                                                  output_distribution='normal',\n",
       "                                                                                  random_state=None,\n",
       "                                                                                  subsample=100000)),\n",
       "             iid='deprecated', n_jobs=None,\n",
       "             param_grid={'regressor__max_depth': [4, 5, 6, 7, 8, 9, 10]},\n",
       "             pre_dispatch='2*n_jobs', refit=True, return_train_score=False,\n",
       "             scoring='neg_root_mean_squared_error', verbose=0)"
      ]
     },
     "execution_count": 174,
     "metadata": {},
     "output_type": "execute_result"
    }
   ],
   "source": [
    "%%time\n",
    "#GridSearch for XGBoost RF hyperparameters\n",
    "param_grid = {\n",
    "    'regressor__max_depth': [4,5,6,7,8,9,10],\n",
    "}\n",
    "XGB_GSCV = model_selection.GridSearchCV(XGB,\n",
    "                                        param_grid=param_grid,\n",
    "                                        n_jobs=None,\n",
    "                                        scoring='neg_root_mean_squared_error',\n",
    "                                        cv=5)\n",
    "XGB_GSCV.fit(X_train, y_train)"
   ]
  },
  {
   "cell_type": "code",
   "execution_count": 178,
   "metadata": {},
   "outputs": [
    {
     "data": {
      "text/plain": [
       "{'mean_fit_time': array([8.89995465, 8.9333909 , 9.84126325, 8.97440581, 8.22846336,\n",
       "        7.86384158, 7.95690532]),\n",
       " 'std_fit_time': array([1.67190086, 0.12232464, 0.29496893, 0.57490031, 0.41312817,\n",
       "        0.57069074, 0.80421783]),\n",
       " 'mean_score_time': array([0.08116612, 0.119731  , 0.13009109, 0.11664319, 0.11383104,\n",
       "        0.08596144, 0.08752522]),\n",
       " 'std_score_time': array([0.02463343, 0.00088514, 0.00893756, 0.02076316, 0.02326621,\n",
       "        0.00172069, 0.01074828]),\n",
       " 'param_regressor__max_depth': masked_array(data=[4, 5, 6, 7, 8, 9, 10],\n",
       "              mask=[False, False, False, False, False, False, False],\n",
       "        fill_value='?',\n",
       "             dtype=object),\n",
       " 'params': [{'regressor__max_depth': 4},\n",
       "  {'regressor__max_depth': 5},\n",
       "  {'regressor__max_depth': 6},\n",
       "  {'regressor__max_depth': 7},\n",
       "  {'regressor__max_depth': 8},\n",
       "  {'regressor__max_depth': 9},\n",
       "  {'regressor__max_depth': 10}],\n",
       " 'split0_test_score': array([-0.02127935, -0.02013852, -0.0193269 , -0.01971185, -0.02159502,\n",
       "        -0.02000038, -0.02285909]),\n",
       " 'split1_test_score': array([-0.02327795, -0.02382823, -0.02523871, -0.02597536, -0.02532468,\n",
       "        -0.02625328, -0.02530951]),\n",
       " 'split2_test_score': array([-0.02359829, -0.02323428, -0.02456587, -0.02358885, -0.02338579,\n",
       "        -0.0236997 , -0.02486131]),\n",
       " 'split3_test_score': array([-0.02226168, -0.02194651, -0.02201079, -0.02198955, -0.02429627,\n",
       "        -0.02354465, -0.0236846 ]),\n",
       " 'split4_test_score': array([-0.02331678, -0.02146357, -0.02281607, -0.02258644, -0.02405026,\n",
       "        -0.02381604, -0.02371064]),\n",
       " 'mean_test_score': array([-0.02274681, -0.02212222, -0.02279167, -0.02277041, -0.0237304 ,\n",
       "        -0.02346281, -0.02408503]),\n",
       " 'std_test_score': array([0.00086264, 0.00130743, 0.0020857 , 0.00204646, 0.00123635,\n",
       "        0.00199814, 0.00088379]),\n",
       " 'rank_test_score': array([2, 1, 4, 3, 6, 5, 7], dtype=int32)}"
      ]
     },
     "execution_count": 178,
     "metadata": {},
     "output_type": "execute_result"
    }
   ],
   "source": [
    "XGB_GSCV.cv_results_"
   ]
  },
  {
   "cell_type": "code",
   "execution_count": 337,
   "metadata": {},
   "outputs": [
    {
     "data": {
      "text/plain": [
       "0.030103865780963007"
      ]
     },
     "execution_count": 337,
     "metadata": {},
     "output_type": "execute_result"
    }
   ],
   "source": [
    "MSE(y_test, XGB_GSCV.best_estimator_.predict(X_test))**0.5"
   ]
  },
  {
   "cell_type": "code",
   "execution_count": 360,
   "metadata": {
    "scrolled": true
   },
   "outputs": [
    {
     "data": {
      "image/png": "[encoded data removed]",
      "text/plain": [
       "<Figure size 432x288 with 1 Axes>"
      ]
     },
     "metadata": {
      "needs_background": "light"
     },
     "output_type": "display_data"
    }
   ],
   "source": [
    "#y pred distribution\n",
    "y_tpred = XGB.predict(test.iloc[:, 2:].values)\n",
    "plt.hist(y_tpred, bins=50)\n",
    "plt.title('y prediction distribution')\n",
    "plt.show()"
   ]
  },
  {
   "cell_type": "markdown",
   "metadata": {},
   "source": [
    "## Part 2 "
   ]
  },
  {
   "cell_type": "code",
   "execution_count": 495,
   "metadata": {
    "scrolled": true
   },
   "outputs": [],
   "source": [
    "#alpha is the coefficient before each E_i in calculating\n",
    "#the likely index increase \\Delta y_i multiplied by 1000\n",
    "def P(y):\n",
    "    return -np.log(y + 0.01) + 3\n",
    "def alpha(y):\n",
    "    return P(y)**2\n",
    "p2slice = test.iloc[:, 2:3]\n",
    "p2slice['y pred'] = pd.Series(y_tpred)\n",
    "p2slice['alpha'] = pd.Series([alpha(x) for x in p2slice['y pred']])"
   ]
  },
  {
   "cell_type": "code",
   "execution_count": 496,
   "metadata": {},
   "outputs": [
    {
     "data": {
      "image/png": "[encoded data removed]",
      "text/plain": [
       "<Figure size 432x288 with 1 Axes>"
      ]
     },
     "metadata": {
      "needs_background": "light"
     },
     "output_type": "display_data"
    }
   ],
   "source": [
    "plt.hist(p2slice['alpha'])\n",
    "plt.show()"
   ]
  },
  {
   "cell_type": "code",
   "execution_count": 475,
   "metadata": {
    "scrolled": true
   },
   "outputs": [
    {
     "data": {
      "image/png": "[encoded data removed]",
      "text/plain": [
       "<Figure size 432x288 with 1 Axes>"
      ]
     },
     "metadata": {
      "needs_background": "light"
     },
     "output_type": "display_data"
    }
   ],
   "source": [
    "#finding points with EEI < 0.7\n",
    "a = test.copy()\n",
    "a['order index'] = pd.Series(test.index)\n",
    "\n",
    "a = a.fillna(value=0)\n",
    "EEI = a[(a.iloc[:, 2] < 0.7) & (a.iloc[:, 2] != 0)]\n",
    "\n",
    "scaler = preprocessing.StandardScaler()\n",
    "EEI = scaler.fit_transform(EEI.iloc[:, 2:-1])\n",
    "y_eei = XGB.predict(EEI)\n",
    "\n",
    "plt.hist(y_eei)\n",
    "plt.title('y prediction for points with EEI < 0.7')\n",
    "plt.show()"
   ]
  },
  {
   "cell_type": "code",
   "execution_count": 474,
   "metadata": {},
   "outputs": [
    {
     "data": {
      "text/plain": [
       "True"
      ]
     },
     "execution_count": 474,
     "metadata": {},
     "output_type": "execute_result"
    }
   ],
   "source": [
    "#First 66 points in test are actually the points that have EEI < 0.7\n",
    "indices = a[(a.iloc[:, 2] < 0.7) & (a.iloc[:, 2] != 0)]['order index']\n",
    "np.array_equal(np.array(indices), np.array(range(66)))"
   ]
  },
  {
   "cell_type": "code",
   "execution_count": 551,
   "metadata": {
    "scrolled": true
   },
   "outputs": [
    {
     "data": {
      "text/html": [
       "<div>\n",
       "<style scoped>\n",
       "    .dataframe tbody tr th:only-of-type {\n",
       "        vertical-align: middle;\n",
       "    }\n",
       "\n",
       "    .dataframe tbody tr th {\n",
       "        vertical-align: top;\n",
       "    }\n",
       "\n",
       "    .dataframe thead th {\n",
       "        text-align: right;\n",
       "    }\n",
       "</style>\n",
       "<table border=\"1\" class=\"dataframe\">\n",
       "  <thead>\n",
       "    <tr style=\"text-align: right;\">\n",
       "      <th></th>\n",
       "      <th>existence expectancy index</th>\n",
       "      <th>y pred</th>\n",
       "      <th>alpha</th>\n",
       "    </tr>\n",
       "  </thead>\n",
       "  <tbody>\n",
       "    <tr>\n",
       "      <th>0</th>\n",
       "      <td>0.456086</td>\n",
       "      <td>0.049377</td>\n",
       "      <td>33.917299</td>\n",
       "    </tr>\n",
       "    <tr>\n",
       "      <th>1</th>\n",
       "      <td>0.529835</td>\n",
       "      <td>0.047134</td>\n",
       "      <td>34.367255</td>\n",
       "    </tr>\n",
       "    <tr>\n",
       "      <th>2</th>\n",
       "      <td>0.560976</td>\n",
       "      <td>0.048802</td>\n",
       "      <td>34.030714</td>\n",
       "    </tr>\n",
       "    <tr>\n",
       "      <th>3</th>\n",
       "      <td>0.565910</td>\n",
       "      <td>0.049323</td>\n",
       "      <td>33.927881</td>\n",
       "    </tr>\n",
       "    <tr>\n",
       "      <th>4</th>\n",
       "      <td>0.588274</td>\n",
       "      <td>0.036177</td>\n",
       "      <td>36.908911</td>\n",
       "    </tr>\n",
       "    <tr>\n",
       "      <th>...</th>\n",
       "      <td>...</td>\n",
       "      <td>...</td>\n",
       "      <td>...</td>\n",
       "    </tr>\n",
       "    <tr>\n",
       "      <th>58</th>\n",
       "      <td>0.684616</td>\n",
       "      <td>0.022826</td>\n",
       "      <td>41.171827</td>\n",
       "    </tr>\n",
       "    <tr>\n",
       "      <th>60</th>\n",
       "      <td>0.685613</td>\n",
       "      <td>0.038868</td>\n",
       "      <td>36.223904</td>\n",
       "    </tr>\n",
       "    <tr>\n",
       "      <th>62</th>\n",
       "      <td>0.688025</td>\n",
       "      <td>0.035104</td>\n",
       "      <td>37.195049</td>\n",
       "    </tr>\n",
       "    <tr>\n",
       "      <th>63</th>\n",
       "      <td>0.692317</td>\n",
       "      <td>0.040405</td>\n",
       "      <td>35.852042</td>\n",
       "    </tr>\n",
       "    <tr>\n",
       "      <th>64</th>\n",
       "      <td>0.698337</td>\n",
       "      <td>0.040553</td>\n",
       "      <td>35.816916</td>\n",
       "    </tr>\n",
       "  </tbody>\n",
       "</table>\n",
       "<p>50 rows × 3 columns</p>\n",
       "</div>"
      ],
      "text/plain": [
       "    existence expectancy index    y pred      alpha\n",
       "0                     0.456086  0.049377  33.917299\n",
       "1                     0.529835  0.047134  34.367255\n",
       "2                     0.560976  0.048802  34.030714\n",
       "3                     0.565910  0.049323  33.927881\n",
       "4                     0.588274  0.036177  36.908911\n",
       "..                         ...       ...        ...\n",
       "58                    0.684616  0.022826  41.171827\n",
       "60                    0.685613  0.038868  36.223904\n",
       "62                    0.688025  0.035104  37.195049\n",
       "63                    0.692317  0.040405  35.852042\n",
       "64                    0.698337  0.040553  35.816916\n",
       "\n",
       "[50 rows x 3 columns]"
      ]
     },
     "execution_count": 551,
     "metadata": {},
     "output_type": "execute_result"
    }
   ],
   "source": [
    "#how many rows are there with certain alpha values out of\n",
    "#the ones with EEI < 0.7\n",
    "p2slice[(p2slice['alpha']>33.76) & (p2slice.iloc[:, 0]<0.7)]"
   ]
  },
  {
   "cell_type": "code",
   "execution_count": 552,
   "metadata": {},
   "outputs": [
    {
     "data": {
      "text/html": [
       "<div>\n",
       "<style scoped>\n",
       "    .dataframe tbody tr th:only-of-type {\n",
       "        vertical-align: middle;\n",
       "    }\n",
       "\n",
       "    .dataframe tbody tr th {\n",
       "        vertical-align: top;\n",
       "    }\n",
       "\n",
       "    .dataframe thead th {\n",
       "        text-align: right;\n",
       "    }\n",
       "</style>\n",
       "<table border=\"1\" class=\"dataframe\">\n",
       "  <thead>\n",
       "    <tr style=\"text-align: right;\">\n",
       "      <th></th>\n",
       "      <th>existence expectancy index</th>\n",
       "      <th>y pred</th>\n",
       "      <th>alpha</th>\n",
       "    </tr>\n",
       "  </thead>\n",
       "  <tbody>\n",
       "    <tr>\n",
       "      <th>0</th>\n",
       "      <td>0.456086</td>\n",
       "      <td>0.049377</td>\n",
       "      <td>33.917299</td>\n",
       "    </tr>\n",
       "    <tr>\n",
       "      <th>1</th>\n",
       "      <td>0.529835</td>\n",
       "      <td>0.047134</td>\n",
       "      <td>34.367255</td>\n",
       "    </tr>\n",
       "    <tr>\n",
       "      <th>2</th>\n",
       "      <td>0.560976</td>\n",
       "      <td>0.048802</td>\n",
       "      <td>34.030714</td>\n",
       "    </tr>\n",
       "    <tr>\n",
       "      <th>3</th>\n",
       "      <td>0.565910</td>\n",
       "      <td>0.049323</td>\n",
       "      <td>33.927881</td>\n",
       "    </tr>\n",
       "    <tr>\n",
       "      <th>4</th>\n",
       "      <td>0.588274</td>\n",
       "      <td>0.036177</td>\n",
       "      <td>36.908911</td>\n",
       "    </tr>\n",
       "    <tr>\n",
       "      <th>...</th>\n",
       "      <td>...</td>\n",
       "      <td>...</td>\n",
       "      <td>...</td>\n",
       "    </tr>\n",
       "    <tr>\n",
       "      <th>885</th>\n",
       "      <td>NaN</td>\n",
       "      <td>0.047341</td>\n",
       "      <td>34.324773</td>\n",
       "    </tr>\n",
       "    <tr>\n",
       "      <th>886</th>\n",
       "      <td>NaN</td>\n",
       "      <td>0.047341</td>\n",
       "      <td>34.324773</td>\n",
       "    </tr>\n",
       "    <tr>\n",
       "      <th>887</th>\n",
       "      <td>NaN</td>\n",
       "      <td>0.047341</td>\n",
       "      <td>34.324773</td>\n",
       "    </tr>\n",
       "    <tr>\n",
       "      <th>888</th>\n",
       "      <td>NaN</td>\n",
       "      <td>0.047341</td>\n",
       "      <td>34.324773</td>\n",
       "    </tr>\n",
       "    <tr>\n",
       "      <th>889</th>\n",
       "      <td>NaN</td>\n",
       "      <td>0.047341</td>\n",
       "      <td>34.324773</td>\n",
       "    </tr>\n",
       "  </tbody>\n",
       "</table>\n",
       "<p>681 rows × 3 columns</p>\n",
       "</div>"
      ],
      "text/plain": [
       "     existence expectancy index    y pred      alpha\n",
       "0                      0.456086  0.049377  33.917299\n",
       "1                      0.529835  0.047134  34.367255\n",
       "2                      0.560976  0.048802  34.030714\n",
       "3                      0.565910  0.049323  33.927881\n",
       "4                      0.588274  0.036177  36.908911\n",
       "..                          ...       ...        ...\n",
       "885                         NaN  0.047341  34.324773\n",
       "886                         NaN  0.047341  34.324773\n",
       "887                         NaN  0.047341  34.324773\n",
       "888                         NaN  0.047341  34.324773\n",
       "889                         NaN  0.047341  34.324773\n",
       "\n",
       "[681 rows x 3 columns]"
      ]
     },
     "execution_count": 552,
     "metadata": {},
     "output_type": "execute_result"
    }
   ],
   "source": [
    "p2slice[(p2slice['alpha']>33.76)]"
   ]
  },
  {
   "cell_type": "code",
   "execution_count": 521,
   "metadata": {
    "scrolled": false
   },
   "outputs": [
    {
     "data": {
      "image/png": "[encoded data removed]",
      "text/plain": [
       "<Figure size 432x288 with 1 Axes>"
      ]
     },
     "metadata": {
      "needs_background": "light"
     },
     "output_type": "display_data"
    }
   ],
   "source": [
    "plt.hist(p2slice['alpha'], label='All test points', color='b')\n",
    "plt.hist(p2slice.iloc[:66, -1],\n",
    "         label ='Test points with EEI < 0.7', color='r')\n",
    "plt.legend()\n",
    "plt.xlabel('Alpha')\n",
    "plt.ylabel('Count')\n",
    "plt.title('Alpha values on test')\n",
    "plt.show()"
   ]
  },
  {
   "cell_type": "code",
   "execution_count": 610,
   "metadata": {},
   "outputs": [
    {
     "data": {
      "text/plain": [
       "RangeIndex(start=0, stop=890, step=1)"
      ]
     },
     "execution_count": 610,
     "metadata": {},
     "output_type": "execute_result"
    }
   ],
   "source": [
    "test.index"
   ]
  },
  {
   "cell_type": "code",
   "execution_count": 653,
   "metadata": {
    "scrolled": true
   },
   "outputs": [
    {
     "name": "stdout",
     "output_type": "stream",
     "text": [
      "Int64Index([ 0,  1,  2,  3,  4,  5,  6,  9, 10, 11, 12, 14, 15, 16, 17, 18, 19,\n",
      "            20, 21, 23, 25, 26, 27, 29, 30, 31, 33, 34, 36, 37, 38, 39, 41, 42,\n",
      "            45, 46, 47, 48, 49, 51, 52, 54, 55, 56, 57, 58, 60, 62, 63, 64],\n",
      "           dtype='int64')\n",
      "Int64Index([ 67,  71,  72,  73,  76,  78,  79,  83,  85,  87,\n",
      "            ...\n",
      "            851, 859, 866, 868, 869, 872, 873, 874, 875, 878],\n",
      "           dtype='int64', length=450)\n",
      "[  0   1   2   3   4   5   6   9  10  11  12  14  15  16  17  18  19  20\n",
      "  21  23  25  26  27  29  30  31  33  34  36  37  38  39  41  42  45  46\n",
      "  47  48  49  51  52  54  55  56  57  58  60  62  63  64  67  71  72  73\n",
      "  76  78  79  83  85  87  88  91  92  93  95  96  97  98  99 101 102 105\n",
      " 106 107 108 109 111 112 115 117 118 119 120 122 123 124 125 126 127 129\n",
      " 130 132 133 135 136 138 139 140 141 142 143 148 149 150 151 153 155 156\n",
      " 157 158 160 162 163 164 166 167 169 172 173 174 175 178 180 181 182 185\n",
      " 186 187 188 190 191 192 194 195 197 201 202 203 204 205 206 207 208 209\n",
      " 210 212 213 214 220 221 222 223 228 229 231 233 234 235 236 237 239 241\n",
      " 242 244 246 247 249 250 251 252 253 255 256 257 259 260 261 262 267 268\n",
      " 269 270 271 273 274 275 276 278 279 280 281 284 285 287 288 289 290 292\n",
      " 293 295 296 298 301 302 303 304 306 311 312 313 314 315 316 320 322 323\n",
      " 326 327 329 330 332 334 335 337 338 341 342 343 344 346 347 348 350 353\n",
      " 354 355 357 361 362 363 364 365 368 369 372 375 377 378 379 380 381 382\n",
      " 383 384 385 386 387 388 389 390 394 395 396 400 401 402 403 405 406 407\n",
      " 409 411 412 416 417 420 422 423 425 426 427 428 429 430 431 432 433 437\n",
      " 438 439 441 449 452 453 454 455 456 457 458 459 461 464 465 467 468 470\n",
      " 471 472 473 474 475 479 480 482 485 486 487 493 494 498 501 503 505 506\n",
      " 511 514 517 519 521 524 526 527 528 529 532 534 535 536 537 538 539 540\n",
      " 542 544 547 548 549 550 551 552 553 555 562 566 568 570 571 572 573 576\n",
      " 577 578 583 584 585 586 589 590 593 594 595 596 600 601 603 604 609 610\n",
      " 613 614 616 618 622 623 624 625 626 627 630 632 633 634 637 638 639 640\n",
      " 641 642 643 644 646 648 649 650 651 653 656 657 659 661 663 664 665 666\n",
      " 669 672 674 675 676 677 678 679 682 684 685 688 691 693 694 696 699 700\n",
      " 705 713 714 717 718 723 724 726 727 731 734 735 737 740 744 746 749 750\n",
      " 758 760 761 762 765 766 767 768 770 771 772 775 783 784 790 796 797 800\n",
      " 802 803 805 808 809 810 811 812 817 819 820 830 832 833 835 837 838 841\n",
      " 844 848 849 850 851 859 866 868 869 872 873 874 875 878]\n"
     ]
    }
   ],
   "source": [
    "#indices of 50 largest by alpha points that have EEI < 0.7\n",
    "k = p2slice[p2slice['existence expectancy index']<0.7]['alpha'].nlargest(50).index.sort_values()\n",
    "print (k)\n",
    "\n",
    "#indices of 450 largest by alpha points after dropping the necessary 50 with EEI <0.7\n",
    "a = p2slice.drop(k)['alpha'].nlargest(450).index.sort_values()\n",
    "print(a)\n",
    "\n",
    "k = np.array(k)\n",
    "a = np.array(a)\n",
    "ka = np.concatenate([k,a])\n",
    "print(ka)"
   ]
  },
  {
   "cell_type": "code",
   "execution_count": 657,
   "metadata": {},
   "outputs": [],
   "source": [
    "answer = pd.DataFrame(data={'index': test.index,\n",
    "                  'pred': y_tpred,\n",
    "                  'opt_pred': 0})\n",
    "for i in ak:\n",
    "    answer.iloc[i, 2] = 100"
   ]
  },
  {
   "cell_type": "code",
   "execution_count": 664,
   "metadata": {},
   "outputs": [
    {
     "data": {
      "text/plain": [
       "50000"
      ]
     },
     "execution_count": 664,
     "metadata": {},
     "output_type": "execute_result"
    }
   ],
   "source": [
    "answer['opt_pred'].sum()"
   ]
  },
  {
   "cell_type": "code",
   "execution_count": 663,
   "metadata": {},
   "outputs": [
    {
     "data": {
      "text/plain": [
       "5000"
      ]
     },
     "execution_count": 663,
     "metadata": {},
     "output_type": "execute_result"
    }
   ],
   "source": [
    "answer[p2slice['existence expectancy index']<0.7]['opt_pred'].sum()"
   ]
  }
 ],
 "metadata": {
  "kernelspec": {
   "display_name": "Python 3",
   "language": "python",
   "name": "python3"
  },
  "language_info": {
   "codemirror_mode": {
    "name": "ipython",
    "version": 3
   },
   "file_extension": ".py",
   "mimetype": "text/x-python",
   "name": "python",
   "nbconvert_exporter": "python",
   "pygments_lexer": "ipython3",
   "version": "3.7.6"
  }
 },
 "nbformat": 4,
 "nbformat_minor": 4
}
