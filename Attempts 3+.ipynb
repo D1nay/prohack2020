{
 "cells": [
  {
   "cell_type": "code",
   "execution_count": 1,
   "metadata": {},
   "outputs": [],
   "source": [
    "import numpy as np\n",
    "import pandas as pd\n",
    "import matplotlib\n",
    "import math\n",
    "from sklearn import model_selection, ensemble, metrics, linear_model, preprocessing, pipeline\n",
    "from matplotlib import pyplot as plt"
   ]
  },
  {
   "cell_type": "code",
   "execution_count": 70,
   "metadata": {},
   "outputs": [],
   "source": [
    "data = pd.read_csv('dataset/undp_train.csv', na_values='nan')\n",
    "test = pd.read_csv('dataset/undp_test.csv', na_values='nan')"
   ]
  },
  {
   "cell_type": "code",
   "execution_count": 71,
   "metadata": {},
   "outputs": [],
   "source": [
    "index_columns = ['year',\n",
    "                 'country',\n",
    "                 'Human Development Index (HDI)',\n",
    "                 'Gender Development Index (GDI)',\n",
    "                 'Gender Inequality Index (GII)',\n",
    "                 'HDI Rank',\n",
    "                 'y'\n",
    "                ]"
   ]
  },
  {
   "cell_type": "code",
   "execution_count": 72,
   "metadata": {},
   "outputs": [],
   "source": [
    "# data = data[index_columns]\n",
    "# test = test[index_columns[:-1]]"
   ]
  },
  {
   "cell_type": "code",
   "execution_count": 73,
   "metadata": {},
   "outputs": [],
   "source": [
    "full = data.append(test, ignore_index=True)#.loc[:, ['year', 'country'] + index_columns + ['y']]"
   ]
  },
  {
   "cell_type": "code",
   "execution_count": 74,
   "metadata": {
    "scrolled": true
   },
   "outputs": [
    {
     "data": {
      "text/html": [
       "<div>\n",
       "<style scoped>\n",
       "    .dataframe tbody tr th:only-of-type {\n",
       "        vertical-align: middle;\n",
       "    }\n",
       "\n",
       "    .dataframe tbody tr th {\n",
       "        vertical-align: top;\n",
       "    }\n",
       "\n",
       "    .dataframe thead th {\n",
       "        text-align: right;\n",
       "    }\n",
       "</style>\n",
       "<table border=\"1\" class=\"dataframe\">\n",
       "  <thead>\n",
       "    <tr style=\"text-align: right;\">\n",
       "      <th></th>\n",
       "      <th>year</th>\n",
       "      <th>country</th>\n",
       "      <th>Life expectancy Index</th>\n",
       "      <th>Life expectancy at birth</th>\n",
       "      <th>Gross national income (GNI) per capita (2011 PPP$)</th>\n",
       "      <th>Income Index</th>\n",
       "      <th>Expected years of schooling (years)</th>\n",
       "      <th>Mean years of schooling (years)</th>\n",
       "      <th>Human Development Index (HDI)</th>\n",
       "      <th>Education Index</th>\n",
       "      <th>...</th>\n",
       "      <th>Current health expenditure (% of GDP)</th>\n",
       "      <th>Human Development Index (HDI), female</th>\n",
       "      <th>Human Development Index (HDI), male</th>\n",
       "      <th>Gender Development Index (GDI)</th>\n",
       "      <th>Adjusted net savings (% of GNI)</th>\n",
       "      <th>HIV prevalence, adult (% ages 15-49), total</th>\n",
       "      <th>Private capital flows (% of GDP)</th>\n",
       "      <th>Gender Inequality Index (GII)</th>\n",
       "      <th>HDI Rank</th>\n",
       "      <th>y</th>\n",
       "    </tr>\n",
       "  </thead>\n",
       "  <tbody>\n",
       "    <tr>\n",
       "      <th>0</th>\n",
       "      <td>1990</td>\n",
       "      <td>Afghanistan</td>\n",
       "      <td>0.467</td>\n",
       "      <td>50.3</td>\n",
       "      <td>2193.0</td>\n",
       "      <td>0.466</td>\n",
       "      <td>2.6</td>\n",
       "      <td>1.5</td>\n",
       "      <td>0.298</td>\n",
       "      <td>0.122</td>\n",
       "      <td>...</td>\n",
       "      <td>NaN</td>\n",
       "      <td>NaN</td>\n",
       "      <td>NaN</td>\n",
       "      <td>NaN</td>\n",
       "      <td>NaN</td>\n",
       "      <td>NaN</td>\n",
       "      <td>NaN</td>\n",
       "      <td>NaN</td>\n",
       "      <td>138.0</td>\n",
       "      <td>0.050220</td>\n",
       "    </tr>\n",
       "    <tr>\n",
       "      <th>1</th>\n",
       "      <td>1990</td>\n",
       "      <td>Albania</td>\n",
       "      <td>0.797</td>\n",
       "      <td>71.8</td>\n",
       "      <td>4415.0</td>\n",
       "      <td>0.572</td>\n",
       "      <td>11.6</td>\n",
       "      <td>7.8</td>\n",
       "      <td>0.644</td>\n",
       "      <td>0.584</td>\n",
       "      <td>...</td>\n",
       "      <td>NaN</td>\n",
       "      <td>NaN</td>\n",
       "      <td>NaN</td>\n",
       "      <td>NaN</td>\n",
       "      <td>2.3</td>\n",
       "      <td>0.1</td>\n",
       "      <td>NaN</td>\n",
       "      <td>NaN</td>\n",
       "      <td>63.0</td>\n",
       "      <td>0.082286</td>\n",
       "    </tr>\n",
       "    <tr>\n",
       "      <th>2</th>\n",
       "      <td>1990</td>\n",
       "      <td>Algeria</td>\n",
       "      <td>0.722</td>\n",
       "      <td>66.9</td>\n",
       "      <td>9989.0</td>\n",
       "      <td>0.695</td>\n",
       "      <td>9.6</td>\n",
       "      <td>3.6</td>\n",
       "      <td>0.578</td>\n",
       "      <td>0.385</td>\n",
       "      <td>...</td>\n",
       "      <td>NaN</td>\n",
       "      <td>NaN</td>\n",
       "      <td>NaN</td>\n",
       "      <td>NaN</td>\n",
       "      <td>9.0</td>\n",
       "      <td>0.1</td>\n",
       "      <td>NaN</td>\n",
       "      <td>NaN</td>\n",
       "      <td>89.0</td>\n",
       "      <td>0.064073</td>\n",
       "    </tr>\n",
       "    <tr>\n",
       "      <th>3</th>\n",
       "      <td>1990</td>\n",
       "      <td>Angola</td>\n",
       "      <td>0.389</td>\n",
       "      <td>45.3</td>\n",
       "      <td>4139.0</td>\n",
       "      <td>0.562</td>\n",
       "      <td>3.4</td>\n",
       "      <td>NaN</td>\n",
       "      <td>NaN</td>\n",
       "      <td>NaN</td>\n",
       "      <td>...</td>\n",
       "      <td>NaN</td>\n",
       "      <td>NaN</td>\n",
       "      <td>NaN</td>\n",
       "      <td>NaN</td>\n",
       "      <td>NaN</td>\n",
       "      <td>0.2</td>\n",
       "      <td>NaN</td>\n",
       "      <td>NaN</td>\n",
       "      <td>NaN</td>\n",
       "      <td>0.049559</td>\n",
       "    </tr>\n",
       "    <tr>\n",
       "      <th>4</th>\n",
       "      <td>1990</td>\n",
       "      <td>Argentina</td>\n",
       "      <td>0.794</td>\n",
       "      <td>71.6</td>\n",
       "      <td>10932.0</td>\n",
       "      <td>0.709</td>\n",
       "      <td>13.2</td>\n",
       "      <td>7.9</td>\n",
       "      <td>0.707</td>\n",
       "      <td>0.628</td>\n",
       "      <td>...</td>\n",
       "      <td>NaN</td>\n",
       "      <td>NaN</td>\n",
       "      <td>NaN</td>\n",
       "      <td>NaN</td>\n",
       "      <td>6.6</td>\n",
       "      <td>0.1</td>\n",
       "      <td>-0.4</td>\n",
       "      <td>NaN</td>\n",
       "      <td>43.0</td>\n",
       "      <td>0.074967</td>\n",
       "    </tr>\n",
       "    <tr>\n",
       "      <th>...</th>\n",
       "      <td>...</td>\n",
       "      <td>...</td>\n",
       "      <td>...</td>\n",
       "      <td>...</td>\n",
       "      <td>...</td>\n",
       "      <td>...</td>\n",
       "      <td>...</td>\n",
       "      <td>...</td>\n",
       "      <td>...</td>\n",
       "      <td>...</td>\n",
       "      <td>...</td>\n",
       "      <td>...</td>\n",
       "      <td>...</td>\n",
       "      <td>...</td>\n",
       "      <td>...</td>\n",
       "      <td>...</td>\n",
       "      <td>...</td>\n",
       "      <td>...</td>\n",
       "      <td>...</td>\n",
       "      <td>...</td>\n",
       "      <td>...</td>\n",
       "    </tr>\n",
       "    <tr>\n",
       "      <th>4750</th>\n",
       "      <td>2016</td>\n",
       "      <td>Yemen</td>\n",
       "      <td>0.709</td>\n",
       "      <td>66.1</td>\n",
       "      <td>1966.0</td>\n",
       "      <td>0.450</td>\n",
       "      <td>8.7</td>\n",
       "      <td>3.0</td>\n",
       "      <td>0.477</td>\n",
       "      <td>0.341</td>\n",
       "      <td>...</td>\n",
       "      <td>5.6</td>\n",
       "      <td>0.289</td>\n",
       "      <td>0.550</td>\n",
       "      <td>0.525</td>\n",
       "      <td>NaN</td>\n",
       "      <td>NaN</td>\n",
       "      <td>NaN</td>\n",
       "      <td>0.837</td>\n",
       "      <td>173.0</td>\n",
       "      <td>NaN</td>\n",
       "    </tr>\n",
       "    <tr>\n",
       "      <th>4751</th>\n",
       "      <td>2016</td>\n",
       "      <td>Vanuatu</td>\n",
       "      <td>0.770</td>\n",
       "      <td>70.0</td>\n",
       "      <td>2751.0</td>\n",
       "      <td>0.501</td>\n",
       "      <td>11.4</td>\n",
       "      <td>6.7</td>\n",
       "      <td>0.592</td>\n",
       "      <td>0.540</td>\n",
       "      <td>...</td>\n",
       "      <td>3.7</td>\n",
       "      <td>NaN</td>\n",
       "      <td>NaN</td>\n",
       "      <td>NaN</td>\n",
       "      <td>NaN</td>\n",
       "      <td>NaN</td>\n",
       "      <td>NaN</td>\n",
       "      <td>NaN</td>\n",
       "      <td>142.0</td>\n",
       "      <td>NaN</td>\n",
       "    </tr>\n",
       "    <tr>\n",
       "      <th>4752</th>\n",
       "      <td>2016</td>\n",
       "      <td>Uruguay</td>\n",
       "      <td>0.885</td>\n",
       "      <td>77.5</td>\n",
       "      <td>19196.0</td>\n",
       "      <td>0.794</td>\n",
       "      <td>16.3</td>\n",
       "      <td>8.7</td>\n",
       "      <td>0.806</td>\n",
       "      <td>0.745</td>\n",
       "      <td>...</td>\n",
       "      <td>9.1</td>\n",
       "      <td>0.805</td>\n",
       "      <td>0.793</td>\n",
       "      <td>1.016</td>\n",
       "      <td>10.4</td>\n",
       "      <td>0.6</td>\n",
       "      <td>6.0</td>\n",
       "      <td>0.286</td>\n",
       "      <td>58.0</td>\n",
       "      <td>NaN</td>\n",
       "    </tr>\n",
       "    <tr>\n",
       "      <th>4753</th>\n",
       "      <td>2016</td>\n",
       "      <td>Viet Nam</td>\n",
       "      <td>0.849</td>\n",
       "      <td>75.2</td>\n",
       "      <td>5638.0</td>\n",
       "      <td>0.609</td>\n",
       "      <td>12.7</td>\n",
       "      <td>8.1</td>\n",
       "      <td>0.685</td>\n",
       "      <td>0.621</td>\n",
       "      <td>...</td>\n",
       "      <td>5.7</td>\n",
       "      <td>0.686</td>\n",
       "      <td>0.683</td>\n",
       "      <td>1.005</td>\n",
       "      <td>13.9</td>\n",
       "      <td>0.4</td>\n",
       "      <td>-5.8</td>\n",
       "      <td>0.323</td>\n",
       "      <td>119.0</td>\n",
       "      <td>NaN</td>\n",
       "    </tr>\n",
       "    <tr>\n",
       "      <th>4754</th>\n",
       "      <td>2016</td>\n",
       "      <td>Zimbabwe</td>\n",
       "      <td>0.620</td>\n",
       "      <td>60.3</td>\n",
       "      <td>2246.0</td>\n",
       "      <td>0.470</td>\n",
       "      <td>10.4</td>\n",
       "      <td>8.3</td>\n",
       "      <td>0.549</td>\n",
       "      <td>0.567</td>\n",
       "      <td>...</td>\n",
       "      <td>9.4</td>\n",
       "      <td>0.526</td>\n",
       "      <td>0.570</td>\n",
       "      <td>0.923</td>\n",
       "      <td>-19.3</td>\n",
       "      <td>13.7</td>\n",
       "      <td>-1.3</td>\n",
       "      <td>0.535</td>\n",
       "      <td>153.0</td>\n",
       "      <td>NaN</td>\n",
       "    </tr>\n",
       "  </tbody>\n",
       "</table>\n",
       "<p>4755 rows × 78 columns</p>\n",
       "</div>"
      ],
      "text/plain": [
       "      year      country  Life expectancy Index  Life expectancy at birth  \\\n",
       "0     1990  Afghanistan                  0.467                      50.3   \n",
       "1     1990      Albania                  0.797                      71.8   \n",
       "2     1990      Algeria                  0.722                      66.9   \n",
       "3     1990       Angola                  0.389                      45.3   \n",
       "4     1990    Argentina                  0.794                      71.6   \n",
       "...    ...          ...                    ...                       ...   \n",
       "4750  2016        Yemen                  0.709                      66.1   \n",
       "4751  2016      Vanuatu                  0.770                      70.0   \n",
       "4752  2016      Uruguay                  0.885                      77.5   \n",
       "4753  2016     Viet Nam                  0.849                      75.2   \n",
       "4754  2016     Zimbabwe                  0.620                      60.3   \n",
       "\n",
       "      Gross national income (GNI) per capita (2011 PPP$)  Income Index  \\\n",
       "0                                                2193.0          0.466   \n",
       "1                                                4415.0          0.572   \n",
       "2                                                9989.0          0.695   \n",
       "3                                                4139.0          0.562   \n",
       "4                                               10932.0          0.709   \n",
       "...                                                 ...            ...   \n",
       "4750                                             1966.0          0.450   \n",
       "4751                                             2751.0          0.501   \n",
       "4752                                            19196.0          0.794   \n",
       "4753                                             5638.0          0.609   \n",
       "4754                                             2246.0          0.470   \n",
       "\n",
       "      Expected years of schooling (years)  Mean years of schooling (years)  \\\n",
       "0                                     2.6                              1.5   \n",
       "1                                    11.6                              7.8   \n",
       "2                                     9.6                              3.6   \n",
       "3                                     3.4                              NaN   \n",
       "4                                    13.2                              7.9   \n",
       "...                                   ...                              ...   \n",
       "4750                                  8.7                              3.0   \n",
       "4751                                 11.4                              6.7   \n",
       "4752                                 16.3                              8.7   \n",
       "4753                                 12.7                              8.1   \n",
       "4754                                 10.4                              8.3   \n",
       "\n",
       "      Human Development Index (HDI)  Education Index  ...  \\\n",
       "0                             0.298            0.122  ...   \n",
       "1                             0.644            0.584  ...   \n",
       "2                             0.578            0.385  ...   \n",
       "3                               NaN              NaN  ...   \n",
       "4                             0.707            0.628  ...   \n",
       "...                             ...              ...  ...   \n",
       "4750                          0.477            0.341  ...   \n",
       "4751                          0.592            0.540  ...   \n",
       "4752                          0.806            0.745  ...   \n",
       "4753                          0.685            0.621  ...   \n",
       "4754                          0.549            0.567  ...   \n",
       "\n",
       "      Current health expenditure (% of GDP)  \\\n",
       "0                                       NaN   \n",
       "1                                       NaN   \n",
       "2                                       NaN   \n",
       "3                                       NaN   \n",
       "4                                       NaN   \n",
       "...                                     ...   \n",
       "4750                                    5.6   \n",
       "4751                                    3.7   \n",
       "4752                                    9.1   \n",
       "4753                                    5.7   \n",
       "4754                                    9.4   \n",
       "\n",
       "      Human Development Index (HDI), female  \\\n",
       "0                                       NaN   \n",
       "1                                       NaN   \n",
       "2                                       NaN   \n",
       "3                                       NaN   \n",
       "4                                       NaN   \n",
       "...                                     ...   \n",
       "4750                                  0.289   \n",
       "4751                                    NaN   \n",
       "4752                                  0.805   \n",
       "4753                                  0.686   \n",
       "4754                                  0.526   \n",
       "\n",
       "      Human Development Index (HDI), male  Gender Development Index (GDI)  \\\n",
       "0                                     NaN                             NaN   \n",
       "1                                     NaN                             NaN   \n",
       "2                                     NaN                             NaN   \n",
       "3                                     NaN                             NaN   \n",
       "4                                     NaN                             NaN   \n",
       "...                                   ...                             ...   \n",
       "4750                                0.550                           0.525   \n",
       "4751                                  NaN                             NaN   \n",
       "4752                                0.793                           1.016   \n",
       "4753                                0.683                           1.005   \n",
       "4754                                0.570                           0.923   \n",
       "\n",
       "      Adjusted net savings (% of GNI)  \\\n",
       "0                                 NaN   \n",
       "1                                 2.3   \n",
       "2                                 9.0   \n",
       "3                                 NaN   \n",
       "4                                 6.6   \n",
       "...                               ...   \n",
       "4750                              NaN   \n",
       "4751                              NaN   \n",
       "4752                             10.4   \n",
       "4753                             13.9   \n",
       "4754                            -19.3   \n",
       "\n",
       "      HIV prevalence, adult (% ages 15-49), total  \\\n",
       "0                                             NaN   \n",
       "1                                             0.1   \n",
       "2                                             0.1   \n",
       "3                                             0.2   \n",
       "4                                             0.1   \n",
       "...                                           ...   \n",
       "4750                                          NaN   \n",
       "4751                                          NaN   \n",
       "4752                                          0.6   \n",
       "4753                                          0.4   \n",
       "4754                                         13.7   \n",
       "\n",
       "      Private capital flows (% of GDP)  Gender Inequality Index (GII)  \\\n",
       "0                                  NaN                            NaN   \n",
       "1                                  NaN                            NaN   \n",
       "2                                  NaN                            NaN   \n",
       "3                                  NaN                            NaN   \n",
       "4                                 -0.4                            NaN   \n",
       "...                                ...                            ...   \n",
       "4750                               NaN                          0.837   \n",
       "4751                               NaN                            NaN   \n",
       "4752                               6.0                          0.286   \n",
       "4753                              -5.8                          0.323   \n",
       "4754                              -1.3                          0.535   \n",
       "\n",
       "      HDI Rank         y  \n",
       "0        138.0  0.050220  \n",
       "1         63.0  0.082286  \n",
       "2         89.0  0.064073  \n",
       "3          NaN  0.049559  \n",
       "4         43.0  0.074967  \n",
       "...        ...       ...  \n",
       "4750     173.0       NaN  \n",
       "4751     142.0       NaN  \n",
       "4752      58.0       NaN  \n",
       "4753     119.0       NaN  \n",
       "4754     153.0       NaN  \n",
       "\n",
       "[4755 rows x 78 columns]"
      ]
     },
     "execution_count": 74,
     "metadata": {},
     "output_type": "execute_result"
    }
   ],
   "source": [
    "full"
   ]
  },
  {
   "cell_type": "code",
   "execution_count": 75,
   "metadata": {},
   "outputs": [],
   "source": [
    "# Data manipulation\n",
    "from sklearn.neighbors import KNeighborsRegressor\n",
    "from sklearn.impute import SimpleImputer, KNNImputer\n",
    "from sklearn.preprocessing import OneHotEncoder, OrdinalEncoder\n",
    "from sklearn.metrics import mean_squared_error as MSE\n",
    "from sklearn.model_selection import cross_val_score as CVS\n",
    "\n",
    "def RMSE(x,y):\n",
    "    return MSE(x,y)**0.5\n",
    "\n",
    "numeric_data_indices = list(range(2,len(data.columns)-1))\n",
    "# categorical_data_indices = [0, 1]\n",
    " \n",
    "mean_enc_country_dict = data.groupby('country')['y'].mean().to_dict()\n",
    "mean_enc_year_dict = data.groupby('year')['y'].mean().to_dict()\n",
    "\n",
    "# Mean encode countries\n",
    "def mean_enc_country(array):\n",
    "    return np.array(([mean_enc_country_dict[country[0]] for country in array])).reshape(-1, 1)\n",
    "# Mean encode years\n",
    "def mean_enc_year(array):\n",
    "    return np.array(([mean_enc_year_dict[year[0]] for year in array])).reshape(-1, 1)\n",
    "\n",
    "# Pipeline\n",
    "pipe = pipeline.Pipeline(steps = [       \n",
    "    ('feature_processing', pipeline.FeatureUnion(transformer_list = [\n",
    "        \n",
    "            #categorical -- year\n",
    "            ('year_categorical_variables_processing', pipeline.Pipeline(steps = [\n",
    "                ('selecting', preprocessing.FunctionTransformer(lambda data: data[:, 0].reshape(-1, 1))),\n",
    "#                ('hot_encoding', preprocessing.OneHotEncoder(handle_unknown = 'ignore'))\n",
    "                ('ordinal_encoding', preprocessing.OrdinalEncoder()),\n",
    "#                ('mean_encoding', preprocessing.FunctionTransformer(mean_enc_year))\n",
    "                ('scaling', preprocessing.StandardScaler())  \n",
    "                        ])),\n",
    "        \n",
    "            #categorical -- country \n",
    "            ('country_categorical_variables_processing', pipeline.Pipeline(steps = [\n",
    "                ('selecting', preprocessing.FunctionTransformer(lambda data: data[:, 1].reshape(-1, 1))),\n",
    "#                ('hot_encoding', preprocessing.OneHotEncoder(handle_unknown = 'ignore'))\n",
    "                ('ordinal_encoding', preprocessing.OrdinalEncoder()),\n",
    "#                ('mean_encoding', preprocessing.FunctionTransformer(mean_enc_country))\n",
    "                ('scaling', preprocessing.StandardScaler()),\n",
    "                        ])),\n",
    "                \n",
    "        \n",
    "        \n",
    "            #numeric\n",
    "            ('numeric_variables_processing', pipeline.Pipeline(steps = [\n",
    "                ('selecting', preprocessing.FunctionTransformer(lambda data: data[:, numeric_data_indices])),\n",
    "                ('imputing', SimpleImputer(missing_values=np.nan, strategy='median')), #, fill_value=0)),\n",
    "                ('scaling', preprocessing.StandardScaler())            \n",
    "                        ])),\n",
    "        ]))\n",
    "    ]\n",
    ")\n",
    "\n",
    "# shortcut for scorer\n",
    "nrmse = 'neg_root_mean_squared_error'\n",
    "\n",
    "X = full.iloc[:, :-1].values\n",
    "y_train = data.iloc[:, -1].values\n",
    "\n",
    "X = pipe.fit_transform(X)\n",
    "\n",
    "X_train = X[:3865]\n",
    "X_test = X[3865:]"
   ]
  },
  {
   "cell_type": "code",
   "execution_count": 76,
   "metadata": {},
   "outputs": [
    {
     "data": {
      "text/plain": [
       "(3865, 77)"
      ]
     },
     "execution_count": 76,
     "metadata": {},
     "output_type": "execute_result"
    }
   ],
   "source": [
    "X_train.shape"
   ]
  },
  {
   "cell_type": "code",
   "execution_count": 167,
   "metadata": {},
   "outputs": [
    {
     "name": "stdout",
     "output_type": "stream",
     "text": [
      "0.0\n",
      "0.013864540743081872 CV score 5-fold of KNN on train\n"
     ]
    },
    {
     "data": {
      "text/plain": [
       "array([0.01196401, 0.00541261, 0.00330623, 0.01202056, 0.03661929])"
      ]
     },
     "execution_count": 167,
     "metadata": {},
     "output_type": "execute_result"
    }
   ],
   "source": [
    "from sklearn.neighbors import KNeighborsRegressor\n",
    "\n",
    "knn = KNeighborsRegressor(\n",
    "    n_neighbors=1,\n",
    "    weights='uniform',\n",
    "    algorithm='auto',\n",
    "    leaf_size=30,\n",
    "    p=1,\n",
    "    metric='minkowski',\n",
    "    metric_params=None,\n",
    "    n_jobs=3,\n",
    ")\n",
    "\n",
    "knn.fit(X_train, y_train)\n",
    "\n",
    "print(MSE(y_train, knn.predict(X_train))**0.5)\n",
    "\n",
    "cvs = -CVS(knn, X_train, y_train, scoring=nrmse, cv=5)\n",
    "print(cvs.mean(), 'CV score 5-fold of KNN on train')\n",
    "cvs"
   ]
  },
  {
   "cell_type": "code",
   "execution_count": 168,
   "metadata": {},
   "outputs": [
    {
     "name": "stdout",
     "output_type": "stream",
     "text": [
      "0.0013843550020657632\n"
     ]
    }
   ],
   "source": [
    "#XGBoost WITHOUT target transform\n",
    "import xgboost as xgb\n",
    "XGB = xgb.XGBRegressor(\n",
    "    max_depth=5,\n",
    "    learning_rate=0.1,\n",
    "    n_estimators=500,\n",
    "    verbosity=1,\n",
    "    silent=None,\n",
    "    objective='reg:squarederror',\n",
    "    booster='gbtree',\n",
    "    n_jobs=3,\n",
    "    nthread=None,\n",
    "    gamma=0,\n",
    "    min_child_weight=1,\n",
    "    max_delta_step=0,\n",
    "    subsample=0.5,\n",
    "    colsample_bytree=1,\n",
    "    colsample_bylevel=1,\n",
    "    colsample_bynode=1,\n",
    "    reg_alpha=0,\n",
    "    reg_lambda=0.1,\n",
    "    scale_pos_weight=1,\n",
    "    base_score=0.5,\n",
    "    random_state=0,\n",
    "    seed=None,\n",
    "    missing=None,\n",
    "    importance_type='gain')\n",
    "XGB.fit(X_train, y_train)\n",
    "\n",
    "print(MSE(y_train, XGB.predict(X_train))**0.5)\n",
    "# print(MSE(y_test, XGB.predict(X_test))**0.5)"
   ]
  },
  {
   "cell_type": "code",
   "execution_count": 137,
   "metadata": {},
   "outputs": [
    {
     "name": "stdout",
     "output_type": "stream",
     "text": [
      "0.015013250599735234 CV score 5-fold of XGB on train\n"
     ]
    },
    {
     "data": {
      "text/plain": [
       "array([0.01297999, 0.0109612 , 0.00695155, 0.00858886, 0.03558465])"
      ]
     },
     "execution_count": 137,
     "metadata": {},
     "output_type": "execute_result"
    }
   ],
   "source": [
    "cvs = -CVS(XGB, X_train,y_train, scoring=nrmse, cv=5)\n",
    "print(cvs.mean(), 'CV score 5-fold of XGB on train')\n",
    "cvs"
   ]
  },
  {
   "cell_type": "code",
   "execution_count": 80,
   "metadata": {
    "scrolled": true
   },
   "outputs": [
    {
     "data": {
      "image/png": "[encoded data removed]",
      "text/plain": [
       "<Figure size 720x720 with 1 Axes>"
      ]
     },
     "metadata": {
      "needs_background": "light"
     },
     "output_type": "display_data"
    }
   ],
   "source": [
    "tree_importance_sorted_idx = np.argsort(XGB.feature_importances_)\n",
    "tree_indices = np.arange(0, len(XGB.feature_importances_)) + 0.5\n",
    "\n",
    "fig, ax = plt.subplots(figsize=(10, 10))\n",
    "ax.barh(tree_indices,\n",
    "         XGB.feature_importances_[tree_importance_sorted_idx], height=0.7)\n",
    "ax.set_yticklabels(data.columns[tree_importance_sorted_idx])\n",
    "ax.set_yticks(tree_indices)\n",
    "ax.set_ylim((0, len(XGB.feature_importances_)))\n",
    "fig.tight_layout()\n",
    "plt.show()"
   ]
  },
  {
   "cell_type": "code",
   "execution_count": 169,
   "metadata": {},
   "outputs": [],
   "source": [
    "model = ensemble.VotingRegressor([('knn', knn), ('XGB', XGB)])"
   ]
  },
  {
   "cell_type": "code",
   "execution_count": 170,
   "metadata": {},
   "outputs": [
    {
     "name": "stdout",
     "output_type": "stream",
     "text": [
      "0.012836541217007402 CV score 5-fold of Ensemble on train\n"
     ]
    },
    {
     "data": {
      "text/plain": [
       "array([0.01074367, 0.00642605, 0.00393546, 0.00804431, 0.03503321])"
      ]
     },
     "execution_count": 170,
     "metadata": {},
     "output_type": "execute_result"
    }
   ],
   "source": [
    "cvs = -CVS(model, X_train, y_train, scoring=nrmse, cv=5)\n",
    "print(cvs.mean(), 'CV score 5-fold of Ensemble on train')\n",
    "cvs"
   ]
  },
  {
   "cell_type": "code",
   "execution_count": 171,
   "metadata": {},
   "outputs": [],
   "source": [
    "model.fit(X_train, y_train)\n",
    "a = model.predict(X_test)\n",
    "preds = a\n",
    "for i in range(99):\n",
    "    (X_train_rand, temp1,\n",
    "     y_train_rand, temp2) = model_selection.train_test_split(X_train,\n",
    "                                                        y_train,\n",
    "                                                        test_size = 0.05,\n",
    "                                                        shuffle=True,\n",
    "                                                        random_state=i)\n",
    "    model.fit(X_train_rand, y_train_rand)\n",
    "    preds = np.vstack((preds, model.predict(X_test)))"
   ]
  },
  {
   "cell_type": "code",
   "execution_count": 172,
   "metadata": {},
   "outputs": [
    {
     "data": {
      "text/plain": [
       "array([[0.04164563, 0.0393776 , 0.03900826, ..., 0.06707645, 0.05393765,\n",
       "        0.023494  ],\n",
       "       [0.041382  , 0.03865245, 0.03844309, ..., 0.06633866, 0.05484535,\n",
       "        0.02325138],\n",
       "       [0.04180743, 0.03895255, 0.03821765, ..., 0.0630011 , 0.05573847,\n",
       "        0.02339267],\n",
       "       ...,\n",
       "       [0.04100336, 0.03859893, 0.0386491 , ..., 0.06392065, 0.0543881 ,\n",
       "        0.02408339],\n",
       "       [0.04177311, 0.0393595 , 0.03933139, ..., 0.06438175, 0.05345361,\n",
       "        0.02440355],\n",
       "       [0.04082745, 0.03880718, 0.03880718, ..., 0.07310767, 0.05050345,\n",
       "        0.02672746]])"
      ]
     },
     "execution_count": 172,
     "metadata": {},
     "output_type": "execute_result"
    }
   ],
   "source": [
    "preds"
   ]
  },
  {
   "cell_type": "code",
   "execution_count": 382,
   "metadata": {},
   "outputs": [],
   "source": [
    "alphas = (-np.log(preds + 0.01) + 3) ** 2 / 1000"
   ]
  },
  {
   "cell_type": "code",
   "execution_count": 419,
   "metadata": {},
   "outputs": [],
   "source": [
    "alloc = np.zeros(890)\n",
    "n = 10000\n",
    "for i in range(n):\n",
    "    rnd = np.random.randint(0, 100, 890)\n",
    "    # take a random sample from the alphas matrix, in a sense that for each row of alphas.T \n",
    "    # there is an equal chance to pick any of the 100 elements\n",
    "    sample = np.array([row[rnd[i]] for i, row in enumerate(alphas.T)])\n",
    "    # indices of a sorted array of 'sample'\n",
    "    sample_argsort = np.argsort(sample)[::-1]\n",
    "    # indices of the 50 largest by alpha countries with EEI < 0.7 (their index is less than 67)\n",
    "    eei_ind = [x for x in sample_argsort if x < 66][:50]\n",
    "    # \n",
    "    rest_ind = [x for x in sample_argsort if x not in eei_ind][:450]\n",
    "    alloc[eei_ind + rest_ind] = alloc[eei_ind + rest_ind] + 100/n"
   ]
  },
  {
   "cell_type": "code",
   "execution_count": 471,
   "metadata": {},
   "outputs": [],
   "source": [
    "# To make sure the sum constraint is satisfied\n",
    "alloc_mod = alloc.copy()\n",
    "alloc_mod[0] = alloc_mod[0] - 0.00001"
   ]
  },
  {
   "cell_type": "code",
   "execution_count": 481,
   "metadata": {},
   "outputs": [
    {
     "data": {
      "text/plain": [
       "array([100., 100., 100., 100., 100., 100., 100., 100., 100., 100., 100.,\n",
       "       100., 100., 100., 100., 100., 100., 100., 100., 100., 100., 100.,\n",
       "       100., 100., 100., 100., 100., 100., 100., 100., 100., 100., 100.,\n",
       "       100., 100., 100., 100., 100., 100., 100., 100., 100., 100., 100.,\n",
       "       100., 100., 100., 100., 100., 100., 100., 100., 100., 100., 100.,\n",
       "       100., 100., 100., 100., 100., 100., 100., 100., 100., 100., 100.,\n",
       "       100., 100., 100., 100., 100., 100., 100., 100., 100., 100., 100.,\n",
       "       100., 100., 100., 100., 100., 100., 100., 100., 100., 100., 100.,\n",
       "       100., 100., 100., 100., 100., 100., 100., 100., 100., 100., 100.,\n",
       "       100., 100., 100., 100., 100., 100., 100., 100., 100., 100., 100.,\n",
       "       100., 100., 100., 100., 100., 100., 100., 100., 100., 100., 100.,\n",
       "       100., 100., 100., 100., 100., 100., 100., 100., 100., 100., 100.,\n",
       "       100., 100., 100., 100., 100., 100., 100., 100., 100., 100., 100.,\n",
       "       100., 100., 100., 100., 100., 100., 100., 100., 100., 100., 100.,\n",
       "       100., 100., 100., 100., 100., 100., 100., 100., 100., 100., 100.,\n",
       "       100., 100., 100., 100., 100., 100., 100., 100., 100., 100., 100.,\n",
       "       100., 100., 100., 100., 100., 100., 100., 100., 100., 100., 100.,\n",
       "       100., 100., 100., 100., 100., 100., 100., 100., 100., 100., 100.,\n",
       "       100., 100., 100., 100., 100., 100., 100., 100., 100., 100., 100.,\n",
       "       100., 100., 100., 100., 100., 100., 100., 100., 100., 100., 100.,\n",
       "       100., 100., 100., 100., 100., 100., 100., 100., 100., 100., 100.,\n",
       "       100., 100., 100., 100., 100., 100., 100., 100., 100., 100., 100.,\n",
       "       100., 100., 100., 100., 100., 100., 100., 100., 100., 100., 100.,\n",
       "       100., 100., 100., 100., 100., 100., 100., 100., 100., 100., 100.,\n",
       "       100., 100., 100., 100., 100., 100., 100., 100., 100., 100., 100.,\n",
       "       100., 100., 100., 100., 100., 100., 100., 100., 100., 100., 100.,\n",
       "       100., 100., 100., 100., 100., 100., 100., 100., 100., 100., 100.,\n",
       "       100., 100., 100., 100., 100., 100., 100., 100., 100., 100., 100.,\n",
       "       100., 100., 100., 100., 100., 100., 100., 100., 100., 100., 100.,\n",
       "       100., 100., 100., 100., 100., 100., 100., 100., 100., 100., 100.,\n",
       "       100., 100., 100., 100., 100., 100., 100., 100., 100., 100., 100.,\n",
       "       100., 100., 100., 100., 100., 100., 100., 100., 100., 100., 100.,\n",
       "       100., 100., 100., 100., 100., 100., 100., 100., 100., 100., 100.,\n",
       "       100., 100., 100., 100., 100., 100., 100., 100., 100., 100., 100.,\n",
       "       100., 100., 100., 100., 100., 100., 100., 100., 100., 100., 100.,\n",
       "       100., 100., 100., 100., 100., 100., 100., 100., 100., 100., 100.,\n",
       "       100., 100., 100., 100., 100., 100., 100., 100., 100., 100., 100.,\n",
       "       100., 100., 100., 100., 100., 100., 100., 100., 100., 100., 100.,\n",
       "       100., 100., 100., 100., 100., 100., 100., 100., 100., 100., 100.,\n",
       "       100.])"
      ]
     },
     "execution_count": 481,
     "metadata": {},
     "output_type": "execute_result"
    }
   ],
   "source": [
    "alloc[alloc>100]"
   ]
  },
  {
   "cell_type": "code",
   "execution_count": 472,
   "metadata": {
    "scrolled": true
   },
   "outputs": [
    {
     "data": {
      "text/plain": [
       "6583.460000000932"
      ]
     },
     "execution_count": 472,
     "metadata": {},
     "output_type": "execute_result"
    }
   ],
   "source": [
    "alloc[:66].sum()"
   ]
  },
  {
   "cell_type": "code",
   "execution_count": 473,
   "metadata": {},
   "outputs": [
    {
     "data": {
      "text/plain": [
       "6583.4599900009325"
      ]
     },
     "execution_count": 473,
     "metadata": {},
     "output_type": "execute_result"
    }
   ],
   "source": [
    "alloc_mod[:66].sum()"
   ]
  },
  {
   "cell_type": "code",
   "execution_count": 474,
   "metadata": {},
   "outputs": [
    {
     "data": {
      "text/plain": [
       "50000.000000006825"
      ]
     },
     "execution_count": 474,
     "metadata": {},
     "output_type": "execute_result"
    }
   ],
   "source": [
    "alloc.sum()"
   ]
  },
  {
   "cell_type": "code",
   "execution_count": 475,
   "metadata": {},
   "outputs": [
    {
     "data": {
      "text/plain": [
       "49999.99999000683"
      ]
     },
     "execution_count": 475,
     "metadata": {},
     "output_type": "execute_result"
    }
   ],
   "source": [
    "(alloc_mod).sum()"
   ]
  },
  {
   "cell_type": "code",
   "execution_count": 444,
   "metadata": {},
   "outputs": [],
   "source": [
    "model.fit(X_train, y_train)\n",
    "y_pred = model.predict(X_test)"
   ]
  },
  {
   "cell_type": "code",
   "execution_count": 476,
   "metadata": {},
   "outputs": [],
   "source": [
    "answer3 = pd.DataFrame({'pred': y_pred, 'opt_pred':alloc_mod})"
   ]
  },
  {
   "cell_type": "code",
   "execution_count": 477,
   "metadata": {},
   "outputs": [],
   "source": [
    "answer3.index.name = 'index'"
   ]
  },
  {
   "cell_type": "code",
   "execution_count": 478,
   "metadata": {},
   "outputs": [],
   "source": [
    "answer3.to_csv('answer3.csv')"
   ]
  }
 ],
 "metadata": {
  "kernelspec": {
   "display_name": "Python 3",
   "language": "python",
   "name": "python3"
  },
  "language_info": {
   "codemirror_mode": {
    "name": "ipython",
    "version": 3
   },
   "file_extension": ".py",
   "mimetype": "text/x-python",
   "name": "python",
   "nbconvert_exporter": "python",
   "pygments_lexer": "ipython3",
   "version": "3.7.6"
  }
 },
 "nbformat": 4,
 "nbformat_minor": 4
}
